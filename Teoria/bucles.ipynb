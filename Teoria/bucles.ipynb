{
 "cells": [
  {
   "cell_type": "code",
   "execution_count": 134,
   "metadata": {},
   "outputs": [],
   "source": [
    "import pandas as pd"
   ]
  },
  {
   "cell_type": "markdown",
   "metadata": {},
   "source": [
    "# Bucles"
   ]
  },
  {
   "cell_type": "markdown",
   "metadata": {},
   "source": [
    " ## Iterar sobre una lista, tupla, diccionario y conjunto\n",
    "\n",
    "`for`: se utiliza para iterar sobre una secuencia.\n",
    "\n",
    "`variable`: Es la variable que toma el valor del elemento en cada iteración.\n",
    " \n",
    "`in`: indica la colección sobre la que iteras.\n",
    "\n",
    "`iterable`: Es la colección de elementos sobre la que se itera"
   ]
  },
  {
   "cell_type": "code",
   "execution_count": 135,
   "metadata": {},
   "outputs": [
    {
     "name": "stdout",
     "output_type": "stream",
     "text": [
      "rojo\n",
      "verde\n",
      "azul\n"
     ]
    }
   ],
   "source": [
    "colores = [\"rojo\", \"verde\", \"azul\"]\n",
    "for color in colores:\n",
    "    print(color)"
   ]
  },
  {
   "cell_type": "code",
   "execution_count": 136,
   "metadata": {},
   "outputs": [
    {
     "name": "stdout",
     "output_type": "stream",
     "text": [
      "perro\n",
      "gato\n",
      "serpiente\n"
     ]
    }
   ],
   "source": [
    "animales = (\"perro\", \"gato\", \"serpiente\")\n",
    "for animal in animales:\n",
    "    print(animal)"
   ]
  },
  {
   "cell_type": "code",
   "execution_count": 81,
   "metadata": {},
   "outputs": [
    {
     "name": "stdout",
     "output_type": "stream",
     "text": [
      "nombre\n",
      "edad\n",
      "raza\n",
      "\n",
      "snowball\n",
      "4\n",
      "Border Collie\n",
      "\n",
      "nombre: snowball\n",
      "edad: 4\n",
      "raza: Border Collie\n"
     ]
    }
   ],
   "source": [
    "diccionario_perro = {\"nombre\": 'snowball', 'edad':4, 'raza':'Border Collie'}\n",
    "\n",
    "for clave in diccionario_perro.keys():\n",
    "    print(clave)\n",
    "\n",
    "print()\n",
    "\n",
    "for valor in diccionario_perro.values():\n",
    "    print(valor)\n",
    "\n",
    "print()\n",
    "\n",
    "for clave, valor in diccionario_perro.items():\n",
    "    print(f\"{clave}: {valor}\")"
   ]
  },
  {
   "cell_type": "code",
   "execution_count": 118,
   "metadata": {},
   "outputs": [
    {
     "name": "stdout",
     "output_type": "stream",
     "text": [
      "1\n",
      "2\n",
      "3\n",
      "4\n",
      "5\n"
     ]
    }
   ],
   "source": [
    "numeros = {1, 2, 3, 4, 5}\n",
    "for numero in numeros:\n",
    "    print(numero)"
   ]
  },
  {
   "cell_type": "markdown",
   "metadata": {},
   "source": [
    "## Iterar sobre un rango\n",
    "\n",
    "`range()`: Permite realizar rangos pudiendo definir (inicio,fin,salto), donde el inicio se incluye, siendo por defecto 0 y el final se excluye."
   ]
  },
  {
   "cell_type": "code",
   "execution_count": 140,
   "metadata": {},
   "outputs": [
    {
     "name": "stdout",
     "output_type": "stream",
     "text": [
      "0\n",
      "1\n",
      "2\n",
      "3\n",
      "4\n",
      "5\n",
      "6\n",
      "7\n",
      "8\n",
      "9\n"
     ]
    }
   ],
   "source": [
    "for i in range(10):\n",
    "    print(i)"
   ]
  },
  {
   "cell_type": "code",
   "execution_count": 145,
   "metadata": {},
   "outputs": [],
   "source": [
    "# numeros = [1, 2, 4, 6]\n",
    "# for i in range(numeros):\n",
    "#     print(i)"
   ]
  },
  {
   "cell_type": "code",
   "execution_count": 142,
   "metadata": {},
   "outputs": [
    {
     "name": "stdout",
     "output_type": "stream",
     "text": [
      "0\n",
      "1\n",
      "2\n",
      "3\n"
     ]
    }
   ],
   "source": [
    "numeros = [1, 2, 4, 6]\n",
    "for i in range(len(numeros)):\n",
    "    print(i)"
   ]
  },
  {
   "cell_type": "code",
   "execution_count": 144,
   "metadata": {},
   "outputs": [
    {
     "name": "stdout",
     "output_type": "stream",
     "text": [
      "[1, 4, 16, 36]\n"
     ]
    }
   ],
   "source": [
    "numeros = [1, 2, 4, 6]\n",
    "for i in range(len(numeros)):\n",
    "    numeros[i] **= 2\n",
    "print(numeros)"
   ]
  },
  {
   "cell_type": "markdown",
   "metadata": {},
   "source": [
    "## While\n",
    "\n",
    "Repite un bloque de código mientras una condición es verdadera."
   ]
  },
  {
   "cell_type": "code",
   "execution_count": 146,
   "metadata": {},
   "outputs": [
    {
     "name": "stdout",
     "output_type": "stream",
     "text": [
      "Inicio del bucle\n",
      "\n",
      "10\n",
      "9\n",
      "8\n",
      "7\n",
      "6\n",
      "5\n",
      "4\n",
      "3\n",
      "2\n",
      "1\n",
      "0\n",
      "\n",
      "fin del bucle\n"
     ]
    }
   ],
   "source": [
    "contador = 10\n",
    "\n",
    "print(\"Inicio del bucle\")\n",
    "print()\n",
    "\n",
    "while contador >= 0:\n",
    "    print(contador)\n",
    "    # contador = contador - 1\n",
    "    contador -= 1\n",
    "    \n",
    "print()\n",
    "print('fin del bucle')"
   ]
  },
  {
   "cell_type": "markdown",
   "metadata": {},
   "source": [
    "## Break\n",
    "\n",
    "Sale del bucle"
   ]
  },
  {
   "cell_type": "code",
   "execution_count": 147,
   "metadata": {},
   "outputs": [
    {
     "name": "stdout",
     "output_type": "stream",
     "text": [
      "0\n",
      "1\n",
      "2\n",
      "3\n",
      "4\n",
      "5\n",
      "6\n"
     ]
    }
   ],
   "source": [
    "for i in range(10):\n",
    "    if i == 7:\n",
    "        break\n",
    "    print(i)"
   ]
  },
  {
   "cell_type": "markdown",
   "metadata": {},
   "source": [
    "## For - else\n",
    "\n",
    "`for - else`: en un bucle for se ejecuta cuando el bucle termina de iterar sobre todos los elementos sin que se haya ejecutado una instrucción break."
   ]
  },
  {
   "cell_type": "code",
   "execution_count": 150,
   "metadata": {},
   "outputs": [
    {
     "name": "stdout",
     "output_type": "stream",
     "text": [
      "1\n",
      "2\n",
      "3\n",
      "4\n",
      "5\n",
      "6\n",
      "7\n",
      "Final del programa\n"
     ]
    }
   ],
   "source": [
    "numeros = [1, 2, 3, 4, 5, 6, 7]\n",
    "for numero in numeros:\n",
    "    print(numero)\n",
    "else:\n",
    "    print(\"Final del programa\")"
   ]
  },
  {
   "cell_type": "code",
   "execution_count": 154,
   "metadata": {},
   "outputs": [
    {
     "name": "stdout",
     "output_type": "stream",
     "text": [
      "Encontrado el número 6\n"
     ]
    }
   ],
   "source": [
    "numeros = [1, 2, 3, 4, 5, 6, 7]\n",
    "for numero in numeros:\n",
    "    if numero == 6:\n",
    "        print(\"Encontrado el número 6\")\n",
    "        break\n",
    "else:\n",
    "    print(\"No se encontró el número 6\")"
   ]
  },
  {
   "cell_type": "markdown",
   "metadata": {},
   "source": [
    "## Continue\n",
    "\n",
    "`continue`: salta a la siguiente iteración del bucle"
   ]
  },
  {
   "cell_type": "code",
   "execution_count": 92,
   "metadata": {},
   "outputs": [
    {
     "name": "stdout",
     "output_type": "stream",
     "text": [
      "1\n",
      "3\n",
      "5\n",
      "7\n",
      "9\n"
     ]
    }
   ],
   "source": [
    "for i in range(11):\n",
    "    if i % 2 == 0:\n",
    "        continue\n",
    "    print(i)"
   ]
  },
  {
   "cell_type": "code",
   "execution_count": 155,
   "metadata": {},
   "outputs": [
    {
     "name": "stdout",
     "output_type": "stream",
     "text": [
      "0\n",
      "2\n",
      "4\n",
      "6\n",
      "8\n",
      "10\n"
     ]
    }
   ],
   "source": [
    "for i in range(11):\n",
    "    if i % 2 == 1:\n",
    "        continue\n",
    "    print(i)"
   ]
  },
  {
   "cell_type": "code",
   "execution_count": 94,
   "metadata": {},
   "outputs": [
    {
     "name": "stdout",
     "output_type": "stream",
     "text": [
      "t\n",
      "r\n",
      "t\n",
      "m\n",
      "i\n",
      "e\n"
     ]
    }
   ],
   "source": [
    "for letra in \"tratamiento\":\n",
    "    if letra == \"a\":\n",
    "        continue\n",
    "    elif letra == \"n\":\n",
    "        break\n",
    "    print(letra)"
   ]
  },
  {
   "cell_type": "markdown",
   "metadata": {},
   "source": [
    "## Pass\n",
    "\n",
    "`pass`: es una instrucción nula. "
   ]
  },
  {
   "cell_type": "code",
   "execution_count": 157,
   "metadata": {},
   "outputs": [
    {
     "name": "stdout",
     "output_type": "stream",
     "text": [
      "t\n",
      "r\n",
      "a\n",
      "t\n",
      "a\n",
      "m\n",
      "i\n",
      "e\n"
     ]
    }
   ],
   "source": [
    "for letra in \"tratamiento\":\n",
    "    if letra == \"a\":\n",
    "        pass\n",
    "    elif letra == \"n\":\n",
    "        break\n",
    "    print(letra)"
   ]
  },
  {
   "cell_type": "code",
   "execution_count": 158,
   "metadata": {},
   "outputs": [],
   "source": [
    "for letra in \"tratamiento\":\n",
    "    pass"
   ]
  },
  {
   "cell_type": "markdown",
   "metadata": {},
   "source": [
    "## Bucles infinitos\n",
    "\n",
    "!!Lleva cuidado!!"
   ]
  },
  {
   "cell_type": "code",
   "execution_count": 160,
   "metadata": {},
   "outputs": [],
   "source": [
    "# contador = 0\n",
    "# while True:\n",
    "#     contador += 1\n",
    "#     print(contador)\n",
    "#     if contador == -20:\n",
    "#         break"
   ]
  },
  {
   "cell_type": "markdown",
   "metadata": {},
   "source": [
    "## Bucles anidados\n",
    "\n",
    "Bucles que realizas dentro de otros bucles"
   ]
  },
  {
   "cell_type": "code",
   "execution_count": 98,
   "metadata": {},
   "outputs": [
    {
     "name": "stdout",
     "output_type": "stream",
     "text": [
      "{'verde', 'rojo', 'azul'}\n",
      "{'blanco', 'amarillo', 'negro'}\n",
      "{'rosa', 'violeta', 'naranja'}\n",
      "\n"
     ]
    }
   ],
   "source": [
    "lista_de_conjuntos = [\n",
    "    {\"azul\", \"rojo\", \"verde\"},\n",
    "    {\"amarillo\", \"negro\", \"blanco\"},\n",
    "    {\"naranja\", \"violeta\", \"rosa\"}\n",
    "]\n",
    "\n",
    "for conjunto in lista_de_conjuntos:\n",
    "    print(conjunto)\n",
    "print()"
   ]
  },
  {
   "cell_type": "code",
   "execution_count": 162,
   "metadata": {},
   "outputs": [
    {
     "name": "stdout",
     "output_type": "stream",
     "text": [
      "verde\n",
      "rojo\n",
      "azul\n",
      "blanco\n",
      "amarillo\n",
      "negro\n",
      "rosa\n",
      "violeta\n",
      "naranja\n"
     ]
    }
   ],
   "source": [
    "lista_de_conjuntos = [\n",
    "    {\"azul\", \"rojo\", \"verde\"},\n",
    "    {\"amarillo\", \"negro\", \"blanco\"},\n",
    "    {\"naranja\", \"violeta\", \"rosa\"}\n",
    "]\n",
    "\n",
    "for conjunto in lista_de_conjuntos:\n",
    "    for color in conjunto:\n",
    "        print(color)"
   ]
  },
  {
   "cell_type": "code",
   "execution_count": 163,
   "metadata": {},
   "outputs": [],
   "source": [
    "pokedex = {\n",
    "    1: {\n",
    "        \"nombre\": \"Bulbasaur\",\n",
    "        \"tipo\": [\"Planta\", \"Veneno\"],\n",
    "        \"habilidades\": [\"Espesura\", \"Clorofila\"]\n",
    "    },\n",
    "    4: {\n",
    "        \"nombre\": \"Charmander\",\n",
    "        \"tipo\": [\"Fuego\"],\n",
    "        \"habilidades\": [\"Mar Llamas\", \"Poder Solar\"]\n",
    "    },\n",
    "    7: {\n",
    "        \"nombre\": \"Squirtle\",\n",
    "        \"tipo\": [\"Agua\"],\n",
    "        \"habilidades\": [\"Torrente\", \"Cura Lluvia\"]\n",
    "    },\n",
    "    25: {\n",
    "        \"nombre\": \"Pikachu\",\n",
    "        \"tipo\": [\"Eléctrico\"],\n",
    "        \"habilidades\": [\"Elec. Estática\", \"Pararrayos\"]\n",
    "    }\n",
    "}"
   ]
  },
  {
   "cell_type": "code",
   "execution_count": 164,
   "metadata": {},
   "outputs": [
    {
     "name": "stdout",
     "output_type": "stream",
     "text": [
      "1:\n",
      "  nombre: Bulbasaur\n",
      "  tipo: ['Planta', 'Veneno']\n",
      "  habilidades: ['Espesura', 'Clorofila']\n",
      "4:\n",
      "  nombre: Charmander\n",
      "  tipo: ['Fuego']\n",
      "  habilidades: ['Mar Llamas', 'Poder Solar']\n",
      "7:\n",
      "  nombre: Squirtle\n",
      "  tipo: ['Agua']\n",
      "  habilidades: ['Torrente', 'Cura Lluvia']\n",
      "25:\n",
      "  nombre: Pikachu\n",
      "  tipo: ['Eléctrico']\n",
      "  habilidades: ['Elec. Estática', 'Pararrayos']\n"
     ]
    }
   ],
   "source": [
    "lista_pokemon_capturados = []\n",
    "lista_claves = []\n",
    "lista_valores= []\n",
    "\n",
    "for identificador_pokemon, valores in pokedex.items():\n",
    "    print(f\"{identificador_pokemon}:\")\n",
    "    lista_pokemon_capturados.append(identificador_pokemon)\n",
    "    for clave, valor in valores.items():\n",
    "        print(f\"  {clave}: {valor}\")\n",
    "        lista_claves.append(clave)\n",
    "        lista_valores.append(valor)"
   ]
  },
  {
   "cell_type": "code",
   "execution_count": 165,
   "metadata": {},
   "outputs": [
    {
     "name": "stdout",
     "output_type": "stream",
     "text": [
      "[1, 4, 7, 25]\n",
      "['nombre', 'tipo', 'habilidades', 'nombre', 'tipo', 'habilidades', 'nombre', 'tipo', 'habilidades', 'nombre', 'tipo', 'habilidades']\n",
      "['Bulbasaur', ['Planta', 'Veneno'], ['Espesura', 'Clorofila'], 'Charmander', ['Fuego'], ['Mar Llamas', 'Poder Solar'], 'Squirtle', ['Agua'], ['Torrente', 'Cura Lluvia'], 'Pikachu', ['Eléctrico'], ['Elec. Estática', 'Pararrayos']]\n"
     ]
    }
   ],
   "source": [
    "print(lista_pokemon_capturados)\n",
    "print(lista_claves)\n",
    "print(lista_valores)"
   ]
  },
  {
   "cell_type": "code",
   "execution_count": 167,
   "metadata": {},
   "outputs": [],
   "source": [
    "datos_pokemon = []\n",
    "\n",
    "for identificador_pokemon, valores in pokedex.items():\n",
    "    pokemon_info = {\n",
    "        \"Identificador\": identificador_pokemon,\n",
    "        \"Nombre\": valores[\"nombre\"],\n",
    "        \"Tipo\": \", \".join(valores[\"tipo\"]),  \n",
    "        \"Habilidades\": \", \".join(valores[\"habilidades\"])  \n",
    "    }\n",
    "    datos_pokemon.append(pokemon_info)"
   ]
  },
  {
   "cell_type": "code",
   "execution_count": 168,
   "metadata": {},
   "outputs": [
    {
     "data": {
      "text/plain": [
       "[{'Identificador': 1,\n",
       "  'Nombre': 'Bulbasaur',\n",
       "  'Tipo': 'Planta, Veneno',\n",
       "  'Habilidades': 'Espesura, Clorofila'},\n",
       " {'Identificador': 4,\n",
       "  'Nombre': 'Charmander',\n",
       "  'Tipo': 'Fuego',\n",
       "  'Habilidades': 'Mar Llamas, Poder Solar'},\n",
       " {'Identificador': 7,\n",
       "  'Nombre': 'Squirtle',\n",
       "  'Tipo': 'Agua',\n",
       "  'Habilidades': 'Torrente, Cura Lluvia'},\n",
       " {'Identificador': 25,\n",
       "  'Nombre': 'Pikachu',\n",
       "  'Tipo': 'Eléctrico',\n",
       "  'Habilidades': 'Elec. Estática, Pararrayos'}]"
      ]
     },
     "execution_count": 168,
     "metadata": {},
     "output_type": "execute_result"
    }
   ],
   "source": [
    "datos_pokemon"
   ]
  },
  {
   "cell_type": "code",
   "execution_count": 169,
   "metadata": {},
   "outputs": [
    {
     "data": {
      "text/html": [
       "<div>\n",
       "<style scoped>\n",
       "    .dataframe tbody tr th:only-of-type {\n",
       "        vertical-align: middle;\n",
       "    }\n",
       "\n",
       "    .dataframe tbody tr th {\n",
       "        vertical-align: top;\n",
       "    }\n",
       "\n",
       "    .dataframe thead th {\n",
       "        text-align: right;\n",
       "    }\n",
       "</style>\n",
       "<table border=\"1\" class=\"dataframe\">\n",
       "  <thead>\n",
       "    <tr style=\"text-align: right;\">\n",
       "      <th></th>\n",
       "      <th>Identificador</th>\n",
       "      <th>Nombre</th>\n",
       "      <th>Tipo</th>\n",
       "      <th>Habilidades</th>\n",
       "    </tr>\n",
       "  </thead>\n",
       "  <tbody>\n",
       "    <tr>\n",
       "      <th>0</th>\n",
       "      <td>1</td>\n",
       "      <td>Bulbasaur</td>\n",
       "      <td>Planta, Veneno</td>\n",
       "      <td>Espesura, Clorofila</td>\n",
       "    </tr>\n",
       "    <tr>\n",
       "      <th>1</th>\n",
       "      <td>4</td>\n",
       "      <td>Charmander</td>\n",
       "      <td>Fuego</td>\n",
       "      <td>Mar Llamas, Poder Solar</td>\n",
       "    </tr>\n",
       "    <tr>\n",
       "      <th>2</th>\n",
       "      <td>7</td>\n",
       "      <td>Squirtle</td>\n",
       "      <td>Agua</td>\n",
       "      <td>Torrente, Cura Lluvia</td>\n",
       "    </tr>\n",
       "    <tr>\n",
       "      <th>3</th>\n",
       "      <td>25</td>\n",
       "      <td>Pikachu</td>\n",
       "      <td>Eléctrico</td>\n",
       "      <td>Elec. Estática, Pararrayos</td>\n",
       "    </tr>\n",
       "  </tbody>\n",
       "</table>\n",
       "</div>"
      ],
      "text/plain": [
       "   Identificador      Nombre            Tipo                 Habilidades\n",
       "0              1   Bulbasaur  Planta, Veneno         Espesura, Clorofila\n",
       "1              4  Charmander           Fuego     Mar Llamas, Poder Solar\n",
       "2              7    Squirtle            Agua       Torrente, Cura Lluvia\n",
       "3             25     Pikachu       Eléctrico  Elec. Estática, Pararrayos"
      ]
     },
     "execution_count": 169,
     "metadata": {},
     "output_type": "execute_result"
    }
   ],
   "source": [
    "df = pd.DataFrame(datos_pokemon)\n",
    "df"
   ]
  },
  {
   "cell_type": "markdown",
   "metadata": {},
   "source": [
    "## Comprensiones\n",
    "\n",
    "[nueva_expresion for item in iterable if condicion]\n",
    "\n",
    "`nueva_expresion`: La expresión que se evalúa y se añade a la nueva lista.\n",
    "\n",
    "`item`: Cada elemento del iterable.\n",
    "\n",
    "`iterable`: La colección de elementos sobre los que se itera.\n",
    "\n",
    "`condicion`: (Opcional) Un filtro para seleccionar solo los elementos que cumplen con esta condición.\n"
   ]
  },
  {
   "cell_type": "code",
   "execution_count": 172,
   "metadata": {},
   "outputs": [
    {
     "name": "stdout",
     "output_type": "stream",
     "text": [
      "[1, 8, 27, 125]\n"
     ]
    }
   ],
   "source": [
    "numeros = [1, 2, 3, 5]\n",
    "cubo = [n ** 3 for n in numeros]\n",
    "print(cubo)"
   ]
  },
  {
   "cell_type": "code",
   "execution_count": 173,
   "metadata": {},
   "outputs": [
    {
     "data": {
      "text/plain": [
       "{'Azul', 'Rojo', 'Verde'}"
      ]
     },
     "execution_count": 173,
     "metadata": {},
     "output_type": "execute_result"
    }
   ],
   "source": [
    "colores = [\"RoJo\", \"vErde\", \"Azul\"]\n",
    "colores = {color.capitalize() for color in colores}\n",
    "colores"
   ]
  },
  {
   "cell_type": "code",
   "execution_count": 174,
   "metadata": {},
   "outputs": [
    {
     "name": "stdout",
     "output_type": "stream",
     "text": [
      "(1, 8, 27, 125)\n"
     ]
    }
   ],
   "source": [
    "numeros = [1, 2, 3, 5]\n",
    "cubo = tuple(n ** 3 for n in numeros)\n",
    "print(cubo)"
   ]
  },
  {
   "cell_type": "code",
   "execution_count": 176,
   "metadata": {},
   "outputs": [
    {
     "name": "stdout",
     "output_type": "stream",
     "text": [
      "{1: 1, 2: 8, 3: 27, 5: 125}\n"
     ]
    }
   ],
   "source": [
    "numeros = [1, 2, 3, 5]\n",
    "cubo = {n: n ** 3 for n in numeros}\n",
    "print(cubo)"
   ]
  },
  {
   "cell_type": "code",
   "execution_count": 177,
   "metadata": {},
   "outputs": [
    {
     "name": "stdout",
     "output_type": "stream",
     "text": [
      "{8, 1, 27, 125}\n"
     ]
    }
   ],
   "source": [
    "numeros = [1, 2, 3, 5]\n",
    "cubo = {n ** 3 for n in numeros}\n",
    "print(cubo)  "
   ]
  },
  {
   "cell_type": "code",
   "execution_count": 179,
   "metadata": {},
   "outputs": [
    {
     "name": "stdout",
     "output_type": "stream",
     "text": [
      "['par', 'par', 'par', 'par', 'par']\n"
     ]
    }
   ],
   "source": [
    "numeros = [1, 2, 3, 4, 5]\n",
    "resultado = [\"par\" for n in numeros]\n",
    "print(resultado) "
   ]
  },
  {
   "cell_type": "code",
   "execution_count": 180,
   "metadata": {},
   "outputs": [
    {
     "name": "stdout",
     "output_type": "stream",
     "text": [
      "['impar', 'par', 'impar', 'par', 'impar']\n"
     ]
    }
   ],
   "source": [
    "numeros = [1, 2, 3, 4, 5]\n",
    "resultado = [\"par\" if n % 2 == 0 else \"impar\" for n in numeros]\n",
    "print(resultado) "
   ]
  },
  {
   "cell_type": "code",
   "execution_count": 184,
   "metadata": {},
   "outputs": [
    {
     "name": "stdout",
     "output_type": "stream",
     "text": [
      "[2, 4]\n"
     ]
    }
   ],
   "source": [
    "numeros = [1, 2, 3, 4, 5]\n",
    "pares = []\n",
    "for n in numeros:\n",
    "    if n % 2 == 0:\n",
    "        pares.append(n)\n",
    "print(pares)  "
   ]
  },
  {
   "cell_type": "code",
   "execution_count": 181,
   "metadata": {},
   "outputs": [
    {
     "name": "stdout",
     "output_type": "stream",
     "text": [
      "[2, 4]\n"
     ]
    }
   ],
   "source": [
    "numeros = [1, 2, 3, 4, 5]\n",
    "pares = [n for n in numeros if n % 2 == 0]\n",
    "print(pares)"
   ]
  }
 ],
 "metadata": {
  "kernelspec": {
   "display_name": "envi",
   "language": "python",
   "name": "python3"
  },
  "language_info": {
   "codemirror_mode": {
    "name": "ipython",
    "version": 3
   },
   "file_extension": ".py",
   "mimetype": "text/x-python",
   "name": "python",
   "nbconvert_exporter": "python",
   "pygments_lexer": "ipython3",
   "version": "3.12.3"
  }
 },
 "nbformat": 4,
 "nbformat_minor": 2
}
