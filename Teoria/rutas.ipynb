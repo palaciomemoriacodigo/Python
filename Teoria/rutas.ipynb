{
 "cells": [
  {
   "cell_type": "markdown",
   "metadata": {},
   "source": [
    "# Importaciones"
   ]
  },
  {
   "cell_type": "code",
   "execution_count": 24,
   "metadata": {},
   "outputs": [],
   "source": [
    "import sys \n",
    "import os \n",
    "from pathlib import Path, PurePath"
   ]
  },
  {
   "cell_type": "markdown",
   "metadata": {},
   "source": [
    "# os y pathlib"
   ]
  },
  {
   "cell_type": "markdown",
   "metadata": {},
   "source": [
    "## Directorio actual"
   ]
  },
  {
   "cell_type": "markdown",
   "metadata": {},
   "source": [
    "### os.getcwd\n",
    "\n",
    "Directorio actual del script ejecutado"
   ]
  },
  {
   "cell_type": "code",
   "execution_count": 103,
   "metadata": {},
   "outputs": [
    {
     "name": "stdout",
     "output_type": "stream",
     "text": [
      "<class 'str'>\n"
     ]
    },
    {
     "data": {
      "text/plain": [
       "'d:\\\\PalacioMemoriaCodigo\\\\Python\\\\Teoria'"
      ]
     },
     "execution_count": 103,
     "metadata": {},
     "output_type": "execute_result"
    }
   ],
   "source": [
    "directorio_actual = os.getcwd()\n",
    "print(type(directorio_actual))\n",
    "directorio_actual"
   ]
  },
  {
   "cell_type": "markdown",
   "metadata": {},
   "source": [
    "### Path.cwd\n",
    "\n",
    "Directorio actual del script ejecutado"
   ]
  },
  {
   "cell_type": "code",
   "execution_count": 104,
   "metadata": {},
   "outputs": [
    {
     "name": "stdout",
     "output_type": "stream",
     "text": [
      "<class 'pathlib.WindowsPath'>\n"
     ]
    },
    {
     "data": {
      "text/plain": [
       "WindowsPath('d:/PalacioMemoriaCodigo/Python/Teoria')"
      ]
     },
     "execution_count": 104,
     "metadata": {},
     "output_type": "execute_result"
    }
   ],
   "source": [
    "directorio_actual = Path.cwd()\n",
    "print(type(directorio_actual))\n",
    "directorio_actual"
   ]
  },
  {
   "cell_type": "markdown",
   "metadata": {},
   "source": [
    "## Listar directorios y archivos"
   ]
  },
  {
   "cell_type": "markdown",
   "metadata": {},
   "source": [
    "### os.listdir\n",
    "\n",
    "Te proporciona una lista de los archivos y directorios dentro del directorio especificado."
   ]
  },
  {
   "cell_type": "code",
   "execution_count": 105,
   "metadata": {},
   "outputs": [
    {
     "data": {
      "text/plain": [
       "['acciones.py',\n",
       " 'bucles.ipynb',\n",
       " 'clases.ipynb',\n",
       " 'colecciones.py',\n",
       " 'condicionales.py',\n",
       " 'conjuntos.ipynb',\n",
       " 'diccionarios.ipynb',\n",
       " 'ejemplos_rutas.py',\n",
       " 'Ejemplo_directorio_1',\n",
       " 'Ejemplo_directorio_24',\n",
       " 'Ejemplo_listdir',\n",
       " 'funciones.ipynb',\n",
       " 'funciones.py',\n",
       " 'Funciones_lambda.ipynb',\n",
       " 'listas.ipynb',\n",
       " 'makedirs',\n",
       " 'makedirs_2',\n",
       " 'metodos_cadenas.py',\n",
       " 'operadores.py',\n",
       " 'rutas.ipynb',\n",
       " 'tuplas.ipynb',\n",
       " 'variables_y_datos_simples.py',\n",
       " '__pycache__']"
      ]
     },
     "execution_count": 105,
     "metadata": {},
     "output_type": "execute_result"
    }
   ],
   "source": [
    "os.listdir()"
   ]
  },
  {
   "cell_type": "code",
   "execution_count": 106,
   "metadata": {},
   "outputs": [
    {
     "data": {
      "text/plain": [
       "['acciones_2.py', 'Carpeta_dentro_ejemplo', 'ej1.py', 'ej2.py', '__pycache__']"
      ]
     },
     "execution_count": 106,
     "metadata": {},
     "output_type": "execute_result"
    }
   ],
   "source": [
    "os.listdir('Ejemplo_listdir')"
   ]
  },
  {
   "cell_type": "code",
   "execution_count": 107,
   "metadata": {},
   "outputs": [
    {
     "data": {
      "text/plain": [
       "['Ej3.py']"
      ]
     },
     "execution_count": 107,
     "metadata": {},
     "output_type": "execute_result"
    }
   ],
   "source": [
    "os.listdir('Ejemplo_listdir/Carpeta_dentro_ejemplo')"
   ]
  },
  {
   "cell_type": "markdown",
   "metadata": {},
   "source": [
    "### Path iterdir"
   ]
  },
  {
   "cell_type": "code",
   "execution_count": 108,
   "metadata": {},
   "outputs": [
    {
     "name": "stdout",
     "output_type": "stream",
     "text": [
      "acciones.py\n"
     ]
    },
    {
     "data": {
      "text/plain": [
       "[WindowsPath('acciones.py'),\n",
       " WindowsPath('bucles.ipynb'),\n",
       " WindowsPath('clases.ipynb'),\n",
       " WindowsPath('colecciones.py'),\n",
       " WindowsPath('condicionales.py'),\n",
       " WindowsPath('conjuntos.ipynb'),\n",
       " WindowsPath('diccionarios.ipynb'),\n",
       " WindowsPath('ejemplos_rutas.py'),\n",
       " WindowsPath('Ejemplo_directorio_1'),\n",
       " WindowsPath('Ejemplo_directorio_24'),\n",
       " WindowsPath('Ejemplo_listdir'),\n",
       " WindowsPath('funciones.ipynb'),\n",
       " WindowsPath('funciones.py'),\n",
       " WindowsPath('Funciones_lambda.ipynb'),\n",
       " WindowsPath('listas.ipynb'),\n",
       " WindowsPath('makedirs'),\n",
       " WindowsPath('makedirs_2'),\n",
       " WindowsPath('metodos_cadenas.py'),\n",
       " WindowsPath('operadores.py'),\n",
       " WindowsPath('rutas.ipynb'),\n",
       " WindowsPath('tuplas.ipynb'),\n",
       " WindowsPath('variables_y_datos_simples.py'),\n",
       " WindowsPath('__pycache__')]"
      ]
     },
     "execution_count": 108,
     "metadata": {},
     "output_type": "execute_result"
    }
   ],
   "source": [
    "directorio_actual = list(Path().iterdir())\n",
    "print(directorio_actual[0])\n",
    "directorio_actual"
   ]
  },
  {
   "cell_type": "code",
   "execution_count": 109,
   "metadata": {},
   "outputs": [
    {
     "name": "stdout",
     "output_type": "stream",
     "text": [
      "acciones.py es un archivo.\n",
      "bucles.ipynb es un archivo.\n",
      "clases.ipynb es un archivo.\n",
      "colecciones.py es un archivo.\n",
      "condicionales.py es un archivo.\n",
      "conjuntos.ipynb es un archivo.\n",
      "diccionarios.ipynb es un archivo.\n",
      "ejemplos_rutas.py es un archivo.\n",
      "Ejemplo_directorio_1 es un directorio.\n",
      "Ejemplo_directorio_24 es un directorio.\n",
      "Ejemplo_listdir es un directorio.\n",
      "funciones.ipynb es un archivo.\n",
      "funciones.py es un archivo.\n",
      "Funciones_lambda.ipynb es un archivo.\n",
      "listas.ipynb es un archivo.\n",
      "makedirs es un directorio.\n",
      "makedirs_2 es un directorio.\n",
      "metodos_cadenas.py es un archivo.\n",
      "operadores.py es un archivo.\n",
      "rutas.ipynb es un archivo.\n",
      "tuplas.ipynb es un archivo.\n",
      "variables_y_datos_simples.py es un archivo.\n",
      "__pycache__ es un directorio.\n"
     ]
    }
   ],
   "source": [
    "for i in directorio_actual:\n",
    "    if i.is_file():\n",
    "        print(f\"{i} es un archivo.\")\n",
    "    elif i.is_dir():\n",
    "        print(f\"{i} es un directorio.\")\n",
    "    else:\n",
    "        print(\"Otra cosa\")"
   ]
  },
  {
   "cell_type": "code",
   "execution_count": 110,
   "metadata": {},
   "outputs": [
    {
     "data": {
      "text/plain": [
       "[WindowsPath('Ejemplo_listdir/acciones_2.py'),\n",
       " WindowsPath('Ejemplo_listdir/Carpeta_dentro_ejemplo'),\n",
       " WindowsPath('Ejemplo_listdir/ej1.py'),\n",
       " WindowsPath('Ejemplo_listdir/ej2.py'),\n",
       " WindowsPath('Ejemplo_listdir/__pycache__')]"
      ]
     },
     "execution_count": 110,
     "metadata": {},
     "output_type": "execute_result"
    }
   ],
   "source": [
    "list(Path('Ejemplo_listdir').iterdir())"
   ]
  },
  {
   "cell_type": "code",
   "execution_count": 111,
   "metadata": {},
   "outputs": [
    {
     "data": {
      "text/plain": [
       "[WindowsPath('Ejemplo_listdir/Carpeta_dentro_ejemplo/Ej3.py')]"
      ]
     },
     "execution_count": 111,
     "metadata": {},
     "output_type": "execute_result"
    }
   ],
   "source": [
    "list(Path('Ejemplo_listdir/Carpeta_dentro_ejemplo').iterdir())"
   ]
  },
  {
   "cell_type": "markdown",
   "metadata": {},
   "source": [
    "## Ruta absoluta"
   ]
  },
  {
   "cell_type": "markdown",
   "metadata": {},
   "source": [
    "### os.path.abspath\n",
    "\n",
    "Devuelve la ruta absoluta del directorio actual de trabajo. Si se deja vacio el argumento, os.path.abspath('') devuelve la ruta absoluta del directorio del script ejecutado."
   ]
  },
  {
   "cell_type": "code",
   "execution_count": 112,
   "metadata": {},
   "outputs": [
    {
     "data": {
      "text/plain": [
       "'d:\\\\PalacioMemoriaCodigo\\\\Python\\\\Teoria'"
      ]
     },
     "execution_count": 112,
     "metadata": {},
     "output_type": "execute_result"
    }
   ],
   "source": [
    "os.path.abspath('')"
   ]
  },
  {
   "cell_type": "markdown",
   "metadata": {},
   "source": [
    "## Path.resolve"
   ]
  },
  {
   "cell_type": "code",
   "execution_count": 113,
   "metadata": {},
   "outputs": [
    {
     "data": {
      "text/plain": [
       "WindowsPath('D:/PalacioMemoriaCodigo/Python/Teoria')"
      ]
     },
     "execution_count": 113,
     "metadata": {},
     "output_type": "execute_result"
    }
   ],
   "source": [
    "Path('').resolve()"
   ]
  },
  {
   "cell_type": "code",
   "execution_count": 116,
   "metadata": {},
   "outputs": [
    {
     "data": {
      "text/plain": [
       "WindowsPath('D:/PalacioMemoriaCodigo/Python/Teoria/clases.ipynb')"
      ]
     },
     "execution_count": 116,
     "metadata": {},
     "output_type": "execute_result"
    }
   ],
   "source": [
    "Path('clases.ipynb').resolve()"
   ]
  },
  {
   "cell_type": "markdown",
   "metadata": {},
   "source": [
    "## Comprobar si existe un archivo"
   ]
  },
  {
   "cell_type": "markdown",
   "metadata": {},
   "source": [
    "### os.path.exists"
   ]
  },
  {
   "cell_type": "code",
   "execution_count": 117,
   "metadata": {},
   "outputs": [
    {
     "data": {
      "text/plain": [
       "True"
      ]
     },
     "execution_count": 117,
     "metadata": {},
     "output_type": "execute_result"
    }
   ],
   "source": [
    "os.path.exists('clases.ipynb')"
   ]
  },
  {
   "cell_type": "code",
   "execution_count": 118,
   "metadata": {},
   "outputs": [
    {
     "data": {
      "text/plain": [
       "True"
      ]
     },
     "execution_count": 118,
     "metadata": {},
     "output_type": "execute_result"
    }
   ],
   "source": [
    "os.path.exists('Ejemplo_directorio_1')"
   ]
  },
  {
   "cell_type": "code",
   "execution_count": 121,
   "metadata": {},
   "outputs": [
    {
     "data": {
      "text/plain": [
       "False"
      ]
     },
     "execution_count": 121,
     "metadata": {},
     "output_type": "execute_result"
    }
   ],
   "source": [
    "os.path.exists('ej1.py')"
   ]
  },
  {
   "cell_type": "markdown",
   "metadata": {},
   "source": [
    "### Path.exists"
   ]
  },
  {
   "cell_type": "code",
   "execution_count": 122,
   "metadata": {},
   "outputs": [
    {
     "data": {
      "text/plain": [
       "True"
      ]
     },
     "execution_count": 122,
     "metadata": {},
     "output_type": "execute_result"
    }
   ],
   "source": [
    "Path('clases.ipynb').exists()"
   ]
  },
  {
   "cell_type": "code",
   "execution_count": 123,
   "metadata": {},
   "outputs": [
    {
     "data": {
      "text/plain": [
       "False"
      ]
     },
     "execution_count": 123,
     "metadata": {},
     "output_type": "execute_result"
    }
   ],
   "source": [
    "Path('classses.ipynb').exists()"
   ]
  },
  {
   "cell_type": "markdown",
   "metadata": {},
   "source": [
    "## Unir rutas"
   ]
  },
  {
   "cell_type": "markdown",
   "metadata": {},
   "source": [
    "### os.path.join\n",
    "\n",
    "Permite unir rutas"
   ]
  },
  {
   "cell_type": "code",
   "execution_count": 125,
   "metadata": {},
   "outputs": [
    {
     "data": {
      "text/plain": [
       "'d:\\\\PalacioMemoriaCodigo\\\\Python\\\\Teoria\\\\Ejemplo_listdir'"
      ]
     },
     "execution_count": 125,
     "metadata": {},
     "output_type": "execute_result"
    }
   ],
   "source": [
    "os.path.join(os.getcwd(),\"Ejemplo_listdir\")"
   ]
  },
  {
   "cell_type": "markdown",
   "metadata": {},
   "source": [
    "### PurePath\n",
    "\n",
    "Permite unir rutas"
   ]
  },
  {
   "cell_type": "code",
   "execution_count": 126,
   "metadata": {},
   "outputs": [
    {
     "data": {
      "text/plain": [
       "WindowsPath('d:/PalacioMemoriaCodigo/Python/Teoria/Ejemplo_listdir')"
      ]
     },
     "execution_count": 126,
     "metadata": {},
     "output_type": "execute_result"
    }
   ],
   "source": [
    "PurePath.joinpath(Path.cwd(),\"Ejemplo_listdir\")"
   ]
  },
  {
   "cell_type": "code",
   "execution_count": 127,
   "metadata": {},
   "outputs": [
    {
     "name": "stdout",
     "output_type": "stream",
     "text": [
      "d:\\PalacioMemoriaCodigo\\Python\\Teoria\\Ejemplo_listdir\n"
     ]
    }
   ],
   "source": [
    "print(PurePath.joinpath(Path.cwd(),\"Ejemplo_listdir\"))"
   ]
  },
  {
   "cell_type": "markdown",
   "metadata": {},
   "source": [
    "## Crear directorios"
   ]
  },
  {
   "cell_type": "markdown",
   "metadata": {},
   "source": [
    "### os.mkdir\n",
    "\n",
    "Te crea un directorio, se le puede aportar una ruta relativa o una ruta completa"
   ]
  },
  {
   "cell_type": "code",
   "execution_count": 129,
   "metadata": {},
   "outputs": [],
   "source": [
    "os.mkdir(\"Ejemplo_directorio_1\")"
   ]
  },
  {
   "cell_type": "code",
   "execution_count": 130,
   "metadata": {},
   "outputs": [],
   "source": [
    "os.mkdir(\"D:/PalacioMemoriaCodigo/Python/Teoria/Ejemplo_directorio_2\")"
   ]
  },
  {
   "cell_type": "markdown",
   "metadata": {},
   "source": [
    "### Path.mkdir"
   ]
  },
  {
   "cell_type": "code",
   "execution_count": 131,
   "metadata": {},
   "outputs": [],
   "source": [
    "Path(\"Ejemplo_directorio_1\").mkdir(exist_ok=True)"
   ]
  },
  {
   "cell_type": "markdown",
   "metadata": {},
   "source": [
    "## Crear directorios y subdirectorios"
   ]
  },
  {
   "cell_type": "markdown",
   "metadata": {},
   "source": [
    "### os.makedirs()\n",
    "\n",
    "Crear varios directorios"
   ]
  },
  {
   "cell_type": "code",
   "execution_count": 132,
   "metadata": {},
   "outputs": [],
   "source": [
    "os.makedirs(os.path.join(\"makedirs\",\"Ejemplo\"))"
   ]
  },
  {
   "cell_type": "code",
   "execution_count": 133,
   "metadata": {},
   "outputs": [],
   "source": [
    "PurePath.joinpath(Path.cwd(),\"makedirs_2\",\"Ejemplo\").mkdir(parents=True,exist_ok=True)"
   ]
  },
  {
   "cell_type": "markdown",
   "metadata": {},
   "source": [
    "## Cambiar de directorio"
   ]
  },
  {
   "cell_type": "markdown",
   "metadata": {},
   "source": [
    "### os.chdir\n",
    "\n",
    "Cambia el directorio\n",
    "\n",
    "os.chdir(\"..\"): Directorio anterior."
   ]
  },
  {
   "cell_type": "code",
   "execution_count": 134,
   "metadata": {},
   "outputs": [],
   "source": [
    "os.chdir(\"Ejemplo_directorio_1\")"
   ]
  },
  {
   "cell_type": "code",
   "execution_count": 135,
   "metadata": {},
   "outputs": [
    {
     "data": {
      "text/plain": [
       "'d:\\\\PalacioMemoriaCodigo\\\\Python\\\\Teoria\\\\Ejemplo_directorio_1'"
      ]
     },
     "execution_count": 135,
     "metadata": {},
     "output_type": "execute_result"
    }
   ],
   "source": [
    "os.getcwd()"
   ]
  },
  {
   "cell_type": "code",
   "execution_count": 136,
   "metadata": {},
   "outputs": [],
   "source": [
    "os.chdir(\"..\")"
   ]
  },
  {
   "cell_type": "code",
   "execution_count": 137,
   "metadata": {},
   "outputs": [
    {
     "data": {
      "text/plain": [
       "'d:\\\\PalacioMemoriaCodigo\\\\Python\\\\Teoria'"
      ]
     },
     "execution_count": 137,
     "metadata": {},
     "output_type": "execute_result"
    }
   ],
   "source": [
    "os.getcwd()"
   ]
  },
  {
   "cell_type": "code",
   "execution_count": 138,
   "metadata": {},
   "outputs": [],
   "source": [
    "os.chdir(\"D:/PalacioMemoriaCodigo/Python/Teoria/Ejemplo_directorio_2\")"
   ]
  },
  {
   "cell_type": "code",
   "execution_count": 139,
   "metadata": {},
   "outputs": [
    {
     "data": {
      "text/plain": [
       "'D:\\\\PalacioMemoriaCodigo\\\\Python\\\\Teoria\\\\Ejemplo_directorio_2'"
      ]
     },
     "execution_count": 139,
     "metadata": {},
     "output_type": "execute_result"
    }
   ],
   "source": [
    "os.getcwd()"
   ]
  },
  {
   "cell_type": "code",
   "execution_count": 140,
   "metadata": {},
   "outputs": [],
   "source": [
    "os.chdir(\"..\")"
   ]
  },
  {
   "cell_type": "code",
   "execution_count": 141,
   "metadata": {},
   "outputs": [
    {
     "data": {
      "text/plain": [
       "'D:\\\\PalacioMemoriaCodigo\\\\Python\\\\Teoria'"
      ]
     },
     "execution_count": 141,
     "metadata": {},
     "output_type": "execute_result"
    }
   ],
   "source": [
    "os.getcwd()"
   ]
  },
  {
   "cell_type": "markdown",
   "metadata": {},
   "source": [
    "## Renombrar"
   ]
  },
  {
   "cell_type": "markdown",
   "metadata": {},
   "source": [
    "### os.rename"
   ]
  },
  {
   "cell_type": "code",
   "execution_count": 142,
   "metadata": {},
   "outputs": [],
   "source": [
    "os.rename(\"Ejemplo_directorio_2\", \"Ejemplo_directorio_24\")"
   ]
  },
  {
   "cell_type": "code",
   "execution_count": 143,
   "metadata": {},
   "outputs": [],
   "source": [
    "os.rename(\"Ejemplo_directorio_24\", \"Ejemplo_directorio_2\")"
   ]
  },
  {
   "cell_type": "markdown",
   "metadata": {},
   "source": [
    "### Path.rename"
   ]
  },
  {
   "cell_type": "code",
   "execution_count": null,
   "metadata": {},
   "outputs": [],
   "source": [
    "Path.rename(Path(\"Ejemplo_directorio_2\"),Path(\"Ejemplo_directorio_24\"))"
   ]
  },
  {
   "cell_type": "code",
   "execution_count": 145,
   "metadata": {},
   "outputs": [
    {
     "data": {
      "text/plain": [
       "WindowsPath('Ejemplo_directorio_2')"
      ]
     },
     "execution_count": 145,
     "metadata": {},
     "output_type": "execute_result"
    }
   ],
   "source": [
    "Path.rename(Path(\"Ejemplo_directorio_24\"),Path(\"Ejemplo_directorio_2\"))"
   ]
  },
  {
   "cell_type": "markdown",
   "metadata": {},
   "source": [
    "## Eliminar un archivo o directorio\n"
   ]
  },
  {
   "cell_type": "code",
   "execution_count": 146,
   "metadata": {},
   "outputs": [],
   "source": [
    "directorio = 'eliminar'\n",
    "if not os.path.exists(directorio):\n",
    "    os.mkdir(directorio)\n",
    "    \n",
    "nombre_archivo = 'eliminar.py'\n",
    "ruta_archivo = os.path.join(directorio, nombre_archivo)\n",
    "\n",
    "with open(ruta_archivo, 'w') as archivo:\n",
    "    archivo.write(\"Hola\")"
   ]
  },
  {
   "cell_type": "markdown",
   "metadata": {},
   "source": [
    "### os.remove"
   ]
  },
  {
   "cell_type": "code",
   "execution_count": 147,
   "metadata": {},
   "outputs": [],
   "source": [
    "os.remove(\"eliminar/eliminar.py\")"
   ]
  },
  {
   "cell_type": "markdown",
   "metadata": {},
   "source": [
    "### os.rmdir"
   ]
  },
  {
   "cell_type": "code",
   "execution_count": 148,
   "metadata": {},
   "outputs": [],
   "source": [
    "os.rmdir(\"eliminar\")"
   ]
  },
  {
   "cell_type": "code",
   "execution_count": 153,
   "metadata": {},
   "outputs": [],
   "source": [
    "directorio = 'eliminar'\n",
    "if not os.path.exists(directorio):\n",
    "    os.mkdir(directorio)\n",
    "    \n",
    "nombre_archivo = 'eliminar.py'\n",
    "ruta_archivo = os.path.join(directorio, nombre_archivo)\n",
    "\n",
    "with open(ruta_archivo, 'w') as archivo:\n",
    "    archivo.write(\"Hola\")"
   ]
  },
  {
   "cell_type": "code",
   "execution_count": 150,
   "metadata": {},
   "outputs": [],
   "source": [
    "if Path(\"eliminar/eliminar.py\").exists():\n",
    "    Path(\"eliminar/eliminar.py\").unlink()"
   ]
  },
  {
   "cell_type": "code",
   "execution_count": 155,
   "metadata": {},
   "outputs": [],
   "source": [
    "directorio_borrar = Path(\"eliminar\")\n",
    "script_borrar = directorio_borrar/\"eliminar.py\"\n",
    "\n",
    "if script_borrar.exists():\n",
    "    script_borrar.unlink()"
   ]
  },
  {
   "cell_type": "code",
   "execution_count": 156,
   "metadata": {},
   "outputs": [
    {
     "name": "stdout",
     "output_type": "stream",
     "text": [
      "Directorio 'eliminar' eliminado.\n"
     ]
    }
   ],
   "source": [
    "if directorio_borrar.exists() and directorio_borrar.is_dir():\n",
    "    try:\n",
    "        directorio_borrar.rmdir()\n",
    "        print(f\"Directorio '{directorio_borrar}' eliminado.\")\n",
    "    except OSError:\n",
    "        print(f\"El directorio '{directorio_borrar}' no está vacío o no se pudo eliminar.\")\n"
   ]
  },
  {
   "cell_type": "markdown",
   "metadata": {},
   "source": [
    "# sys"
   ]
  },
  {
   "cell_type": "markdown",
   "metadata": {},
   "source": [
    "## sys.path\n",
    "\n",
    "Lista de cadenas que especifica las rutas de búsqueda de módulos."
   ]
  },
  {
   "cell_type": "code",
   "execution_count": 158,
   "metadata": {},
   "outputs": [
    {
     "name": "stdout",
     "output_type": "stream",
     "text": [
      "['C:\\\\Users\\\\sculd\\\\AppData\\\\Local\\\\Programs\\\\Python\\\\Python312\\\\python312.zip', 'C:\\\\Users\\\\sculd\\\\AppData\\\\Local\\\\Programs\\\\Python\\\\Python312\\\\DLLs', 'C:\\\\Users\\\\sculd\\\\AppData\\\\Local\\\\Programs\\\\Python\\\\Python312\\\\Lib', 'C:\\\\Users\\\\sculd\\\\AppData\\\\Local\\\\Programs\\\\Python\\\\Python312', 'd:\\\\PalacioMemoriaCodigo\\\\Python\\\\envi', '', 'd:\\\\PalacioMemoriaCodigo\\\\Python\\\\envi\\\\Lib\\\\site-packages', 'd:\\\\PalacioMemoriaCodigo\\\\Python\\\\envi\\\\Lib\\\\site-packages\\\\win32', 'd:\\\\PalacioMemoriaCodigo\\\\Python\\\\envi\\\\Lib\\\\site-packages\\\\win32\\\\lib', 'd:\\\\PalacioMemoriaCodigo\\\\Python\\\\envi\\\\Lib\\\\site-packages\\\\Pythonwin']\n"
     ]
    }
   ],
   "source": [
    "print(sys.path)"
   ]
  },
  {
   "cell_type": "markdown",
   "metadata": {},
   "source": [
    "## sys.executable\n",
    "\n",
    "Ruta del ejecutable de Python que está siendo utilizado."
   ]
  },
  {
   "cell_type": "code",
   "execution_count": 159,
   "metadata": {},
   "outputs": [
    {
     "data": {
      "text/plain": [
       "'d:\\\\PalacioMemoriaCodigo\\\\Python\\\\envi\\\\Scripts\\\\python.exe'"
      ]
     },
     "execution_count": 159,
     "metadata": {},
     "output_type": "execute_result"
    }
   ],
   "source": [
    "sys.executable"
   ]
  },
  {
   "cell_type": "markdown",
   "metadata": {},
   "source": [
    "## sys.platform\n",
    "\n",
    "Devuelve un string que identifica la plataforma en la que se está ejecutando Python. "
   ]
  },
  {
   "cell_type": "code",
   "execution_count": 160,
   "metadata": {},
   "outputs": [
    {
     "data": {
      "text/plain": [
       "'win32'"
      ]
     },
     "execution_count": 160,
     "metadata": {},
     "output_type": "execute_result"
    }
   ],
   "source": [
    "sys.platform"
   ]
  },
  {
   "cell_type": "markdown",
   "metadata": {},
   "source": [
    "## sys.version\n",
    "\n",
    "Devuelve la versión del intérprete de Python utilizado para ejecutar el script correspondiente. \n",
    "\n",
    "---\n",
    "\n",
    "`sys.version_info`: Devuelve información sobre la versión del intérprete de Python que estás utilizando actualmente. \n",
    "\n",
    "major (importante): El número principal de la versión de Python.\n",
    "\n",
    "minor (menor): El número menor de la versión de Python.\n",
    "\n",
    "micro (micro): El número micro de la versión de Python.\n",
    "\n",
    "releaselevel (nivel de lanzamiento): Este atributo indica el nivel de desarrollo de la versión de Python. Puede ser uno de los siguientes valores:\n",
    "\n",
    "- `alpha`: Indica una versión en fase alfa (versión preliminar que aún está en desarrollo activo)\n",
    "\n",
    "- `beta`: Indica una versión en fase beta, \n",
    "\n",
    "- `candidate`: Indica una versión candidata, que es una versión que se considera lista para su lanzamiento como versión final, pero aún se está probando.\n",
    "\n",
    "- `final`: Indica una versión final, que es una versión estable y lista para su uso general.\n",
    "\n",
    "serial (serie): Este componente se utiliza para distinguir entre diferentes versiones de la misma versión principal, se establece en 0 en versiones finales, pero puede ser un número mayor en versiones alfa, beta o candidatas."
   ]
  },
  {
   "cell_type": "code",
   "execution_count": 161,
   "metadata": {},
   "outputs": [
    {
     "data": {
      "text/plain": [
       "'3.12.3 (tags/v3.12.3:f6650f9, Apr  9 2024, 14:05:25) [MSC v.1938 64 bit (AMD64)]'"
      ]
     },
     "execution_count": 161,
     "metadata": {},
     "output_type": "execute_result"
    }
   ],
   "source": [
    "sys.version"
   ]
  },
  {
   "cell_type": "code",
   "execution_count": 162,
   "metadata": {},
   "outputs": [
    {
     "data": {
      "text/plain": [
       "sys.version_info(major=3, minor=12, micro=3, releaselevel='final', serial=0)"
      ]
     },
     "execution_count": 162,
     "metadata": {},
     "output_type": "execute_result"
    }
   ],
   "source": [
    "sys.version_info"
   ]
  },
  {
   "cell_type": "markdown",
   "metadata": {},
   "source": [
    "## sys.getwindowsversion()\n",
    "\n",
    "Aporta información sobre la versión de Windows\n",
    "\n",
    "Número de versión principal (major)\n",
    "\n",
    "El número de versión secundaria (minor)\n",
    "\n",
    "El número de compilación (build)  es un identificador único asignado a cada versión de Windows.\n",
    "\n",
    "El tipo de plataforma (platform) en la que se está ejecutando el sistema operativo.  \n",
    "\n",
    "- `1`: Plataforma de 32 bits.\n",
    "\n",
    "- `2`: Plataforma de 64 bits.\n",
    "\n",
    "- `0`: Desconocido o no aplicable.\n",
    "\n",
    "El Service Pack, si está disponible (service_pack). Es una actualización acumulativa para un sistema operativo que incluye múltiples parches y actualizaciones de seguridad."
   ]
  },
  {
   "cell_type": "code",
   "execution_count": 163,
   "metadata": {},
   "outputs": [
    {
     "data": {
      "text/plain": [
       "sys.getwindowsversion(major=10, minor=0, build=22631, platform=2, service_pack='')"
      ]
     },
     "execution_count": 163,
     "metadata": {},
     "output_type": "execute_result"
    }
   ],
   "source": [
    "sys.getwindowsversion()"
   ]
  },
  {
   "cell_type": "markdown",
   "metadata": {},
   "source": [
    "## sys.modules\n",
    "\n",
    "Aporta un diccionario que mantiene un registro de todos los módulos que han sido cargados previamente durante la sesión actual.\n",
    "\n",
    "Registra módulos importados: Cada vez que importas un módulo, su nombre y referencia se almacenan en sys.modules.\n",
    "\n",
    "Evita la recarga innecesaria de módulos. Si un módulo ya está en sys.modules, Python lo reutiliza."
   ]
  },
  {
   "cell_type": "code",
   "execution_count": 164,
   "metadata": {},
   "outputs": [
    {
     "data": {
      "text/plain": [
       "{'sys': <module 'sys' (built-in)>,\n",
       " 'builtins': <module 'builtins' (built-in)>,\n",
       " '_frozen_importlib': <module '_frozen_importlib' (frozen)>,\n",
       " '_imp': <module '_imp' (built-in)>,\n",
       " '_thread': <module '_thread' (built-in)>,\n",
       " '_warnings': <module '_warnings' (built-in)>,\n",
       " '_weakref': <module '_weakref' (built-in)>,\n",
       " 'winreg': <module 'winreg' (built-in)>,\n",
       " '_io': <module '_io' (built-in)>,\n",
       " 'marshal': <module 'marshal' (built-in)>,\n",
       " 'nt': <module 'nt' (built-in)>,\n",
       " '_frozen_importlib_external': <module '_frozen_importlib_external' (frozen)>,\n",
       " 'time': <module 'time' (built-in)>,\n",
       " 'zipimport': <module 'zipimport' (frozen)>,\n",
       " '_codecs': <module '_codecs' (built-in)>,\n",
       " 'codecs': <module 'codecs' (frozen)>,\n",
       " 'encodings.aliases': <module 'encodings.aliases' from 'C:\\\\Users\\\\sculd\\\\AppData\\\\Local\\\\Programs\\\\Python\\\\Python312\\\\Lib\\\\encodings\\\\aliases.py'>,\n",
       " 'encodings': <module 'encodings' from 'C:\\\\Users\\\\sculd\\\\AppData\\\\Local\\\\Programs\\\\Python\\\\Python312\\\\Lib\\\\encodings\\\\__init__.py'>,\n",
       " 'encodings.utf_8': <module 'encodings.utf_8' from 'C:\\\\Users\\\\sculd\\\\AppData\\\\Local\\\\Programs\\\\Python\\\\Python312\\\\Lib\\\\encodings\\\\utf_8.py'>,\n",
       " '_signal': <module '_signal' (built-in)>,\n",
       " '_abc': <module '_abc' (built-in)>,\n",
       " 'abc': <module 'abc' (frozen)>,\n",
       " 'io': <module 'io' (frozen)>,\n",
       " '__main__': <module '__main__'>,\n",
       " '_stat': <module '_stat' (built-in)>,\n",
       " 'stat': <module 'stat' (frozen)>,\n",
       " '_collections_abc': <module '_collections_abc' (frozen)>,\n",
       " 'genericpath': <module 'genericpath' (frozen)>,\n",
       " '_winapi': <module '_winapi' (built-in)>,\n",
       " 'ntpath': <module 'ntpath' (frozen)>,\n",
       " 'os.path': <module 'ntpath' (frozen)>,\n",
       " 'os': <module 'os' (frozen)>,\n",
       " '_sitebuiltins': <module '_sitebuiltins' (frozen)>,\n",
       " 'encodings.cp1252': <module 'encodings.cp1252' from 'C:\\\\Users\\\\sculd\\\\AppData\\\\Local\\\\Programs\\\\Python\\\\Python312\\\\Lib\\\\encodings\\\\cp1252.py'>,\n",
       " 'pywin32_system32': <module 'pywin32_system32' (namespace) from ['d:\\\\PalacioMemoriaCodigo\\\\Python\\\\envi\\\\Lib\\\\site-packages\\\\pywin32_system32']>,\n",
       " 'pywin32_bootstrap': <module 'pywin32_bootstrap' from 'd:\\\\PalacioMemoriaCodigo\\\\Python\\\\envi\\\\Lib\\\\site-packages\\\\win32\\\\lib\\\\pywin32_bootstrap.py'>,\n",
       " 'site': <module 'site' (frozen)>,\n",
       " 'importlib._bootstrap': <module '_frozen_importlib' (frozen)>,\n",
       " 'importlib._bootstrap_external': <module '_frozen_importlib_external' (frozen)>,\n",
       " 'warnings': <module 'warnings' from 'C:\\\\Users\\\\sculd\\\\AppData\\\\Local\\\\Programs\\\\Python\\\\Python312\\\\Lib\\\\warnings.py'>,\n",
       " 'importlib': <module 'importlib' from 'C:\\\\Users\\\\sculd\\\\AppData\\\\Local\\\\Programs\\\\Python\\\\Python312\\\\Lib\\\\importlib\\\\__init__.py'>,\n",
       " 'importlib.machinery': <module 'importlib.machinery' (frozen)>,\n",
       " 'importlib._abc': <module 'importlib._abc' from 'C:\\\\Users\\\\sculd\\\\AppData\\\\Local\\\\Programs\\\\Python\\\\Python312\\\\Lib\\\\importlib\\\\_abc.py'>,\n",
       " 'itertools': <module 'itertools' (built-in)>,\n",
       " 'keyword': <module 'keyword' from 'C:\\\\Users\\\\sculd\\\\AppData\\\\Local\\\\Programs\\\\Python\\\\Python312\\\\Lib\\\\keyword.py'>,\n",
       " '_operator': <module '_operator' (built-in)>,\n",
       " 'operator': <module 'operator' from 'C:\\\\Users\\\\sculd\\\\AppData\\\\Local\\\\Programs\\\\Python\\\\Python312\\\\Lib\\\\operator.py'>,\n",
       " 'reprlib': <module 'reprlib' from 'C:\\\\Users\\\\sculd\\\\AppData\\\\Local\\\\Programs\\\\Python\\\\Python312\\\\Lib\\\\reprlib.py'>,\n",
       " '_collections': <module '_collections' (built-in)>,\n",
       " 'collections': <module 'collections' from 'C:\\\\Users\\\\sculd\\\\AppData\\\\Local\\\\Programs\\\\Python\\\\Python312\\\\Lib\\\\collections\\\\__init__.py'>,\n",
       " 'types': <module 'types' from 'C:\\\\Users\\\\sculd\\\\AppData\\\\Local\\\\Programs\\\\Python\\\\Python312\\\\Lib\\\\types.py'>,\n",
       " '_functools': <module '_functools' (built-in)>,\n",
       " 'functools': <module 'functools' from 'C:\\\\Users\\\\sculd\\\\AppData\\\\Local\\\\Programs\\\\Python\\\\Python312\\\\Lib\\\\functools.py'>,\n",
       " '_weakrefset': <module '_weakrefset' from 'C:\\\\Users\\\\sculd\\\\AppData\\\\Local\\\\Programs\\\\Python\\\\Python312\\\\Lib\\\\_weakrefset.py'>,\n",
       " 'threading': <module 'threading' from 'C:\\\\Users\\\\sculd\\\\AppData\\\\Local\\\\Programs\\\\Python\\\\Python312\\\\Lib\\\\threading.py'>,\n",
       " 'importlib.util': <module 'importlib.util' (frozen)>,\n",
       " 'runpy': <module 'runpy' (frozen)>,\n",
       " 'posixpath': <module 'posixpath' (frozen)>,\n",
       " 'enum': <module 'enum' from 'C:\\\\Users\\\\sculd\\\\AppData\\\\Local\\\\Programs\\\\Python\\\\Python312\\\\Lib\\\\enum.py'>,\n",
       " '_sre': <module '_sre' (built-in)>,\n",
       " 're._constants': <module 're._constants' from 'C:\\\\Users\\\\sculd\\\\AppData\\\\Local\\\\Programs\\\\Python\\\\Python312\\\\Lib\\\\re\\\\_constants.py'>,\n",
       " 're._parser': <module 're._parser' from 'C:\\\\Users\\\\sculd\\\\AppData\\\\Local\\\\Programs\\\\Python\\\\Python312\\\\Lib\\\\re\\\\_parser.py'>,\n",
       " 're._casefix': <module 're._casefix' from 'C:\\\\Users\\\\sculd\\\\AppData\\\\Local\\\\Programs\\\\Python\\\\Python312\\\\Lib\\\\re\\\\_casefix.py'>,\n",
       " 're._compiler': <module 're._compiler' from 'C:\\\\Users\\\\sculd\\\\AppData\\\\Local\\\\Programs\\\\Python\\\\Python312\\\\Lib\\\\re\\\\_compiler.py'>,\n",
       " 'copyreg': <module 'copyreg' from 'C:\\\\Users\\\\sculd\\\\AppData\\\\Local\\\\Programs\\\\Python\\\\Python312\\\\Lib\\\\copyreg.py'>,\n",
       " 're': <module 're' from 'C:\\\\Users\\\\sculd\\\\AppData\\\\Local\\\\Programs\\\\Python\\\\Python312\\\\Lib\\\\re\\\\__init__.py'>,\n",
       " 'fnmatch': <module 'fnmatch' from 'C:\\\\Users\\\\sculd\\\\AppData\\\\Local\\\\Programs\\\\Python\\\\Python312\\\\Lib\\\\fnmatch.py'>,\n",
       " 'errno': <module 'errno' (built-in)>,\n",
       " 'urllib': <module 'urllib' from 'C:\\\\Users\\\\sculd\\\\AppData\\\\Local\\\\Programs\\\\Python\\\\Python312\\\\Lib\\\\urllib\\\\__init__.py'>,\n",
       " 'math': <module 'math' (built-in)>,\n",
       " 'ipaddress': <module 'ipaddress' from 'C:\\\\Users\\\\sculd\\\\AppData\\\\Local\\\\Programs\\\\Python\\\\Python312\\\\Lib\\\\ipaddress.py'>,\n",
       " 'urllib.parse': <module 'urllib.parse' from 'C:\\\\Users\\\\sculd\\\\AppData\\\\Local\\\\Programs\\\\Python\\\\Python312\\\\Lib\\\\urllib\\\\parse.py'>,\n",
       " 'pathlib': <module 'pathlib' from 'C:\\\\Users\\\\sculd\\\\AppData\\\\Local\\\\Programs\\\\Python\\\\Python312\\\\Lib\\\\pathlib.py'>,\n",
       " 'collections.abc': <module 'collections.abc' from 'C:\\\\Users\\\\sculd\\\\AppData\\\\Local\\\\Programs\\\\Python\\\\Python312\\\\Lib\\\\collections\\\\abc.py'>,\n",
       " 'contextlib': <module 'contextlib' from 'C:\\\\Users\\\\sculd\\\\AppData\\\\Local\\\\Programs\\\\Python\\\\Python312\\\\Lib\\\\contextlib.py'>,\n",
       " '_typing': <module '_typing' (built-in)>,\n",
       " 'typing.io': typing.io,\n",
       " 'typing.re': typing.re,\n",
       " 'typing': <module 'typing' from 'C:\\\\Users\\\\sculd\\\\AppData\\\\Local\\\\Programs\\\\Python\\\\Python312\\\\Lib\\\\typing.py'>,\n",
       " 'ipykernel._version': <module 'ipykernel._version' from 'd:\\\\PalacioMemoriaCodigo\\\\Python\\\\envi\\\\Lib\\\\site-packages\\\\ipykernel\\\\_version.py'>,\n",
       " '__future__': <module '__future__' from 'C:\\\\Users\\\\sculd\\\\AppData\\\\Local\\\\Programs\\\\Python\\\\Python312\\\\Lib\\\\__future__.py'>,\n",
       " '_json': <module '_json' (built-in)>,\n",
       " 'json.scanner': <module 'json.scanner' from 'C:\\\\Users\\\\sculd\\\\AppData\\\\Local\\\\Programs\\\\Python\\\\Python312\\\\Lib\\\\json\\\\scanner.py'>,\n",
       " 'json.decoder': <module 'json.decoder' from 'C:\\\\Users\\\\sculd\\\\AppData\\\\Local\\\\Programs\\\\Python\\\\Python312\\\\Lib\\\\json\\\\decoder.py'>,\n",
       " 'json.encoder': <module 'json.encoder' from 'C:\\\\Users\\\\sculd\\\\AppData\\\\Local\\\\Programs\\\\Python\\\\Python312\\\\Lib\\\\json\\\\encoder.py'>,\n",
       " 'json': <module 'json' from 'C:\\\\Users\\\\sculd\\\\AppData\\\\Local\\\\Programs\\\\Python\\\\Python312\\\\Lib\\\\json\\\\__init__.py'>,\n",
       " '_locale': <module '_locale' (built-in)>,\n",
       " 'locale': <module 'locale' from 'C:\\\\Users\\\\sculd\\\\AppData\\\\Local\\\\Programs\\\\Python\\\\Python312\\\\Lib\\\\locale.py'>,\n",
       " 'signal': <module 'signal' from 'C:\\\\Users\\\\sculd\\\\AppData\\\\Local\\\\Programs\\\\Python\\\\Python312\\\\Lib\\\\signal.py'>,\n",
       " 'msvcrt': <module 'msvcrt' (built-in)>,\n",
       " 'subprocess': <module 'subprocess' from 'C:\\\\Users\\\\sculd\\\\AppData\\\\Local\\\\Programs\\\\Python\\\\Python312\\\\Lib\\\\subprocess.py'>,\n",
       " 'jupyter_client._version': <module 'jupyter_client._version' from 'd:\\\\PalacioMemoriaCodigo\\\\Python\\\\envi\\\\Lib\\\\site-packages\\\\jupyter_client\\\\_version.py'>,\n",
       " '_wmi': <module '_wmi' from 'C:\\\\Users\\\\sculd\\\\AppData\\\\Local\\\\Programs\\\\Python\\\\Python312\\\\DLLs\\\\_wmi.pyd'>,\n",
       " 'platform': <module 'platform' from 'C:\\\\Users\\\\sculd\\\\AppData\\\\Local\\\\Programs\\\\Python\\\\Python312\\\\Lib\\\\platform.py'>,\n",
       " 'zmq.backend.select': <module 'zmq.backend.select' from 'd:\\\\PalacioMemoriaCodigo\\\\Python\\\\envi\\\\Lib\\\\site-packages\\\\zmq\\\\backend\\\\select.py'>,\n",
       " 'cython_runtime': <module 'cython_runtime'>,\n",
       " '_cython_3_0_10': <module '_cython_3_0_10'>,\n",
       " 'weakref': <module 'weakref' from 'C:\\\\Users\\\\sculd\\\\AppData\\\\Local\\\\Programs\\\\Python\\\\Python312\\\\Lib\\\\weakref.py'>,\n",
       " 'zmq.constants': <module 'zmq.constants' from 'd:\\\\PalacioMemoriaCodigo\\\\Python\\\\envi\\\\Lib\\\\site-packages\\\\zmq\\\\constants.py'>,\n",
       " 'zmq.error': <module 'zmq.error' from 'd:\\\\PalacioMemoriaCodigo\\\\Python\\\\envi\\\\Lib\\\\site-packages\\\\zmq\\\\error.py'>,\n",
       " 'zmq.backend.cython._zmq': <module 'zmq.backend.cython._zmq' from 'd:\\\\PalacioMemoriaCodigo\\\\Python\\\\envi\\\\Lib\\\\site-packages\\\\zmq\\\\backend\\\\cython\\\\_zmq.cp312-win_amd64.pyd'>,\n",
       " 'zmq.backend.cython': <module 'zmq.backend.cython' from 'd:\\\\PalacioMemoriaCodigo\\\\Python\\\\envi\\\\Lib\\\\site-packages\\\\zmq\\\\backend\\\\cython\\\\__init__.py'>,\n",
       " 'zmq.backend': <module 'zmq.backend' from 'd:\\\\PalacioMemoriaCodigo\\\\Python\\\\envi\\\\Lib\\\\site-packages\\\\zmq\\\\backend\\\\__init__.py'>,\n",
       " 'atexit': <module 'atexit' (built-in)>,\n",
       " 'zmq._typing': <module 'zmq._typing' from 'd:\\\\PalacioMemoriaCodigo\\\\Python\\\\envi\\\\Lib\\\\site-packages\\\\zmq\\\\_typing.py'>,\n",
       " 'zmq.utils': <module 'zmq.utils' from 'd:\\\\PalacioMemoriaCodigo\\\\Python\\\\envi\\\\Lib\\\\site-packages\\\\zmq\\\\utils\\\\__init__.py'>,\n",
       " 'zmq.utils.interop': <module 'zmq.utils.interop' from 'd:\\\\PalacioMemoriaCodigo\\\\Python\\\\envi\\\\Lib\\\\site-packages\\\\zmq\\\\utils\\\\interop.py'>,\n",
       " 'zmq.sugar.attrsettr': <module 'zmq.sugar.attrsettr' from 'd:\\\\PalacioMemoriaCodigo\\\\Python\\\\envi\\\\Lib\\\\site-packages\\\\zmq\\\\sugar\\\\attrsettr.py'>,\n",
       " '_struct': <module '_struct' (built-in)>,\n",
       " 'struct': <module 'struct' from 'C:\\\\Users\\\\sculd\\\\AppData\\\\Local\\\\Programs\\\\Python\\\\Python312\\\\Lib\\\\struct.py'>,\n",
       " '_compat_pickle': <module '_compat_pickle' from 'C:\\\\Users\\\\sculd\\\\AppData\\\\Local\\\\Programs\\\\Python\\\\Python312\\\\Lib\\\\_compat_pickle.py'>,\n",
       " '_pickle': <module '_pickle' (built-in)>,\n",
       " 'pickle': <module 'pickle' from 'C:\\\\Users\\\\sculd\\\\AppData\\\\Local\\\\Programs\\\\Python\\\\Python312\\\\Lib\\\\pickle.py'>,\n",
       " '_bisect': <module '_bisect' (built-in)>,\n",
       " 'bisect': <module 'bisect' from 'C:\\\\Users\\\\sculd\\\\AppData\\\\Local\\\\Programs\\\\Python\\\\Python312\\\\Lib\\\\bisect.py'>,\n",
       " '_random': <module '_random' (built-in)>,\n",
       " '_sha2': <module '_sha2' (built-in)>,\n",
       " 'random': <module 'random' from 'C:\\\\Users\\\\sculd\\\\AppData\\\\Local\\\\Programs\\\\Python\\\\Python312\\\\Lib\\\\random.py'>,\n",
       " 'zmq.utils.jsonapi': <module 'zmq.utils.jsonapi' from 'd:\\\\PalacioMemoriaCodigo\\\\Python\\\\envi\\\\Lib\\\\site-packages\\\\zmq\\\\utils\\\\jsonapi.py'>,\n",
       " 'zmq.sugar.poll': <module 'zmq.sugar.poll' from 'd:\\\\PalacioMemoriaCodigo\\\\Python\\\\envi\\\\Lib\\\\site-packages\\\\zmq\\\\sugar\\\\poll.py'>,\n",
       " 'zmq.sugar.socket': <module 'zmq.sugar.socket' from 'd:\\\\PalacioMemoriaCodigo\\\\Python\\\\envi\\\\Lib\\\\site-packages\\\\zmq\\\\sugar\\\\socket.py'>,\n",
       " 'zmq.sugar.context': <module 'zmq.sugar.context' from 'd:\\\\PalacioMemoriaCodigo\\\\Python\\\\envi\\\\Lib\\\\site-packages\\\\zmq\\\\sugar\\\\context.py'>,\n",
       " 'zmq.sugar.frame': <module 'zmq.sugar.frame' from 'd:\\\\PalacioMemoriaCodigo\\\\Python\\\\envi\\\\Lib\\\\site-packages\\\\zmq\\\\sugar\\\\frame.py'>,\n",
       " 'zmq.sugar.tracker': <module 'zmq.sugar.tracker' from 'd:\\\\PalacioMemoriaCodigo\\\\Python\\\\envi\\\\Lib\\\\site-packages\\\\zmq\\\\sugar\\\\tracker.py'>,\n",
       " 'zmq.sugar.version': <module 'zmq.sugar.version' from 'd:\\\\PalacioMemoriaCodigo\\\\Python\\\\envi\\\\Lib\\\\site-packages\\\\zmq\\\\sugar\\\\version.py'>,\n",
       " 'zmq.sugar.stopwatch': <module 'zmq.sugar.stopwatch' from 'd:\\\\PalacioMemoriaCodigo\\\\Python\\\\envi\\\\Lib\\\\site-packages\\\\zmq\\\\sugar\\\\stopwatch.py'>,\n",
       " 'zmq.sugar': <module 'zmq.sugar' from 'd:\\\\PalacioMemoriaCodigo\\\\Python\\\\envi\\\\Lib\\\\site-packages\\\\zmq\\\\sugar\\\\__init__.py'>,\n",
       " 'zmq': <module 'zmq' from 'd:\\\\PalacioMemoriaCodigo\\\\Python\\\\envi\\\\Lib\\\\site-packages\\\\zmq\\\\__init__.py'>,\n",
       " 'concurrent': <module 'concurrent' from 'C:\\\\Users\\\\sculd\\\\AppData\\\\Local\\\\Programs\\\\Python\\\\Python312\\\\Lib\\\\concurrent\\\\__init__.py'>,\n",
       " 'token': <module 'token' from 'C:\\\\Users\\\\sculd\\\\AppData\\\\Local\\\\Programs\\\\Python\\\\Python312\\\\Lib\\\\token.py'>,\n",
       " '_tokenize': <module '_tokenize' (built-in)>,\n",
       " 'tokenize': <module 'tokenize' from 'C:\\\\Users\\\\sculd\\\\AppData\\\\Local\\\\Programs\\\\Python\\\\Python312\\\\Lib\\\\tokenize.py'>,\n",
       " 'linecache': <module 'linecache' from 'C:\\\\Users\\\\sculd\\\\AppData\\\\Local\\\\Programs\\\\Python\\\\Python312\\\\Lib\\\\linecache.py'>,\n",
       " 'textwrap': <module 'textwrap' from 'C:\\\\Users\\\\sculd\\\\AppData\\\\Local\\\\Programs\\\\Python\\\\Python312\\\\Lib\\\\textwrap.py'>,\n",
       " 'traceback': <module 'traceback' from 'C:\\\\Users\\\\sculd\\\\AppData\\\\Local\\\\Programs\\\\Python\\\\Python312\\\\Lib\\\\traceback.py'>,\n",
       " '_string': <module '_string' (built-in)>,\n",
       " 'string': <module 'string' from 'C:\\\\Users\\\\sculd\\\\AppData\\\\Local\\\\Programs\\\\Python\\\\Python312\\\\Lib\\\\string.py'>,\n",
       " 'logging': <module 'logging' from 'C:\\\\Users\\\\sculd\\\\AppData\\\\Local\\\\Programs\\\\Python\\\\Python312\\\\Lib\\\\logging\\\\__init__.py'>,\n",
       " 'concurrent.futures._base': <module 'concurrent.futures._base' from 'C:\\\\Users\\\\sculd\\\\AppData\\\\Local\\\\Programs\\\\Python\\\\Python312\\\\Lib\\\\concurrent\\\\futures\\\\_base.py'>,\n",
       " 'concurrent.futures': <module 'concurrent.futures' from 'C:\\\\Users\\\\sculd\\\\AppData\\\\Local\\\\Programs\\\\Python\\\\Python312\\\\Lib\\\\concurrent\\\\futures\\\\__init__.py'>,\n",
       " '_heapq': <module '_heapq' (built-in)>,\n",
       " 'heapq': <module 'heapq' from 'C:\\\\Users\\\\sculd\\\\AppData\\\\Local\\\\Programs\\\\Python\\\\Python312\\\\Lib\\\\heapq.py'>,\n",
       " '_socket': <module '_socket' from 'C:\\\\Users\\\\sculd\\\\AppData\\\\Local\\\\Programs\\\\Python\\\\Python312\\\\DLLs\\\\_socket.pyd'>,\n",
       " 'select': <module 'select' from 'C:\\\\Users\\\\sculd\\\\AppData\\\\Local\\\\Programs\\\\Python\\\\Python312\\\\DLLs\\\\select.pyd'>,\n",
       " 'selectors': <module 'selectors' from 'C:\\\\Users\\\\sculd\\\\AppData\\\\Local\\\\Programs\\\\Python\\\\Python312\\\\Lib\\\\selectors.py'>,\n",
       " 'socket': <module 'socket' from 'C:\\\\Users\\\\sculd\\\\AppData\\\\Local\\\\Programs\\\\Python\\\\Python312\\\\Lib\\\\socket.py'>,\n",
       " '_ssl': <module '_ssl' from 'C:\\\\Users\\\\sculd\\\\AppData\\\\Local\\\\Programs\\\\Python\\\\Python312\\\\DLLs\\\\_ssl.pyd'>,\n",
       " 'binascii': <module 'binascii' (built-in)>,\n",
       " 'base64': <module 'base64' from 'C:\\\\Users\\\\sculd\\\\AppData\\\\Local\\\\Programs\\\\Python\\\\Python312\\\\Lib\\\\base64.py'>,\n",
       " 'ssl': <module 'ssl' from 'C:\\\\Users\\\\sculd\\\\AppData\\\\Local\\\\Programs\\\\Python\\\\Python312\\\\Lib\\\\ssl.py'>,\n",
       " 'asyncio.constants': <module 'asyncio.constants' from 'C:\\\\Users\\\\sculd\\\\AppData\\\\Local\\\\Programs\\\\Python\\\\Python312\\\\Lib\\\\asyncio\\\\constants.py'>,\n",
       " '_ast': <module '_ast' (built-in)>,\n",
       " 'ast': <module 'ast' from 'C:\\\\Users\\\\sculd\\\\AppData\\\\Local\\\\Programs\\\\Python\\\\Python312\\\\Lib\\\\ast.py'>,\n",
       " '_opcode': <module '_opcode' (built-in)>,\n",
       " 'opcode': <module 'opcode' from 'C:\\\\Users\\\\sculd\\\\AppData\\\\Local\\\\Programs\\\\Python\\\\Python312\\\\Lib\\\\opcode.py'>,\n",
       " 'dis': <module 'dis' from 'C:\\\\Users\\\\sculd\\\\AppData\\\\Local\\\\Programs\\\\Python\\\\Python312\\\\Lib\\\\dis.py'>,\n",
       " 'inspect': <module 'inspect' from 'C:\\\\Users\\\\sculd\\\\AppData\\\\Local\\\\Programs\\\\Python\\\\Python312\\\\Lib\\\\inspect.py'>,\n",
       " 'asyncio.coroutines': <module 'asyncio.coroutines' from 'C:\\\\Users\\\\sculd\\\\AppData\\\\Local\\\\Programs\\\\Python\\\\Python312\\\\Lib\\\\asyncio\\\\coroutines.py'>,\n",
       " '_contextvars': <module '_contextvars' (built-in)>,\n",
       " 'contextvars': <module 'contextvars' from 'C:\\\\Users\\\\sculd\\\\AppData\\\\Local\\\\Programs\\\\Python\\\\Python312\\\\Lib\\\\contextvars.py'>,\n",
       " 'asyncio.format_helpers': <module 'asyncio.format_helpers' from 'C:\\\\Users\\\\sculd\\\\AppData\\\\Local\\\\Programs\\\\Python\\\\Python312\\\\Lib\\\\asyncio\\\\format_helpers.py'>,\n",
       " 'asyncio.base_futures': <module 'asyncio.base_futures' from 'C:\\\\Users\\\\sculd\\\\AppData\\\\Local\\\\Programs\\\\Python\\\\Python312\\\\Lib\\\\asyncio\\\\base_futures.py'>,\n",
       " 'asyncio.exceptions': <module 'asyncio.exceptions' from 'C:\\\\Users\\\\sculd\\\\AppData\\\\Local\\\\Programs\\\\Python\\\\Python312\\\\Lib\\\\asyncio\\\\exceptions.py'>,\n",
       " 'asyncio.base_tasks': <module 'asyncio.base_tasks' from 'C:\\\\Users\\\\sculd\\\\AppData\\\\Local\\\\Programs\\\\Python\\\\Python312\\\\Lib\\\\asyncio\\\\base_tasks.py'>,\n",
       " '_asyncio': <module '_asyncio' from 'C:\\\\Users\\\\sculd\\\\AppData\\\\Local\\\\Programs\\\\Python\\\\Python312\\\\DLLs\\\\_asyncio.pyd'>,\n",
       " 'asyncio.events': <module 'asyncio.events' from 'C:\\\\Users\\\\sculd\\\\AppData\\\\Local\\\\Programs\\\\Python\\\\Python312\\\\Lib\\\\asyncio\\\\events.py'>,\n",
       " 'asyncio.futures': <module 'asyncio.futures' from 'C:\\\\Users\\\\sculd\\\\AppData\\\\Local\\\\Programs\\\\Python\\\\Python312\\\\Lib\\\\asyncio\\\\futures.py'>,\n",
       " 'asyncio.protocols': <module 'asyncio.protocols' from 'C:\\\\Users\\\\sculd\\\\AppData\\\\Local\\\\Programs\\\\Python\\\\Python312\\\\Lib\\\\asyncio\\\\protocols.py'>,\n",
       " 'asyncio.transports': <module 'asyncio.transports' from 'C:\\\\Users\\\\sculd\\\\AppData\\\\Local\\\\Programs\\\\Python\\\\Python312\\\\Lib\\\\asyncio\\\\transports.py'>,\n",
       " 'asyncio.log': <module 'asyncio.log' from 'C:\\\\Users\\\\sculd\\\\AppData\\\\Local\\\\Programs\\\\Python\\\\Python312\\\\Lib\\\\asyncio\\\\log.py'>,\n",
       " 'asyncio.sslproto': <module 'asyncio.sslproto' from 'C:\\\\Users\\\\sculd\\\\AppData\\\\Local\\\\Programs\\\\Python\\\\Python312\\\\Lib\\\\asyncio\\\\sslproto.py'>,\n",
       " 'asyncio.mixins': <module 'asyncio.mixins' from 'C:\\\\Users\\\\sculd\\\\AppData\\\\Local\\\\Programs\\\\Python\\\\Python312\\\\Lib\\\\asyncio\\\\mixins.py'>,\n",
       " 'asyncio.locks': <module 'asyncio.locks' from 'C:\\\\Users\\\\sculd\\\\AppData\\\\Local\\\\Programs\\\\Python\\\\Python312\\\\Lib\\\\asyncio\\\\locks.py'>,\n",
       " 'asyncio.timeouts': <module 'asyncio.timeouts' from 'C:\\\\Users\\\\sculd\\\\AppData\\\\Local\\\\Programs\\\\Python\\\\Python312\\\\Lib\\\\asyncio\\\\timeouts.py'>,\n",
       " 'asyncio.tasks': <module 'asyncio.tasks' from 'C:\\\\Users\\\\sculd\\\\AppData\\\\Local\\\\Programs\\\\Python\\\\Python312\\\\Lib\\\\asyncio\\\\tasks.py'>,\n",
       " 'asyncio.staggered': <module 'asyncio.staggered' from 'C:\\\\Users\\\\sculd\\\\AppData\\\\Local\\\\Programs\\\\Python\\\\Python312\\\\Lib\\\\asyncio\\\\staggered.py'>,\n",
       " 'asyncio.trsock': <module 'asyncio.trsock' from 'C:\\\\Users\\\\sculd\\\\AppData\\\\Local\\\\Programs\\\\Python\\\\Python312\\\\Lib\\\\asyncio\\\\trsock.py'>,\n",
       " 'asyncio.base_events': <module 'asyncio.base_events' from 'C:\\\\Users\\\\sculd\\\\AppData\\\\Local\\\\Programs\\\\Python\\\\Python312\\\\Lib\\\\asyncio\\\\base_events.py'>,\n",
       " 'asyncio.runners': <module 'asyncio.runners' from 'C:\\\\Users\\\\sculd\\\\AppData\\\\Local\\\\Programs\\\\Python\\\\Python312\\\\Lib\\\\asyncio\\\\runners.py'>,\n",
       " 'asyncio.queues': <module 'asyncio.queues' from 'C:\\\\Users\\\\sculd\\\\AppData\\\\Local\\\\Programs\\\\Python\\\\Python312\\\\Lib\\\\asyncio\\\\queues.py'>,\n",
       " 'asyncio.streams': <module 'asyncio.streams' from 'C:\\\\Users\\\\sculd\\\\AppData\\\\Local\\\\Programs\\\\Python\\\\Python312\\\\Lib\\\\asyncio\\\\streams.py'>,\n",
       " 'asyncio.subprocess': <module 'asyncio.subprocess' from 'C:\\\\Users\\\\sculd\\\\AppData\\\\Local\\\\Programs\\\\Python\\\\Python312\\\\Lib\\\\asyncio\\\\subprocess.py'>,\n",
       " 'asyncio.taskgroups': <module 'asyncio.taskgroups' from 'C:\\\\Users\\\\sculd\\\\AppData\\\\Local\\\\Programs\\\\Python\\\\Python312\\\\Lib\\\\asyncio\\\\taskgroups.py'>,\n",
       " 'asyncio.threads': <module 'asyncio.threads' from 'C:\\\\Users\\\\sculd\\\\AppData\\\\Local\\\\Programs\\\\Python\\\\Python312\\\\Lib\\\\asyncio\\\\threads.py'>,\n",
       " '_overlapped': <module '_overlapped' from 'C:\\\\Users\\\\sculd\\\\AppData\\\\Local\\\\Programs\\\\Python\\\\Python312\\\\DLLs\\\\_overlapped.pyd'>,\n",
       " 'asyncio.base_subprocess': <module 'asyncio.base_subprocess' from 'C:\\\\Users\\\\sculd\\\\AppData\\\\Local\\\\Programs\\\\Python\\\\Python312\\\\Lib\\\\asyncio\\\\base_subprocess.py'>,\n",
       " 'asyncio.proactor_events': <module 'asyncio.proactor_events' from 'C:\\\\Users\\\\sculd\\\\AppData\\\\Local\\\\Programs\\\\Python\\\\Python312\\\\Lib\\\\asyncio\\\\proactor_events.py'>,\n",
       " 'asyncio.selector_events': <module 'asyncio.selector_events' from 'C:\\\\Users\\\\sculd\\\\AppData\\\\Local\\\\Programs\\\\Python\\\\Python312\\\\Lib\\\\asyncio\\\\selector_events.py'>,\n",
       " 'zlib': <module 'zlib' (built-in)>,\n",
       " '_compression': <module '_compression' from 'C:\\\\Users\\\\sculd\\\\AppData\\\\Local\\\\Programs\\\\Python\\\\Python312\\\\Lib\\\\_compression.py'>,\n",
       " '_bz2': <module '_bz2' from 'C:\\\\Users\\\\sculd\\\\AppData\\\\Local\\\\Programs\\\\Python\\\\Python312\\\\DLLs\\\\_bz2.pyd'>,\n",
       " 'bz2': <module 'bz2' from 'C:\\\\Users\\\\sculd\\\\AppData\\\\Local\\\\Programs\\\\Python\\\\Python312\\\\Lib\\\\bz2.py'>,\n",
       " '_lzma': <module '_lzma' from 'C:\\\\Users\\\\sculd\\\\AppData\\\\Local\\\\Programs\\\\Python\\\\Python312\\\\DLLs\\\\_lzma.pyd'>,\n",
       " 'lzma': <module 'lzma' from 'C:\\\\Users\\\\sculd\\\\AppData\\\\Local\\\\Programs\\\\Python\\\\Python312\\\\Lib\\\\lzma.py'>,\n",
       " 'shutil': <module 'shutil' from 'C:\\\\Users\\\\sculd\\\\AppData\\\\Local\\\\Programs\\\\Python\\\\Python312\\\\Lib\\\\shutil.py'>,\n",
       " 'tempfile': <module 'tempfile' from 'C:\\\\Users\\\\sculd\\\\AppData\\\\Local\\\\Programs\\\\Python\\\\Python312\\\\Lib\\\\tempfile.py'>,\n",
       " 'asyncio.windows_utils': <module 'asyncio.windows_utils' from 'C:\\\\Users\\\\sculd\\\\AppData\\\\Local\\\\Programs\\\\Python\\\\Python312\\\\Lib\\\\asyncio\\\\windows_utils.py'>,\n",
       " 'asyncio.windows_events': <module 'asyncio.windows_events' from 'C:\\\\Users\\\\sculd\\\\AppData\\\\Local\\\\Programs\\\\Python\\\\Python312\\\\Lib\\\\asyncio\\\\windows_events.py'>,\n",
       " 'asyncio': <module 'asyncio' from 'C:\\\\Users\\\\sculd\\\\AppData\\\\Local\\\\Programs\\\\Python\\\\Python312\\\\Lib\\\\asyncio\\\\__init__.py'>,\n",
       " 'zmq._future': <module 'zmq._future' from 'd:\\\\PalacioMemoriaCodigo\\\\Python\\\\envi\\\\Lib\\\\site-packages\\\\zmq\\\\_future.py'>,\n",
       " 'zmq.asyncio': <module 'zmq.asyncio' from 'd:\\\\PalacioMemoriaCodigo\\\\Python\\\\envi\\\\Lib\\\\site-packages\\\\zmq\\\\asyncio.py'>,\n",
       " 'traitlets.utils': <module 'traitlets.utils' from 'd:\\\\PalacioMemoriaCodigo\\\\Python\\\\envi\\\\Lib\\\\site-packages\\\\traitlets\\\\utils\\\\__init__.py'>,\n",
       " 'traitlets.utils.bunch': <module 'traitlets.utils.bunch' from 'd:\\\\PalacioMemoriaCodigo\\\\Python\\\\envi\\\\Lib\\\\site-packages\\\\traitlets\\\\utils\\\\bunch.py'>,\n",
       " 'traitlets.utils.descriptions': <module 'traitlets.utils.descriptions' from 'd:\\\\PalacioMemoriaCodigo\\\\Python\\\\envi\\\\Lib\\\\site-packages\\\\traitlets\\\\utils\\\\descriptions.py'>,\n",
       " 'traitlets.utils.getargspec': <module 'traitlets.utils.getargspec' from 'd:\\\\PalacioMemoriaCodigo\\\\Python\\\\envi\\\\Lib\\\\site-packages\\\\traitlets\\\\utils\\\\getargspec.py'>,\n",
       " 'traitlets.utils.importstring': <module 'traitlets.utils.importstring' from 'd:\\\\PalacioMemoriaCodigo\\\\Python\\\\envi\\\\Lib\\\\site-packages\\\\traitlets\\\\utils\\\\importstring.py'>,\n",
       " 'traitlets.utils.sentinel': <module 'traitlets.utils.sentinel' from 'd:\\\\PalacioMemoriaCodigo\\\\Python\\\\envi\\\\Lib\\\\site-packages\\\\traitlets\\\\utils\\\\sentinel.py'>,\n",
       " 'traitlets.utils.warnings': <module 'traitlets.utils.warnings' from 'd:\\\\PalacioMemoriaCodigo\\\\Python\\\\envi\\\\Lib\\\\site-packages\\\\traitlets\\\\utils\\\\warnings.py'>,\n",
       " 'traitlets.traitlets': <module 'traitlets.traitlets' from 'd:\\\\PalacioMemoriaCodigo\\\\Python\\\\envi\\\\Lib\\\\site-packages\\\\traitlets\\\\traitlets.py'>,\n",
       " 'traitlets._version': <module 'traitlets._version' from 'd:\\\\PalacioMemoriaCodigo\\\\Python\\\\envi\\\\Lib\\\\site-packages\\\\traitlets\\\\_version.py'>,\n",
       " 'copy': <module 'copy' from 'C:\\\\Users\\\\sculd\\\\AppData\\\\Local\\\\Programs\\\\Python\\\\Python312\\\\Lib\\\\copy.py'>,\n",
       " 'traitlets.utils.decorators': <module 'traitlets.utils.decorators' from 'd:\\\\PalacioMemoriaCodigo\\\\Python\\\\envi\\\\Lib\\\\site-packages\\\\traitlets\\\\utils\\\\decorators.py'>,\n",
       " 'traitlets': <module 'traitlets' from 'd:\\\\PalacioMemoriaCodigo\\\\Python\\\\envi\\\\Lib\\\\site-packages\\\\traitlets\\\\__init__.py'>,\n",
       " '_queue': <module '_queue' from 'C:\\\\Users\\\\sculd\\\\AppData\\\\Local\\\\Programs\\\\Python\\\\Python312\\\\DLLs\\\\_queue.pyd'>,\n",
       " 'queue': <module 'queue' from 'C:\\\\Users\\\\sculd\\\\AppData\\\\Local\\\\Programs\\\\Python\\\\Python312\\\\Lib\\\\queue.py'>,\n",
       " 'jupyter_core.version': <module 'jupyter_core.version' from 'd:\\\\PalacioMemoriaCodigo\\\\Python\\\\envi\\\\Lib\\\\site-packages\\\\jupyter_core\\\\version.py'>,\n",
       " 'jupyter_core': <module 'jupyter_core' from 'd:\\\\PalacioMemoriaCodigo\\\\Python\\\\envi\\\\Lib\\\\site-packages\\\\jupyter_core\\\\__init__.py'>,\n",
       " 'jupyter_core.utils': <module 'jupyter_core.utils' from 'd:\\\\PalacioMemoriaCodigo\\\\Python\\\\envi\\\\Lib\\\\site-packages\\\\jupyter_core\\\\utils\\\\__init__.py'>,\n",
       " 'jupyter_client.channelsabc': <module 'jupyter_client.channelsabc' from 'd:\\\\PalacioMemoriaCodigo\\\\Python\\\\envi\\\\Lib\\\\site-packages\\\\jupyter_client\\\\channelsabc.py'>,\n",
       " '_hashlib': <module '_hashlib' from 'C:\\\\Users\\\\sculd\\\\AppData\\\\Local\\\\Programs\\\\Python\\\\Python312\\\\DLLs\\\\_hashlib.pyd'>,\n",
       " '_blake2': <module '_blake2' (built-in)>,\n",
       " 'hashlib': <module 'hashlib' from 'C:\\\\Users\\\\sculd\\\\AppData\\\\Local\\\\Programs\\\\Python\\\\Python312\\\\Lib\\\\hashlib.py'>,\n",
       " 'hmac': <module 'hmac' from 'C:\\\\Users\\\\sculd\\\\AppData\\\\Local\\\\Programs\\\\Python\\\\Python312\\\\Lib\\\\hmac.py'>,\n",
       " 'dataclasses': <module 'dataclasses' from 'C:\\\\Users\\\\sculd\\\\AppData\\\\Local\\\\Programs\\\\Python\\\\Python312\\\\Lib\\\\dataclasses.py'>,\n",
       " 'pprint': <module 'pprint' from 'C:\\\\Users\\\\sculd\\\\AppData\\\\Local\\\\Programs\\\\Python\\\\Python312\\\\Lib\\\\pprint.py'>,\n",
       " '_datetime': <module '_datetime' (built-in)>,\n",
       " 'datetime': <module 'datetime' from 'C:\\\\Users\\\\sculd\\\\AppData\\\\Local\\\\Programs\\\\Python\\\\Python312\\\\Lib\\\\datetime.py'>,\n",
       " 'tornado': <module 'tornado' from 'd:\\\\PalacioMemoriaCodigo\\\\Python\\\\envi\\\\Lib\\\\site-packages\\\\tornado\\\\__init__.py'>,\n",
       " 'numbers': <module 'numbers' from 'C:\\\\Users\\\\sculd\\\\AppData\\\\Local\\\\Programs\\\\Python\\\\Python312\\\\Lib\\\\numbers.py'>,\n",
       " 'logging.handlers': <module 'logging.handlers' from 'C:\\\\Users\\\\sculd\\\\AppData\\\\Local\\\\Programs\\\\Python\\\\Python312\\\\Lib\\\\logging\\\\handlers.py'>,\n",
       " 'html.entities': <module 'html.entities' from 'C:\\\\Users\\\\sculd\\\\AppData\\\\Local\\\\Programs\\\\Python\\\\Python312\\\\Lib\\\\html\\\\entities.py'>,\n",
       " 'html': <module 'html' from 'C:\\\\Users\\\\sculd\\\\AppData\\\\Local\\\\Programs\\\\Python\\\\Python312\\\\Lib\\\\html\\\\__init__.py'>,\n",
       " 'array': <module 'array' (built-in)>,\n",
       " 'tornado.speedups': <module 'tornado.speedups' from 'd:\\\\PalacioMemoriaCodigo\\\\Python\\\\envi\\\\Lib\\\\site-packages\\\\tornado\\\\speedups.pyd'>,\n",
       " 'tornado.util': <module 'tornado.util' from 'd:\\\\PalacioMemoriaCodigo\\\\Python\\\\envi\\\\Lib\\\\site-packages\\\\tornado\\\\util.py'>,\n",
       " 'tornado.escape': <module 'tornado.escape' from 'd:\\\\PalacioMemoriaCodigo\\\\Python\\\\envi\\\\Lib\\\\site-packages\\\\tornado\\\\escape.py'>,\n",
       " 'colorama.ansi': <module 'colorama.ansi' from 'd:\\\\PalacioMemoriaCodigo\\\\Python\\\\envi\\\\Lib\\\\site-packages\\\\colorama\\\\ansi.py'>,\n",
       " '_ctypes': <module '_ctypes' from 'C:\\\\Users\\\\sculd\\\\AppData\\\\Local\\\\Programs\\\\Python\\\\Python312\\\\DLLs\\\\_ctypes.pyd'>,\n",
       " 'ctypes._endian': <module 'ctypes._endian' from 'C:\\\\Users\\\\sculd\\\\AppData\\\\Local\\\\Programs\\\\Python\\\\Python312\\\\Lib\\\\ctypes\\\\_endian.py'>,\n",
       " 'ctypes': <module 'ctypes' from 'C:\\\\Users\\\\sculd\\\\AppData\\\\Local\\\\Programs\\\\Python\\\\Python312\\\\Lib\\\\ctypes\\\\__init__.py'>,\n",
       " 'ctypes.wintypes': <module 'ctypes.wintypes' from 'C:\\\\Users\\\\sculd\\\\AppData\\\\Local\\\\Programs\\\\Python\\\\Python312\\\\Lib\\\\ctypes\\\\wintypes.py'>,\n",
       " 'colorama.win32': <module 'colorama.win32' from 'd:\\\\PalacioMemoriaCodigo\\\\Python\\\\envi\\\\Lib\\\\site-packages\\\\colorama\\\\win32.py'>,\n",
       " 'colorama.winterm': <module 'colorama.winterm' from 'd:\\\\PalacioMemoriaCodigo\\\\Python\\\\envi\\\\Lib\\\\site-packages\\\\colorama\\\\winterm.py'>,\n",
       " 'colorama.ansitowin32': <module 'colorama.ansitowin32' from 'd:\\\\PalacioMemoriaCodigo\\\\Python\\\\envi\\\\Lib\\\\site-packages\\\\colorama\\\\ansitowin32.py'>,\n",
       " 'colorama.initialise': <module 'colorama.initialise' from 'd:\\\\PalacioMemoriaCodigo\\\\Python\\\\envi\\\\Lib\\\\site-packages\\\\colorama\\\\initialise.py'>,\n",
       " 'colorama': <module 'colorama' from 'd:\\\\PalacioMemoriaCodigo\\\\Python\\\\envi\\\\Lib\\\\site-packages\\\\colorama\\\\__init__.py'>,\n",
       " 'tornado.log': <module 'tornado.log' from 'd:\\\\PalacioMemoriaCodigo\\\\Python\\\\envi\\\\Lib\\\\site-packages\\\\tornado\\\\log.py'>,\n",
       " 'tornado.concurrent': <module 'tornado.concurrent' from 'd:\\\\PalacioMemoriaCodigo\\\\Python\\\\envi\\\\Lib\\\\site-packages\\\\tornado\\\\concurrent.py'>,\n",
       " 'tornado.ioloop': <module 'tornado.ioloop' from 'd:\\\\PalacioMemoriaCodigo\\\\Python\\\\envi\\\\Lib\\\\site-packages\\\\tornado\\\\ioloop.py'>,\n",
       " 'socketserver': <module 'socketserver' from 'C:\\\\Users\\\\sculd\\\\AppData\\\\Local\\\\Programs\\\\Python\\\\Python312\\\\Lib\\\\socketserver.py'>,\n",
       " 'logging.config': <module 'logging.config' from 'C:\\\\Users\\\\sculd\\\\AppData\\\\Local\\\\Programs\\\\Python\\\\Python312\\\\Lib\\\\logging\\\\config.py'>,\n",
       " 'traitlets.utils.text': <module 'traitlets.utils.text' from 'd:\\\\PalacioMemoriaCodigo\\\\Python\\\\envi\\\\Lib\\\\site-packages\\\\traitlets\\\\utils\\\\text.py'>,\n",
       " 'gettext': <module 'gettext' from 'C:\\\\Users\\\\sculd\\\\AppData\\\\Local\\\\Programs\\\\Python\\\\Python312\\\\Lib\\\\gettext.py'>,\n",
       " 'argparse': <module 'argparse' from 'C:\\\\Users\\\\sculd\\\\AppData\\\\Local\\\\Programs\\\\Python\\\\Python312\\\\Lib\\\\argparse.py'>,\n",
       " 'traitlets.config.loader': <module 'traitlets.config.loader' from 'd:\\\\PalacioMemoriaCodigo\\\\Python\\\\envi\\\\Lib\\\\site-packages\\\\traitlets\\\\config\\\\loader.py'>,\n",
       " 'traitlets.config.configurable': <module 'traitlets.config.configurable' from 'd:\\\\PalacioMemoriaCodigo\\\\Python\\\\envi\\\\Lib\\\\site-packages\\\\traitlets\\\\config\\\\configurable.py'>,\n",
       " 'traitlets.utils.nested_update': <module 'traitlets.utils.nested_update' from 'd:\\\\PalacioMemoriaCodigo\\\\Python\\\\envi\\\\Lib\\\\site-packages\\\\traitlets\\\\utils\\\\nested_update.py'>,\n",
       " 'traitlets.config.application': <module 'traitlets.config.application' from 'd:\\\\PalacioMemoriaCodigo\\\\Python\\\\envi\\\\Lib\\\\site-packages\\\\traitlets\\\\config\\\\application.py'>,\n",
       " 'traitlets.config': <module 'traitlets.config' from 'd:\\\\PalacioMemoriaCodigo\\\\Python\\\\envi\\\\Lib\\\\site-packages\\\\traitlets\\\\config\\\\__init__.py'>,\n",
       " 'traitlets.log': <module 'traitlets.log' from 'd:\\\\PalacioMemoriaCodigo\\\\Python\\\\envi\\\\Lib\\\\site-packages\\\\traitlets\\\\log.py'>,\n",
       " 'zmq.eventloop': <module 'zmq.eventloop' from 'd:\\\\PalacioMemoriaCodigo\\\\Python\\\\envi\\\\Lib\\\\site-packages\\\\zmq\\\\eventloop\\\\__init__.py'>,\n",
       " 'zmq.eventloop.zmqstream': <module 'zmq.eventloop.zmqstream' from 'd:\\\\PalacioMemoriaCodigo\\\\Python\\\\envi\\\\Lib\\\\site-packages\\\\zmq\\\\eventloop\\\\zmqstream.py'>,\n",
       " 'jupyter_client.adapter': <module 'jupyter_client.adapter' from 'd:\\\\PalacioMemoriaCodigo\\\\Python\\\\envi\\\\Lib\\\\site-packages\\\\jupyter_client\\\\adapter.py'>,\n",
       " 'dateutil._version': <module 'dateutil._version' from 'd:\\\\PalacioMemoriaCodigo\\\\Python\\\\envi\\\\Lib\\\\site-packages\\\\dateutil\\\\_version.py'>,\n",
       " 'dateutil': <module 'dateutil' from 'd:\\\\PalacioMemoriaCodigo\\\\Python\\\\envi\\\\Lib\\\\site-packages\\\\dateutil\\\\__init__.py'>,\n",
       " 'calendar': <module 'calendar' from 'C:\\\\Users\\\\sculd\\\\AppData\\\\Local\\\\Programs\\\\Python\\\\Python312\\\\Lib\\\\calendar.py'>,\n",
       " 'six': <module 'six' from 'd:\\\\PalacioMemoriaCodigo\\\\Python\\\\envi\\\\Lib\\\\site-packages\\\\six.py'>,\n",
       " '_decimal': <module '_decimal' from 'C:\\\\Users\\\\sculd\\\\AppData\\\\Local\\\\Programs\\\\Python\\\\Python312\\\\DLLs\\\\_decimal.pyd'>,\n",
       " 'decimal': <module 'decimal' from 'C:\\\\Users\\\\sculd\\\\AppData\\\\Local\\\\Programs\\\\Python\\\\Python312\\\\Lib\\\\decimal.py'>,\n",
       " 'dateutil._common': <module 'dateutil._common' from 'd:\\\\PalacioMemoriaCodigo\\\\Python\\\\envi\\\\Lib\\\\site-packages\\\\dateutil\\\\_common.py'>,\n",
       " 'dateutil.relativedelta': <module 'dateutil.relativedelta' from 'd:\\\\PalacioMemoriaCodigo\\\\Python\\\\envi\\\\Lib\\\\site-packages\\\\dateutil\\\\relativedelta.py'>,\n",
       " 'six.moves': <module 'six.moves' (<six._SixMetaPathImporter object at 0x0000026757EE11F0>)>,\n",
       " 'dateutil.tz._common': <module 'dateutil.tz._common' from 'd:\\\\PalacioMemoriaCodigo\\\\Python\\\\envi\\\\Lib\\\\site-packages\\\\dateutil\\\\tz\\\\_common.py'>,\n",
       " 'dateutil.tz._factories': <module 'dateutil.tz._factories' from 'd:\\\\PalacioMemoriaCodigo\\\\Python\\\\envi\\\\Lib\\\\site-packages\\\\dateutil\\\\tz\\\\_factories.py'>,\n",
       " 'dateutil.tz.win': <module 'dateutil.tz.win' from 'd:\\\\PalacioMemoriaCodigo\\\\Python\\\\envi\\\\Lib\\\\site-packages\\\\dateutil\\\\tz\\\\win.py'>,\n",
       " 'dateutil.tz.tz': <module 'dateutil.tz.tz' from 'd:\\\\PalacioMemoriaCodigo\\\\Python\\\\envi\\\\Lib\\\\site-packages\\\\dateutil\\\\tz\\\\tz.py'>,\n",
       " 'dateutil.tz': <module 'dateutil.tz' from 'd:\\\\PalacioMemoriaCodigo\\\\Python\\\\envi\\\\Lib\\\\site-packages\\\\dateutil\\\\tz\\\\__init__.py'>,\n",
       " 'dateutil.parser._parser': <module 'dateutil.parser._parser' from 'd:\\\\PalacioMemoriaCodigo\\\\Python\\\\envi\\\\Lib\\\\site-packages\\\\dateutil\\\\parser\\\\_parser.py'>,\n",
       " 'dateutil.parser.isoparser': <module 'dateutil.parser.isoparser' from 'd:\\\\PalacioMemoriaCodigo\\\\Python\\\\envi\\\\Lib\\\\site-packages\\\\dateutil\\\\parser\\\\isoparser.py'>,\n",
       " 'dateutil.parser': <module 'dateutil.parser' from 'd:\\\\PalacioMemoriaCodigo\\\\Python\\\\envi\\\\Lib\\\\site-packages\\\\dateutil\\\\parser\\\\__init__.py'>,\n",
       " '_strptime': <module '_strptime' from 'C:\\\\Users\\\\sculd\\\\AppData\\\\Local\\\\Programs\\\\Python\\\\Python312\\\\Lib\\\\_strptime.py'>,\n",
       " 'jupyter_client.jsonutil': <module 'jupyter_client.jsonutil' from 'd:\\\\PalacioMemoriaCodigo\\\\Python\\\\envi\\\\Lib\\\\site-packages\\\\jupyter_client\\\\jsonutil.py'>,\n",
       " 'jupyter_client.session': <module 'jupyter_client.session' from 'd:\\\\PalacioMemoriaCodigo\\\\Python\\\\envi\\\\Lib\\\\site-packages\\\\jupyter_client\\\\session.py'>,\n",
       " 'jupyter_client.channels': <module 'jupyter_client.channels' from 'd:\\\\PalacioMemoriaCodigo\\\\Python\\\\envi\\\\Lib\\\\site-packages\\\\jupyter_client\\\\channels.py'>,\n",
       " 'getpass': <module 'getpass' from 'C:\\\\Users\\\\sculd\\\\AppData\\\\Local\\\\Programs\\\\Python\\\\Python312\\\\Lib\\\\getpass.py'>,\n",
       " 'jupyter_client.clientabc': <module 'jupyter_client.clientabc' from 'd:\\\\PalacioMemoriaCodigo\\\\Python\\\\envi\\\\Lib\\\\site-packages\\\\jupyter_client\\\\clientabc.py'>,\n",
       " 'glob': <module 'glob' from 'C:\\\\Users\\\\sculd\\\\AppData\\\\Local\\\\Programs\\\\Python\\\\Python312\\\\Lib\\\\glob.py'>,\n",
       " 'platformdirs.api': <module 'platformdirs.api' from 'd:\\\\PalacioMemoriaCodigo\\\\Python\\\\envi\\\\Lib\\\\site-packages\\\\platformdirs\\\\api.py'>,\n",
       " 'platformdirs.version': <module 'platformdirs.version' from 'd:\\\\PalacioMemoriaCodigo\\\\Python\\\\envi\\\\Lib\\\\site-packages\\\\platformdirs\\\\version.py'>,\n",
       " 'platformdirs.windows': <module 'platformdirs.windows' from 'd:\\\\PalacioMemoriaCodigo\\\\Python\\\\envi\\\\Lib\\\\site-packages\\\\platformdirs\\\\windows.py'>,\n",
       " 'platformdirs': <module 'platformdirs' from 'd:\\\\PalacioMemoriaCodigo\\\\Python\\\\envi\\\\Lib\\\\site-packages\\\\platformdirs\\\\__init__.py'>,\n",
       " 'jupyter_core.paths': <module 'jupyter_core.paths' from 'd:\\\\PalacioMemoriaCodigo\\\\Python\\\\envi\\\\Lib\\\\site-packages\\\\jupyter_core\\\\paths.py'>,\n",
       " 'jupyter_client.localinterfaces': <module 'jupyter_client.localinterfaces' from 'd:\\\\PalacioMemoriaCodigo\\\\Python\\\\envi\\\\Lib\\\\site-packages\\\\jupyter_client\\\\localinterfaces.py'>,\n",
       " 'jupyter_client.utils': <module 'jupyter_client.utils' from 'd:\\\\PalacioMemoriaCodigo\\\\Python\\\\envi\\\\Lib\\\\site-packages\\\\jupyter_client\\\\utils.py'>,\n",
       " 'jupyter_client.connect': <module 'jupyter_client.connect' from 'd:\\\\PalacioMemoriaCodigo\\\\Python\\\\envi\\\\Lib\\\\site-packages\\\\jupyter_client\\\\connect.py'>,\n",
       " 'jupyter_client.client': <module 'jupyter_client.client' from 'd:\\\\PalacioMemoriaCodigo\\\\Python\\\\envi\\\\Lib\\\\site-packages\\\\jupyter_client\\\\client.py'>,\n",
       " 'jupyter_client.asynchronous.client': <module 'jupyter_client.asynchronous.client' from 'd:\\\\PalacioMemoriaCodigo\\\\Python\\\\envi\\\\Lib\\\\site-packages\\\\jupyter_client\\\\asynchronous\\\\client.py'>,\n",
       " 'jupyter_client.asynchronous': <module 'jupyter_client.asynchronous' from 'd:\\\\PalacioMemoriaCodigo\\\\Python\\\\envi\\\\Lib\\\\site-packages\\\\jupyter_client\\\\asynchronous\\\\__init__.py'>,\n",
       " 'jupyter_client.blocking.client': <module 'jupyter_client.blocking.client' from 'd:\\\\PalacioMemoriaCodigo\\\\Python\\\\envi\\\\Lib\\\\site-packages\\\\jupyter_client\\\\blocking\\\\client.py'>,\n",
       " 'jupyter_client.blocking': <module 'jupyter_client.blocking' from 'd:\\\\PalacioMemoriaCodigo\\\\Python\\\\envi\\\\Lib\\\\site-packages\\\\jupyter_client\\\\blocking\\\\__init__.py'>,\n",
       " 'jupyter_client.launcher': <module 'jupyter_client.launcher' from 'd:\\\\PalacioMemoriaCodigo\\\\Python\\\\envi\\\\Lib\\\\site-packages\\\\jupyter_client\\\\launcher.py'>,\n",
       " '_uuid': <module '_uuid' from 'C:\\\\Users\\\\sculd\\\\AppData\\\\Local\\\\Programs\\\\Python\\\\Python312\\\\DLLs\\\\_uuid.pyd'>,\n",
       " 'uuid': <module 'uuid' from 'C:\\\\Users\\\\sculd\\\\AppData\\\\Local\\\\Programs\\\\Python\\\\Python312\\\\Lib\\\\uuid.py'>,\n",
       " '_csv': <module '_csv' (built-in)>,\n",
       " 'csv': <module 'csv' from 'C:\\\\Users\\\\sculd\\\\AppData\\\\Local\\\\Programs\\\\Python\\\\Python312\\\\Lib\\\\csv.py'>,\n",
       " 'email': <module 'email' from 'C:\\\\Users\\\\sculd\\\\AppData\\\\Local\\\\Programs\\\\Python\\\\Python312\\\\Lib\\\\email\\\\__init__.py'>,\n",
       " 'zipfile._path.glob': <module 'zipfile._path.glob' from 'C:\\\\Users\\\\sculd\\\\AppData\\\\Local\\\\Programs\\\\Python\\\\Python312\\\\Lib\\\\zipfile\\\\_path\\\\glob.py'>,\n",
       " 'zipfile._path': <module 'zipfile._path' from 'C:\\\\Users\\\\sculd\\\\AppData\\\\Local\\\\Programs\\\\Python\\\\Python312\\\\Lib\\\\zipfile\\\\_path\\\\__init__.py'>,\n",
       " 'zipfile': <module 'zipfile' from 'C:\\\\Users\\\\sculd\\\\AppData\\\\Local\\\\Programs\\\\Python\\\\Python312\\\\Lib\\\\zipfile\\\\__init__.py'>,\n",
       " 'quopri': <module 'quopri' from 'C:\\\\Users\\\\sculd\\\\AppData\\\\Local\\\\Programs\\\\Python\\\\Python312\\\\Lib\\\\quopri.py'>,\n",
       " 'email._parseaddr': <module 'email._parseaddr' from 'C:\\\\Users\\\\sculd\\\\AppData\\\\Local\\\\Programs\\\\Python\\\\Python312\\\\Lib\\\\email\\\\_parseaddr.py'>,\n",
       " 'email.base64mime': <module 'email.base64mime' from 'C:\\\\Users\\\\sculd\\\\AppData\\\\Local\\\\Programs\\\\Python\\\\Python312\\\\Lib\\\\email\\\\base64mime.py'>,\n",
       " 'email.quoprimime': <module 'email.quoprimime' from 'C:\\\\Users\\\\sculd\\\\AppData\\\\Local\\\\Programs\\\\Python\\\\Python312\\\\Lib\\\\email\\\\quoprimime.py'>,\n",
       " 'email.errors': <module 'email.errors' from 'C:\\\\Users\\\\sculd\\\\AppData\\\\Local\\\\Programs\\\\Python\\\\Python312\\\\Lib\\\\email\\\\errors.py'>,\n",
       " 'email.encoders': <module 'email.encoders' from 'C:\\\\Users\\\\sculd\\\\AppData\\\\Local\\\\Programs\\\\Python\\\\Python312\\\\Lib\\\\email\\\\encoders.py'>,\n",
       " 'email.charset': <module 'email.charset' from 'C:\\\\Users\\\\sculd\\\\AppData\\\\Local\\\\Programs\\\\Python\\\\Python312\\\\Lib\\\\email\\\\charset.py'>,\n",
       " 'email.utils': <module 'email.utils' from 'C:\\\\Users\\\\sculd\\\\AppData\\\\Local\\\\Programs\\\\Python\\\\Python312\\\\Lib\\\\email\\\\utils.py'>,\n",
       " 'email.header': <module 'email.header' from 'C:\\\\Users\\\\sculd\\\\AppData\\\\Local\\\\Programs\\\\Python\\\\Python312\\\\Lib\\\\email\\\\header.py'>,\n",
       " 'email._policybase': <module 'email._policybase' from 'C:\\\\Users\\\\sculd\\\\AppData\\\\Local\\\\Programs\\\\Python\\\\Python312\\\\Lib\\\\email\\\\_policybase.py'>,\n",
       " 'email._encoded_words': <module 'email._encoded_words' from 'C:\\\\Users\\\\sculd\\\\AppData\\\\Local\\\\Programs\\\\Python\\\\Python312\\\\Lib\\\\email\\\\_encoded_words.py'>,\n",
       " 'email.iterators': <module 'email.iterators' from 'C:\\\\Users\\\\sculd\\\\AppData\\\\Local\\\\Programs\\\\Python\\\\Python312\\\\Lib\\\\email\\\\iterators.py'>,\n",
       " 'email.message': <module 'email.message' from 'C:\\\\Users\\\\sculd\\\\AppData\\\\Local\\\\Programs\\\\Python\\\\Python312\\\\Lib\\\\email\\\\message.py'>,\n",
       " 'importlib.metadata._functools': <module 'importlib.metadata._functools' from 'C:\\\\Users\\\\sculd\\\\AppData\\\\Local\\\\Programs\\\\Python\\\\Python312\\\\Lib\\\\importlib\\\\metadata\\\\_functools.py'>,\n",
       " 'importlib.metadata._text': <module 'importlib.metadata._text' from 'C:\\\\Users\\\\sculd\\\\AppData\\\\Local\\\\Programs\\\\Python\\\\Python312\\\\Lib\\\\importlib\\\\metadata\\\\_text.py'>,\n",
       " 'importlib.metadata._adapters': <module 'importlib.metadata._adapters' from 'C:\\\\Users\\\\sculd\\\\AppData\\\\Local\\\\Programs\\\\Python\\\\Python312\\\\Lib\\\\importlib\\\\metadata\\\\_adapters.py'>,\n",
       " 'importlib.metadata._meta': <module 'importlib.metadata._meta' from 'C:\\\\Users\\\\sculd\\\\AppData\\\\Local\\\\Programs\\\\Python\\\\Python312\\\\Lib\\\\importlib\\\\metadata\\\\_meta.py'>,\n",
       " 'importlib.metadata._collections': <module 'importlib.metadata._collections' from 'C:\\\\Users\\\\sculd\\\\AppData\\\\Local\\\\Programs\\\\Python\\\\Python312\\\\Lib\\\\importlib\\\\metadata\\\\_collections.py'>,\n",
       " 'importlib.metadata._itertools': <module 'importlib.metadata._itertools' from 'C:\\\\Users\\\\sculd\\\\AppData\\\\Local\\\\Programs\\\\Python\\\\Python312\\\\Lib\\\\importlib\\\\metadata\\\\_itertools.py'>,\n",
       " 'importlib.resources.abc': <module 'importlib.resources.abc' from 'C:\\\\Users\\\\sculd\\\\AppData\\\\Local\\\\Programs\\\\Python\\\\Python312\\\\Lib\\\\importlib\\\\resources\\\\abc.py'>,\n",
       " 'importlib.resources._adapters': <module 'importlib.resources._adapters' from 'C:\\\\Users\\\\sculd\\\\AppData\\\\Local\\\\Programs\\\\Python\\\\Python312\\\\Lib\\\\importlib\\\\resources\\\\_adapters.py'>,\n",
       " 'importlib.resources._common': <module 'importlib.resources._common' from 'C:\\\\Users\\\\sculd\\\\AppData\\\\Local\\\\Programs\\\\Python\\\\Python312\\\\Lib\\\\importlib\\\\resources\\\\_common.py'>,\n",
       " 'importlib.resources._legacy': <module 'importlib.resources._legacy' from 'C:\\\\Users\\\\sculd\\\\AppData\\\\Local\\\\Programs\\\\Python\\\\Python312\\\\Lib\\\\importlib\\\\resources\\\\_legacy.py'>,\n",
       " 'importlib.resources': <module 'importlib.resources' from 'C:\\\\Users\\\\sculd\\\\AppData\\\\Local\\\\Programs\\\\Python\\\\Python312\\\\Lib\\\\importlib\\\\resources\\\\__init__.py'>,\n",
       " 'importlib.abc': <module 'importlib.abc' from 'C:\\\\Users\\\\sculd\\\\AppData\\\\Local\\\\Programs\\\\Python\\\\Python312\\\\Lib\\\\importlib\\\\abc.py'>,\n",
       " 'importlib.metadata': <module 'importlib.metadata' from 'C:\\\\Users\\\\sculd\\\\AppData\\\\Local\\\\Programs\\\\Python\\\\Python312\\\\Lib\\\\importlib\\\\metadata\\\\__init__.py'>,\n",
       " 'jupyter_client.provisioning.provisioner_base': <module 'jupyter_client.provisioning.provisioner_base' from 'd:\\\\PalacioMemoriaCodigo\\\\Python\\\\envi\\\\Lib\\\\site-packages\\\\jupyter_client\\\\provisioning\\\\provisioner_base.py'>,\n",
       " 'jupyter_client.provisioning.factory': <module 'jupyter_client.provisioning.factory' from 'd:\\\\PalacioMemoriaCodigo\\\\Python\\\\envi\\\\Lib\\\\site-packages\\\\jupyter_client\\\\provisioning\\\\factory.py'>,\n",
       " 'jupyter_client.provisioning.local_provisioner': <module 'jupyter_client.provisioning.local_provisioner' from 'd:\\\\PalacioMemoriaCodigo\\\\Python\\\\envi\\\\Lib\\\\site-packages\\\\jupyter_client\\\\provisioning\\\\local_provisioner.py'>,\n",
       " 'jupyter_client.provisioning': <module 'jupyter_client.provisioning' from 'd:\\\\PalacioMemoriaCodigo\\\\Python\\\\envi\\\\Lib\\\\site-packages\\\\jupyter_client\\\\provisioning\\\\__init__.py'>,\n",
       " 'jupyter_client.kernelspec': <module 'jupyter_client.kernelspec' from 'd:\\\\PalacioMemoriaCodigo\\\\Python\\\\envi\\\\Lib\\\\site-packages\\\\jupyter_client\\\\kernelspec.py'>,\n",
       " 'jupyter_client.managerabc': <module 'jupyter_client.managerabc' from 'd:\\\\PalacioMemoriaCodigo\\\\Python\\\\envi\\\\Lib\\\\site-packages\\\\jupyter_client\\\\managerabc.py'>,\n",
       " 'jupyter_client.manager': <module 'jupyter_client.manager' from 'd:\\\\PalacioMemoriaCodigo\\\\Python\\\\envi\\\\Lib\\\\site-packages\\\\jupyter_client\\\\manager.py'>,\n",
       " 'jupyter_client.multikernelmanager': <module 'jupyter_client.multikernelmanager' from 'd:\\\\PalacioMemoriaCodigo\\\\Python\\\\envi\\\\Lib\\\\site-packages\\\\jupyter_client\\\\multikernelmanager.py'>,\n",
       " 'jupyter_client': <module 'jupyter_client' from 'd:\\\\PalacioMemoriaCodigo\\\\Python\\\\envi\\\\Lib\\\\site-packages\\\\jupyter_client\\\\__init__.py'>,\n",
       " 'ipykernel.connect': <module 'ipykernel.connect' from 'd:\\\\PalacioMemoriaCodigo\\\\Python\\\\envi\\\\Lib\\\\site-packages\\\\ipykernel\\\\connect.py'>,\n",
       " 'ipykernel': <module 'ipykernel' from 'd:\\\\PalacioMemoriaCodigo\\\\Python\\\\envi\\\\Lib\\\\site-packages\\\\ipykernel\\\\__init__.py'>,\n",
       " 'IPython.core': <module 'IPython.core' from 'd:\\\\PalacioMemoriaCodigo\\\\Python\\\\envi\\\\Lib\\\\site-packages\\\\IPython\\\\core\\\\__init__.py'>,\n",
       " 'IPython.core.getipython': <module 'IPython.core.getipython' from 'd:\\\\PalacioMemoriaCodigo\\\\Python\\\\envi\\\\Lib\\\\site-packages\\\\IPython\\\\core\\\\getipython.py'>,\n",
       " 'IPython.core.release': <module 'IPython.core.release' from 'd:\\\\PalacioMemoriaCodigo\\\\Python\\\\envi\\\\Lib\\\\site-packages\\\\IPython\\\\core\\\\release.py'>,\n",
       " 'pkgutil': <module 'pkgutil' from 'C:\\\\Users\\\\sculd\\\\AppData\\\\Local\\\\Programs\\\\Python\\\\Python312\\\\Lib\\\\pkgutil.py'>,\n",
       " 'sysconfig': <module 'sysconfig' from 'C:\\\\Users\\\\sculd\\\\AppData\\\\Local\\\\Programs\\\\Python\\\\Python312\\\\Lib\\\\sysconfig.py'>,\n",
       " 'pydoc': <module 'pydoc' from 'C:\\\\Users\\\\sculd\\\\AppData\\\\Local\\\\Programs\\\\Python\\\\Python312\\\\Lib\\\\pydoc.py'>,\n",
       " 'executing._exceptions': <module 'executing._exceptions' from 'd:\\\\PalacioMemoriaCodigo\\\\Python\\\\envi\\\\Lib\\\\site-packages\\\\executing\\\\_exceptions.py'>,\n",
       " 'executing._position_node_finder': <module 'executing._position_node_finder' from 'd:\\\\PalacioMemoriaCodigo\\\\Python\\\\envi\\\\Lib\\\\site-packages\\\\executing\\\\_position_node_finder.py'>,\n",
       " 'executing.executing': <module 'executing.executing' from 'd:\\\\PalacioMemoriaCodigo\\\\Python\\\\envi\\\\Lib\\\\site-packages\\\\executing\\\\executing.py'>,\n",
       " 'executing.version': <module 'executing.version' from 'd:\\\\PalacioMemoriaCodigo\\\\Python\\\\envi\\\\Lib\\\\site-packages\\\\executing\\\\version.py'>,\n",
       " 'executing': <module 'executing' from 'd:\\\\PalacioMemoriaCodigo\\\\Python\\\\envi\\\\Lib\\\\site-packages\\\\executing\\\\__init__.py'>,\n",
       " 'asttokens.line_numbers': <module 'asttokens.line_numbers' from 'd:\\\\PalacioMemoriaCodigo\\\\Python\\\\envi\\\\Lib\\\\site-packages\\\\asttokens\\\\line_numbers.py'>,\n",
       " 'asttokens.util': <module 'asttokens.util' from 'd:\\\\PalacioMemoriaCodigo\\\\Python\\\\envi\\\\Lib\\\\site-packages\\\\asttokens\\\\util.py'>,\n",
       " 'asttokens.asttokens': <module 'asttokens.asttokens' from 'd:\\\\PalacioMemoriaCodigo\\\\Python\\\\envi\\\\Lib\\\\site-packages\\\\asttokens\\\\asttokens.py'>,\n",
       " 'asttokens': <module 'asttokens' from 'd:\\\\PalacioMemoriaCodigo\\\\Python\\\\envi\\\\Lib\\\\site-packages\\\\asttokens\\\\__init__.py'>,\n",
       " 'fractions': <module 'fractions' from 'C:\\\\Users\\\\sculd\\\\AppData\\\\Local\\\\Programs\\\\Python\\\\Python312\\\\Lib\\\\fractions.py'>,\n",
       " 'pure_eval.utils': <module 'pure_eval.utils' from 'd:\\\\PalacioMemoriaCodigo\\\\Python\\\\envi\\\\Lib\\\\site-packages\\\\pure_eval\\\\utils.py'>,\n",
       " 'pure_eval.my_getattr_static': <module 'pure_eval.my_getattr_static' from 'd:\\\\PalacioMemoriaCodigo\\\\Python\\\\envi\\\\Lib\\\\site-packages\\\\pure_eval\\\\my_getattr_static.py'>,\n",
       " 'pure_eval.core': <module 'pure_eval.core' from 'd:\\\\PalacioMemoriaCodigo\\\\Python\\\\envi\\\\Lib\\\\site-packages\\\\pure_eval\\\\core.py'>,\n",
       " 'pure_eval.version': <module 'pure_eval.version' from 'd:\\\\PalacioMemoriaCodigo\\\\Python\\\\envi\\\\Lib\\\\site-packages\\\\pure_eval\\\\version.py'>,\n",
       " 'pure_eval': <module 'pure_eval' from 'd:\\\\PalacioMemoriaCodigo\\\\Python\\\\envi\\\\Lib\\\\site-packages\\\\pure_eval\\\\__init__.py'>,\n",
       " 'stack_data.utils': <module 'stack_data.utils' from 'd:\\\\PalacioMemoriaCodigo\\\\Python\\\\envi\\\\Lib\\\\site-packages\\\\stack_data\\\\utils.py'>,\n",
       " 'stack_data.core': <module 'stack_data.core' from 'd:\\\\PalacioMemoriaCodigo\\\\Python\\\\envi\\\\Lib\\\\site-packages\\\\stack_data\\\\core.py'>,\n",
       " 'stack_data.formatting': <module 'stack_data.formatting' from 'd:\\\\PalacioMemoriaCodigo\\\\Python\\\\envi\\\\Lib\\\\site-packages\\\\stack_data\\\\formatting.py'>,\n",
       " 'stack_data.serializing': <module 'stack_data.serializing' from 'd:\\\\PalacioMemoriaCodigo\\\\Python\\\\envi\\\\Lib\\\\site-packages\\\\stack_data\\\\serializing.py'>,\n",
       " 'stack_data.version': <module 'stack_data.version' from 'd:\\\\PalacioMemoriaCodigo\\\\Python\\\\envi\\\\Lib\\\\site-packages\\\\stack_data\\\\version.py'>,\n",
       " 'stack_data': <module 'stack_data' from 'd:\\\\PalacioMemoriaCodigo\\\\Python\\\\envi\\\\Lib\\\\site-packages\\\\stack_data\\\\__init__.py'>,\n",
       " 'pygments': <module 'pygments' from 'd:\\\\PalacioMemoriaCodigo\\\\Python\\\\envi\\\\Lib\\\\site-packages\\\\pygments\\\\__init__.py'>,\n",
       " 'pygments.formatters._mapping': <module 'pygments.formatters._mapping' from 'd:\\\\PalacioMemoriaCodigo\\\\Python\\\\envi\\\\Lib\\\\site-packages\\\\pygments\\\\formatters\\\\_mapping.py'>,\n",
       " 'pygments.plugin': <module 'pygments.plugin' from 'd:\\\\PalacioMemoriaCodigo\\\\Python\\\\envi\\\\Lib\\\\site-packages\\\\pygments\\\\plugin.py'>,\n",
       " 'pygments.util': <module 'pygments.util' from 'd:\\\\PalacioMemoriaCodigo\\\\Python\\\\envi\\\\Lib\\\\site-packages\\\\pygments\\\\util.py'>,\n",
       " 'pygments.formatters': <module 'pygments.formatters' from 'd:\\\\PalacioMemoriaCodigo\\\\Python\\\\envi\\\\Lib\\\\site-packages\\\\pygments\\\\formatters\\\\__init__.py'>,\n",
       " 'pygments.styles._mapping': <module 'pygments.styles._mapping' from 'd:\\\\PalacioMemoriaCodigo\\\\Python\\\\envi\\\\Lib\\\\site-packages\\\\pygments\\\\styles\\\\_mapping.py'>,\n",
       " 'pygments.styles': <module 'pygments.styles' from 'd:\\\\PalacioMemoriaCodigo\\\\Python\\\\envi\\\\Lib\\\\site-packages\\\\pygments\\\\styles\\\\__init__.py'>,\n",
       " 'pygments.formatter': <module 'pygments.formatter' from 'd:\\\\PalacioMemoriaCodigo\\\\Python\\\\envi\\\\Lib\\\\site-packages\\\\pygments\\\\formatter.py'>,\n",
       " 'pygments.console': <module 'pygments.console' from 'd:\\\\PalacioMemoriaCodigo\\\\Python\\\\envi\\\\Lib\\\\site-packages\\\\pygments\\\\console.py'>,\n",
       " 'pygments.token': <module 'pygments.token' from 'd:\\\\PalacioMemoriaCodigo\\\\Python\\\\envi\\\\Lib\\\\site-packages\\\\pygments\\\\token.py'>,\n",
       " 'pygments.style': <module 'pygments.style' from 'd:\\\\PalacioMemoriaCodigo\\\\Python\\\\envi\\\\Lib\\\\site-packages\\\\pygments\\\\style.py'>,\n",
       " 'pygments.formatters.terminal256': <module 'pygments.formatters.terminal256' from 'd:\\\\PalacioMemoriaCodigo\\\\Python\\\\envi\\\\Lib\\\\site-packages\\\\pygments\\\\formatters\\\\terminal256.py'>,\n",
       " 'IPython.utils': <module 'IPython.utils' from 'd:\\\\PalacioMemoriaCodigo\\\\Python\\\\envi\\\\Lib\\\\site-packages\\\\IPython\\\\utils\\\\__init__.py'>,\n",
       " 'IPython.utils.colorable': <module 'IPython.utils.colorable' from 'd:\\\\PalacioMemoriaCodigo\\\\Python\\\\envi\\\\Lib\\\\site-packages\\\\IPython\\\\utils\\\\colorable.py'>,\n",
       " 'IPython.utils.ipstruct': <module 'IPython.utils.ipstruct' from 'd:\\\\PalacioMemoriaCodigo\\\\Python\\\\envi\\\\Lib\\\\site-packages\\\\IPython\\\\utils\\\\ipstruct.py'>,\n",
       " 'IPython.utils.coloransi': <module 'IPython.utils.coloransi' from 'd:\\\\PalacioMemoriaCodigo\\\\Python\\\\envi\\\\Lib\\\\site-packages\\\\IPython\\\\utils\\\\coloransi.py'>,\n",
       " 'IPython.core.excolors': <module 'IPython.core.excolors' from 'd:\\\\PalacioMemoriaCodigo\\\\Python\\\\envi\\\\Lib\\\\site-packages\\\\IPython\\\\core\\\\excolors.py'>,\n",
       " 'IPython.utils.PyColorize': <module 'IPython.utils.PyColorize' from 'd:\\\\PalacioMemoriaCodigo\\\\Python\\\\envi\\\\Lib\\\\site-packages\\\\IPython\\\\utils\\\\PyColorize.py'>,\n",
       " 'IPython.utils.encoding': <module 'IPython.utils.encoding' from 'd:\\\\PalacioMemoriaCodigo\\\\Python\\\\envi\\\\Lib\\\\site-packages\\\\IPython\\\\utils\\\\encoding.py'>,\n",
       " 'IPython.utils.py3compat': <module 'IPython.utils.py3compat' from 'd:\\\\PalacioMemoriaCodigo\\\\Python\\\\envi\\\\Lib\\\\site-packages\\\\IPython\\\\utils\\\\py3compat.py'>,\n",
       " 'cmd': <module 'cmd' from 'C:\\\\Users\\\\sculd\\\\AppData\\\\Local\\\\Programs\\\\Python\\\\Python312\\\\Lib\\\\cmd.py'>,\n",
       " 'bdb': <module 'bdb' from 'C:\\\\Users\\\\sculd\\\\AppData\\\\Local\\\\Programs\\\\Python\\\\Python312\\\\Lib\\\\bdb.py'>,\n",
       " 'codeop': <module 'codeop' from 'C:\\\\Users\\\\sculd\\\\AppData\\\\Local\\\\Programs\\\\Python\\\\Python312\\\\Lib\\\\codeop.py'>,\n",
       " 'code': <module 'code' from 'C:\\\\Users\\\\sculd\\\\AppData\\\\Local\\\\Programs\\\\Python\\\\Python312\\\\Lib\\\\code.py'>,\n",
       " 'pdb': <module 'pdb' from 'C:\\\\Users\\\\sculd\\\\AppData\\\\Local\\\\Programs\\\\Python\\\\Python312\\\\Lib\\\\pdb.py'>,\n",
       " 'IPython.core.debugger': <module 'IPython.core.debugger' from 'd:\\\\PalacioMemoriaCodigo\\\\Python\\\\envi\\\\Lib\\\\site-packages\\\\IPython\\\\core\\\\debugger.py'>,\n",
       " 'IPython.core.display_trap': <module 'IPython.core.display_trap' from 'd:\\\\PalacioMemoriaCodigo\\\\Python\\\\envi\\\\Lib\\\\site-packages\\\\IPython\\\\core\\\\display_trap.py'>,\n",
       " 'shlex': <module 'shlex' from 'C:\\\\Users\\\\sculd\\\\AppData\\\\Local\\\\Programs\\\\Python\\\\Python312\\\\Lib\\\\shlex.py'>,\n",
       " 'IPython.utils._process_common': <module 'IPython.utils._process_common' from 'd:\\\\PalacioMemoriaCodigo\\\\Python\\\\envi\\\\Lib\\\\site-packages\\\\IPython\\\\utils\\\\_process_common.py'>,\n",
       " 'IPython.utils._process_win32': <module 'IPython.utils._process_win32' from 'd:\\\\PalacioMemoriaCodigo\\\\Python\\\\envi\\\\Lib\\\\site-packages\\\\IPython\\\\utils\\\\_process_win32.py'>,\n",
       " 'IPython.utils.process': <module 'IPython.utils.process' from 'd:\\\\PalacioMemoriaCodigo\\\\Python\\\\envi\\\\Lib\\\\site-packages\\\\IPython\\\\utils\\\\process.py'>,\n",
       " 'IPython.utils.path': <module 'IPython.utils.path' from 'd:\\\\PalacioMemoriaCodigo\\\\Python\\\\envi\\\\Lib\\\\site-packages\\\\IPython\\\\utils\\\\path.py'>,\n",
       " 'IPython.utils.terminal': <module 'IPython.utils.terminal' from 'd:\\\\PalacioMemoriaCodigo\\\\Python\\\\envi\\\\Lib\\\\site-packages\\\\IPython\\\\utils\\\\terminal.py'>,\n",
       " 'IPython.core.ultratb': <module 'IPython.core.ultratb' from 'd:\\\\PalacioMemoriaCodigo\\\\Python\\\\envi\\\\Lib\\\\site-packages\\\\IPython\\\\core\\\\ultratb.py'>,\n",
       " 'IPython.utils._sysinfo': <module 'IPython.utils._sysinfo' from 'd:\\\\PalacioMemoriaCodigo\\\\Python\\\\envi\\\\Lib\\\\site-packages\\\\IPython\\\\utils\\\\_sysinfo.py'>,\n",
       " 'IPython.utils.sysinfo': <module 'IPython.utils.sysinfo' from 'd:\\\\PalacioMemoriaCodigo\\\\Python\\\\envi\\\\Lib\\\\site-packages\\\\IPython\\\\utils\\\\sysinfo.py'>,\n",
       " 'IPython.core.crashhandler': <module 'IPython.core.crashhandler' from 'd:\\\\PalacioMemoriaCodigo\\\\Python\\\\envi\\\\Lib\\\\site-packages\\\\IPython\\\\core\\\\crashhandler.py'>,\n",
       " 'IPython.utils.importstring': <module 'IPython.utils.importstring' from 'd:\\\\PalacioMemoriaCodigo\\\\Python\\\\envi\\\\Lib\\\\site-packages\\\\IPython\\\\utils\\\\importstring.py'>,\n",
       " 'IPython.paths': <module 'IPython.paths' from 'd:\\\\PalacioMemoriaCodigo\\\\Python\\\\envi\\\\Lib\\\\site-packages\\\\IPython\\\\paths.py'>,\n",
       " 'IPython.core.profiledir': <module 'IPython.core.profiledir' from 'd:\\\\PalacioMemoriaCodigo\\\\Python\\\\envi\\\\Lib\\\\site-packages\\\\IPython\\\\core\\\\profiledir.py'>,\n",
       " 'IPython.core.application': <module 'IPython.core.application' from 'd:\\\\PalacioMemoriaCodigo\\\\Python\\\\envi\\\\Lib\\\\site-packages\\\\IPython\\\\core\\\\application.py'>,\n",
       " 'IPython.terminal': <module 'IPython.terminal' from 'd:\\\\PalacioMemoriaCodigo\\\\Python\\\\envi\\\\Lib\\\\site-packages\\\\IPython\\\\terminal\\\\__init__.py'>,\n",
       " 'IPython.core.compilerop': <module 'IPython.core.compilerop' from 'd:\\\\PalacioMemoriaCodigo\\\\Python\\\\envi\\\\Lib\\\\site-packages\\\\IPython\\\\core\\\\compilerop.py'>,\n",
       " 'IPython.core.error': <module 'IPython.core.error' from 'd:\\\\PalacioMemoriaCodigo\\\\Python\\\\envi\\\\Lib\\\\site-packages\\\\IPython\\\\core\\\\error.py'>,\n",
       " 'IPython.utils.docs': <module 'IPython.utils.docs' from 'd:\\\\PalacioMemoriaCodigo\\\\Python\\\\envi\\\\Lib\\\\site-packages\\\\IPython\\\\utils\\\\docs.py'>,\n",
       " 'IPython.utils.decorators': <module 'IPython.utils.decorators' from 'd:\\\\PalacioMemoriaCodigo\\\\Python\\\\envi\\\\Lib\\\\site-packages\\\\IPython\\\\utils\\\\decorators.py'>,\n",
       " 'IPython.utils.text': <module 'IPython.utils.text' from 'd:\\\\PalacioMemoriaCodigo\\\\Python\\\\envi\\\\Lib\\\\site-packages\\\\IPython\\\\utils\\\\text.py'>,\n",
       " 'IPython.core.magic_arguments': <module 'IPython.core.magic_arguments' from 'd:\\\\PalacioMemoriaCodigo\\\\Python\\\\envi\\\\Lib\\\\site-packages\\\\IPython\\\\core\\\\magic_arguments.py'>,\n",
       " 'getopt': <module 'getopt' from 'C:\\\\Users\\\\sculd\\\\AppData\\\\Local\\\\Programs\\\\Python\\\\Python312\\\\Lib\\\\getopt.py'>,\n",
       " 'IPython.core.display_functions': <module 'IPython.core.display_functions' from 'd:\\\\PalacioMemoriaCodigo\\\\Python\\\\envi\\\\Lib\\\\site-packages\\\\IPython\\\\core\\\\display_functions.py'>,\n",
       " 'mimetypes': <module 'mimetypes' from 'C:\\\\Users\\\\sculd\\\\AppData\\\\Local\\\\Programs\\\\Python\\\\Python312\\\\Lib\\\\mimetypes.py'>,\n",
       " 'IPython.testing': <module 'IPython.testing' from 'd:\\\\PalacioMemoriaCodigo\\\\Python\\\\envi\\\\Lib\\\\site-packages\\\\IPython\\\\testing\\\\__init__.py'>,\n",
       " 'IPython.testing.skipdoctest': <module 'IPython.testing.skipdoctest' from 'd:\\\\PalacioMemoriaCodigo\\\\Python\\\\envi\\\\Lib\\\\site-packages\\\\IPython\\\\testing\\\\skipdoctest.py'>,\n",
       " 'IPython.core.display': <module 'IPython.core.display' from 'd:\\\\PalacioMemoriaCodigo\\\\Python\\\\envi\\\\Lib\\\\site-packages\\\\IPython\\\\core\\\\display.py'>,\n",
       " 'IPython.lib': <module 'IPython.lib' from 'd:\\\\PalacioMemoriaCodigo\\\\Python\\\\envi\\\\Lib\\\\site-packages\\\\IPython\\\\lib\\\\__init__.py'>,\n",
       " 'IPython.lib.display': <module 'IPython.lib.display' from 'd:\\\\PalacioMemoriaCodigo\\\\Python\\\\envi\\\\Lib\\\\site-packages\\\\IPython\\\\lib\\\\display.py'>,\n",
       " 'IPython.display': <module 'IPython.display' from 'd:\\\\PalacioMemoriaCodigo\\\\Python\\\\envi\\\\Lib\\\\site-packages\\\\IPython\\\\display.py'>,\n",
       " 'IPython.utils.data': <module 'IPython.utils.data' from 'd:\\\\PalacioMemoriaCodigo\\\\Python\\\\envi\\\\Lib\\\\site-packages\\\\IPython\\\\utils\\\\data.py'>,\n",
       " 'IPython.core.page': <module 'IPython.core.page' from 'd:\\\\PalacioMemoriaCodigo\\\\Python\\\\envi\\\\Lib\\\\site-packages\\\\IPython\\\\core\\\\page.py'>,\n",
       " 'IPython.lib.pretty': <module 'IPython.lib.pretty' from 'd:\\\\PalacioMemoriaCodigo\\\\Python\\\\envi\\\\Lib\\\\site-packages\\\\IPython\\\\lib\\\\pretty.py'>,\n",
       " 'IPython.utils.openpy': <module 'IPython.utils.openpy' from 'd:\\\\PalacioMemoriaCodigo\\\\Python\\\\envi\\\\Lib\\\\site-packages\\\\IPython\\\\utils\\\\openpy.py'>,\n",
       " 'IPython.utils.dir2': <module 'IPython.utils.dir2' from 'd:\\\\PalacioMemoriaCodigo\\\\Python\\\\envi\\\\Lib\\\\site-packages\\\\IPython\\\\utils\\\\dir2.py'>,\n",
       " 'IPython.utils.wildcard': <module 'IPython.utils.wildcard' from 'd:\\\\PalacioMemoriaCodigo\\\\Python\\\\envi\\\\Lib\\\\site-packages\\\\IPython\\\\utils\\\\wildcard.py'>,\n",
       " 'pygments.lexers._mapping': <module 'pygments.lexers._mapping' from 'd:\\\\PalacioMemoriaCodigo\\\\Python\\\\envi\\\\Lib\\\\site-packages\\\\pygments\\\\lexers\\\\_mapping.py'>,\n",
       " 'pygments.modeline': <module 'pygments.modeline' from 'd:\\\\PalacioMemoriaCodigo\\\\Python\\\\envi\\\\Lib\\\\site-packages\\\\pygments\\\\modeline.py'>,\n",
       " 'pygments.lexers': <module 'pygments.lexers' from 'd:\\\\PalacioMemoriaCodigo\\\\Python\\\\envi\\\\Lib\\\\site-packages\\\\pygments\\\\lexers\\\\__init__.py'>,\n",
       " 'pygments.filter': <module 'pygments.filter' from 'd:\\\\PalacioMemoriaCodigo\\\\Python\\\\envi\\\\Lib\\\\site-packages\\\\pygments\\\\filter.py'>,\n",
       " 'pygments.filters': <module 'pygments.filters' from 'd:\\\\PalacioMemoriaCodigo\\\\Python\\\\envi\\\\Lib\\\\site-packages\\\\pygments\\\\filters\\\\__init__.py'>,\n",
       " 'pygments.regexopt': <module 'pygments.regexopt' from 'd:\\\\PalacioMemoriaCodigo\\\\Python\\\\envi\\\\Lib\\\\site-packages\\\\pygments\\\\regexopt.py'>,\n",
       " 'pygments.lexer': <module 'pygments.lexer' from 'd:\\\\PalacioMemoriaCodigo\\\\Python\\\\envi\\\\Lib\\\\site-packages\\\\pygments\\\\lexer.py'>,\n",
       " 'pygments.unistring': <module 'pygments.unistring' from 'd:\\\\PalacioMemoriaCodigo\\\\Python\\\\envi\\\\Lib\\\\site-packages\\\\pygments\\\\unistring.py'>,\n",
       " 'pygments.lexers.python': <module 'pygments.lexers.python' from 'd:\\\\PalacioMemoriaCodigo\\\\Python\\\\envi\\\\Lib\\\\site-packages\\\\pygments\\\\lexers\\\\python.py'>,\n",
       " 'pygments.formatters.html': <module 'pygments.formatters.html' from 'd:\\\\PalacioMemoriaCodigo\\\\Python\\\\envi\\\\Lib\\\\site-packages\\\\pygments\\\\formatters\\\\html.py'>,\n",
       " 'IPython.core.oinspect': <module 'IPython.core.oinspect' from 'd:\\\\PalacioMemoriaCodigo\\\\Python\\\\envi\\\\Lib\\\\site-packages\\\\IPython\\\\core\\\\oinspect.py'>,\n",
       " 'IPython.utils.tokenutil': <module 'IPython.utils.tokenutil' from 'd:\\\\PalacioMemoriaCodigo\\\\Python\\\\envi\\\\Lib\\\\site-packages\\\\IPython\\\\utils\\\\tokenutil.py'>,\n",
       " 'IPython.core.inputtransformer2': <module 'IPython.core.inputtransformer2' from 'd:\\\\PalacioMemoriaCodigo\\\\Python\\\\envi\\\\Lib\\\\site-packages\\\\IPython\\\\core\\\\inputtransformer2.py'>,\n",
       " 'IPython.core.magic': <module 'IPython.core.magic' from 'd:\\\\PalacioMemoriaCodigo\\\\Python\\\\envi\\\\Lib\\\\site-packages\\\\IPython\\\\core\\\\magic.py'>,\n",
       " 'IPython.core.hooks': <module 'IPython.core.hooks' from 'd:\\\\PalacioMemoriaCodigo\\\\Python\\\\envi\\\\Lib\\\\site-packages\\\\IPython\\\\core\\\\hooks.py'>,\n",
       " 'IPython.core.autocall': <module 'IPython.core.autocall' from 'd:\\\\PalacioMemoriaCodigo\\\\Python\\\\envi\\\\Lib\\\\site-packages\\\\IPython\\\\core\\\\autocall.py'>,\n",
       " 'IPython.core.macro': <module 'IPython.core.macro' from 'd:\\\\PalacioMemoriaCodigo\\\\Python\\\\envi\\\\Lib\\\\site-packages\\\\IPython\\\\core\\\\macro.py'>,\n",
       " 'IPython.core.splitinput': <module 'IPython.core.splitinput' from 'd:\\\\PalacioMemoriaCodigo\\\\Python\\\\envi\\\\Lib\\\\site-packages\\\\IPython\\\\core\\\\splitinput.py'>,\n",
       " 'IPython.core.prefilter': <module 'IPython.core.prefilter' from 'd:\\\\PalacioMemoriaCodigo\\\\Python\\\\envi\\\\Lib\\\\site-packages\\\\IPython\\\\core\\\\prefilter.py'>,\n",
       " 'IPython.core.alias': <module 'IPython.core.alias' from 'd:\\\\PalacioMemoriaCodigo\\\\Python\\\\envi\\\\Lib\\\\site-packages\\\\IPython\\\\core\\\\alias.py'>,\n",
       " 'IPython.core.builtin_trap': <module 'IPython.core.builtin_trap' from 'd:\\\\PalacioMemoriaCodigo\\\\Python\\\\envi\\\\Lib\\\\site-packages\\\\IPython\\\\core\\\\builtin_trap.py'>,\n",
       " 'IPython.core.displayhook': <module 'IPython.core.displayhook' from 'd:\\\\PalacioMemoriaCodigo\\\\Python\\\\envi\\\\Lib\\\\site-packages\\\\IPython\\\\core\\\\displayhook.py'>,\n",
       " 'IPython.core.displaypub': <module 'IPython.core.displaypub' from 'd:\\\\PalacioMemoriaCodigo\\\\Python\\\\envi\\\\Lib\\\\site-packages\\\\IPython\\\\core\\\\displaypub.py'>,\n",
       " 'IPython.core.events': <module 'IPython.core.events' from 'd:\\\\PalacioMemoriaCodigo\\\\Python\\\\envi\\\\Lib\\\\site-packages\\\\IPython\\\\core\\\\events.py'>,\n",
       " 'IPython.core.extensions': <module 'IPython.core.extensions' from 'd:\\\\PalacioMemoriaCodigo\\\\Python\\\\envi\\\\Lib\\\\site-packages\\\\IPython\\\\core\\\\extensions.py'>,\n",
       " 'decorator': <module 'decorator' from 'd:\\\\PalacioMemoriaCodigo\\\\Python\\\\envi\\\\Lib\\\\site-packages\\\\decorator.py'>,\n",
       " 'IPython.utils.sentinel': <module 'IPython.utils.sentinel' from 'd:\\\\PalacioMemoriaCodigo\\\\Python\\\\envi\\\\Lib\\\\site-packages\\\\IPython\\\\utils\\\\sentinel.py'>,\n",
       " 'IPython.core.formatters': <module 'IPython.core.formatters' from 'd:\\\\PalacioMemoriaCodigo\\\\Python\\\\envi\\\\Lib\\\\site-packages\\\\IPython\\\\core\\\\formatters.py'>,\n",
       " '_sqlite3': <module '_sqlite3' from 'C:\\\\Users\\\\sculd\\\\AppData\\\\Local\\\\Programs\\\\Python\\\\Python312\\\\DLLs\\\\_sqlite3.pyd'>,\n",
       " 'sqlite3.dbapi2': <module 'sqlite3.dbapi2' from 'C:\\\\Users\\\\sculd\\\\AppData\\\\Local\\\\Programs\\\\Python\\\\Python312\\\\Lib\\\\sqlite3\\\\dbapi2.py'>,\n",
       " 'sqlite3': <module 'sqlite3' from 'C:\\\\Users\\\\sculd\\\\AppData\\\\Local\\\\Programs\\\\Python\\\\Python312\\\\Lib\\\\sqlite3\\\\__init__.py'>,\n",
       " 'IPython.core.history': <module 'IPython.core.history' from 'd:\\\\PalacioMemoriaCodigo\\\\Python\\\\envi\\\\Lib\\\\site-packages\\\\IPython\\\\core\\\\history.py'>,\n",
       " 'IPython.core.logger': <module 'IPython.core.logger' from 'd:\\\\PalacioMemoriaCodigo\\\\Python\\\\envi\\\\Lib\\\\site-packages\\\\IPython\\\\core\\\\logger.py'>,\n",
       " 'IPython.core.payload': <module 'IPython.core.payload' from 'd:\\\\PalacioMemoriaCodigo\\\\Python\\\\envi\\\\Lib\\\\site-packages\\\\IPython\\\\core\\\\payload.py'>,\n",
       " 'IPython.core.usage': <module 'IPython.core.usage' from 'd:\\\\PalacioMemoriaCodigo\\\\Python\\\\envi\\\\Lib\\\\site-packages\\\\IPython\\\\core\\\\usage.py'>,\n",
       " 'IPython.utils.capture': <module 'IPython.utils.capture' from 'd:\\\\PalacioMemoriaCodigo\\\\Python\\\\envi\\\\Lib\\\\site-packages\\\\IPython\\\\utils\\\\capture.py'>,\n",
       " 'IPython.utils.io': <module 'IPython.utils.io' from 'd:\\\\PalacioMemoriaCodigo\\\\Python\\\\envi\\\\Lib\\\\site-packages\\\\IPython\\\\utils\\\\io.py'>,\n",
       " 'IPython.utils.strdispatch': <module 'IPython.utils.strdispatch' from 'd:\\\\PalacioMemoriaCodigo\\\\Python\\\\envi\\\\Lib\\\\site-packages\\\\IPython\\\\utils\\\\strdispatch.py'>,\n",
       " 'IPython.utils.syspathcontext': <module 'IPython.utils.syspathcontext' from 'd:\\\\PalacioMemoriaCodigo\\\\Python\\\\envi\\\\Lib\\\\site-packages\\\\IPython\\\\utils\\\\syspathcontext.py'>,\n",
       " 'IPython.core.async_helpers': <module 'IPython.core.async_helpers' from 'd:\\\\PalacioMemoriaCodigo\\\\Python\\\\envi\\\\Lib\\\\site-packages\\\\IPython\\\\core\\\\async_helpers.py'>,\n",
       " 'IPython.core.interactiveshell': <module 'IPython.core.interactiveshell' from 'd:\\\\PalacioMemoriaCodigo\\\\Python\\\\envi\\\\Lib\\\\site-packages\\\\IPython\\\\core\\\\interactiveshell.py'>,\n",
       " 'prompt_toolkit.application.current': <module 'prompt_toolkit.application.current' from 'd:\\\\PalacioMemoriaCodigo\\\\Python\\\\envi\\\\Lib\\\\site-packages\\\\prompt_toolkit\\\\application\\\\current.py'>,\n",
       " 'prompt_toolkit.eventloop.utils': <module 'prompt_toolkit.eventloop.utils' from 'd:\\\\PalacioMemoriaCodigo\\\\Python\\\\envi\\\\Lib\\\\site-packages\\\\prompt_toolkit\\\\eventloop\\\\utils.py'>,\n",
       " 'prompt_toolkit.eventloop.async_generator': <module 'prompt_toolkit.eventloop.async_generator' from 'd:\\\\PalacioMemoriaCodigo\\\\Python\\\\envi\\\\Lib\\\\site-packages\\\\prompt_toolkit\\\\eventloop\\\\async_generator.py'>,\n",
       " 'prompt_toolkit.eventloop.inputhook': <module 'prompt_toolkit.eventloop.inputhook' from 'd:\\\\PalacioMemoriaCodigo\\\\Python\\\\envi\\\\Lib\\\\site-packages\\\\prompt_toolkit\\\\eventloop\\\\inputhook.py'>,\n",
       " 'prompt_toolkit.eventloop': <module 'prompt_toolkit.eventloop' from 'd:\\\\PalacioMemoriaCodigo\\\\Python\\\\envi\\\\Lib\\\\site-packages\\\\prompt_toolkit\\\\eventloop\\\\__init__.py'>,\n",
       " 'prompt_toolkit.application.run_in_terminal': <module 'prompt_toolkit.application.run_in_terminal' from 'd:\\\\PalacioMemoriaCodigo\\\\Python\\\\envi\\\\Lib\\\\site-packages\\\\prompt_toolkit\\\\application\\\\run_in_terminal.py'>,\n",
       " 'prompt_toolkit.selection': <module 'prompt_toolkit.selection' from 'd:\\\\PalacioMemoriaCodigo\\\\Python\\\\envi\\\\Lib\\\\site-packages\\\\prompt_toolkit\\\\selection.py'>,\n",
       " 'prompt_toolkit.clipboard.base': <module 'prompt_toolkit.clipboard.base' from 'd:\\\\PalacioMemoriaCodigo\\\\Python\\\\envi\\\\Lib\\\\site-packages\\\\prompt_toolkit\\\\clipboard\\\\base.py'>,\n",
       " 'prompt_toolkit.clipboard.in_memory': <module 'prompt_toolkit.clipboard.in_memory' from 'd:\\\\PalacioMemoriaCodigo\\\\Python\\\\envi\\\\Lib\\\\site-packages\\\\prompt_toolkit\\\\clipboard\\\\in_memory.py'>,\n",
       " 'prompt_toolkit.clipboard': <module 'prompt_toolkit.clipboard' from 'd:\\\\PalacioMemoriaCodigo\\\\Python\\\\envi\\\\Lib\\\\site-packages\\\\prompt_toolkit\\\\clipboard\\\\__init__.py'>,\n",
       " 'prompt_toolkit.cache': <module 'prompt_toolkit.cache' from 'd:\\\\PalacioMemoriaCodigo\\\\Python\\\\envi\\\\Lib\\\\site-packages\\\\prompt_toolkit\\\\cache.py'>,\n",
       " 'prompt_toolkit.enums': <module 'prompt_toolkit.enums' from 'd:\\\\PalacioMemoriaCodigo\\\\Python\\\\envi\\\\Lib\\\\site-packages\\\\prompt_toolkit\\\\enums.py'>,\n",
       " 'prompt_toolkit.filters.base': <module 'prompt_toolkit.filters.base' from 'd:\\\\PalacioMemoriaCodigo\\\\Python\\\\envi\\\\Lib\\\\site-packages\\\\prompt_toolkit\\\\filters\\\\base.py'>,\n",
       " 'prompt_toolkit.filters.app': <module 'prompt_toolkit.filters.app' from 'd:\\\\PalacioMemoriaCodigo\\\\Python\\\\envi\\\\Lib\\\\site-packages\\\\prompt_toolkit\\\\filters\\\\app.py'>,\n",
       " 'prompt_toolkit.filters.cli': <module 'prompt_toolkit.filters.cli' from 'd:\\\\PalacioMemoriaCodigo\\\\Python\\\\envi\\\\Lib\\\\site-packages\\\\prompt_toolkit\\\\filters\\\\cli.py'>,\n",
       " 'prompt_toolkit.filters.utils': <module 'prompt_toolkit.filters.utils' from 'd:\\\\PalacioMemoriaCodigo\\\\Python\\\\envi\\\\Lib\\\\site-packages\\\\prompt_toolkit\\\\filters\\\\utils.py'>,\n",
       " 'prompt_toolkit.filters': <module 'prompt_toolkit.filters' from 'd:\\\\PalacioMemoriaCodigo\\\\Python\\\\envi\\\\Lib\\\\site-packages\\\\prompt_toolkit\\\\filters\\\\__init__.py'>,\n",
       " 'prompt_toolkit.document': <module 'prompt_toolkit.document' from 'd:\\\\PalacioMemoriaCodigo\\\\Python\\\\envi\\\\Lib\\\\site-packages\\\\prompt_toolkit\\\\document.py'>,\n",
       " 'prompt_toolkit.auto_suggest': <module 'prompt_toolkit.auto_suggest' from 'd:\\\\PalacioMemoriaCodigo\\\\Python\\\\envi\\\\Lib\\\\site-packages\\\\prompt_toolkit\\\\auto_suggest.py'>,\n",
       " 'prompt_toolkit.keys': <module 'prompt_toolkit.keys' from 'd:\\\\PalacioMemoriaCodigo\\\\Python\\\\envi\\\\Lib\\\\site-packages\\\\prompt_toolkit\\\\keys.py'>,\n",
       " 'prompt_toolkit.key_binding.key_bindings': <module 'prompt_toolkit.key_binding.key_bindings' from 'd:\\\\PalacioMemoriaCodigo\\\\Python\\\\envi\\\\Lib\\\\site-packages\\\\prompt_toolkit\\\\key_binding\\\\key_bindings.py'>,\n",
       " 'wcwidth.table_vs16': <module 'wcwidth.table_vs16' from 'd:\\\\PalacioMemoriaCodigo\\\\Python\\\\envi\\\\Lib\\\\site-packages\\\\wcwidth\\\\table_vs16.py'>,\n",
       " 'wcwidth.table_wide': <module 'wcwidth.table_wide' from 'd:\\\\PalacioMemoriaCodigo\\\\Python\\\\envi\\\\Lib\\\\site-packages\\\\wcwidth\\\\table_wide.py'>,\n",
       " 'wcwidth.table_zero': <module 'wcwidth.table_zero' from 'd:\\\\PalacioMemoriaCodigo\\\\Python\\\\envi\\\\Lib\\\\site-packages\\\\wcwidth\\\\table_zero.py'>,\n",
       " 'wcwidth.unicode_versions': <module 'wcwidth.unicode_versions' from 'd:\\\\PalacioMemoriaCodigo\\\\Python\\\\envi\\\\Lib\\\\site-packages\\\\wcwidth\\\\unicode_versions.py'>,\n",
       " 'wcwidth.wcwidth': <module 'wcwidth.wcwidth' from 'd:\\\\PalacioMemoriaCodigo\\\\Python\\\\envi\\\\Lib\\\\site-packages\\\\wcwidth\\\\wcwidth.py'>,\n",
       " 'wcwidth': <module 'wcwidth' from 'd:\\\\PalacioMemoriaCodigo\\\\Python\\\\envi\\\\Lib\\\\site-packages\\\\wcwidth\\\\__init__.py'>,\n",
       " 'prompt_toolkit.utils': <module 'prompt_toolkit.utils' from 'd:\\\\PalacioMemoriaCodigo\\\\Python\\\\envi\\\\Lib\\\\site-packages\\\\prompt_toolkit\\\\utils.py'>,\n",
       " 'prompt_toolkit.key_binding.key_processor': <module 'prompt_toolkit.key_binding.key_processor' from 'd:\\\\PalacioMemoriaCodigo\\\\Python\\\\envi\\\\Lib\\\\site-packages\\\\prompt_toolkit\\\\key_binding\\\\key_processor.py'>,\n",
       " 'prompt_toolkit.key_binding': <module 'prompt_toolkit.key_binding' from 'd:\\\\PalacioMemoriaCodigo\\\\Python\\\\envi\\\\Lib\\\\site-packages\\\\prompt_toolkit\\\\key_binding\\\\__init__.py'>,\n",
       " 'prompt_toolkit.key_binding.vi_state': <module 'prompt_toolkit.key_binding.vi_state' from 'd:\\\\PalacioMemoriaCodigo\\\\Python\\\\envi\\\\Lib\\\\site-packages\\\\prompt_toolkit\\\\key_binding\\\\vi_state.py'>,\n",
       " 'prompt_toolkit.cursor_shapes': <module 'prompt_toolkit.cursor_shapes' from 'd:\\\\PalacioMemoriaCodigo\\\\Python\\\\envi\\\\Lib\\\\site-packages\\\\prompt_toolkit\\\\cursor_shapes.py'>,\n",
       " 'prompt_toolkit.data_structures': <module 'prompt_toolkit.data_structures' from 'd:\\\\PalacioMemoriaCodigo\\\\Python\\\\envi\\\\Lib\\\\site-packages\\\\prompt_toolkit\\\\data_structures.py'>,\n",
       " 'prompt_toolkit.styles.base': <module 'prompt_toolkit.styles.base' from 'd:\\\\PalacioMemoriaCodigo\\\\Python\\\\envi\\\\Lib\\\\site-packages\\\\prompt_toolkit\\\\styles\\\\base.py'>,\n",
       " 'prompt_toolkit.styles.named_colors': <module 'prompt_toolkit.styles.named_colors' from 'd:\\\\PalacioMemoriaCodigo\\\\Python\\\\envi\\\\Lib\\\\site-packages\\\\prompt_toolkit\\\\styles\\\\named_colors.py'>,\n",
       " 'prompt_toolkit.styles.style': <module 'prompt_toolkit.styles.style' from 'd:\\\\PalacioMemoriaCodigo\\\\Python\\\\envi\\\\Lib\\\\site-packages\\\\prompt_toolkit\\\\styles\\\\style.py'>,\n",
       " 'prompt_toolkit.styles.defaults': <module 'prompt_toolkit.styles.defaults' from 'd:\\\\PalacioMemoriaCodigo\\\\Python\\\\envi\\\\Lib\\\\site-packages\\\\prompt_toolkit\\\\styles\\\\defaults.py'>,\n",
       " 'prompt_toolkit.styles.pygments': <module 'prompt_toolkit.styles.pygments' from 'd:\\\\PalacioMemoriaCodigo\\\\Python\\\\envi\\\\Lib\\\\site-packages\\\\prompt_toolkit\\\\styles\\\\pygments.py'>,\n",
       " 'colorsys': <module 'colorsys' from 'C:\\\\Users\\\\sculd\\\\AppData\\\\Local\\\\Programs\\\\Python\\\\Python312\\\\Lib\\\\colorsys.py'>,\n",
       " 'prompt_toolkit.styles.style_transformation': <module 'prompt_toolkit.styles.style_transformation' from 'd:\\\\PalacioMemoriaCodigo\\\\Python\\\\envi\\\\Lib\\\\site-packages\\\\prompt_toolkit\\\\styles\\\\style_transformation.py'>,\n",
       " 'prompt_toolkit.styles': <module 'prompt_toolkit.styles' from 'd:\\\\PalacioMemoriaCodigo\\\\Python\\\\envi\\\\Lib\\\\site-packages\\\\prompt_toolkit\\\\styles\\\\__init__.py'>,\n",
       " 'prompt_toolkit.output.color_depth': <module 'prompt_toolkit.output.color_depth' from 'd:\\\\PalacioMemoriaCodigo\\\\Python\\\\envi\\\\Lib\\\\site-packages\\\\prompt_toolkit\\\\output\\\\color_depth.py'>,\n",
       " 'prompt_toolkit.output.base': <module 'prompt_toolkit.output.base' from 'd:\\\\PalacioMemoriaCodigo\\\\Python\\\\envi\\\\Lib\\\\site-packages\\\\prompt_toolkit\\\\output\\\\base.py'>,\n",
       " 'prompt_toolkit.output.flush_stdout': <module 'prompt_toolkit.output.flush_stdout' from 'd:\\\\PalacioMemoriaCodigo\\\\Python\\\\envi\\\\Lib\\\\site-packages\\\\prompt_toolkit\\\\output\\\\flush_stdout.py'>,\n",
       " 'prompt_toolkit.output.plain_text': <module 'prompt_toolkit.output.plain_text' from 'd:\\\\PalacioMemoriaCodigo\\\\Python\\\\envi\\\\Lib\\\\site-packages\\\\prompt_toolkit\\\\output\\\\plain_text.py'>,\n",
       " 'prompt_toolkit.output.defaults': <module 'prompt_toolkit.output.defaults' from 'd:\\\\PalacioMemoriaCodigo\\\\Python\\\\envi\\\\Lib\\\\site-packages\\\\prompt_toolkit\\\\output\\\\defaults.py'>,\n",
       " 'prompt_toolkit.output': <module 'prompt_toolkit.output' from 'd:\\\\PalacioMemoriaCodigo\\\\Python\\\\envi\\\\Lib\\\\site-packages\\\\prompt_toolkit\\\\output\\\\__init__.py'>,\n",
       " 'prompt_toolkit.output.vt100': <module 'prompt_toolkit.output.vt100' from 'd:\\\\PalacioMemoriaCodigo\\\\Python\\\\envi\\\\Lib\\\\site-packages\\\\prompt_toolkit\\\\output\\\\vt100.py'>,\n",
       " 'prompt_toolkit.mouse_events': <module 'prompt_toolkit.mouse_events' from 'd:\\\\PalacioMemoriaCodigo\\\\Python\\\\envi\\\\Lib\\\\site-packages\\\\prompt_toolkit\\\\mouse_events.py'>,\n",
       " 'prompt_toolkit.formatted_text.base': <module 'prompt_toolkit.formatted_text.base' from 'd:\\\\PalacioMemoriaCodigo\\\\Python\\\\envi\\\\Lib\\\\site-packages\\\\prompt_toolkit\\\\formatted_text\\\\base.py'>,\n",
       " 'prompt_toolkit.formatted_text.ansi': <module 'prompt_toolkit.formatted_text.ansi' from 'd:\\\\PalacioMemoriaCodigo\\\\Python\\\\envi\\\\Lib\\\\site-packages\\\\prompt_toolkit\\\\formatted_text\\\\ansi.py'>,\n",
       " 'xml': <module 'xml' from 'C:\\\\Users\\\\sculd\\\\AppData\\\\Local\\\\Programs\\\\Python\\\\Python312\\\\Lib\\\\xml\\\\__init__.py'>,\n",
       " 'xml.dom.domreg': <module 'xml.dom.domreg' from 'C:\\\\Users\\\\sculd\\\\AppData\\\\Local\\\\Programs\\\\Python\\\\Python312\\\\Lib\\\\xml\\\\dom\\\\domreg.py'>,\n",
       " 'xml.dom': <module 'xml.dom' from 'C:\\\\Users\\\\sculd\\\\AppData\\\\Local\\\\Programs\\\\Python\\\\Python312\\\\Lib\\\\xml\\\\dom\\\\__init__.py'>,\n",
       " 'xml.dom.minicompat': <module 'xml.dom.minicompat' from 'C:\\\\Users\\\\sculd\\\\AppData\\\\Local\\\\Programs\\\\Python\\\\Python312\\\\Lib\\\\xml\\\\dom\\\\minicompat.py'>,\n",
       " 'xml.dom.NodeFilter': <module 'xml.dom.NodeFilter' from 'C:\\\\Users\\\\sculd\\\\AppData\\\\Local\\\\Programs\\\\Python\\\\Python312\\\\Lib\\\\xml\\\\dom\\\\NodeFilter.py'>,\n",
       " 'xml.dom.xmlbuilder': <module 'xml.dom.xmlbuilder' from 'C:\\\\Users\\\\sculd\\\\AppData\\\\Local\\\\Programs\\\\Python\\\\Python312\\\\Lib\\\\xml\\\\dom\\\\xmlbuilder.py'>,\n",
       " 'xml.dom.minidom': <module 'xml.dom.minidom' from 'C:\\\\Users\\\\sculd\\\\AppData\\\\Local\\\\Programs\\\\Python\\\\Python312\\\\Lib\\\\xml\\\\dom\\\\minidom.py'>,\n",
       " 'prompt_toolkit.formatted_text.html': <module 'prompt_toolkit.formatted_text.html' from 'd:\\\\PalacioMemoriaCodigo\\\\Python\\\\envi\\\\Lib\\\\site-packages\\\\prompt_toolkit\\\\formatted_text\\\\html.py'>,\n",
       " 'prompt_toolkit.formatted_text.pygments': <module 'prompt_toolkit.formatted_text.pygments' from 'd:\\\\PalacioMemoriaCodigo\\\\Python\\\\envi\\\\Lib\\\\site-packages\\\\prompt_toolkit\\\\formatted_text\\\\pygments.py'>,\n",
       " 'prompt_toolkit.formatted_text.utils': <module 'prompt_toolkit.formatted_text.utils' from 'd:\\\\PalacioMemoriaCodigo\\\\Python\\\\envi\\\\Lib\\\\site-packages\\\\prompt_toolkit\\\\formatted_text\\\\utils.py'>,\n",
       " 'prompt_toolkit.formatted_text': <module 'prompt_toolkit.formatted_text' from 'd:\\\\PalacioMemoriaCodigo\\\\Python\\\\envi\\\\Lib\\\\site-packages\\\\prompt_toolkit\\\\formatted_text\\\\__init__.py'>,\n",
       " 'prompt_toolkit.completion.base': <module 'prompt_toolkit.completion.base' from 'd:\\\\PalacioMemoriaCodigo\\\\Python\\\\envi\\\\Lib\\\\site-packages\\\\prompt_toolkit\\\\completion\\\\base.py'>,\n",
       " 'prompt_toolkit.completion.deduplicate': <module 'prompt_toolkit.completion.deduplicate' from 'd:\\\\PalacioMemoriaCodigo\\\\Python\\\\envi\\\\Lib\\\\site-packages\\\\prompt_toolkit\\\\completion\\\\deduplicate.py'>,\n",
       " 'prompt_toolkit.completion.filesystem': <module 'prompt_toolkit.completion.filesystem' from 'd:\\\\PalacioMemoriaCodigo\\\\Python\\\\envi\\\\Lib\\\\site-packages\\\\prompt_toolkit\\\\completion\\\\filesystem.py'>,\n",
       " 'prompt_toolkit.completion.word_completer': <module 'prompt_toolkit.completion.word_completer' from 'd:\\\\PalacioMemoriaCodigo\\\\Python\\\\envi\\\\Lib\\\\site-packages\\\\prompt_toolkit\\\\completion\\\\word_completer.py'>,\n",
       " 'prompt_toolkit.completion.fuzzy_completer': <module 'prompt_toolkit.completion.fuzzy_completer' from 'd:\\\\PalacioMemoriaCodigo\\\\Python\\\\envi\\\\Lib\\\\site-packages\\\\prompt_toolkit\\\\completion\\\\fuzzy_completer.py'>,\n",
       " 'prompt_toolkit.completion.nested': <module 'prompt_toolkit.completion.nested' from 'd:\\\\PalacioMemoriaCodigo\\\\Python\\\\envi\\\\Lib\\\\site-packages\\\\prompt_toolkit\\\\completion\\\\nested.py'>,\n",
       " 'prompt_toolkit.completion': <module 'prompt_toolkit.completion' from 'd:\\\\PalacioMemoriaCodigo\\\\Python\\\\envi\\\\Lib\\\\site-packages\\\\prompt_toolkit\\\\completion\\\\__init__.py'>,\n",
       " 'prompt_toolkit.history': <module 'prompt_toolkit.history' from 'd:\\\\PalacioMemoriaCodigo\\\\Python\\\\envi\\\\Lib\\\\site-packages\\\\prompt_toolkit\\\\history.py'>,\n",
       " 'prompt_toolkit.search': <module 'prompt_toolkit.search' from 'd:\\\\PalacioMemoriaCodigo\\\\Python\\\\envi\\\\Lib\\\\site-packages\\\\prompt_toolkit\\\\search.py'>,\n",
       " 'prompt_toolkit.validation': <module 'prompt_toolkit.validation' from 'd:\\\\PalacioMemoriaCodigo\\\\Python\\\\envi\\\\Lib\\\\site-packages\\\\prompt_toolkit\\\\validation.py'>,\n",
       " 'prompt_toolkit.buffer': <module 'prompt_toolkit.buffer' from 'd:\\\\PalacioMemoriaCodigo\\\\Python\\\\envi\\\\Lib\\\\site-packages\\\\prompt_toolkit\\\\buffer.py'>,\n",
       " 'prompt_toolkit.input.base': <module 'prompt_toolkit.input.base' from 'd:\\\\PalacioMemoriaCodigo\\\\Python\\\\envi\\\\Lib\\\\site-packages\\\\prompt_toolkit\\\\input\\\\base.py'>,\n",
       " 'prompt_toolkit.input.defaults': <module 'prompt_toolkit.input.defaults' from 'd:\\\\PalacioMemoriaCodigo\\\\Python\\\\envi\\\\Lib\\\\site-packages\\\\prompt_toolkit\\\\input\\\\defaults.py'>,\n",
       " 'prompt_toolkit.input': <module 'prompt_toolkit.input' from 'd:\\\\PalacioMemoriaCodigo\\\\Python\\\\envi\\\\Lib\\\\site-packages\\\\prompt_toolkit\\\\input\\\\__init__.py'>,\n",
       " 'prompt_toolkit.input.typeahead': <module 'prompt_toolkit.input.typeahead' from 'd:\\\\PalacioMemoriaCodigo\\\\Python\\\\envi\\\\Lib\\\\site-packages\\\\prompt_toolkit\\\\input\\\\typeahead.py'>,\n",
       " 'prompt_toolkit.key_binding.bindings': <module 'prompt_toolkit.key_binding.bindings' from 'd:\\\\PalacioMemoriaCodigo\\\\Python\\\\envi\\\\Lib\\\\site-packages\\\\prompt_toolkit\\\\key_binding\\\\bindings\\\\__init__.py'>,\n",
       " 'prompt_toolkit.key_binding.bindings.scroll': <module 'prompt_toolkit.key_binding.bindings.scroll' from 'd:\\\\PalacioMemoriaCodigo\\\\Python\\\\envi\\\\Lib\\\\site-packages\\\\prompt_toolkit\\\\key_binding\\\\bindings\\\\scroll.py'>,\n",
       " 'prompt_toolkit.key_binding.bindings.page_navigation': <module 'prompt_toolkit.key_binding.bindings.page_navigation' from 'd:\\\\PalacioMemoriaCodigo\\\\Python\\\\envi\\\\Lib\\\\site-packages\\\\prompt_toolkit\\\\key_binding\\\\bindings\\\\page_navigation.py'>,\n",
       " 'prompt_toolkit.lexers.base': <module 'prompt_toolkit.lexers.base' from 'd:\\\\PalacioMemoriaCodigo\\\\Python\\\\envi\\\\Lib\\\\site-packages\\\\prompt_toolkit\\\\lexers\\\\base.py'>,\n",
       " 'prompt_toolkit.lexers.pygments': <module 'prompt_toolkit.lexers.pygments' from 'd:\\\\PalacioMemoriaCodigo\\\\Python\\\\envi\\\\Lib\\\\site-packages\\\\prompt_toolkit\\\\lexers\\\\pygments.py'>,\n",
       " 'prompt_toolkit.lexers': <module 'prompt_toolkit.lexers' from 'd:\\\\PalacioMemoriaCodigo\\\\Python\\\\envi\\\\Lib\\\\site-packages\\\\prompt_toolkit\\\\lexers\\\\__init__.py'>,\n",
       " 'prompt_toolkit.layout.utils': <module 'prompt_toolkit.layout.utils' from 'd:\\\\PalacioMemoriaCodigo\\\\Python\\\\envi\\\\Lib\\\\site-packages\\\\prompt_toolkit\\\\layout\\\\utils.py'>,\n",
       " 'prompt_toolkit.layout.processors': <module 'prompt_toolkit.layout.processors' from 'd:\\\\PalacioMemoriaCodigo\\\\Python\\\\envi\\\\Lib\\\\site-packages\\\\prompt_toolkit\\\\layout\\\\processors.py'>,\n",
       " 'prompt_toolkit.layout.controls': <module 'prompt_toolkit.layout.controls' from 'd:\\\\PalacioMemoriaCodigo\\\\Python\\\\envi\\\\Lib\\\\site-packages\\\\prompt_toolkit\\\\layout\\\\controls.py'>,\n",
       " 'prompt_toolkit.layout.dimension': <module 'prompt_toolkit.layout.dimension' from 'd:\\\\PalacioMemoriaCodigo\\\\Python\\\\envi\\\\Lib\\\\site-packages\\\\prompt_toolkit\\\\layout\\\\dimension.py'>,\n",
       " 'prompt_toolkit.layout.margins': <module 'prompt_toolkit.layout.margins' from 'd:\\\\PalacioMemoriaCodigo\\\\Python\\\\envi\\\\Lib\\\\site-packages\\\\prompt_toolkit\\\\layout\\\\margins.py'>,\n",
       " 'prompt_toolkit.layout.mouse_handlers': <module 'prompt_toolkit.layout.mouse_handlers' from 'd:\\\\PalacioMemoriaCodigo\\\\Python\\\\envi\\\\Lib\\\\site-packages\\\\prompt_toolkit\\\\layout\\\\mouse_handlers.py'>,\n",
       " 'prompt_toolkit.layout.screen': <module 'prompt_toolkit.layout.screen' from 'd:\\\\PalacioMemoriaCodigo\\\\Python\\\\envi\\\\Lib\\\\site-packages\\\\prompt_toolkit\\\\layout\\\\screen.py'>,\n",
       " 'prompt_toolkit.layout.containers': <module 'prompt_toolkit.layout.containers' from 'd:\\\\PalacioMemoriaCodigo\\\\Python\\\\envi\\\\Lib\\\\site-packages\\\\prompt_toolkit\\\\layout\\\\containers.py'>,\n",
       " 'prompt_toolkit.layout.layout': <module 'prompt_toolkit.layout.layout' from 'd:\\\\PalacioMemoriaCodigo\\\\Python\\\\envi\\\\Lib\\\\site-packages\\\\prompt_toolkit\\\\layout\\\\layout.py'>,\n",
       " 'prompt_toolkit.layout.menus': <module 'prompt_toolkit.layout.menus' from 'd:\\\\PalacioMemoriaCodigo\\\\Python\\\\envi\\\\Lib\\\\site-packages\\\\prompt_toolkit\\\\layout\\\\menus.py'>,\n",
       " 'prompt_toolkit.layout.scrollable_pane': <module 'prompt_toolkit.layout.scrollable_pane' from 'd:\\\\PalacioMemoriaCodigo\\\\Python\\\\envi\\\\Lib\\\\site-packages\\\\prompt_toolkit\\\\layout\\\\scrollable_pane.py'>,\n",
       " 'prompt_toolkit.layout': <module 'prompt_toolkit.layout' from 'd:\\\\PalacioMemoriaCodigo\\\\Python\\\\envi\\\\Lib\\\\site-packages\\\\prompt_toolkit\\\\layout\\\\__init__.py'>,\n",
       " 'prompt_toolkit.key_binding.bindings.completion': <module 'prompt_toolkit.key_binding.bindings.completion' from 'd:\\\\PalacioMemoriaCodigo\\\\Python\\\\envi\\\\Lib\\\\site-packages\\\\prompt_toolkit\\\\key_binding\\\\bindings\\\\completion.py'>,\n",
       " 'prompt_toolkit.key_binding.bindings.named_commands': <module 'prompt_toolkit.key_binding.bindings.named_commands' from 'd:\\\\PalacioMemoriaCodigo\\\\Python\\\\envi\\\\Lib\\\\site-packages\\\\prompt_toolkit\\\\key_binding\\\\bindings\\\\named_commands.py'>,\n",
       " 'prompt_toolkit.key_binding.bindings.basic': <module 'prompt_toolkit.key_binding.bindings.basic' from 'd:\\\\PalacioMemoriaCodigo\\\\Python\\\\envi\\\\Lib\\\\site-packages\\\\prompt_toolkit\\\\key_binding\\\\bindings\\\\basic.py'>,\n",
       " 'prompt_toolkit.key_binding.bindings.cpr': <module 'prompt_toolkit.key_binding.bindings.cpr' from 'd:\\\\PalacioMemoriaCodigo\\\\Python\\\\envi\\\\Lib\\\\site-packages\\\\prompt_toolkit\\\\key_binding\\\\bindings\\\\cpr.py'>,\n",
       " 'prompt_toolkit.key_binding.bindings.emacs': <module 'prompt_toolkit.key_binding.bindings.emacs' from 'd:\\\\PalacioMemoriaCodigo\\\\Python\\\\envi\\\\Lib\\\\site-packages\\\\prompt_toolkit\\\\key_binding\\\\bindings\\\\emacs.py'>,\n",
       " 'prompt_toolkit.key_binding.bindings.mouse': <module 'prompt_toolkit.key_binding.bindings.mouse' from 'd:\\\\PalacioMemoriaCodigo\\\\Python\\\\envi\\\\Lib\\\\site-packages\\\\prompt_toolkit\\\\key_binding\\\\bindings\\\\mouse.py'>,\n",
       " 'prompt_toolkit.input.ansi_escape_sequences': <module 'prompt_toolkit.input.ansi_escape_sequences' from 'd:\\\\PalacioMemoriaCodigo\\\\Python\\\\envi\\\\Lib\\\\site-packages\\\\prompt_toolkit\\\\input\\\\ansi_escape_sequences.py'>,\n",
       " 'prompt_toolkit.input.vt100_parser': <module 'prompt_toolkit.input.vt100_parser' from 'd:\\\\PalacioMemoriaCodigo\\\\Python\\\\envi\\\\Lib\\\\site-packages\\\\prompt_toolkit\\\\input\\\\vt100_parser.py'>,\n",
       " 'prompt_toolkit.key_binding.digraphs': <module 'prompt_toolkit.key_binding.digraphs' from 'd:\\\\PalacioMemoriaCodigo\\\\Python\\\\envi\\\\Lib\\\\site-packages\\\\prompt_toolkit\\\\key_binding\\\\digraphs.py'>,\n",
       " 'prompt_toolkit.key_binding.bindings.vi': <module 'prompt_toolkit.key_binding.bindings.vi' from 'd:\\\\PalacioMemoriaCodigo\\\\Python\\\\envi\\\\Lib\\\\site-packages\\\\prompt_toolkit\\\\key_binding\\\\bindings\\\\vi.py'>,\n",
       " 'prompt_toolkit.key_binding.defaults': <module 'prompt_toolkit.key_binding.defaults' from 'd:\\\\PalacioMemoriaCodigo\\\\Python\\\\envi\\\\Lib\\\\site-packages\\\\prompt_toolkit\\\\key_binding\\\\defaults.py'>,\n",
       " 'prompt_toolkit.key_binding.emacs_state': <module 'prompt_toolkit.key_binding.emacs_state' from 'd:\\\\PalacioMemoriaCodigo\\\\Python\\\\envi\\\\Lib\\\\site-packages\\\\prompt_toolkit\\\\key_binding\\\\emacs_state.py'>,\n",
       " 'prompt_toolkit.layout.dummy': <module 'prompt_toolkit.layout.dummy' from 'd:\\\\PalacioMemoriaCodigo\\\\Python\\\\envi\\\\Lib\\\\site-packages\\\\prompt_toolkit\\\\layout\\\\dummy.py'>,\n",
       " 'prompt_toolkit.renderer': <module 'prompt_toolkit.renderer' from 'd:\\\\PalacioMemoriaCodigo\\\\Python\\\\envi\\\\Lib\\\\site-packages\\\\prompt_toolkit\\\\renderer.py'>,\n",
       " 'prompt_toolkit.application.application': <module 'prompt_toolkit.application.application' from 'd:\\\\PalacioMemoriaCodigo\\\\Python\\\\envi\\\\Lib\\\\site-packages\\\\prompt_toolkit\\\\application\\\\application.py'>,\n",
       " 'prompt_toolkit.application.dummy': <module 'prompt_toolkit.application.dummy' from 'd:\\\\PalacioMemoriaCodigo\\\\Python\\\\envi\\\\Lib\\\\site-packages\\\\prompt_toolkit\\\\application\\\\dummy.py'>,\n",
       " 'prompt_toolkit.application': <module 'prompt_toolkit.application' from 'd:\\\\PalacioMemoriaCodigo\\\\Python\\\\envi\\\\Lib\\\\site-packages\\\\prompt_toolkit\\\\application\\\\__init__.py'>,\n",
       " 'prompt_toolkit.key_binding.bindings.focus': <module 'prompt_toolkit.key_binding.bindings.focus' from 'd:\\\\PalacioMemoriaCodigo\\\\Python\\\\envi\\\\Lib\\\\site-packages\\\\prompt_toolkit\\\\key_binding\\\\bindings\\\\focus.py'>,\n",
       " 'prompt_toolkit.widgets.toolbars': <module 'prompt_toolkit.widgets.toolbars' from 'd:\\\\PalacioMemoriaCodigo\\\\Python\\\\envi\\\\Lib\\\\site-packages\\\\prompt_toolkit\\\\widgets\\\\toolbars.py'>,\n",
       " 'prompt_toolkit.widgets.base': <module 'prompt_toolkit.widgets.base' from 'd:\\\\PalacioMemoriaCodigo\\\\Python\\\\envi\\\\Lib\\\\site-packages\\\\prompt_toolkit\\\\widgets\\\\base.py'>,\n",
       " 'prompt_toolkit.widgets.dialogs': <module 'prompt_toolkit.widgets.dialogs' from 'd:\\\\PalacioMemoriaCodigo\\\\Python\\\\envi\\\\Lib\\\\site-packages\\\\prompt_toolkit\\\\widgets\\\\dialogs.py'>,\n",
       " 'prompt_toolkit.widgets.menus': <module 'prompt_toolkit.widgets.menus' from 'd:\\\\PalacioMemoriaCodigo\\\\Python\\\\envi\\\\Lib\\\\site-packages\\\\prompt_toolkit\\\\widgets\\\\menus.py'>,\n",
       " 'prompt_toolkit.widgets': <module 'prompt_toolkit.widgets' from 'd:\\\\PalacioMemoriaCodigo\\\\Python\\\\envi\\\\Lib\\\\site-packages\\\\prompt_toolkit\\\\widgets\\\\__init__.py'>,\n",
       " 'prompt_toolkit.shortcuts.dialogs': <module 'prompt_toolkit.shortcuts.dialogs' from 'd:\\\\PalacioMemoriaCodigo\\\\Python\\\\envi\\\\Lib\\\\site-packages\\\\prompt_toolkit\\\\shortcuts\\\\dialogs.py'>,\n",
       " 'prompt_toolkit.shortcuts.progress_bar.formatters': <module 'prompt_toolkit.shortcuts.progress_bar.formatters' from 'd:\\\\PalacioMemoriaCodigo\\\\Python\\\\envi\\\\Lib\\\\site-packages\\\\prompt_toolkit\\\\shortcuts\\\\progress_bar\\\\formatters.py'>,\n",
       " 'prompt_toolkit.shortcuts.progress_bar.base': <module 'prompt_toolkit.shortcuts.progress_bar.base' from 'd:\\\\PalacioMemoriaCodigo\\\\Python\\\\envi\\\\Lib\\\\site-packages\\\\prompt_toolkit\\\\shortcuts\\\\progress_bar\\\\base.py'>,\n",
       " 'prompt_toolkit.shortcuts.progress_bar': <module 'prompt_toolkit.shortcuts.progress_bar' from 'd:\\\\PalacioMemoriaCodigo\\\\Python\\\\envi\\\\Lib\\\\site-packages\\\\prompt_toolkit\\\\shortcuts\\\\progress_bar\\\\__init__.py'>,\n",
       " 'prompt_toolkit.key_binding.bindings.auto_suggest': <module 'prompt_toolkit.key_binding.bindings.auto_suggest' from 'd:\\\\PalacioMemoriaCodigo\\\\Python\\\\envi\\\\Lib\\\\site-packages\\\\prompt_toolkit\\\\key_binding\\\\bindings\\\\auto_suggest.py'>,\n",
       " 'prompt_toolkit.key_binding.bindings.open_in_editor': <module 'prompt_toolkit.key_binding.bindings.open_in_editor' from 'd:\\\\PalacioMemoriaCodigo\\\\Python\\\\envi\\\\Lib\\\\site-packages\\\\prompt_toolkit\\\\key_binding\\\\bindings\\\\open_in_editor.py'>,\n",
       " 'prompt_toolkit.shortcuts.prompt': <module 'prompt_toolkit.shortcuts.prompt' from 'd:\\\\PalacioMemoriaCodigo\\\\Python\\\\envi\\\\Lib\\\\site-packages\\\\prompt_toolkit\\\\shortcuts\\\\prompt.py'>,\n",
       " 'prompt_toolkit.shortcuts.utils': <module 'prompt_toolkit.shortcuts.utils' from 'd:\\\\PalacioMemoriaCodigo\\\\Python\\\\envi\\\\Lib\\\\site-packages\\\\prompt_toolkit\\\\shortcuts\\\\utils.py'>,\n",
       " 'prompt_toolkit.shortcuts': <module 'prompt_toolkit.shortcuts' from 'd:\\\\PalacioMemoriaCodigo\\\\Python\\\\envi\\\\Lib\\\\site-packages\\\\prompt_toolkit\\\\shortcuts\\\\__init__.py'>,\n",
       " 'prompt_toolkit': <module 'prompt_toolkit' from 'd:\\\\PalacioMemoriaCodigo\\\\Python\\\\envi\\\\Lib\\\\site-packages\\\\prompt_toolkit\\\\__init__.py'>,\n",
       " 'prompt_toolkit.patch_stdout': <module 'prompt_toolkit.patch_stdout' from 'd:\\\\PalacioMemoriaCodigo\\\\Python\\\\envi\\\\Lib\\\\site-packages\\\\prompt_toolkit\\\\patch_stdout.py'>,\n",
       " 'unicodedata': <module 'unicodedata' from 'C:\\\\Users\\\\sculd\\\\AppData\\\\Local\\\\Programs\\\\Python\\\\Python312\\\\DLLs\\\\unicodedata.pyd'>,\n",
       " 'IPython.core.guarded_eval': <module 'IPython.core.guarded_eval' from 'd:\\\\PalacioMemoriaCodigo\\\\Python\\\\envi\\\\Lib\\\\site-packages\\\\IPython\\\\core\\\\guarded_eval.py'>,\n",
       " 'IPython.core.latex_symbols': <module 'IPython.core.latex_symbols' from 'd:\\\\PalacioMemoriaCodigo\\\\Python\\\\envi\\\\Lib\\\\site-packages\\\\IPython\\\\core\\\\latex_symbols.py'>,\n",
       " 'IPython.utils.generics': <module 'IPython.utils.generics' from 'd:\\\\PalacioMemoriaCodigo\\\\Python\\\\envi\\\\Lib\\\\site-packages\\\\IPython\\\\utils\\\\generics.py'>,\n",
       " 'parso.utils': <module 'parso.utils' from 'd:\\\\PalacioMemoriaCodigo\\\\Python\\\\envi\\\\Lib\\\\site-packages\\\\parso\\\\utils.py'>,\n",
       " 'parso.tree': <module 'parso.tree' from 'd:\\\\PalacioMemoriaCodigo\\\\Python\\\\envi\\\\Lib\\\\site-packages\\\\parso\\\\tree.py'>,\n",
       " 'parso.python': <module 'parso.python' from 'd:\\\\PalacioMemoriaCodigo\\\\Python\\\\envi\\\\Lib\\\\site-packages\\\\parso\\\\python\\\\__init__.py'>,\n",
       " 'parso.python.token': <module 'parso.python.token' from 'd:\\\\PalacioMemoriaCodigo\\\\Python\\\\envi\\\\Lib\\\\site-packages\\\\parso\\\\python\\\\token.py'>,\n",
       " 'parso.python.tokenize': <module 'parso.python.tokenize' from 'd:\\\\PalacioMemoriaCodigo\\\\Python\\\\envi\\\\Lib\\\\site-packages\\\\parso\\\\python\\\\tokenize.py'>,\n",
       " 'parso.pgen2.grammar_parser': <module 'parso.pgen2.grammar_parser' from 'd:\\\\PalacioMemoriaCodigo\\\\Python\\\\envi\\\\Lib\\\\site-packages\\\\parso\\\\pgen2\\\\grammar_parser.py'>,\n",
       " 'parso.pgen2.generator': <module 'parso.pgen2.generator' from 'd:\\\\PalacioMemoriaCodigo\\\\Python\\\\envi\\\\Lib\\\\site-packages\\\\parso\\\\pgen2\\\\generator.py'>,\n",
       " 'parso.pgen2': <module 'parso.pgen2' from 'd:\\\\PalacioMemoriaCodigo\\\\Python\\\\envi\\\\Lib\\\\site-packages\\\\parso\\\\pgen2\\\\__init__.py'>,\n",
       " 'parso.parser': <module 'parso.parser' from 'd:\\\\PalacioMemoriaCodigo\\\\Python\\\\envi\\\\Lib\\\\site-packages\\\\parso\\\\parser.py'>,\n",
       " 'parso._compatibility': <module 'parso._compatibility' from 'd:\\\\PalacioMemoriaCodigo\\\\Python\\\\envi\\\\Lib\\\\site-packages\\\\parso\\\\_compatibility.py'>,\n",
       " 'difflib': <module 'difflib' from 'C:\\\\Users\\\\sculd\\\\AppData\\\\Local\\\\Programs\\\\Python\\\\Python312\\\\Lib\\\\difflib.py'>,\n",
       " 'parso.python.prefix': <module 'parso.python.prefix' from 'd:\\\\PalacioMemoriaCodigo\\\\Python\\\\envi\\\\Lib\\\\site-packages\\\\parso\\\\python\\\\prefix.py'>,\n",
       " 'parso.python.tree': <module 'parso.python.tree' from 'd:\\\\PalacioMemoriaCodigo\\\\Python\\\\envi\\\\Lib\\\\site-packages\\\\parso\\\\python\\\\tree.py'>,\n",
       " 'parso.python.parser': <module 'parso.python.parser' from 'd:\\\\PalacioMemoriaCodigo\\\\Python\\\\envi\\\\Lib\\\\site-packages\\\\parso\\\\python\\\\parser.py'>,\n",
       " 'parso.python.diff': <module 'parso.python.diff' from 'd:\\\\PalacioMemoriaCodigo\\\\Python\\\\envi\\\\Lib\\\\site-packages\\\\parso\\\\python\\\\diff.py'>,\n",
       " 'gc': <module 'gc' (built-in)>,\n",
       " 'parso.cache': <module 'parso.cache' from 'd:\\\\PalacioMemoriaCodigo\\\\Python\\\\envi\\\\Lib\\\\site-packages\\\\parso\\\\cache.py'>,\n",
       " 'parso.normalizer': <module 'parso.normalizer' from 'd:\\\\PalacioMemoriaCodigo\\\\Python\\\\envi\\\\Lib\\\\site-packages\\\\parso\\\\normalizer.py'>,\n",
       " 'parso.python.errors': <module 'parso.python.errors' from 'd:\\\\PalacioMemoriaCodigo\\\\Python\\\\envi\\\\Lib\\\\site-packages\\\\parso\\\\python\\\\errors.py'>,\n",
       " 'parso.python.pep8': <module 'parso.python.pep8' from 'd:\\\\PalacioMemoriaCodigo\\\\Python\\\\envi\\\\Lib\\\\site-packages\\\\parso\\\\python\\\\pep8.py'>,\n",
       " 'parso.file_io': <module 'parso.file_io' from 'd:\\\\PalacioMemoriaCodigo\\\\Python\\\\envi\\\\Lib\\\\site-packages\\\\parso\\\\file_io.py'>,\n",
       " 'parso.grammar': <module 'parso.grammar' from 'd:\\\\PalacioMemoriaCodigo\\\\Python\\\\envi\\\\Lib\\\\site-packages\\\\parso\\\\grammar.py'>,\n",
       " 'parso': <module 'parso' from 'd:\\\\PalacioMemoriaCodigo\\\\Python\\\\envi\\\\Lib\\\\site-packages\\\\parso\\\\__init__.py'>,\n",
       " 'jedi.parser_utils': <module 'jedi.parser_utils' from 'd:\\\\PalacioMemoriaCodigo\\\\Python\\\\envi\\\\Lib\\\\site-packages\\\\jedi\\\\parser_utils.py'>,\n",
       " 'jedi.debug': <module 'jedi.debug' from 'd:\\\\PalacioMemoriaCodigo\\\\Python\\\\envi\\\\Lib\\\\site-packages\\\\jedi\\\\debug.py'>,\n",
       " 'jedi.settings': <module 'jedi.settings' from 'd:\\\\PalacioMemoriaCodigo\\\\Python\\\\envi\\\\Lib\\\\site-packages\\\\jedi\\\\settings.py'>,\n",
       " 'jedi.cache': <module 'jedi.cache' from 'd:\\\\PalacioMemoriaCodigo\\\\Python\\\\envi\\\\Lib\\\\site-packages\\\\jedi\\\\cache.py'>,\n",
       " 'jedi.file_io': <module 'jedi.file_io' from 'd:\\\\PalacioMemoriaCodigo\\\\Python\\\\envi\\\\Lib\\\\site-packages\\\\jedi\\\\file_io.py'>,\n",
       " 'jedi.inference.cache': <module 'jedi.inference.cache' from 'd:\\\\PalacioMemoriaCodigo\\\\Python\\\\envi\\\\Lib\\\\site-packages\\\\jedi\\\\inference\\\\cache.py'>,\n",
       " 'jedi.inference.helpers': <module 'jedi.inference.helpers' from 'd:\\\\PalacioMemoriaCodigo\\\\Python\\\\envi\\\\Lib\\\\site-packages\\\\jedi\\\\inference\\\\helpers.py'>,\n",
       " 'jedi.inference.utils': <module 'jedi.inference.utils' from 'd:\\\\PalacioMemoriaCodigo\\\\Python\\\\envi\\\\Lib\\\\site-packages\\\\jedi\\\\inference\\\\utils.py'>,\n",
       " 'jedi.inference.base_value': <module 'jedi.inference.base_value' from 'd:\\\\PalacioMemoriaCodigo\\\\Python\\\\envi\\\\Lib\\\\site-packages\\\\jedi\\\\inference\\\\base_value.py'>,\n",
       " 'jedi.inference.sys_path': <module 'jedi.inference.sys_path' from 'd:\\\\PalacioMemoriaCodigo\\\\Python\\\\envi\\\\Lib\\\\site-packages\\\\jedi\\\\inference\\\\sys_path.py'>,\n",
       " 'jedi.inference.recursion': <module 'jedi.inference.recursion' from 'd:\\\\PalacioMemoriaCodigo\\\\Python\\\\envi\\\\Lib\\\\site-packages\\\\jedi\\\\inference\\\\recursion.py'>,\n",
       " 'jedi.inference.flow_analysis': <module 'jedi.inference.flow_analysis' from 'd:\\\\PalacioMemoriaCodigo\\\\Python\\\\envi\\\\Lib\\\\site-packages\\\\jedi\\\\inference\\\\flow_analysis.py'>,\n",
       " 'jedi.common': <module 'jedi.common' from 'd:\\\\PalacioMemoriaCodigo\\\\Python\\\\envi\\\\Lib\\\\site-packages\\\\jedi\\\\common.py'>,\n",
       " 'jedi.inference.lazy_value': <module 'jedi.inference.lazy_value' from 'd:\\\\PalacioMemoriaCodigo\\\\Python\\\\envi\\\\Lib\\\\site-packages\\\\jedi\\\\inference\\\\lazy_value.py'>,\n",
       " 'jedi.inference.docstrings': <module 'jedi.inference.docstrings' from 'd:\\\\PalacioMemoriaCodigo\\\\Python\\\\envi\\\\Lib\\\\site-packages\\\\jedi\\\\inference\\\\docstrings.py'>,\n",
       " 'jedi.plugins': <module 'jedi.plugins' from 'd:\\\\PalacioMemoriaCodigo\\\\Python\\\\envi\\\\Lib\\\\site-packages\\\\jedi\\\\plugins\\\\__init__.py'>,\n",
       " 'jedi.inference.names': <module 'jedi.inference.names' from 'd:\\\\PalacioMemoriaCodigo\\\\Python\\\\envi\\\\Lib\\\\site-packages\\\\jedi\\\\inference\\\\names.py'>,\n",
       " 'jedi.inference.filters': <module 'jedi.inference.filters' from 'd:\\\\PalacioMemoriaCodigo\\\\Python\\\\envi\\\\Lib\\\\site-packages\\\\jedi\\\\inference\\\\filters.py'>,\n",
       " 'jedi.inference.compiled.getattr_static': <module 'jedi.inference.compiled.getattr_static' from 'd:\\\\PalacioMemoriaCodigo\\\\Python\\\\envi\\\\Lib\\\\site-packages\\\\jedi\\\\inference\\\\compiled\\\\getattr_static.py'>,\n",
       " 'jedi.inference.compiled.access': <module 'jedi.inference.compiled.access' from 'd:\\\\PalacioMemoriaCodigo\\\\Python\\\\envi\\\\Lib\\\\site-packages\\\\jedi\\\\inference\\\\compiled\\\\access.py'>,\n",
       " 'jedi.inference.signature': <module 'jedi.inference.signature' from 'd:\\\\PalacioMemoriaCodigo\\\\Python\\\\envi\\\\Lib\\\\site-packages\\\\jedi\\\\inference\\\\signature.py'>,\n",
       " 'jedi.inference.context': <module 'jedi.inference.context' from 'd:\\\\PalacioMemoriaCodigo\\\\Python\\\\envi\\\\Lib\\\\site-packages\\\\jedi\\\\inference\\\\context.py'>,\n",
       " 'jedi.inference.compiled.value': <module 'jedi.inference.compiled.value' from 'd:\\\\PalacioMemoriaCodigo\\\\Python\\\\envi\\\\Lib\\\\site-packages\\\\jedi\\\\inference\\\\compiled\\\\value.py'>,\n",
       " 'jedi.inference.compiled': <module 'jedi.inference.compiled' from 'd:\\\\PalacioMemoriaCodigo\\\\Python\\\\envi\\\\Lib\\\\site-packages\\\\jedi\\\\inference\\\\compiled\\\\__init__.py'>,\n",
       " 'jedi.inference.analysis': <module 'jedi.inference.analysis' from 'd:\\\\PalacioMemoriaCodigo\\\\Python\\\\envi\\\\Lib\\\\site-packages\\\\jedi\\\\inference\\\\analysis.py'>,\n",
       " 'jedi.inference.gradual': <module 'jedi.inference.gradual' from 'd:\\\\PalacioMemoriaCodigo\\\\Python\\\\envi\\\\Lib\\\\site-packages\\\\jedi\\\\inference\\\\gradual\\\\__init__.py'>,\n",
       " 'jedi.inference.value.module': <module 'jedi.inference.value.module' from 'd:\\\\PalacioMemoriaCodigo\\\\Python\\\\envi\\\\Lib\\\\site-packages\\\\jedi\\\\inference\\\\value\\\\module.py'>,\n",
       " 'jedi.inference.value.dynamic_arrays': <module 'jedi.inference.value.dynamic_arrays' from 'd:\\\\PalacioMemoriaCodigo\\\\Python\\\\envi\\\\Lib\\\\site-packages\\\\jedi\\\\inference\\\\value\\\\dynamic_arrays.py'>,\n",
       " 'jedi.inference.value.iterable': <module 'jedi.inference.value.iterable' from 'd:\\\\PalacioMemoriaCodigo\\\\Python\\\\envi\\\\Lib\\\\site-packages\\\\jedi\\\\inference\\\\value\\\\iterable.py'>,\n",
       " 'jedi.inference.arguments': <module 'jedi.inference.arguments' from 'd:\\\\PalacioMemoriaCodigo\\\\Python\\\\envi\\\\Lib\\\\site-packages\\\\jedi\\\\inference\\\\arguments.py'>,\n",
       " 'jedi.inference.parser_cache': <module 'jedi.inference.parser_cache' from 'd:\\\\PalacioMemoriaCodigo\\\\Python\\\\envi\\\\Lib\\\\site-packages\\\\jedi\\\\inference\\\\parser_cache.py'>,\n",
       " 'jedi.inference.gradual.generics': <module 'jedi.inference.gradual.generics' from 'd:\\\\PalacioMemoriaCodigo\\\\Python\\\\envi\\\\Lib\\\\site-packages\\\\jedi\\\\inference\\\\gradual\\\\generics.py'>,\n",
       " 'jedi.inference.value.function': <module 'jedi.inference.value.function' from 'd:\\\\PalacioMemoriaCodigo\\\\Python\\\\envi\\\\Lib\\\\site-packages\\\\jedi\\\\inference\\\\value\\\\function.py'>,\n",
       " 'jedi.inference.value.klass': <module 'jedi.inference.value.klass' from 'd:\\\\PalacioMemoriaCodigo\\\\Python\\\\envi\\\\Lib\\\\site-packages\\\\jedi\\\\inference\\\\value\\\\klass.py'>,\n",
       " 'jedi.inference.value.instance': <module 'jedi.inference.value.instance' from 'd:\\\\PalacioMemoriaCodigo\\\\Python\\\\envi\\\\Lib\\\\site-packages\\\\jedi\\\\inference\\\\value\\\\instance.py'>,\n",
       " 'jedi.inference.value': <module 'jedi.inference.value' from 'd:\\\\PalacioMemoriaCodigo\\\\Python\\\\envi\\\\Lib\\\\site-packages\\\\jedi\\\\inference\\\\value\\\\__init__.py'>,\n",
       " 'jedi.inference.gradual.base': <module 'jedi.inference.gradual.base' from 'd:\\\\PalacioMemoriaCodigo\\\\Python\\\\envi\\\\Lib\\\\site-packages\\\\jedi\\\\inference\\\\gradual\\\\base.py'>,\n",
       " 'jedi.inference.gradual.type_var': <module 'jedi.inference.gradual.type_var' from 'd:\\\\PalacioMemoriaCodigo\\\\Python\\\\envi\\\\Lib\\\\site-packages\\\\jedi\\\\inference\\\\gradual\\\\type_var.py'>,\n",
       " 'jedi.inference.gradual.typing': <module 'jedi.inference.gradual.typing' from 'd:\\\\PalacioMemoriaCodigo\\\\Python\\\\envi\\\\Lib\\\\site-packages\\\\jedi\\\\inference\\\\gradual\\\\typing.py'>,\n",
       " 'jedi.inference.gradual.stub_value': <module 'jedi.inference.gradual.stub_value' from 'd:\\\\PalacioMemoriaCodigo\\\\Python\\\\envi\\\\Lib\\\\site-packages\\\\jedi\\\\inference\\\\gradual\\\\stub_value.py'>,\n",
       " 'jedi.inference.gradual.typeshed': <module 'jedi.inference.gradual.typeshed' from 'd:\\\\PalacioMemoriaCodigo\\\\Python\\\\envi\\\\Lib\\\\site-packages\\\\jedi\\\\inference\\\\gradual\\\\typeshed.py'>,\n",
       " 'jedi._compatibility': <module 'jedi._compatibility' from 'd:\\\\PalacioMemoriaCodigo\\\\Python\\\\envi\\\\Lib\\\\site-packages\\\\jedi\\\\_compatibility.py'>,\n",
       " 'jedi.inference.compiled.subprocess.functions': <module 'jedi.inference.compiled.subprocess.functions' from 'd:\\\\PalacioMemoriaCodigo\\\\Python\\\\envi\\\\Lib\\\\site-packages\\\\jedi\\\\inference\\\\compiled\\\\subprocess\\\\functions.py'>,\n",
       " 'jedi.api.exceptions': <module 'jedi.api.exceptions' from 'd:\\\\PalacioMemoriaCodigo\\\\Python\\\\envi\\\\Lib\\\\site-packages\\\\jedi\\\\api\\\\exceptions.py'>,\n",
       " 'jedi.inference.compiled.subprocess': <module 'jedi.inference.compiled.subprocess' from 'd:\\\\PalacioMemoriaCodigo\\\\Python\\\\envi\\\\Lib\\\\site-packages\\\\jedi\\\\inference\\\\compiled\\\\subprocess\\\\__init__.py'>,\n",
       " 'jedi.inference.imports': <module 'jedi.inference.imports' from 'd:\\\\PalacioMemoriaCodigo\\\\Python\\\\envi\\\\Lib\\\\site-packages\\\\jedi\\\\inference\\\\imports.py'>,\n",
       " 'jedi.inference.param': <module 'jedi.inference.param' from 'd:\\\\PalacioMemoriaCodigo\\\\Python\\\\envi\\\\Lib\\\\site-packages\\\\jedi\\\\inference\\\\param.py'>,\n",
       " 'jedi.inference.gradual.annotation': <module 'jedi.inference.gradual.annotation' from 'd:\\\\PalacioMemoriaCodigo\\\\Python\\\\envi\\\\Lib\\\\site-packages\\\\jedi\\\\inference\\\\gradual\\\\annotation.py'>,\n",
       " 'jedi.inference.value.decorator': <module 'jedi.inference.value.decorator' from 'd:\\\\PalacioMemoriaCodigo\\\\Python\\\\envi\\\\Lib\\\\site-packages\\\\jedi\\\\inference\\\\value\\\\decorator.py'>,\n",
       " 'jedi.inference.syntax_tree': <module 'jedi.inference.syntax_tree' from 'd:\\\\PalacioMemoriaCodigo\\\\Python\\\\envi\\\\Lib\\\\site-packages\\\\jedi\\\\inference\\\\syntax_tree.py'>,\n",
       " 'jedi.inference': <module 'jedi.inference' from 'd:\\\\PalacioMemoriaCodigo\\\\Python\\\\envi\\\\Lib\\\\site-packages\\\\jedi\\\\inference\\\\__init__.py'>,\n",
       " 'jedi.inference.gradual.conversion': <module 'jedi.inference.gradual.conversion' from 'd:\\\\PalacioMemoriaCodigo\\\\Python\\\\envi\\\\Lib\\\\site-packages\\\\jedi\\\\inference\\\\gradual\\\\conversion.py'>,\n",
       " 'jedi.inference.compiled.mixed': <module 'jedi.inference.compiled.mixed' from 'd:\\\\PalacioMemoriaCodigo\\\\Python\\\\envi\\\\Lib\\\\site-packages\\\\jedi\\\\inference\\\\compiled\\\\mixed.py'>,\n",
       " 'pydoc_data': <module 'pydoc_data' from 'C:\\\\Users\\\\sculd\\\\AppData\\\\Local\\\\Programs\\\\Python\\\\Python312\\\\Lib\\\\pydoc_data\\\\__init__.py'>,\n",
       " 'pydoc_data.topics': <module 'pydoc_data.topics' from 'C:\\\\Users\\\\sculd\\\\AppData\\\\Local\\\\Programs\\\\Python\\\\Python312\\\\Lib\\\\pydoc_data\\\\topics.py'>,\n",
       " 'jedi.api.keywords': <module 'jedi.api.keywords' from 'd:\\\\PalacioMemoriaCodigo\\\\Python\\\\envi\\\\Lib\\\\site-packages\\\\jedi\\\\api\\\\keywords.py'>,\n",
       " 'jedi.api.completion_cache': <module 'jedi.api.completion_cache' from 'd:\\\\PalacioMemoriaCodigo\\\\Python\\\\envi\\\\Lib\\\\site-packages\\\\jedi\\\\api\\\\completion_cache.py'>,\n",
       " 'jedi.api.helpers': <module 'jedi.api.helpers' from 'd:\\\\PalacioMemoriaCodigo\\\\Python\\\\envi\\\\Lib\\\\site-packages\\\\jedi\\\\api\\\\helpers.py'>,\n",
       " 'jedi.api.classes': <module 'jedi.api.classes' from 'd:\\\\PalacioMemoriaCodigo\\\\Python\\\\envi\\\\Lib\\\\site-packages\\\\jedi\\\\api\\\\classes.py'>,\n",
       " 'jedi.api.interpreter': <module 'jedi.api.interpreter' from 'd:\\\\PalacioMemoriaCodigo\\\\Python\\\\envi\\\\Lib\\\\site-packages\\\\jedi\\\\api\\\\interpreter.py'>,\n",
       " 'jedi.api.strings': <module 'jedi.api.strings' from 'd:\\\\PalacioMemoriaCodigo\\\\Python\\\\envi\\\\Lib\\\\site-packages\\\\jedi\\\\api\\\\strings.py'>,\n",
       " 'jedi.api.file_name': <module 'jedi.api.file_name' from 'd:\\\\PalacioMemoriaCodigo\\\\Python\\\\envi\\\\Lib\\\\site-packages\\\\jedi\\\\api\\\\file_name.py'>,\n",
       " 'jedi.inference.docstring_utils': <module 'jedi.inference.docstring_utils' from 'd:\\\\PalacioMemoriaCodigo\\\\Python\\\\envi\\\\Lib\\\\site-packages\\\\jedi\\\\inference\\\\docstring_utils.py'>,\n",
       " 'jedi.api.completion': <module 'jedi.api.completion' from 'd:\\\\PalacioMemoriaCodigo\\\\Python\\\\envi\\\\Lib\\\\site-packages\\\\jedi\\\\api\\\\completion.py'>,\n",
       " 'filecmp': <module 'filecmp' from 'C:\\\\Users\\\\sculd\\\\AppData\\\\Local\\\\Programs\\\\Python\\\\Python312\\\\Lib\\\\filecmp.py'>,\n",
       " 'jedi.api.environment': <module 'jedi.api.environment' from 'd:\\\\PalacioMemoriaCodigo\\\\Python\\\\envi\\\\Lib\\\\site-packages\\\\jedi\\\\api\\\\environment.py'>,\n",
       " 'jedi.inference.references': <module 'jedi.inference.references' from 'd:\\\\PalacioMemoriaCodigo\\\\Python\\\\envi\\\\Lib\\\\site-packages\\\\jedi\\\\inference\\\\references.py'>,\n",
       " 'jedi.api.project': <module 'jedi.api.project' from 'd:\\\\PalacioMemoriaCodigo\\\\Python\\\\envi\\\\Lib\\\\site-packages\\\\jedi\\\\api\\\\project.py'>,\n",
       " 'jedi.api.errors': <module 'jedi.api.errors' from 'd:\\\\PalacioMemoriaCodigo\\\\Python\\\\envi\\\\Lib\\\\site-packages\\\\jedi\\\\api\\\\errors.py'>,\n",
       " 'jedi.inference.value.namespace': <module 'jedi.inference.value.namespace' from 'd:\\\\PalacioMemoriaCodigo\\\\Python\\\\envi\\\\Lib\\\\site-packages\\\\jedi\\\\inference\\\\value\\\\namespace.py'>,\n",
       " 'jedi.api.refactoring': <module 'jedi.api.refactoring' from 'd:\\\\PalacioMemoriaCodigo\\\\Python\\\\envi\\\\Lib\\\\site-packages\\\\jedi\\\\api\\\\refactoring\\\\__init__.py'>,\n",
       " 'jedi.api.refactoring.extract': <module 'jedi.api.refactoring.extract' from 'd:\\\\PalacioMemoriaCodigo\\\\Python\\\\envi\\\\Lib\\\\site-packages\\\\jedi\\\\api\\\\refactoring\\\\extract.py'>,\n",
       " 'jedi.inference.gradual.utils': <module 'jedi.inference.gradual.utils' from 'd:\\\\PalacioMemoriaCodigo\\\\Python\\\\envi\\\\Lib\\\\site-packages\\\\jedi\\\\inference\\\\gradual\\\\utils.py'>,\n",
       " 'jedi.api': <module 'jedi.api' from 'd:\\\\PalacioMemoriaCodigo\\\\Python\\\\envi\\\\Lib\\\\site-packages\\\\jedi\\\\api\\\\__init__.py'>,\n",
       " 'jedi.plugins.stdlib': <module 'jedi.plugins.stdlib' from 'd:\\\\PalacioMemoriaCodigo\\\\Python\\\\envi\\\\Lib\\\\site-packages\\\\jedi\\\\plugins\\\\stdlib.py'>,\n",
       " 'jedi.plugins.flask': <module 'jedi.plugins.flask' from 'd:\\\\PalacioMemoriaCodigo\\\\Python\\\\envi\\\\Lib\\\\site-packages\\\\jedi\\\\plugins\\\\flask.py'>,\n",
       " 'jedi.plugins.pytest': <module 'jedi.plugins.pytest' from 'd:\\\\PalacioMemoriaCodigo\\\\Python\\\\envi\\\\Lib\\\\site-packages\\\\jedi\\\\plugins\\\\pytest.py'>,\n",
       " 'jedi.plugins.django': <module 'jedi.plugins.django' from 'd:\\\\PalacioMemoriaCodigo\\\\Python\\\\envi\\\\Lib\\\\site-packages\\\\jedi\\\\plugins\\\\django.py'>,\n",
       " 'jedi.plugins.registry': <module 'jedi.plugins.registry' from 'd:\\\\PalacioMemoriaCodigo\\\\Python\\\\envi\\\\Lib\\\\site-packages\\\\jedi\\\\plugins\\\\registry.py'>,\n",
       " 'jedi': <module 'jedi' from 'd:\\\\PalacioMemoriaCodigo\\\\Python\\\\envi\\\\Lib\\\\site-packages\\\\jedi\\\\__init__.py'>,\n",
       " 'IPython.core.completer': <module 'IPython.core.completer' from 'd:\\\\PalacioMemoriaCodigo\\\\Python\\\\envi\\\\Lib\\\\site-packages\\\\IPython\\\\core\\\\completer.py'>,\n",
       " 'IPython.terminal.ptutils': <module 'IPython.terminal.ptutils' from 'd:\\\\PalacioMemoriaCodigo\\\\Python\\\\envi\\\\Lib\\\\site-packages\\\\IPython\\\\terminal\\\\ptutils.py'>,\n",
       " 'IPython.terminal.shortcuts.auto_match': <module 'IPython.terminal.shortcuts.auto_match' from 'd:\\\\PalacioMemoriaCodigo\\\\Python\\\\envi\\\\Lib\\\\site-packages\\\\IPython\\\\terminal\\\\shortcuts\\\\auto_match.py'>,\n",
       " 'IPython.terminal.shortcuts.filters': <module 'IPython.terminal.shortcuts.filters' from 'd:\\\\PalacioMemoriaCodigo\\\\Python\\\\envi\\\\Lib\\\\site-packages\\\\IPython\\\\terminal\\\\shortcuts\\\\filters.py'>,\n",
       " 'IPython.terminal.shortcuts.auto_suggest': <module 'IPython.terminal.shortcuts.auto_suggest' from 'd:\\\\PalacioMemoriaCodigo\\\\Python\\\\envi\\\\Lib\\\\site-packages\\\\IPython\\\\terminal\\\\shortcuts\\\\auto_suggest.py'>,\n",
       " 'IPython.lib.clipboard': <module 'IPython.lib.clipboard' from 'd:\\\\PalacioMemoriaCodigo\\\\Python\\\\envi\\\\Lib\\\\site-packages\\\\IPython\\\\lib\\\\clipboard.py'>,\n",
       " 'IPython.terminal.shortcuts': <module 'IPython.terminal.shortcuts' from 'd:\\\\PalacioMemoriaCodigo\\\\Python\\\\envi\\\\Lib\\\\site-packages\\\\IPython\\\\terminal\\\\shortcuts\\\\__init__.py'>,\n",
       " 'concurrent.futures.thread': <module 'concurrent.futures.thread' from 'C:\\\\Users\\\\sculd\\\\AppData\\\\Local\\\\Programs\\\\Python\\\\Python312\\\\Lib\\\\concurrent\\\\futures\\\\thread.py'>,\n",
       " 'IPython.terminal.debugger': <module 'IPython.terminal.debugger' from 'd:\\\\PalacioMemoriaCodigo\\\\Python\\\\envi\\\\Lib\\\\site-packages\\\\IPython\\\\terminal\\\\debugger.py'>,\n",
       " 'IPython.terminal.magics': <module 'IPython.terminal.magics' from 'd:\\\\PalacioMemoriaCodigo\\\\Python\\\\envi\\\\Lib\\\\site-packages\\\\IPython\\\\terminal\\\\magics.py'>,\n",
       " 'IPython.terminal.pt_inputhooks': <module 'IPython.terminal.pt_inputhooks' from 'd:\\\\PalacioMemoriaCodigo\\\\Python\\\\envi\\\\Lib\\\\site-packages\\\\IPython\\\\terminal\\\\pt_inputhooks\\\\__init__.py'>,\n",
       " 'IPython.terminal.prompts': <module 'IPython.terminal.prompts' from 'd:\\\\PalacioMemoriaCodigo\\\\Python\\\\envi\\\\Lib\\\\site-packages\\\\IPython\\\\terminal\\\\prompts.py'>,\n",
       " 'IPython.terminal.interactiveshell': <module 'IPython.terminal.interactiveshell' from 'd:\\\\PalacioMemoriaCodigo\\\\Python\\\\envi\\\\Lib\\\\site-packages\\\\IPython\\\\terminal\\\\interactiveshell.py'>,\n",
       " 'IPython.core.magics.auto': <module 'IPython.core.magics.auto' from 'd:\\\\PalacioMemoriaCodigo\\\\Python\\\\envi\\\\Lib\\\\site-packages\\\\IPython\\\\core\\\\magics\\\\auto.py'>,\n",
       " 'IPython.core.magics.basic': <module 'IPython.core.magics.basic' from 'd:\\\\PalacioMemoriaCodigo\\\\Python\\\\envi\\\\Lib\\\\site-packages\\\\IPython\\\\core\\\\magics\\\\basic.py'>,\n",
       " 'http': <module 'http' from 'C:\\\\Users\\\\sculd\\\\AppData\\\\Local\\\\Programs\\\\Python\\\\Python312\\\\Lib\\\\http\\\\__init__.py'>,\n",
       " 'email.feedparser': <module 'email.feedparser' from 'C:\\\\Users\\\\sculd\\\\AppData\\\\Local\\\\Programs\\\\Python\\\\Python312\\\\Lib\\\\email\\\\feedparser.py'>,\n",
       " 'email.parser': <module 'email.parser' from 'C:\\\\Users\\\\sculd\\\\AppData\\\\Local\\\\Programs\\\\Python\\\\Python312\\\\Lib\\\\email\\\\parser.py'>,\n",
       " 'http.client': <module 'http.client' from 'C:\\\\Users\\\\sculd\\\\AppData\\\\Local\\\\Programs\\\\Python\\\\Python312\\\\Lib\\\\http\\\\client.py'>,\n",
       " 'urllib.response': <module 'urllib.response' from 'C:\\\\Users\\\\sculd\\\\AppData\\\\Local\\\\Programs\\\\Python\\\\Python312\\\\Lib\\\\urllib\\\\response.py'>,\n",
       " 'urllib.error': <module 'urllib.error' from 'C:\\\\Users\\\\sculd\\\\AppData\\\\Local\\\\Programs\\\\Python\\\\Python312\\\\Lib\\\\urllib\\\\error.py'>,\n",
       " 'nturl2path': <module 'nturl2path' from 'C:\\\\Users\\\\sculd\\\\AppData\\\\Local\\\\Programs\\\\Python\\\\Python312\\\\Lib\\\\nturl2path.py'>,\n",
       " 'urllib.request': <module 'urllib.request' from 'C:\\\\Users\\\\sculd\\\\AppData\\\\Local\\\\Programs\\\\Python\\\\Python312\\\\Lib\\\\urllib\\\\request.py'>,\n",
       " 'IPython.utils.contexts': <module 'IPython.utils.contexts' from 'd:\\\\PalacioMemoriaCodigo\\\\Python\\\\envi\\\\Lib\\\\site-packages\\\\IPython\\\\utils\\\\contexts.py'>,\n",
       " 'IPython.core.magics.code': <module 'IPython.core.magics.code' from 'd:\\\\PalacioMemoriaCodigo\\\\Python\\\\envi\\\\Lib\\\\site-packages\\\\IPython\\\\core\\\\magics\\\\code.py'>,\n",
       " 'IPython.core.magics.config': <module 'IPython.core.magics.config' from 'd:\\\\PalacioMemoriaCodigo\\\\Python\\\\envi\\\\Lib\\\\site-packages\\\\IPython\\\\core\\\\magics\\\\config.py'>,\n",
       " 'IPython.core.magics.display': <module 'IPython.core.magics.display' from 'd:\\\\PalacioMemoriaCodigo\\\\Python\\\\envi\\\\Lib\\\\site-packages\\\\IPython\\\\core\\\\magics\\\\display.py'>,\n",
       " '_lsprof': <module '_lsprof' (built-in)>,\n",
       " 'profile': <module 'profile' from 'C:\\\\Users\\\\sculd\\\\AppData\\\\Local\\\\Programs\\\\Python\\\\Python312\\\\Lib\\\\profile.py'>,\n",
       " 'cProfile': <module 'cProfile' from 'C:\\\\Users\\\\sculd\\\\AppData\\\\Local\\\\Programs\\\\Python\\\\Python312\\\\Lib\\\\cProfile.py'>,\n",
       " 'pstats': <module 'pstats' from 'C:\\\\Users\\\\sculd\\\\AppData\\\\Local\\\\Programs\\\\Python\\\\Python312\\\\Lib\\\\pstats.py'>,\n",
       " 'timeit': <module 'timeit' from 'C:\\\\Users\\\\sculd\\\\AppData\\\\Local\\\\Programs\\\\Python\\\\Python312\\\\Lib\\\\timeit.py'>,\n",
       " 'IPython.utils.module_paths': <module 'IPython.utils.module_paths' from 'd:\\\\PalacioMemoriaCodigo\\\\Python\\\\envi\\\\Lib\\\\site-packages\\\\IPython\\\\utils\\\\module_paths.py'>,\n",
       " 'IPython.utils.timing': <module 'IPython.utils.timing' from 'd:\\\\PalacioMemoriaCodigo\\\\Python\\\\envi\\\\Lib\\\\site-packages\\\\IPython\\\\utils\\\\timing.py'>,\n",
       " 'IPython.core.magics.ast_mod': <module 'IPython.core.magics.ast_mod' from 'd:\\\\PalacioMemoriaCodigo\\\\Python\\\\envi\\\\Lib\\\\site-packages\\\\IPython\\\\core\\\\magics\\\\ast_mod.py'>,\n",
       " 'IPython.core.magics.execution': <module 'IPython.core.magics.execution' from 'd:\\\\PalacioMemoriaCodigo\\\\Python\\\\envi\\\\Lib\\\\site-packages\\\\IPython\\\\core\\\\magics\\\\execution.py'>,\n",
       " 'IPython.core.magics.extension': <module 'IPython.core.magics.extension' from 'd:\\\\PalacioMemoriaCodigo\\\\Python\\\\envi\\\\Lib\\\\site-packages\\\\IPython\\\\core\\\\magics\\\\extension.py'>,\n",
       " 'IPython.core.magics.history': <module 'IPython.core.magics.history' from 'd:\\\\PalacioMemoriaCodigo\\\\Python\\\\envi\\\\Lib\\\\site-packages\\\\IPython\\\\core\\\\magics\\\\history.py'>,\n",
       " 'IPython.core.magics.logging': <module 'IPython.core.magics.logging' from 'd:\\\\PalacioMemoriaCodigo\\\\Python\\\\envi\\\\Lib\\\\site-packages\\\\IPython\\\\core\\\\magics\\\\logging.py'>,\n",
       " 'IPython.core.magics.namespace': <module 'IPython.core.magics.namespace' from 'd:\\\\PalacioMemoriaCodigo\\\\Python\\\\envi\\\\Lib\\\\site-packages\\\\IPython\\\\core\\\\magics\\\\namespace.py'>,\n",
       " 'IPython.core.magics.osm': <module 'IPython.core.magics.osm' from 'd:\\\\PalacioMemoriaCodigo\\\\Python\\\\envi\\\\Lib\\\\site-packages\\\\IPython\\\\core\\\\magics\\\\osm.py'>,\n",
       " 'IPython.core.magics.packaging': <module 'IPython.core.magics.packaging' from 'd:\\\\PalacioMemoriaCodigo\\\\Python\\\\envi\\\\Lib\\\\site-packages\\\\IPython\\\\core\\\\magics\\\\packaging.py'>,\n",
       " 'IPython.core.magics.pylab': <module 'IPython.core.magics.pylab' from 'd:\\\\PalacioMemoriaCodigo\\\\Python\\\\envi\\\\Lib\\\\site-packages\\\\IPython\\\\core\\\\magics\\\\pylab.py'>,\n",
       " 'IPython.core.magics.script': <module 'IPython.core.magics.script' from 'd:\\\\PalacioMemoriaCodigo\\\\Python\\\\envi\\\\Lib\\\\site-packages\\\\IPython\\\\core\\\\magics\\\\script.py'>,\n",
       " 'IPython.core.magics': <module 'IPython.core.magics' from 'd:\\\\PalacioMemoriaCodigo\\\\Python\\\\envi\\\\Lib\\\\site-packages\\\\IPython\\\\core\\\\magics\\\\__init__.py'>,\n",
       " 'IPython.core.shellapp': <module 'IPython.core.shellapp' from 'd:\\\\PalacioMemoriaCodigo\\\\Python\\\\envi\\\\Lib\\\\site-packages\\\\IPython\\\\core\\\\shellapp.py'>,\n",
       " 'IPython.extensions': <module 'IPython.extensions' from 'd:\\\\PalacioMemoriaCodigo\\\\Python\\\\envi\\\\Lib\\\\site-packages\\\\IPython\\\\extensions\\\\__init__.py'>,\n",
       " 'IPython.extensions.storemagic': <module 'IPython.extensions.storemagic' from 'd:\\\\PalacioMemoriaCodigo\\\\Python\\\\envi\\\\Lib\\\\site-packages\\\\IPython\\\\extensions\\\\storemagic.py'>,\n",
       " 'IPython.terminal.ipapp': <module 'IPython.terminal.ipapp' from 'd:\\\\PalacioMemoriaCodigo\\\\Python\\\\envi\\\\Lib\\\\site-packages\\\\IPython\\\\terminal\\\\ipapp.py'>,\n",
       " 'IPython.terminal.embed': <module 'IPython.terminal.embed' from 'd:\\\\PalacioMemoriaCodigo\\\\Python\\\\envi\\\\Lib\\\\site-packages\\\\IPython\\\\terminal\\\\embed.py'>,\n",
       " 'IPython.utils.frame': <module 'IPython.utils.frame' from 'd:\\\\PalacioMemoriaCodigo\\\\Python\\\\envi\\\\Lib\\\\site-packages\\\\IPython\\\\utils\\\\frame.py'>,\n",
       " 'IPython': <module 'IPython' from 'd:\\\\PalacioMemoriaCodigo\\\\Python\\\\envi\\\\Lib\\\\site-packages\\\\IPython\\\\__init__.py'>,\n",
       " 'ipykernel.control': <module 'ipykernel.control' from 'd:\\\\PalacioMemoriaCodigo\\\\Python\\\\envi\\\\Lib\\\\site-packages\\\\ipykernel\\\\control.py'>,\n",
       " 'ipykernel.heartbeat': <module 'ipykernel.heartbeat' from 'd:\\\\PalacioMemoriaCodigo\\\\Python\\\\envi\\\\Lib\\\\site-packages\\\\ipykernel\\\\heartbeat.py'>,\n",
       " 'ipykernel.iostream': <module 'ipykernel.iostream' from 'd:\\\\PalacioMemoriaCodigo\\\\Python\\\\envi\\\\Lib\\\\site-packages\\\\ipykernel\\\\iostream.py'>,\n",
       " 'comm.base_comm': <module 'comm.base_comm' from 'd:\\\\PalacioMemoriaCodigo\\\\Python\\\\envi\\\\Lib\\\\site-packages\\\\comm\\\\base_comm.py'>,\n",
       " 'comm': <module 'comm' from 'd:\\\\PalacioMemoriaCodigo\\\\Python\\\\envi\\\\Lib\\\\site-packages\\\\comm\\\\__init__.py'>,\n",
       " 'ipykernel.jsonutil': <module 'ipykernel.jsonutil' from 'd:\\\\PalacioMemoriaCodigo\\\\Python\\\\envi\\\\Lib\\\\site-packages\\\\ipykernel\\\\jsonutil.py'>,\n",
       " 'psutil._common': <module 'psutil._common' from 'd:\\\\PalacioMemoriaCodigo\\\\Python\\\\envi\\\\Lib\\\\site-packages\\\\psutil\\\\_common.py'>,\n",
       " 'psutil._compat': <module 'psutil._compat' from 'd:\\\\PalacioMemoriaCodigo\\\\Python\\\\envi\\\\Lib\\\\site-packages\\\\psutil\\\\_compat.py'>,\n",
       " 'psutil._psutil_windows': <module 'psutil._psutil_windows' from 'd:\\\\PalacioMemoriaCodigo\\\\Python\\\\envi\\\\Lib\\\\site-packages\\\\psutil\\\\_psutil_windows.pyd'>,\n",
       " 'psutil._pswindows': <module 'psutil._pswindows' from 'd:\\\\PalacioMemoriaCodigo\\\\Python\\\\envi\\\\Lib\\\\site-packages\\\\psutil\\\\_pswindows.py'>,\n",
       " 'psutil': <module 'psutil' from 'd:\\\\PalacioMemoriaCodigo\\\\Python\\\\envi\\\\Lib\\\\site-packages\\\\psutil\\\\__init__.py'>,\n",
       " 'tornado.gen': <module 'tornado.gen' from 'd:\\\\PalacioMemoriaCodigo\\\\Python\\\\envi\\\\Lib\\\\site-packages\\\\tornado\\\\gen.py'>,\n",
       " 'tornado.locks': <module 'tornado.locks' from 'd:\\\\PalacioMemoriaCodigo\\\\Python\\\\envi\\\\Lib\\\\site-packages\\\\tornado\\\\locks.py'>,\n",
       " 'tornado.queues': <module 'tornado.queues' from 'd:\\\\PalacioMemoriaCodigo\\\\Python\\\\envi\\\\Lib\\\\site-packages\\\\tornado\\\\queues.py'>,\n",
       " 'ipykernel.kernelbase': <module 'ipykernel.kernelbase' from 'd:\\\\PalacioMemoriaCodigo\\\\Python\\\\envi\\\\Lib\\\\site-packages\\\\ipykernel\\\\kernelbase.py'>,\n",
       " 'ipykernel.comm.comm': <module 'ipykernel.comm.comm' from 'd:\\\\PalacioMemoriaCodigo\\\\Python\\\\envi\\\\Lib\\\\site-packages\\\\ipykernel\\\\comm\\\\comm.py'>,\n",
       " 'ipykernel.comm.manager': <module 'ipykernel.comm.manager' from 'd:\\\\PalacioMemoriaCodigo\\\\Python\\\\envi\\\\Lib\\\\site-packages\\\\ipykernel\\\\comm\\\\manager.py'>,\n",
       " 'ipykernel.comm': <module 'ipykernel.comm' from 'd:\\\\PalacioMemoriaCodigo\\\\Python\\\\envi\\\\Lib\\\\site-packages\\\\ipykernel\\\\comm\\\\__init__.py'>,\n",
       " 'ipykernel.compiler': <module 'ipykernel.compiler' from 'd:\\\\PalacioMemoriaCodigo\\\\Python\\\\envi\\\\Lib\\\\site-packages\\\\ipykernel\\\\compiler.py'>,\n",
       " 'packaging': <module 'packaging' from 'd:\\\\PalacioMemoriaCodigo\\\\Python\\\\envi\\\\Lib\\\\site-packages\\\\packaging\\\\__init__.py'>,\n",
       " 'packaging._structures': <module 'packaging._structures' from 'd:\\\\PalacioMemoriaCodigo\\\\Python\\\\envi\\\\Lib\\\\site-packages\\\\packaging\\\\_structures.py'>,\n",
       " 'packaging.version': <module 'packaging.version' from 'd:\\\\PalacioMemoriaCodigo\\\\Python\\\\envi\\\\Lib\\\\site-packages\\\\packaging\\\\version.py'>,\n",
       " 'ipykernel.eventloops': <module 'ipykernel.eventloops' from 'd:\\\\PalacioMemoriaCodigo\\\\Python\\\\envi\\\\Lib\\\\site-packages\\\\ipykernel\\\\eventloops.py'>,\n",
       " 'IPython.core.payloadpage': <module 'IPython.core.payloadpage' from 'd:\\\\PalacioMemoriaCodigo\\\\Python\\\\envi\\\\Lib\\\\site-packages\\\\IPython\\\\core\\\\payloadpage.py'>,\n",
       " 'ipykernel.displayhook': <module 'ipykernel.displayhook' from 'd:\\\\PalacioMemoriaCodigo\\\\Python\\\\envi\\\\Lib\\\\site-packages\\\\ipykernel\\\\displayhook.py'>,\n",
       " 'ipykernel.zmqshell': <module 'ipykernel.zmqshell' from 'd:\\\\PalacioMemoriaCodigo\\\\Python\\\\envi\\\\Lib\\\\site-packages\\\\ipykernel\\\\zmqshell.py'>,\n",
       " 'ipykernel.ipkernel': <module 'ipykernel.ipkernel' from 'd:\\\\PalacioMemoriaCodigo\\\\Python\\\\envi\\\\Lib\\\\site-packages\\\\ipykernel\\\\ipkernel.py'>,\n",
       " 'ipykernel.parentpoller': <module 'ipykernel.parentpoller' from 'd:\\\\PalacioMemoriaCodigo\\\\Python\\\\envi\\\\Lib\\\\site-packages\\\\ipykernel\\\\parentpoller.py'>,\n",
       " 'ipykernel.kernelapp': <module 'ipykernel.kernelapp' from 'd:\\\\PalacioMemoriaCodigo\\\\Python\\\\envi\\\\Lib\\\\site-packages\\\\ipykernel\\\\kernelapp.py'>,\n",
       " 'stringprep': <module 'stringprep' from 'C:\\\\Users\\\\sculd\\\\AppData\\\\Local\\\\Programs\\\\Python\\\\Python312\\\\Lib\\\\stringprep.py'>,\n",
       " 'encodings.idna': <module 'encodings.idna' from 'C:\\\\Users\\\\sculd\\\\AppData\\\\Local\\\\Programs\\\\Python\\\\Python312\\\\Lib\\\\encodings\\\\idna.py'>,\n",
       " 'tornado.platform': <module 'tornado.platform' from 'd:\\\\PalacioMemoriaCodigo\\\\Python\\\\envi\\\\Lib\\\\site-packages\\\\tornado\\\\platform\\\\__init__.py'>,\n",
       " 'tornado.platform.asyncio': <module 'tornado.platform.asyncio' from 'd:\\\\PalacioMemoriaCodigo\\\\Python\\\\envi\\\\Lib\\\\site-packages\\\\tornado\\\\platform\\\\asyncio.py'>,\n",
       " 'faulthandler': <module 'faulthandler' (built-in)>,\n",
       " 'debugpy._version': <module 'debugpy._version' from 'd:\\\\PalacioMemoriaCodigo\\\\Python\\\\envi\\\\Lib\\\\site-packages\\\\debugpy\\\\_version.py'>,\n",
       " 'debugpy.public_api': <module 'debugpy.public_api' from 'd:\\\\PalacioMemoriaCodigo\\\\Python\\\\envi\\\\Lib\\\\site-packages\\\\debugpy\\\\public_api.py'>,\n",
       " 'debugpy': <module 'debugpy' from 'd:\\\\PalacioMemoriaCodigo\\\\Python\\\\envi\\\\Lib\\\\site-packages\\\\debugpy\\\\__init__.py'>,\n",
       " 'debugpy._vendored._util': <module 'debugpy._vendored._util' from 'd:\\\\PalacioMemoriaCodigo\\\\Python\\\\envi\\\\Lib\\\\site-packages\\\\debugpy\\\\_vendored\\\\_util.py'>,\n",
       " 'debugpy._vendored': <module 'debugpy._vendored' from 'd:\\\\PalacioMemoriaCodigo\\\\Python\\\\envi\\\\Lib\\\\site-packages\\\\debugpy\\\\_vendored\\\\__init__.py'>,\n",
       " '_pydevd_bundle': <module '_pydevd_bundle' from 'd:\\\\PalacioMemoriaCodigo\\\\Python\\\\envi\\\\Lib\\\\site-packages\\\\debugpy\\\\_vendored\\\\pydevd\\\\_pydevd_bundle\\\\__init__.py'>,\n",
       " 'encodings.ascii': <module 'encodings.ascii' from 'C:\\\\Users\\\\sculd\\\\AppData\\\\Local\\\\Programs\\\\Python\\\\Python312\\\\Lib\\\\encodings\\\\ascii.py'>,\n",
       " 'encodings.latin_1': <module 'encodings.latin_1' from 'C:\\\\Users\\\\sculd\\\\AppData\\\\Local\\\\Programs\\\\Python\\\\Python312\\\\Lib\\\\encodings\\\\latin_1.py'>,\n",
       " '_pydevd_bundle.pydevd_vm_type': <module '_pydevd_bundle.pydevd_vm_type' from 'd:\\\\PalacioMemoriaCodigo\\\\Python\\\\envi\\\\Lib\\\\site-packages\\\\debugpy\\\\_vendored\\\\pydevd\\\\_pydevd_bundle\\\\pydevd_vm_type.py'>,\n",
       " '_pydev_bundle': <module '_pydev_bundle' from 'd:\\\\PalacioMemoriaCodigo\\\\Python\\\\envi\\\\Lib\\\\site-packages\\\\debugpy\\\\_vendored\\\\pydevd\\\\_pydev_bundle\\\\__init__.py'>,\n",
       " 'xmlrpc': <module 'xmlrpc' from 'C:\\\\Users\\\\sculd\\\\AppData\\\\Local\\\\Programs\\\\Python\\\\Python312\\\\Lib\\\\xmlrpc\\\\__init__.py'>,\n",
       " 'xml.parsers': <module 'xml.parsers' from 'C:\\\\Users\\\\sculd\\\\AppData\\\\Local\\\\Programs\\\\Python\\\\Python312\\\\Lib\\\\xml\\\\parsers\\\\__init__.py'>,\n",
       " 'pyexpat.errors': <module 'pyexpat.errors'>,\n",
       " 'pyexpat.model': <module 'pyexpat.model'>,\n",
       " 'pyexpat': <module 'pyexpat' from 'C:\\\\Users\\\\sculd\\\\AppData\\\\Local\\\\Programs\\\\Python\\\\Python312\\\\DLLs\\\\pyexpat.pyd'>,\n",
       " 'xml.parsers.expat.model': <module 'pyexpat.model'>,\n",
       " 'xml.parsers.expat.errors': <module 'pyexpat.errors'>,\n",
       " 'xml.parsers.expat': <module 'xml.parsers.expat' from 'C:\\\\Users\\\\sculd\\\\AppData\\\\Local\\\\Programs\\\\Python\\\\Python312\\\\Lib\\\\xml\\\\parsers\\\\expat.py'>,\n",
       " 'gzip': <module 'gzip' from 'C:\\\\Users\\\\sculd\\\\AppData\\\\Local\\\\Programs\\\\Python\\\\Python312\\\\Lib\\\\gzip.py'>,\n",
       " 'xmlrpc.client': <module 'xmlrpc.client' from 'C:\\\\Users\\\\sculd\\\\AppData\\\\Local\\\\Programs\\\\Python\\\\Python312\\\\Lib\\\\xmlrpc\\\\client.py'>,\n",
       " 'http.server': <module 'http.server' from 'C:\\\\Users\\\\sculd\\\\AppData\\\\Local\\\\Programs\\\\Python\\\\Python312\\\\Lib\\\\http\\\\server.py'>,\n",
       " 'xmlrpc.server': <module 'xmlrpc.server' from 'C:\\\\Users\\\\sculd\\\\AppData\\\\Local\\\\Programs\\\\Python\\\\Python312\\\\Lib\\\\xmlrpc\\\\server.py'>,\n",
       " '_pydev_bundle._pydev_saved_modules': <module '_pydev_bundle._pydev_saved_modules' from 'd:\\\\PalacioMemoriaCodigo\\\\Python\\\\envi\\\\Lib\\\\site-packages\\\\debugpy\\\\_vendored\\\\pydevd\\\\_pydev_bundle\\\\_pydev_saved_modules.py'>,\n",
       " '_pydevd_bundle.pydevd_constants': <module '_pydevd_bundle.pydevd_constants' from 'd:\\\\PalacioMemoriaCodigo\\\\Python\\\\envi\\\\Lib\\\\site-packages\\\\debugpy\\\\_vendored\\\\pydevd\\\\_pydevd_bundle\\\\pydevd_constants.py'>,\n",
       " '_pydev_runfiles': <module '_pydev_runfiles' from 'd:\\\\PalacioMemoriaCodigo\\\\Python\\\\envi\\\\Lib\\\\site-packages\\\\debugpy\\\\_vendored\\\\pydevd\\\\_pydev_runfiles\\\\__init__.py'>,\n",
       " '_pydevd_frame_eval': <module '_pydevd_frame_eval' from 'd:\\\\PalacioMemoriaCodigo\\\\Python\\\\envi\\\\Lib\\\\site-packages\\\\debugpy\\\\_vendored\\\\pydevd\\\\_pydevd_frame_eval\\\\__init__.py'>,\n",
       " 'pydev_ipython': <module 'pydev_ipython' from 'd:\\\\PalacioMemoriaCodigo\\\\Python\\\\envi\\\\Lib\\\\site-packages\\\\debugpy\\\\_vendored\\\\pydevd\\\\pydev_ipython\\\\__init__.py'>,\n",
       " 'pydevd_plugins': <module 'pydevd_plugins' from 'd:\\\\PalacioMemoriaCodigo\\\\Python\\\\envi\\\\Lib\\\\site-packages\\\\debugpy\\\\_vendored\\\\pydevd\\\\pydevd_plugins\\\\__init__.py'>,\n",
       " '_pydev_bundle.pydev_log': <module '_pydev_bundle.pydev_log' from 'd:\\\\PalacioMemoriaCodigo\\\\Python\\\\envi\\\\Lib\\\\site-packages\\\\debugpy\\\\_vendored\\\\pydevd\\\\_pydev_bundle\\\\pydev_log.py'>,\n",
       " '_pydev_bundle._pydev_filesystem_encoding': <module '_pydev_bundle._pydev_filesystem_encoding' from 'd:\\\\PalacioMemoriaCodigo\\\\Python\\\\envi\\\\Lib\\\\site-packages\\\\debugpy\\\\_vendored\\\\pydevd\\\\_pydev_bundle\\\\_pydev_filesystem_encoding.py'>,\n",
       " '_pydevd_bundle.pydevd_comm_constants': <module '_pydevd_bundle.pydevd_comm_constants' from 'd:\\\\PalacioMemoriaCodigo\\\\Python\\\\envi\\\\Lib\\\\site-packages\\\\debugpy\\\\_vendored\\\\pydevd\\\\_pydevd_bundle\\\\pydevd_comm_constants.py'>,\n",
       " 'pydevd_file_utils': <module 'pydevd_file_utils' from 'd:\\\\PalacioMemoriaCodigo\\\\Python\\\\envi\\\\Lib\\\\site-packages\\\\debugpy\\\\_vendored\\\\pydevd\\\\pydevd_file_utils.py'>,\n",
       " '_pydev_bundle._pydev_execfile': <module '_pydev_bundle._pydev_execfile' from 'd:\\\\PalacioMemoriaCodigo\\\\Python\\\\envi\\\\Lib\\\\site-packages\\\\debugpy\\\\_vendored\\\\pydevd\\\\_pydev_bundle\\\\_pydev_execfile.py'>,\n",
       " '_pydevd_bundle.pydevd_exec2': <module '_pydevd_bundle.pydevd_exec2' from 'd:\\\\PalacioMemoriaCodigo\\\\Python\\\\envi\\\\Lib\\\\site-packages\\\\debugpy\\\\_vendored\\\\pydevd\\\\_pydevd_bundle\\\\pydevd_exec2.py'>,\n",
       " '_pydev_bundle.pydev_imports': <module '_pydev_bundle.pydev_imports' from 'd:\\\\PalacioMemoriaCodigo\\\\Python\\\\envi\\\\Lib\\\\site-packages\\\\debugpy\\\\_vendored\\\\pydevd\\\\_pydev_bundle\\\\pydev_imports.py'>,\n",
       " '_pydev_bundle.pydev_is_thread_alive': <module '_pydev_bundle.pydev_is_thread_alive' from 'd:\\\\PalacioMemoriaCodigo\\\\Python\\\\envi\\\\Lib\\\\site-packages\\\\debugpy\\\\_vendored\\\\pydevd\\\\_pydev_bundle\\\\pydev_is_thread_alive.py'>,\n",
       " '_pydev_bundle.pydev_override': <module '_pydev_bundle.pydev_override' from 'd:\\\\PalacioMemoriaCodigo\\\\Python\\\\envi\\\\Lib\\\\site-packages\\\\debugpy\\\\_vendored\\\\pydevd\\\\_pydev_bundle\\\\pydev_override.py'>,\n",
       " 'pydevd_plugins.extensions': <module 'pydevd_plugins.extensions' from 'd:\\\\PalacioMemoriaCodigo\\\\Python\\\\envi\\\\Lib\\\\site-packages\\\\debugpy\\\\_vendored\\\\pydevd\\\\pydevd_plugins\\\\extensions\\\\__init__.py'>,\n",
       " '_pydevd_bundle.pydevd_extension_utils': <module '_pydevd_bundle.pydevd_extension_utils' from 'd:\\\\PalacioMemoriaCodigo\\\\Python\\\\envi\\\\Lib\\\\site-packages\\\\debugpy\\\\_vendored\\\\pydevd\\\\_pydevd_bundle\\\\pydevd_extension_utils.py'>,\n",
       " '_pydevd_bundle.pydevd_frame_utils': <module '_pydevd_bundle.pydevd_frame_utils' from 'd:\\\\PalacioMemoriaCodigo\\\\Python\\\\envi\\\\Lib\\\\site-packages\\\\debugpy\\\\_vendored\\\\pydevd\\\\_pydevd_bundle\\\\pydevd_frame_utils.py'>,\n",
       " '_pydevd_bundle.pydevd_filtering': <module '_pydevd_bundle.pydevd_filtering' from 'd:\\\\PalacioMemoriaCodigo\\\\Python\\\\envi\\\\Lib\\\\site-packages\\\\debugpy\\\\_vendored\\\\pydevd\\\\_pydevd_bundle\\\\pydevd_filtering.py'>,\n",
       " '_pydevd_bundle.pydevd_io': <module '_pydevd_bundle.pydevd_io' from 'd:\\\\PalacioMemoriaCodigo\\\\Python\\\\envi\\\\Lib\\\\site-packages\\\\debugpy\\\\_vendored\\\\pydevd\\\\_pydevd_bundle\\\\pydevd_io.py'>,\n",
       " '_pydevd_bundle.pydevd_defaults': <module '_pydevd_bundle.pydevd_defaults' from 'd:\\\\PalacioMemoriaCodigo\\\\Python\\\\envi\\\\Lib\\\\site-packages\\\\debugpy\\\\_vendored\\\\pydevd\\\\_pydevd_bundle\\\\pydevd_defaults.py'>,\n",
       " '_pydevd_bundle.pydevd_utils': <module '_pydevd_bundle.pydevd_utils' from 'd:\\\\PalacioMemoriaCodigo\\\\Python\\\\envi\\\\Lib\\\\site-packages\\\\debugpy\\\\_vendored\\\\pydevd\\\\_pydevd_bundle\\\\pydevd_utils.py'>,\n",
       " '_pydevd_bundle.pydevd_runpy': <module '_pydevd_bundle.pydevd_runpy' from 'd:\\\\PalacioMemoriaCodigo\\\\Python\\\\envi\\\\Lib\\\\site-packages\\\\debugpy\\\\_vendored\\\\pydevd\\\\_pydevd_bundle\\\\pydevd_runpy.py'>,\n",
       " '_pydev_bundle._pydev_tipper_common': <module '_pydev_bundle._pydev_tipper_common' from 'd:\\\\PalacioMemoriaCodigo\\\\Python\\\\envi\\\\Lib\\\\site-packages\\\\debugpy\\\\_vendored\\\\pydevd\\\\_pydev_bundle\\\\_pydev_tipper_common.py'>,\n",
       " '_pydev_bundle._pydev_imports_tipper': <module '_pydev_bundle._pydev_imports_tipper' from 'd:\\\\PalacioMemoriaCodigo\\\\Python\\\\envi\\\\Lib\\\\site-packages\\\\debugpy\\\\_vendored\\\\pydevd\\\\_pydev_bundle\\\\_pydev_imports_tipper.py'>,\n",
       " '_pydev_bundle._pydev_calltip_util': <module '_pydev_bundle._pydev_calltip_util' from 'd:\\\\PalacioMemoriaCodigo\\\\Python\\\\envi\\\\Lib\\\\site-packages\\\\debugpy\\\\_vendored\\\\pydevd\\\\_pydev_bundle\\\\_pydev_calltip_util.py'>,\n",
       " '_pydevd_bundle.pydevd_safe_repr': <module '_pydevd_bundle.pydevd_safe_repr' from 'd:\\\\PalacioMemoriaCodigo\\\\Python\\\\envi\\\\Lib\\\\site-packages\\\\debugpy\\\\_vendored\\\\pydevd\\\\_pydevd_bundle\\\\pydevd_safe_repr.py'>,\n",
       " '_pydevd_bundle.pydevd_resolver': <module '_pydevd_bundle.pydevd_resolver' from 'd:\\\\PalacioMemoriaCodigo\\\\Python\\\\envi\\\\Lib\\\\site-packages\\\\debugpy\\\\_vendored\\\\pydevd\\\\_pydevd_bundle\\\\pydevd_resolver.py'>,\n",
       " '_pydevd_bundle.pydevd_extension_api': <module '_pydevd_bundle.pydevd_extension_api' from 'd:\\\\PalacioMemoriaCodigo\\\\Python\\\\envi\\\\Lib\\\\site-packages\\\\debugpy\\\\_vendored\\\\pydevd\\\\_pydevd_bundle\\\\pydevd_extension_api.py'>,\n",
       " '_pydevd_bundle.pydevd_xml': <module '_pydevd_bundle.pydevd_xml' from 'd:\\\\PalacioMemoriaCodigo\\\\Python\\\\envi\\\\Lib\\\\site-packages\\\\debugpy\\\\_vendored\\\\pydevd\\\\_pydevd_bundle\\\\pydevd_xml.py'>,\n",
       " '_pydevd_bundle.pydevd_dont_trace': <module '_pydevd_bundle.pydevd_dont_trace' from 'd:\\\\PalacioMemoriaCodigo\\\\Python\\\\envi\\\\Lib\\\\site-packages\\\\debugpy\\\\_vendored\\\\pydevd\\\\_pydevd_bundle\\\\pydevd_dont_trace.py'>,\n",
       " '_pydevd_frame_eval.vendored': <module '_pydevd_frame_eval.vendored' from 'd:\\\\PalacioMemoriaCodigo\\\\Python\\\\envi\\\\Lib\\\\site-packages\\\\debugpy\\\\_vendored\\\\pydevd\\\\_pydevd_frame_eval\\\\vendored\\\\__init__.py'>,\n",
       " '_pydevd_frame_eval.vendored.bytecode.flags': <module '_pydevd_frame_eval.vendored.bytecode.flags' from 'd:\\\\PalacioMemoriaCodigo\\\\Python\\\\envi\\\\Lib\\\\site-packages\\\\debugpy\\\\_vendored\\\\pydevd\\\\_pydevd_frame_eval\\\\vendored\\\\bytecode\\\\flags.py'>,\n",
       " '_pydevd_frame_eval.vendored.bytecode.instr': <module '_pydevd_frame_eval.vendored.bytecode.instr' from 'd:\\\\PalacioMemoriaCodigo\\\\Python\\\\envi\\\\Lib\\\\site-packages\\\\debugpy\\\\_vendored\\\\pydevd\\\\_pydevd_frame_eval\\\\vendored\\\\bytecode\\\\instr.py'>,\n",
       " '_pydevd_frame_eval.vendored.bytecode.bytecode': <module '_pydevd_frame_eval.vendored.bytecode.bytecode' from 'd:\\\\PalacioMemoriaCodigo\\\\Python\\\\envi\\\\Lib\\\\site-packages\\\\debugpy\\\\_vendored\\\\pydevd\\\\_pydevd_frame_eval\\\\vendored\\\\bytecode\\\\bytecode.py'>,\n",
       " '_pydevd_frame_eval.vendored.bytecode.concrete': <module '_pydevd_frame_eval.vendored.bytecode.concrete' from 'd:\\\\PalacioMemoriaCodigo\\\\Python\\\\envi\\\\Lib\\\\site-packages\\\\debugpy\\\\_vendored\\\\pydevd\\\\_pydevd_frame_eval\\\\vendored\\\\bytecode\\\\concrete.py'>,\n",
       " '_pydevd_frame_eval.vendored.bytecode.cfg': <module '_pydevd_frame_eval.vendored.bytecode.cfg' from 'd:\\\\PalacioMemoriaCodigo\\\\Python\\\\envi\\\\Lib\\\\site-packages\\\\debugpy\\\\_vendored\\\\pydevd\\\\_pydevd_frame_eval\\\\vendored\\\\bytecode\\\\cfg.py'>,\n",
       " '_pydevd_frame_eval.vendored.bytecode': <module '_pydevd_frame_eval.vendored.bytecode' from 'd:\\\\PalacioMemoriaCodigo\\\\Python\\\\envi\\\\Lib\\\\site-packages\\\\debugpy\\\\_vendored\\\\pydevd\\\\_pydevd_frame_eval\\\\vendored\\\\bytecode\\\\__init__.py'>,\n",
       " '_pydevd_bundle.pydevd_bytecode_utils': <module '_pydevd_bundle.pydevd_bytecode_utils' from 'd:\\\\PalacioMemoriaCodigo\\\\Python\\\\envi\\\\Lib\\\\site-packages\\\\debugpy\\\\_vendored\\\\pydevd\\\\_pydevd_bundle\\\\pydevd_bytecode_utils.py'>,\n",
       " '_pydevd_bundle.pydevd_frame': <module '_pydevd_bundle.pydevd_frame' from 'd:\\\\PalacioMemoriaCodigo\\\\Python\\\\envi\\\\Lib\\\\site-packages\\\\debugpy\\\\_vendored\\\\pydevd\\\\_pydevd_bundle\\\\pydevd_frame.py'>,\n",
       " '_pydevd_bundle.pydevd_additional_thread_info_regular': <module '_pydevd_bundle.pydevd_additional_thread_info_regular' from 'd:\\\\PalacioMemoriaCodigo\\\\Python\\\\envi\\\\Lib\\\\site-packages\\\\debugpy\\\\_vendored\\\\pydevd\\\\_pydevd_bundle\\\\pydevd_additional_thread_info_regular.py'>,\n",
       " '_pydevd_bundle.pydevd_additional_thread_info': <module '_pydevd_bundle.pydevd_additional_thread_info' from 'd:\\\\PalacioMemoriaCodigo\\\\Python\\\\envi\\\\Lib\\\\site-packages\\\\debugpy\\\\_vendored\\\\pydevd\\\\_pydevd_bundle\\\\pydevd_additional_thread_info.py'>,\n",
       " '_pydevd_bundle.pydevd_thread_lifecycle': <module '_pydevd_bundle.pydevd_thread_lifecycle' from 'd:\\\\PalacioMemoriaCodigo\\\\Python\\\\envi\\\\Lib\\\\site-packages\\\\debugpy\\\\_vendored\\\\pydevd\\\\_pydevd_bundle\\\\pydevd_thread_lifecycle.py'>,\n",
       " '_pydevd_bundle.pydevd_save_locals': <module '_pydevd_bundle.pydevd_save_locals' from 'd:\\\\PalacioMemoriaCodigo\\\\Python\\\\envi\\\\Lib\\\\site-packages\\\\debugpy\\\\_vendored\\\\pydevd\\\\_pydevd_bundle\\\\pydevd_save_locals.py'>,\n",
       " '_pydev_bundle.pydev_monkey': <module '_pydev_bundle.pydev_monkey' from 'd:\\\\PalacioMemoriaCodigo\\\\Python\\\\envi\\\\Lib\\\\site-packages\\\\debugpy\\\\_vendored\\\\pydevd\\\\_pydev_bundle\\\\pydev_monkey.py'>,\n",
       " 'pydevd_tracing': <module 'pydevd_tracing' from 'd:\\\\PalacioMemoriaCodigo\\\\Python\\\\envi\\\\Lib\\\\site-packages\\\\debugpy\\\\_vendored\\\\pydevd\\\\pydevd_tracing.py'>,\n",
       " '_pydevd_bundle.pydevd_collect_bytecode_info': <module '_pydevd_bundle.pydevd_collect_bytecode_info' from 'd:\\\\PalacioMemoriaCodigo\\\\Python\\\\envi\\\\Lib\\\\site-packages\\\\debugpy\\\\_vendored\\\\pydevd\\\\_pydevd_bundle\\\\pydevd_collect_bytecode_info.py'>,\n",
       " '_pydevd_bundle.pydevd_daemon_thread': <module '_pydevd_bundle.pydevd_daemon_thread' from 'd:\\\\PalacioMemoriaCodigo\\\\Python\\\\envi\\\\Lib\\\\site-packages\\\\debugpy\\\\_vendored\\\\pydevd\\\\_pydevd_bundle\\\\pydevd_daemon_thread.py'>,\n",
       " '_pydevd_bundle.pydevd_timeout': <module '_pydevd_bundle.pydevd_timeout' from 'd:\\\\PalacioMemoriaCodigo\\\\Python\\\\envi\\\\Lib\\\\site-packages\\\\debugpy\\\\_vendored\\\\pydevd\\\\_pydevd_bundle\\\\pydevd_timeout.py'>,\n",
       " '_pydevd_bundle.pydevd_vars': <module '_pydevd_bundle.pydevd_vars' from 'd:\\\\PalacioMemoriaCodigo\\\\Python\\\\envi\\\\Lib\\\\site-packages\\\\debugpy\\\\_vendored\\\\pydevd\\\\_pydevd_bundle\\\\pydevd_vars.py'>,\n",
       " '_pydev_bundle.pydev_console_utils': <module '_pydev_bundle.pydev_console_utils' from 'd:\\\\PalacioMemoriaCodigo\\\\Python\\\\envi\\\\Lib\\\\site-packages\\\\debugpy\\\\_vendored\\\\pydevd\\\\_pydev_bundle\\\\pydev_console_utils.py'>,\n",
       " '_pydevd_bundle.pydevd_import_class': <module '_pydevd_bundle.pydevd_import_class' from 'd:\\\\PalacioMemoriaCodigo\\\\Python\\\\envi\\\\Lib\\\\site-packages\\\\debugpy\\\\_vendored\\\\pydevd\\\\_pydevd_bundle\\\\pydevd_import_class.py'>,\n",
       " '_pydevd_bundle.pydevd_breakpoints': <module '_pydevd_bundle.pydevd_breakpoints' from 'd:\\\\PalacioMemoriaCodigo\\\\Python\\\\envi\\\\Lib\\\\site-packages\\\\debugpy\\\\_vendored\\\\pydevd\\\\_pydevd_bundle\\\\pydevd_breakpoints.py'>,\n",
       " '_pydevd_bundle.pydevd_custom_frames': <module '_pydevd_bundle.pydevd_custom_frames' from 'd:\\\\PalacioMemoriaCodigo\\\\Python\\\\envi\\\\Lib\\\\site-packages\\\\debugpy\\\\_vendored\\\\pydevd\\\\_pydevd_bundle\\\\pydevd_custom_frames.py'>,\n",
       " '_pydevd_bundle.pydevd_dont_trace_files': <module '_pydevd_bundle.pydevd_dont_trace_files' from 'd:\\\\PalacioMemoriaCodigo\\\\Python\\\\envi\\\\Lib\\\\site-packages\\\\debugpy\\\\_vendored\\\\pydevd\\\\_pydevd_bundle\\\\pydevd_dont_trace_files.py'>,\n",
       " '_pydevd_bundle.pydevd_net_command': <module '_pydevd_bundle.pydevd_net_command' from 'd:\\\\PalacioMemoriaCodigo\\\\Python\\\\envi\\\\Lib\\\\site-packages\\\\debugpy\\\\_vendored\\\\pydevd\\\\_pydevd_bundle\\\\pydevd_net_command.py'>,\n",
       " '_pydevd_bundle.pydevconsole_code': <module '_pydevd_bundle.pydevconsole_code' from 'd:\\\\PalacioMemoriaCodigo\\\\Python\\\\envi\\\\Lib\\\\site-packages\\\\debugpy\\\\_vendored\\\\pydevd\\\\_pydevd_bundle\\\\pydevconsole_code.py'>,\n",
       " '_pydev_bundle.pydev_umd': <module '_pydev_bundle.pydev_umd' from 'd:\\\\PalacioMemoriaCodigo\\\\Python\\\\envi\\\\Lib\\\\site-packages\\\\debugpy\\\\_vendored\\\\pydevd\\\\_pydev_bundle\\\\pydev_umd.py'>,\n",
       " 'pydevconsole': <module 'pydevconsole' from 'd:\\\\PalacioMemoriaCodigo\\\\Python\\\\envi\\\\Lib\\\\site-packages\\\\debugpy\\\\_vendored\\\\pydevd\\\\pydevconsole.py'>,\n",
       " '_pydev_bundle._pydev_completer': <module '_pydev_bundle._pydev_completer' from 'd:\\\\PalacioMemoriaCodigo\\\\Python\\\\envi\\\\Lib\\\\site-packages\\\\debugpy\\\\_vendored\\\\pydevd\\\\_pydev_bundle\\\\_pydev_completer.py'>,\n",
       " '_pydevd_bundle.pydevd_net_command_factory_xml': <module '_pydevd_bundle.pydevd_net_command_factory_xml' from 'd:\\\\PalacioMemoriaCodigo\\\\Python\\\\envi\\\\Lib\\\\site-packages\\\\debugpy\\\\_vendored\\\\pydevd\\\\_pydevd_bundle\\\\pydevd_net_command_factory_xml.py'>,\n",
       " '_pydevd_bundle.pydevd_trace_dispatch_regular': <module '_pydevd_bundle.pydevd_trace_dispatch_regular' from 'd:\\\\PalacioMemoriaCodigo\\\\Python\\\\envi\\\\Lib\\\\site-packages\\\\debugpy\\\\_vendored\\\\pydevd\\\\_pydevd_bundle\\\\pydevd_trace_dispatch_regular.py'>,\n",
       " '_pydevd_bundle.pydevd_trace_dispatch': <module '_pydevd_bundle.pydevd_trace_dispatch' from 'd:\\\\PalacioMemoriaCodigo\\\\Python\\\\envi\\\\Lib\\\\site-packages\\\\debugpy\\\\_vendored\\\\pydevd\\\\_pydevd_bundle\\\\pydevd_trace_dispatch.py'>,\n",
       " '_pydevd_frame_eval.pydevd_frame_eval_main': <module '_pydevd_frame_eval.pydevd_frame_eval_main' from 'd:\\\\PalacioMemoriaCodigo\\\\Python\\\\envi\\\\Lib\\\\site-packages\\\\debugpy\\\\_vendored\\\\pydevd\\\\_pydevd_frame_eval\\\\pydevd_frame_eval_main.py'>,\n",
       " '_pydevd_bundle.pydevd_source_mapping': <module '_pydevd_bundle.pydevd_source_mapping' from 'd:\\\\PalacioMemoriaCodigo\\\\Python\\\\envi\\\\Lib\\\\site-packages\\\\debugpy\\\\_vendored\\\\pydevd\\\\_pydevd_bundle\\\\pydevd_source_mapping.py'>,\n",
       " '_pydevd_bundle.pydevd_concurrency_analyser': <module '_pydevd_bundle.pydevd_concurrency_analyser' from 'd:\\\\PalacioMemoriaCodigo\\\\Python\\\\envi\\\\Lib\\\\site-packages\\\\debugpy\\\\_vendored\\\\pydevd\\\\_pydevd_bundle\\\\pydevd_concurrency_analyser\\\\__init__.py'>,\n",
       " '_pydevd_bundle.pydevd_concurrency_analyser.pydevd_thread_wrappers': <module '_pydevd_bundle.pydevd_concurrency_analyser.pydevd_thread_wrappers' from 'd:\\\\PalacioMemoriaCodigo\\\\Python\\\\envi\\\\Lib\\\\site-packages\\\\debugpy\\\\_vendored\\\\pydevd\\\\_pydevd_bundle\\\\pydevd_concurrency_analyser\\\\pydevd_thread_wrappers.py'>,\n",
       " '_pydevd_bundle.pydevd_concurrency_analyser.pydevd_concurrency_logger': <module '_pydevd_bundle.pydevd_concurrency_analyser.pydevd_concurrency_logger' from 'd:\\\\PalacioMemoriaCodigo\\\\Python\\\\envi\\\\Lib\\\\site-packages\\\\debugpy\\\\_vendored\\\\pydevd\\\\_pydevd_bundle\\\\pydevd_concurrency_analyser\\\\pydevd_concurrency_logger.py'>,\n",
       " '_pydevd_bundle._debug_adapter': <module '_pydevd_bundle._debug_adapter' from 'd:\\\\PalacioMemoriaCodigo\\\\Python\\\\envi\\\\Lib\\\\site-packages\\\\debugpy\\\\_vendored\\\\pydevd\\\\_pydevd_bundle\\\\_debug_adapter\\\\__init__.py'>,\n",
       " '_pydevd_bundle._debug_adapter.pydevd_schema_log': <module '_pydevd_bundle._debug_adapter.pydevd_schema_log' from 'd:\\\\PalacioMemoriaCodigo\\\\Python\\\\envi\\\\Lib\\\\site-packages\\\\debugpy\\\\_vendored\\\\pydevd\\\\_pydevd_bundle\\\\_debug_adapter\\\\pydevd_schema_log.py'>,\n",
       " '_pydevd_bundle._debug_adapter.pydevd_base_schema': <module '_pydevd_bundle._debug_adapter.pydevd_base_schema' from 'd:\\\\PalacioMemoriaCodigo\\\\Python\\\\envi\\\\Lib\\\\site-packages\\\\debugpy\\\\_vendored\\\\pydevd\\\\_pydevd_bundle\\\\_debug_adapter\\\\pydevd_base_schema.py'>,\n",
       " '_pydevd_bundle._debug_adapter.pydevd_schema': <module '_pydevd_bundle._debug_adapter.pydevd_schema' from 'd:\\\\PalacioMemoriaCodigo\\\\Python\\\\envi\\\\Lib\\\\site-packages\\\\debugpy\\\\_vendored\\\\pydevd\\\\_pydevd_bundle\\\\_debug_adapter\\\\pydevd_schema.py'>,\n",
       " '_pydevd_bundle.pydevd_reload': <module '_pydevd_bundle.pydevd_reload' from 'd:\\\\PalacioMemoriaCodigo\\\\Python\\\\envi\\\\Lib\\\\site-packages\\\\debugpy\\\\_vendored\\\\pydevd\\\\_pydevd_bundle\\\\pydevd_reload.py'>,\n",
       " '_pydev_bundle.fsnotify': <module '_pydev_bundle.fsnotify' from 'd:\\\\PalacioMemoriaCodigo\\\\Python\\\\envi\\\\Lib\\\\site-packages\\\\debugpy\\\\_vendored\\\\pydevd\\\\_pydev_bundle\\\\fsnotify\\\\__init__.py'>,\n",
       " '_pydevd_bundle.pydevd_console': <module '_pydevd_bundle.pydevd_console' from 'd:\\\\PalacioMemoriaCodigo\\\\Python\\\\envi\\\\Lib\\\\site-packages\\\\debugpy\\\\_vendored\\\\pydevd\\\\_pydevd_bundle\\\\pydevd_console.py'>,\n",
       " '_pydevd_bundle.pydevd_comm': <module '_pydevd_bundle.pydevd_comm' from 'd:\\\\PalacioMemoriaCodigo\\\\Python\\\\envi\\\\Lib\\\\site-packages\\\\debugpy\\\\_vendored\\\\pydevd\\\\_pydevd_bundle\\\\pydevd_comm.py'>,\n",
       " '_pydevd_bundle.pydevd_net_command_factory_json': <module '_pydevd_bundle.pydevd_net_command_factory_json' from 'd:\\\\PalacioMemoriaCodigo\\\\Python\\\\envi\\\\Lib\\\\site-packages\\\\debugpy\\\\_vendored\\\\pydevd\\\\_pydevd_bundle\\\\pydevd_net_command_factory_json.py'>,\n",
       " '_pydevd_bundle.pydevd_api': <module '_pydevd_bundle.pydevd_api' from 'd:\\\\PalacioMemoriaCodigo\\\\Python\\\\envi\\\\Lib\\\\site-packages\\\\debugpy\\\\_vendored\\\\pydevd\\\\_pydevd_bundle\\\\pydevd_api.py'>,\n",
       " '_pydevd_bundle.pydevd_json_debug_options': <module '_pydevd_bundle.pydevd_json_debug_options' from 'd:\\\\PalacioMemoriaCodigo\\\\Python\\\\envi\\\\Lib\\\\site-packages\\\\debugpy\\\\_vendored\\\\pydevd\\\\_pydevd_bundle\\\\pydevd_json_debug_options.py'>,\n",
       " '_pydevd_bundle.pydevd_process_net_command_json': <module '_pydevd_bundle.pydevd_process_net_command_json' from 'd:\\\\PalacioMemoriaCodigo\\\\Python\\\\envi\\\\Lib\\\\site-packages\\\\debugpy\\\\_vendored\\\\pydevd\\\\_pydevd_bundle\\\\pydevd_process_net_command_json.py'>,\n",
       " '_pydevd_bundle.pydevd_traceproperty': <module '_pydevd_bundle.pydevd_traceproperty' from 'd:\\\\PalacioMemoriaCodigo\\\\Python\\\\envi\\\\Lib\\\\site-packages\\\\debugpy\\\\_vendored\\\\pydevd\\\\_pydevd_bundle\\\\pydevd_traceproperty.py'>,\n",
       " '_pydevd_bundle.pydevd_process_net_command': <module '_pydevd_bundle.pydevd_process_net_command' from 'd:\\\\PalacioMemoriaCodigo\\\\Python\\\\envi\\\\Lib\\\\site-packages\\\\debugpy\\\\_vendored\\\\pydevd\\\\_pydevd_bundle\\\\pydevd_process_net_command.py'>,\n",
       " '_pydevd_bundle.pydevd_suspended_frames': <module '_pydevd_bundle.pydevd_suspended_frames' from 'd:\\\\PalacioMemoriaCodigo\\\\Python\\\\envi\\\\Lib\\\\site-packages\\\\debugpy\\\\_vendored\\\\pydevd\\\\_pydevd_bundle\\\\pydevd_suspended_frames.py'>,\n",
       " '_pydevd_bundle.pydevd_trace_api': <module '_pydevd_bundle.pydevd_trace_api' from 'd:\\\\PalacioMemoriaCodigo\\\\Python\\\\envi\\\\Lib\\\\site-packages\\\\debugpy\\\\_vendored\\\\pydevd\\\\_pydevd_bundle\\\\pydevd_trace_api.py'>,\n",
       " 'pydevd_plugins.pydevd_line_validation': <module 'pydevd_plugins.pydevd_line_validation' from 'd:\\\\PalacioMemoriaCodigo\\\\Python\\\\envi\\\\Lib\\\\site-packages\\\\debugpy\\\\_vendored\\\\pydevd\\\\pydevd_plugins\\\\pydevd_line_validation.py'>,\n",
       " 'pydevd_plugins.django_debug': <module 'pydevd_plugins.django_debug' from 'd:\\\\PalacioMemoriaCodigo\\\\Python\\\\envi\\\\Lib\\\\site-packages\\\\debugpy\\\\_vendored\\\\pydevd\\\\pydevd_plugins\\\\django_debug.py'>,\n",
       " 'pydevd_plugins.jinja2_debug': <module 'pydevd_plugins.jinja2_debug' from 'd:\\\\PalacioMemoriaCodigo\\\\Python\\\\envi\\\\Lib\\\\site-packages\\\\debugpy\\\\_vendored\\\\pydevd\\\\pydevd_plugins\\\\jinja2_debug.py'>,\n",
       " '_pydevd_bundle.pydevd_plugin_utils': <module '_pydevd_bundle.pydevd_plugin_utils' from 'd:\\\\PalacioMemoriaCodigo\\\\Python\\\\envi\\\\Lib\\\\site-packages\\\\debugpy\\\\_vendored\\\\pydevd\\\\_pydevd_bundle\\\\pydevd_plugin_utils.py'>,\n",
       " 'pydevd_plugins.extensions.types': <module 'pydevd_plugins.extensions.types' from 'd:\\\\PalacioMemoriaCodigo\\\\Python\\\\envi\\\\Lib\\\\site-packages\\\\debugpy\\\\_vendored\\\\pydevd\\\\pydevd_plugins\\\\extensions\\\\types\\\\__init__.py'>,\n",
       " 'pydevd_plugins.extensions.types.pydevd_helpers': <module 'pydevd_plugins.extensions.types.pydevd_helpers' from 'd:\\\\PalacioMemoriaCodigo\\\\Python\\\\envi\\\\Lib\\\\site-packages\\\\debugpy\\\\_vendored\\\\pydevd\\\\pydevd_plugins\\\\extensions\\\\types\\\\pydevd_helpers.py'>,\n",
       " 'pydevd_plugins.extensions.types.pydevd_plugin_numpy_types': <module 'pydevd_plugins.extensions.types.pydevd_plugin_numpy_types' from 'd:\\\\PalacioMemoriaCodigo\\\\Python\\\\envi\\\\Lib\\\\site-packages\\\\debugpy\\\\_vendored\\\\pydevd\\\\pydevd_plugins\\\\extensions\\\\types\\\\pydevd_plugin_numpy_types.py'>,\n",
       " 'pydevd_plugins.extensions.types.pydevd_plugin_pandas_types': <module 'pydevd_plugins.extensions.types.pydevd_plugin_pandas_types' from 'd:\\\\PalacioMemoriaCodigo\\\\Python\\\\envi\\\\Lib\\\\site-packages\\\\debugpy\\\\_vendored\\\\pydevd\\\\pydevd_plugins\\\\extensions\\\\types\\\\pydevd_plugin_pandas_types.py'>,\n",
       " 'pydevd_plugins.extensions.types.pydevd_plugins_django_form_str': <module 'pydevd_plugins.extensions.types.pydevd_plugins_django_form_str' from 'd:\\\\PalacioMemoriaCodigo\\\\Python\\\\envi\\\\Lib\\\\site-packages\\\\debugpy\\\\_vendored\\\\pydevd\\\\pydevd_plugins\\\\extensions\\\\types\\\\pydevd_plugins_django_form_str.py'>,\n",
       " 'pydevd': <module 'pydevd' from 'd:\\\\PalacioMemoriaCodigo\\\\Python\\\\envi\\\\Lib\\\\site-packages\\\\debugpy\\\\_vendored\\\\pydevd\\\\pydevd.py'>,\n",
       " 'debugpy._vendored.force_pydevd': <module 'debugpy._vendored.force_pydevd' from 'd:\\\\PalacioMemoriaCodigo\\\\Python\\\\envi\\\\Lib\\\\site-packages\\\\debugpy\\\\_vendored\\\\force_pydevd.py'>,\n",
       " 'debugpy.server': <module 'debugpy.server' from 'd:\\\\PalacioMemoriaCodigo\\\\Python\\\\envi\\\\Lib\\\\site-packages\\\\debugpy\\\\server\\\\__init__.py'>,\n",
       " 'debugpy.adapter': <module 'debugpy.adapter' from 'd:\\\\PalacioMemoriaCodigo\\\\Python\\\\envi\\\\Lib\\\\site-packages\\\\debugpy\\\\adapter\\\\__init__.py'>,\n",
       " 'debugpy.common': <module 'debugpy.common' from 'd:\\\\PalacioMemoriaCodigo\\\\Python\\\\envi\\\\Lib\\\\site-packages\\\\debugpy\\\\common\\\\__init__.py'>,\n",
       " 'debugpy.common.json': <module 'debugpy.common.json' from 'd:\\\\PalacioMemoriaCodigo\\\\Python\\\\envi\\\\Lib\\\\site-packages\\\\debugpy\\\\common\\\\json.py'>,\n",
       " 'debugpy.common.timestamp': <module 'debugpy.common.timestamp' from 'd:\\\\PalacioMemoriaCodigo\\\\Python\\\\envi\\\\Lib\\\\site-packages\\\\debugpy\\\\common\\\\timestamp.py'>,\n",
       " 'debugpy.common.util': <module 'debugpy.common.util' from 'd:\\\\PalacioMemoriaCodigo\\\\Python\\\\envi\\\\Lib\\\\site-packages\\\\debugpy\\\\common\\\\util.py'>,\n",
       " 'debugpy.common.log': <module 'debugpy.common.log' from 'd:\\\\PalacioMemoriaCodigo\\\\Python\\\\envi\\\\Lib\\\\site-packages\\\\debugpy\\\\common\\\\log.py'>,\n",
       " 'debugpy.common.sockets': <module 'debugpy.common.sockets' from 'd:\\\\PalacioMemoriaCodigo\\\\Python\\\\envi\\\\Lib\\\\site-packages\\\\debugpy\\\\common\\\\sockets.py'>,\n",
       " 'debugpy.server.api': <module 'debugpy.server.api' from 'd:\\\\PalacioMemoriaCodigo\\\\Python\\\\envi\\\\Lib\\\\site-packages\\\\debugpy\\\\server\\\\api.py'>,\n",
       " 'ipykernel.debugger': <module 'ipykernel.debugger' from 'd:\\\\PalacioMemoriaCodigo\\\\Python\\\\envi\\\\Lib\\\\site-packages\\\\ipykernel\\\\debugger.py'>,\n",
       " 'IPython.core.completerlib': <module 'IPython.core.completerlib' from 'd:\\\\PalacioMemoriaCodigo\\\\Python\\\\envi\\\\Lib\\\\site-packages\\\\IPython\\\\core\\\\completerlib.py'>,\n",
       " 'vscode': <module 'vscode'>,\n",
       " 'pygments.styles.default': <module 'pygments.styles.default' from 'd:\\\\PalacioMemoriaCodigo\\\\Python\\\\envi\\\\Lib\\\\site-packages\\\\pygments\\\\styles\\\\default.py'>}"
      ]
     },
     "execution_count": 164,
     "metadata": {},
     "output_type": "execute_result"
    }
   ],
   "source": [
    "sys.modules"
   ]
  },
  {
   "cell_type": "code",
   "execution_count": 165,
   "metadata": {},
   "outputs": [
    {
     "name": "stdout",
     "output_type": "stream",
     "text": [
      "<module 'os' (frozen)>\n"
     ]
    }
   ],
   "source": [
    "print(sys.modules['os'])"
   ]
  },
  {
   "cell_type": "code",
   "execution_count": 166,
   "metadata": {},
   "outputs": [
    {
     "name": "stdout",
     "output_type": "stream",
     "text": [
      "False\n"
     ]
    }
   ],
   "source": [
    "print('pandas' in sys.modules)"
   ]
  },
  {
   "cell_type": "code",
   "execution_count": 167,
   "metadata": {},
   "outputs": [
    {
     "ename": "KeyError",
     "evalue": "'pandas'",
     "output_type": "error",
     "traceback": [
      "\u001b[1;31m---------------------------------------------------------------------------\u001b[0m",
      "\u001b[1;31mKeyError\u001b[0m                                  Traceback (most recent call last)",
      "Cell \u001b[1;32mIn[167], line 1\u001b[0m\n\u001b[1;32m----> 1\u001b[0m \u001b[38;5;28mprint\u001b[39m(\u001b[43msys\u001b[49m\u001b[38;5;241;43m.\u001b[39;49m\u001b[43mmodules\u001b[49m\u001b[43m[\u001b[49m\u001b[38;5;124;43m'\u001b[39;49m\u001b[38;5;124;43mpandas\u001b[39;49m\u001b[38;5;124;43m'\u001b[39;49m\u001b[43m]\u001b[49m)\n",
      "\u001b[1;31mKeyError\u001b[0m: 'pandas'"
     ]
    }
   ],
   "source": [
    "print(sys.modules['pandas'])"
   ]
  },
  {
   "cell_type": "code",
   "execution_count": 1,
   "metadata": {},
   "outputs": [],
   "source": [
    "import pandas"
   ]
  },
  {
   "cell_type": "code",
   "execution_count": 169,
   "metadata": {},
   "outputs": [
    {
     "name": "stdout",
     "output_type": "stream",
     "text": [
      "True\n"
     ]
    }
   ],
   "source": [
    "print('pandas' in sys.modules)"
   ]
  },
  {
   "cell_type": "code",
   "execution_count": 170,
   "metadata": {},
   "outputs": [
    {
     "name": "stdout",
     "output_type": "stream",
     "text": [
      "<module 'pandas' from 'd:\\\\PalacioMemoriaCodigo\\\\Python\\\\envi\\\\Lib\\\\site-packages\\\\pandas\\\\__init__.py'>\n"
     ]
    }
   ],
   "source": [
    "print(sys.modules['pandas'])"
   ]
  },
  {
   "cell_type": "markdown",
   "metadata": {},
   "source": [
    "## sys.exit\n",
    "\n",
    "Termina la ejecución del programa"
   ]
  },
  {
   "cell_type": "code",
   "execution_count": 4,
   "metadata": {},
   "outputs": [],
   "source": [
    "# sys.exit()"
   ]
  }
 ],
 "metadata": {
  "kernelspec": {
   "display_name": "envi",
   "language": "python",
   "name": "python3"
  },
  "language_info": {
   "codemirror_mode": {
    "name": "ipython",
    "version": 3
   },
   "file_extension": ".py",
   "mimetype": "text/x-python",
   "name": "python",
   "nbconvert_exporter": "python",
   "pygments_lexer": "ipython3",
   "version": "3.12.3"
  }
 },
 "nbformat": 4,
 "nbformat_minor": 2
}
