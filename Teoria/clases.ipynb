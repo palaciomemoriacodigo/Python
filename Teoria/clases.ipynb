{
 "cells": [
  {
   "cell_type": "markdown",
   "metadata": {},
   "source": [
    "# Clases\n",
    "\n",
    "Una clase es un molde para crear objetos. \n",
    "\n",
    "Generalmente se definen con `CamelCase`.\n",
    "\n",
    "Define un conjunto de atributos y métodos que tendrán los objetos creados a partir de la clase.\n",
    "\n",
    "---\n",
    "\n",
    "`Atributos`: Son variables que pertenecen a una clase y describen las propiedades del objeto.\n",
    "\n",
    "`Atributos de clase`: Son variables asociadas a la clase, no a un objeto en particular. Los atributos de clase se definen fuera de los métodos de la clase y se acceden a través del nombre de la clase.\n",
    "\n",
    "`Atributos de instancia`: Son específicos de cada instancia de la clase. Se definen dentro del método __init__ (o cualquier otro método) y se usan con el prefijo self.\n",
    "\n",
    "`Métodos`: Son funciones definidas dentro de una clase que describen los comportamientos del objeto.\n",
    "\n",
    "`__init__`: Es un método especial que se ejecuta automáticamente cuando una nueva instancia de una clase es creada.\n",
    "\n",
    "`self`: permite hacer referencia al objeto que se está manipulando al llamar al método."
   ]
  },
  {
   "cell_type": "code",
   "execution_count": 20,
   "metadata": {},
   "outputs": [],
   "source": [
    "class ClaseLlamadaPersonaje:\n",
    "  pass"
   ]
  },
  {
   "cell_type": "code",
   "execution_count": 21,
   "metadata": {},
   "outputs": [
    {
     "data": {
      "text/plain": [
       "<__main__.ClaseLlamadaPersonaje at 0x184aa626420>"
      ]
     },
     "execution_count": 21,
     "metadata": {},
     "output_type": "execute_result"
    }
   ],
   "source": [
    "personaje1 = ClaseLlamadaPersonaje()\n",
    "personaje1"
   ]
  },
  {
   "cell_type": "code",
   "execution_count": 22,
   "metadata": {},
   "outputs": [],
   "source": [
    "class Pokemon:\n",
    "    tipo_general = \"Pokemon\"\n",
    "\n",
    "    def __init__(self, especie, entrenador, nivel):\n",
    "        self.especie = especie\n",
    "        self.entrenador = entrenador\n",
    "        self.nivel = nivel\n",
    "\n",
    "    def mostrar_info(self):\n",
    "        print(f\"Tipo General: {Pokemon.tipo_general}\")\n",
    "        print(f\"Especie: {self.especie}\")\n",
    "        print(f\"Entrenador: {self.entrenador}\")\n",
    "        print(f\"Nivel: {self.nivel}\")"
   ]
  },
  {
   "cell_type": "code",
   "execution_count": 23,
   "metadata": {},
   "outputs": [
    {
     "name": "stdout",
     "output_type": "stream",
     "text": [
      "Tipo General: Pokemon\n",
      "Especie: Pikachu\n",
      "Entrenador: Ash\n",
      "Nivel: 13\n",
      "\n",
      "Tipo General: Pokemon\n",
      "Especie: Charmander\n",
      "Entrenador: Law\n",
      "Nivel: 11\n",
      "\n",
      "Tipo General: Pokemon\n",
      "Especie: Pikachu\n",
      "Entrenador: Ash\n",
      "Nivel: 14\n",
      "\n",
      "Tipo General: Pokemon\n",
      "Especie: Charmander\n",
      "Entrenador: Law\n",
      "Nivel: 11\n",
      "\n"
     ]
    }
   ],
   "source": [
    "pokemon1 = Pokemon(\"Pikachu\", \"Ash\", 13)\n",
    "pokemon2 = Pokemon(\"Charmander\", \"Law\", 11)\n",
    "# print(pokemon1)\n",
    "\n",
    "\n",
    "pokemon1.mostrar_info()\n",
    "print()\n",
    "\n",
    "pokemon2.mostrar_info()\n",
    "print()\n",
    "\n",
    "pokemon1.nivel = 14\n",
    "pokemon1.mostrar_info()\n",
    "print()\n",
    "\n",
    "pokemon2.mostrar_info()\n",
    "print()"
   ]
  },
  {
   "cell_type": "code",
   "execution_count": 24,
   "metadata": {},
   "outputs": [],
   "source": [
    "class Pokemon:\n",
    "    def __init__(self, id_pokemon, nombre, altura, peso, tipo):\n",
    "        self.id_pokemon = id_pokemon\n",
    "        self.nombre = nombre\n",
    "        self.altura = altura \n",
    "        self.peso = peso\n",
    "        self.tipo = tipo\n",
    "    \n",
    "    def hoja_informacion(self):\n",
    "        return f'El identificador del pokemon es: {self.id_pokemon}, de nombre {self.nombre}, es un Pokémon de tipo {\", \".join(self.tipo)}.'"
   ]
  },
  {
   "cell_type": "markdown",
   "metadata": {},
   "source": [
    "Clase, es el molde de un objeto, mientras que el objeto, es su materialización. La creación de objetos a partir de una clase se define como instanciar una clase y dicha instancia, consiste en asignar la clase, como valor a una variable."
   ]
  },
  {
   "cell_type": "code",
   "execution_count": 25,
   "metadata": {},
   "outputs": [
    {
     "name": "stdout",
     "output_type": "stream",
     "text": [
      "El identificador del pokemon es: 1, de nombre Bulbasaur, es un Pokémon de tipo planta, veneno.\n",
      "El identificador del pokemon es: 25, de nombre Pikachu, es un Pokémon de tipo Eléctrico.\n",
      "0.7\n",
      "0.4\n"
     ]
    }
   ],
   "source": [
    "bulbasaur = Pokemon('1','Bulbasaur',0.7,6.9,['planta','veneno'])\n",
    "pikachu = Pokemon('25', 'Pikachu', 0.4, 6.0, ['Eléctrico'])\n",
    "\n",
    "print(bulbasaur.hoja_informacion())\n",
    "print(pikachu.hoja_informacion())\n",
    "\n",
    "print(bulbasaur.altura)\n",
    "print(pikachu.altura)"
   ]
  },
  {
   "cell_type": "markdown",
   "metadata": {},
   "source": [
    "## __str__ \n",
    "\n",
    "Es un método especial que se utiliza para convertir un objeto en una cadena de caracteres. De manera que podemos definir como se imprimira una instancia de la clase cuando se utilice str."
   ]
  },
  {
   "cell_type": "code",
   "execution_count": 26,
   "metadata": {},
   "outputs": [],
   "source": [
    "class Pokemon:\n",
    "    def __init__(self, id_pokemon, nombre, altura, peso, tipo):\n",
    "        self.id_pokemon = id_pokemon\n",
    "        self.nombre = nombre\n",
    "        self.altura = altura \n",
    "        self.peso = peso\n",
    "        self.tipo = tipo\n",
    "    \n",
    "    def __str__(self):\n",
    "        return f'El identificador del pokemon es: {self.id_pokemon}, de nombre {self.nombre}, es un Pokémon de tipo {\", \".join(self.tipo)}.'"
   ]
  },
  {
   "cell_type": "code",
   "execution_count": 27,
   "metadata": {},
   "outputs": [
    {
     "name": "stdout",
     "output_type": "stream",
     "text": [
      "El identificador del pokemon es: 1, de nombre Bulbasaur, es un Pokémon de tipo planta, veneno.\n",
      "El identificador del pokemon es: 25, de nombre Pikachu, es un Pokémon de tipo Eléctrico.\n",
      "0.7\n",
      "0.4\n"
     ]
    }
   ],
   "source": [
    "bulbasaur = Pokemon('1','Bulbasaur',0.7,6.9,['planta','veneno'])\n",
    "pikachu = Pokemon('25', 'Pikachu', 0.4, 6.0, ['Eléctrico'])\n",
    "\n",
    "print(str(bulbasaur))\n",
    "print(str(pikachu))\n",
    "\n",
    "print(bulbasaur.altura)\n",
    "print(pikachu.altura)"
   ]
  },
  {
   "cell_type": "markdown",
   "metadata": {},
   "source": [
    "## Herencia"
   ]
  },
  {
   "cell_type": "code",
   "execution_count": 28,
   "metadata": {},
   "outputs": [],
   "source": [
    "class Figura():\n",
    "    def __init__(self, base, altura):\n",
    "        self.base = base \n",
    "        self.altura = altura\n",
    "\n",
    "class Cuadrado(Figura):\n",
    "    def area(self):\n",
    "        return (self.base)**2\n",
    "    \n",
    "class Rectangulo(Figura):\n",
    "    def area(self):\n",
    "        return self.base * self.altura\n",
    "\n",
    "class Triangulo(Figura):\n",
    "    def area(self):\n",
    "        return (self.base * self.altura) / 2"
   ]
  },
  {
   "cell_type": "code",
   "execution_count": 29,
   "metadata": {},
   "outputs": [
    {
     "name": "stdout",
     "output_type": "stream",
     "text": [
      "Área del cuadrado: 16\n",
      "Área del rectángulo: 100\n",
      "Área del triángulo: 20.0\n"
     ]
    }
   ],
   "source": [
    "cuadrado = Cuadrado(4, 4)\n",
    "rectangulo = Rectangulo(10, 10)\n",
    "triangulo = Triangulo(8, 5)\n",
    "print(f\"Área del cuadrado: {cuadrado.area()}\")\n",
    "print(f\"Área del rectángulo: {rectangulo.area()}\")\n",
    "print(f\"Área del triángulo: {triangulo.area()}\")"
   ]
  }
 ],
 "metadata": {
  "kernelspec": {
   "display_name": "envi",
   "language": "python",
   "name": "python3"
  },
  "language_info": {
   "codemirror_mode": {
    "name": "ipython",
    "version": 3
   },
   "file_extension": ".py",
   "mimetype": "text/x-python",
   "name": "python",
   "nbconvert_exporter": "python",
   "pygments_lexer": "ipython3",
   "version": "3.12.3"
  }
 },
 "nbformat": 4,
 "nbformat_minor": 2
}
