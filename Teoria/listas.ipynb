{
 "cells": [
  {
   "cell_type": "markdown",
   "metadata": {},
   "source": [
    "# Listas\n",
    "\n",
    "Una lista se define entre corchetes ([]) separando los elementos por comas (,)."
   ]
  },
  {
   "cell_type": "markdown",
   "metadata": {},
   "source": [
    "## Conversión de colecciones"
   ]
  },
  {
   "cell_type": "code",
   "execution_count": 52,
   "metadata": {},
   "outputs": [
    {
     "name": "stdout",
     "output_type": "stream",
     "text": [
      "(1, 2, 3, 4, 4, 3)\n",
      "<class 'tuple'>\n",
      "{1, 2, 3, 4}\n",
      "<class 'set'>\n"
     ]
    }
   ],
   "source": [
    "lista_a = [1,2,3,4,4,3]\n",
    "lista_b = [0,1,2,3,4,5]\n",
    "\n",
    "tupla_a = tuple(lista_a)\n",
    "print(tupla_a)\n",
    "print(type(tupla_a))\n",
    "\n",
    "set_a = set(lista_a)\n",
    "print(set_a)\n",
    "print(type(set_a))"
   ]
  },
  {
   "cell_type": "markdown",
   "metadata": {},
   "source": [
    "## Slicing\n",
    "\n",
    "$lista[inicio:fin:paso]$\n",
    "\n",
    "`inicio`: es el índice donde empieza el slicing (incluido).\n",
    "\n",
    "`fin`: es el índice donde termina el slicing (excluido).\n",
    "\n",
    "`paso`: es el intervalo entre los índices seleccionados."
   ]
  },
  {
   "cell_type": "code",
   "execution_count": 53,
   "metadata": {},
   "outputs": [
    {
     "data": {
      "text/plain": [
       "[1, 3, ['perro', 'gato', True], ['hola', ['Pedro', 'Pepe']]]"
      ]
     },
     "execution_count": 53,
     "metadata": {},
     "output_type": "execute_result"
    }
   ],
   "source": [
    "lista_compleja = [1,3,['perro','gato',True],['hola',['Pedro','Pepe']]]\n",
    "lista_compleja"
   ]
  },
  {
   "cell_type": "code",
   "execution_count": 54,
   "metadata": {},
   "outputs": [
    {
     "name": "stdout",
     "output_type": "stream",
     "text": [
      "['hola', ['Pedro', 'Pepe']]\n",
      "['Pedro', 'Pepe']\n",
      "Pepe\n"
     ]
    }
   ],
   "source": [
    "print(lista_compleja[3])\n",
    "print(lista_compleja[3][1])\n",
    "print(lista_compleja[3][1][1])"
   ]
  },
  {
   "cell_type": "code",
   "execution_count": 55,
   "metadata": {},
   "outputs": [
    {
     "name": "stdout",
     "output_type": "stream",
     "text": [
      "['hola', ['Pedro', 'Pepe']]\n",
      "['Pedro', 'Pepe']\n",
      "Pepe\n"
     ]
    }
   ],
   "source": [
    "print(lista_compleja[-1])\n",
    "print(lista_compleja[-1][-1])\n",
    "print(lista_compleja[-1][-1][-1])"
   ]
  },
  {
   "cell_type": "code",
   "execution_count": 56,
   "metadata": {},
   "outputs": [
    {
     "data": {
      "text/plain": [
       "[1, 3, ['perro', 'gato', True]]"
      ]
     },
     "execution_count": 56,
     "metadata": {},
     "output_type": "execute_result"
    }
   ],
   "source": [
    "lista_compleja[0:3]"
   ]
  },
  {
   "cell_type": "code",
   "execution_count": 57,
   "metadata": {},
   "outputs": [
    {
     "data": {
      "text/plain": [
       "[1, 3, ['perro', 'gato', True]]"
      ]
     },
     "execution_count": 57,
     "metadata": {},
     "output_type": "execute_result"
    }
   ],
   "source": [
    "lista_compleja[:3]"
   ]
  },
  {
   "cell_type": "code",
   "execution_count": 58,
   "metadata": {},
   "outputs": [
    {
     "name": "stdout",
     "output_type": "stream",
     "text": [
      "[1, 3, ['perro', 'gato', True], ['hola', ['Pedro', 'Pepe']]]\n"
     ]
    }
   ],
   "source": [
    "lista_compleja[:]\n",
    "print(lista_compleja)"
   ]
  },
  {
   "cell_type": "code",
   "execution_count": 59,
   "metadata": {},
   "outputs": [
    {
     "data": {
      "text/plain": [
       "[1, ['perro', 'gato', True]]"
      ]
     },
     "execution_count": 59,
     "metadata": {},
     "output_type": "execute_result"
    }
   ],
   "source": [
    "lista_compleja[0:4:2]"
   ]
  },
  {
   "cell_type": "code",
   "execution_count": 60,
   "metadata": {},
   "outputs": [
    {
     "name": "stdout",
     "output_type": "stream",
     "text": [
      "[0, 6]\n"
     ]
    }
   ],
   "source": [
    "\n",
    "lista_elementos_num = [0, 1, 2, 3, 4, 5, 6, 7, 8, 9, 10, 11]\n",
    "resultado = lista_elementos_num[0:12:6]\n",
    "print(resultado)"
   ]
  },
  {
   "cell_type": "markdown",
   "metadata": {},
   "source": [
    "## Sobreescribir valores"
   ]
  },
  {
   "cell_type": "code",
   "execution_count": 61,
   "metadata": {},
   "outputs": [
    {
     "name": "stdout",
     "output_type": "stream",
     "text": [
      "[1, 3, ['perro', 'gato', True], ['hola', ['Pedro', 'Pepe']]]\n",
      "[1, 4, ['perro', 'gato', 'caballo'], ['hola', ['Pedro', 'Pepe']]]\n"
     ]
    }
   ],
   "source": [
    "print(lista_compleja)\n",
    "lista_compleja[1] = 4\n",
    "lista_compleja[2][2] = 'caballo'\n",
    "print(lista_compleja)"
   ]
  },
  {
   "cell_type": "markdown",
   "metadata": {},
   "source": [
    "## Funciones"
   ]
  },
  {
   "cell_type": "code",
   "execution_count": 62,
   "metadata": {},
   "outputs": [
    {
     "name": "stdout",
     "output_type": "stream",
     "text": [
      "[1, 3, 11, -7, 4]\n"
     ]
    }
   ],
   "source": [
    "lista_numerica = [1,3,11,-7,4]\n",
    "print(lista_numerica)"
   ]
  },
  {
   "cell_type": "code",
   "execution_count": 63,
   "metadata": {},
   "outputs": [
    {
     "name": "stdout",
     "output_type": "stream",
     "text": [
      "11\n",
      "-7\n",
      "12\n",
      "5\n",
      "[-7, 1, 3, 4, 11]\n"
     ]
    }
   ],
   "source": [
    "print(max(lista_numerica))\n",
    "print(min(lista_numerica))\n",
    "print(sum(lista_numerica))\n",
    "print(len(lista_numerica))\n",
    "print(sorted(lista_numerica, reverse=False))"
   ]
  },
  {
   "cell_type": "markdown",
   "metadata": {},
   "source": [
    "## Métodos"
   ]
  },
  {
   "cell_type": "markdown",
   "metadata": {},
   "source": [
    "### append\n",
    "\n",
    "Permite añadir un elemento al final de la lista"
   ]
  },
  {
   "cell_type": "code",
   "execution_count": 64,
   "metadata": {},
   "outputs": [
    {
     "name": "stdout",
     "output_type": "stream",
     "text": [
      "['rojo', 'verde', 'amarillo']\n"
     ]
    }
   ],
   "source": [
    "lista_colores = []\n",
    "lista_colores.append('rojo')\n",
    "lista_colores.append('verde')\n",
    "lista_colores.append('amarillo')\n",
    "print(lista_colores)"
   ]
  },
  {
   "cell_type": "markdown",
   "metadata": {},
   "source": [
    "### extend\n",
    "\n",
    "Permite concatenar listas"
   ]
  },
  {
   "cell_type": "code",
   "execution_count": 65,
   "metadata": {},
   "outputs": [
    {
     "name": "stdout",
     "output_type": "stream",
     "text": [
      "['rojo', 'verde', 'amarillo', 'negro', 'azul']\n"
     ]
    }
   ],
   "source": [
    "lista_colores.extend(['negro','azul'])\n",
    "print(lista_colores)"
   ]
  },
  {
   "cell_type": "markdown",
   "metadata": {},
   "source": [
    "### insert\n",
    "\n",
    "Permite insertar un elemento en una posición de la lista."
   ]
  },
  {
   "cell_type": "code",
   "execution_count": 66,
   "metadata": {},
   "outputs": [
    {
     "name": "stdout",
     "output_type": "stream",
     "text": [
      "['rojo', 'verde', 'amarillo', 'negro', 'azul']\n",
      "['rojo', 'verde', 'blanco', 'blanco', 'amarillo', 'negro', 'azul']\n"
     ]
    }
   ],
   "source": [
    "print(lista_colores)\n",
    "lista_colores.insert(2,'blanco')\n",
    "lista_colores.insert(3,'blanco')\n",
    "print(lista_colores)"
   ]
  },
  {
   "cell_type": "markdown",
   "metadata": {},
   "source": [
    "### index\n",
    "\n",
    "Encuentra la primera aparición de un valor en una lista y devuelve su índice. Junto a `in` devuelve 1 si encuentra valor y 0 en caso contario."
   ]
  },
  {
   "cell_type": "code",
   "execution_count": 67,
   "metadata": {},
   "outputs": [
    {
     "name": "stdout",
     "output_type": "stream",
     "text": [
      "2\n"
     ]
    }
   ],
   "source": [
    "print(lista_colores.index('blanco'))"
   ]
  },
  {
   "cell_type": "code",
   "execution_count": 68,
   "metadata": {},
   "outputs": [
    {
     "name": "stdout",
     "output_type": "stream",
     "text": [
      "El índice para color rojo es: 0\n",
      "El índice para color verde es: 1\n",
      "El índice para color amarillo es: 4\n",
      "El índice para color negro es: 5\n",
      "El índice para color azul es: 6\n"
     ]
    }
   ],
   "source": [
    "for indice, color in enumerate(lista_colores):\n",
    "    if color != 'blanco':\n",
    "        print(f'El índice para color {color} es: {indice}')"
   ]
  },
  {
   "cell_type": "markdown",
   "metadata": {},
   "source": [
    "### remove\n",
    "\n",
    "Elimina la primera aparición de un valor en una lista"
   ]
  },
  {
   "cell_type": "code",
   "execution_count": 69,
   "metadata": {},
   "outputs": [
    {
     "name": "stdout",
     "output_type": "stream",
     "text": [
      "['rojo', 'verde', 'blanco', 'blanco', 'amarillo', 'negro', 'azul']\n",
      "['rojo', 'verde', 'blanco', 'amarillo', 'negro', 'azul']\n"
     ]
    }
   ],
   "source": [
    "print(lista_colores)\n",
    "lista_colores.remove('blanco')\n",
    "print(lista_colores)"
   ]
  },
  {
   "cell_type": "markdown",
   "metadata": {},
   "source": [
    "### pop\n",
    "\n",
    "Elimina la ultima aparición de un valor en una lista"
   ]
  },
  {
   "cell_type": "code",
   "execution_count": 70,
   "metadata": {},
   "outputs": [
    {
     "name": "stdout",
     "output_type": "stream",
     "text": [
      "['rojo', 'verde', 'blanco', 'amarillo', 'negro', 'azul']\n",
      "azul\n",
      "['rojo', 'verde', 'blanco', 'amarillo', 'negro']\n"
     ]
    }
   ],
   "source": [
    "print(lista_colores)\n",
    "print(lista_colores.pop())\n",
    "print(lista_colores)"
   ]
  },
  {
   "cell_type": "markdown",
   "metadata": {},
   "source": [
    "### del\n",
    "\n",
    "Permite eliminar a través del indice"
   ]
  },
  {
   "cell_type": "code",
   "execution_count": 71,
   "metadata": {},
   "outputs": [
    {
     "name": "stdout",
     "output_type": "stream",
     "text": [
      "['rojo', 'verde', 'blanco', 'amarillo', 'negro']\n",
      "['rojo', 'verde', 'blanco', 'amarillo']\n"
     ]
    }
   ],
   "source": [
    "print(lista_colores)\n",
    "del lista_colores[4]\n",
    "print(lista_colores)"
   ]
  },
  {
   "cell_type": "markdown",
   "metadata": {},
   "source": [
    "### clear\n",
    "\n",
    "Vacía todos los ítems de una lista"
   ]
  },
  {
   "cell_type": "code",
   "execution_count": 72,
   "metadata": {},
   "outputs": [
    {
     "name": "stdout",
     "output_type": "stream",
     "text": [
      "['perro', 'gato']\n",
      "[]\n"
     ]
    }
   ],
   "source": [
    "lista_animales = ['perro','gato']\n",
    "print(lista_animales)\n",
    "lista_animales.clear()\n",
    "print(lista_animales)"
   ]
  },
  {
   "cell_type": "markdown",
   "metadata": {},
   "source": [
    "### count\n",
    "\n",
    "Cuenta el número de veces que aparece un ítem"
   ]
  },
  {
   "cell_type": "code",
   "execution_count": 73,
   "metadata": {},
   "outputs": [
    {
     "name": "stdout",
     "output_type": "stream",
     "text": [
      "['rojo', 'verde', 'blanco', 'amarillo', 'negro']\n"
     ]
    },
    {
     "data": {
      "text/plain": [
       "1"
      ]
     },
     "execution_count": 73,
     "metadata": {},
     "output_type": "execute_result"
    }
   ],
   "source": [
    "lista_colores.append('negro')\n",
    "print(lista_colores)\n",
    "lista_colores.count('negro')"
   ]
  },
  {
   "cell_type": "markdown",
   "metadata": {},
   "source": [
    "### sort\n",
    "\n",
    "Ordena automáticamente los ítems de una lista por su valor de menor a mayor:"
   ]
  },
  {
   "cell_type": "code",
   "execution_count": 74,
   "metadata": {},
   "outputs": [
    {
     "name": "stdout",
     "output_type": "stream",
     "text": [
      "['rojo', 'verde', 'blanco', 'amarillo', 'negro']\n",
      "['amarillo', 'blanco', 'negro', 'rojo', 'verde']\n"
     ]
    }
   ],
   "source": [
    "print(lista_colores)\n",
    "lista_colores.sort()\n",
    "print(lista_colores)"
   ]
  },
  {
   "cell_type": "code",
   "execution_count": 75,
   "metadata": {},
   "outputs": [
    {
     "name": "stdout",
     "output_type": "stream",
     "text": [
      "['verde', 'rojo', 'negro', 'blanco', 'amarillo']\n"
     ]
    }
   ],
   "source": [
    "lista_colores.sort(reverse=True)\n",
    "print(lista_colores)"
   ]
  },
  {
   "cell_type": "markdown",
   "metadata": {},
   "source": [
    "### reverse\n",
    "\n",
    "Invierte la lista"
   ]
  },
  {
   "cell_type": "code",
   "execution_count": 76,
   "metadata": {},
   "outputs": [
    {
     "data": {
      "text/plain": [
       "['verde', 'rojo', 'negro', 'blanco', 'amarillo']"
      ]
     },
     "execution_count": 76,
     "metadata": {},
     "output_type": "execute_result"
    }
   ],
   "source": [
    "lista_colores"
   ]
  },
  {
   "cell_type": "code",
   "execution_count": 77,
   "metadata": {},
   "outputs": [
    {
     "name": "stdout",
     "output_type": "stream",
     "text": [
      "['amarillo', 'blanco', 'negro', 'rojo', 'verde']\n"
     ]
    }
   ],
   "source": [
    "lista_colores.reverse()\n",
    "print(lista_colores)"
   ]
  },
  {
   "cell_type": "markdown",
   "metadata": {},
   "source": [
    "### copy\n",
    "\n",
    "Realiza una copia (procesos que se realizan sobre la copia no afectan al original)"
   ]
  },
  {
   "cell_type": "code",
   "execution_count": 78,
   "metadata": {},
   "outputs": [],
   "source": [
    "lista_colores_copy = lista_colores.copy()"
   ]
  },
  {
   "cell_type": "code",
   "execution_count": 79,
   "metadata": {},
   "outputs": [
    {
     "name": "stdout",
     "output_type": "stream",
     "text": [
      "['amarillo', 'blanco', 'negro', 'rojo']\n",
      "['amarillo', 'blanco', 'negro', 'rojo', 'verde']\n"
     ]
    }
   ],
   "source": [
    "lista_colores_copy.pop()\n",
    "print(lista_colores_copy)\n",
    "print(lista_colores)"
   ]
  },
  {
   "cell_type": "code",
   "execution_count": 80,
   "metadata": {},
   "outputs": [
    {
     "name": "stdout",
     "output_type": "stream",
     "text": [
      "['amarillo', 'blanco', 'negro', 'rojo']\n"
     ]
    }
   ],
   "source": [
    "lista_colores_copy_2 = lista_colores_copy\n",
    "print(lista_colores_copy_2)"
   ]
  },
  {
   "cell_type": "code",
   "execution_count": 81,
   "metadata": {},
   "outputs": [
    {
     "name": "stdout",
     "output_type": "stream",
     "text": [
      "['amarillo', 'blanco', 'negro', 'rojo']\n"
     ]
    }
   ],
   "source": [
    "print(lista_colores_copy)"
   ]
  },
  {
   "cell_type": "code",
   "execution_count": 82,
   "metadata": {},
   "outputs": [
    {
     "name": "stdout",
     "output_type": "stream",
     "text": [
      "['amarillo', 'blanco', 'negro']\n",
      "['amarillo', 'blanco', 'negro']\n"
     ]
    }
   ],
   "source": [
    "lista_colores_copy_2.pop()\n",
    "print(lista_colores_copy_2)\n",
    "print(lista_colores_copy)"
   ]
  }
 ],
 "metadata": {
  "kernelspec": {
   "display_name": "envi",
   "language": "python",
   "name": "python3"
  },
  "language_info": {
   "codemirror_mode": {
    "name": "ipython",
    "version": 3
   },
   "file_extension": ".py",
   "mimetype": "text/x-python",
   "name": "python",
   "nbconvert_exporter": "python",
   "pygments_lexer": "ipython3",
   "version": "3.12.3"
  }
 },
 "nbformat": 4,
 "nbformat_minor": 2
}
