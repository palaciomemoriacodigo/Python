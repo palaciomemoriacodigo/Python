{
 "cells": [
  {
   "cell_type": "code",
   "execution_count": 91,
   "metadata": {},
   "outputs": [],
   "source": [
    "import pandas as pd"
   ]
  },
  {
   "cell_type": "markdown",
   "metadata": {},
   "source": [
    "# Funciones lambda\n",
    "\n",
    "Se usan principalmente para tareas cortas y simples. Son útiles para cuando necesitas una función que se va a usar para pocos casos.\n",
    "\n",
    "Se definen usando la palabra clave `lambda`\n",
    "\n",
    "Se suelen utilizar como argumentos en funciones `map`, `filter`, y `reduce`.\n",
    "\n",
    "---\n",
    "\n",
    "Síntaxis --> lambda argumentos: expresión"
   ]
  },
  {
   "cell_type": "code",
   "execution_count": 92,
   "metadata": {},
   "outputs": [
    {
     "name": "stdout",
     "output_type": "stream",
     "text": [
      "-1\n"
     ]
    }
   ],
   "source": [
    "resta = lambda x, y: x - y\n",
    "print(resta(2, 3))  "
   ]
  },
  {
   "cell_type": "markdown",
   "metadata": {},
   "source": [
    "## Funciones Lambda con Argumentos Predeterminados:"
   ]
  },
  {
   "cell_type": "code",
   "execution_count": 93,
   "metadata": {},
   "outputs": [
    {
     "name": "stdout",
     "output_type": "stream",
     "text": [
      "3\n"
     ]
    }
   ],
   "source": [
    "multiplicacion = lambda x, y=1: x * y\n",
    "print(multiplicacion(3))  "
   ]
  },
  {
   "cell_type": "code",
   "execution_count": 94,
   "metadata": {},
   "outputs": [
    {
     "name": "stdout",
     "output_type": "stream",
     "text": [
      "6\n"
     ]
    }
   ],
   "source": [
    "print(multiplicacion(3,2))  "
   ]
  },
  {
   "cell_type": "markdown",
   "metadata": {},
   "source": [
    "## Map\n",
    "\n",
    "Aplica una función a cada elemento en un iterable y devuelve un nuevo iterable con los resultados.\n",
    "\n",
    "map(función, iterable)"
   ]
  },
  {
   "cell_type": "code",
   "execution_count": 95,
   "metadata": {},
   "outputs": [
    {
     "name": "stdout",
     "output_type": "stream",
     "text": [
      "[1, 4, 9, 16]\n"
     ]
    }
   ],
   "source": [
    "numeros = [1, 2, 3, 4]\n",
    "cuadrados = list(map(lambda x: x**2, numeros))\n",
    "print(cuadrados)  "
   ]
  },
  {
   "cell_type": "code",
   "execution_count": 96,
   "metadata": {},
   "outputs": [
    {
     "name": "stdout",
     "output_type": "stream",
     "text": [
      "[70.0, 16.67, 66.67]\n"
     ]
    }
   ],
   "source": [
    "total = [10, 12, 6]\n",
    "gastado = [7, 2, 4]\n",
    "suma = list(map(lambda total, gastado: round((gastado / total)*100,2), total, gastado))\n",
    "print(suma) "
   ]
  },
  {
   "cell_type": "code",
   "execution_count": 97,
   "metadata": {},
   "outputs": [
    {
     "name": "stdout",
     "output_type": "stream",
     "text": [
      "['Diente', 'Jirafa', 'Perro']\n"
     ]
    }
   ],
   "source": [
    "texto = [\"dIente\", \" jirafa\", \"PERRO\"]\n",
    "texto_sin_espacios = list(map(lambda texto: texto.strip(), texto))\n",
    "texto_formateado = list(map(lambda texto_sin_espacios: texto_sin_espacios.capitalize(), texto_sin_espacios))\n",
    "print(texto_formateado)  "
   ]
  },
  {
   "cell_type": "code",
   "execution_count": 98,
   "metadata": {},
   "outputs": [
    {
     "name": "stdout",
     "output_type": "stream",
     "text": [
      "['Diente', 'Jirafa', 'Perro']\n"
     ]
    }
   ],
   "source": [
    "texto = [\"dIente\", \" jirafa\", \"PERRO\"]\n",
    "texto_formateado = list(map(lambda texto: texto.strip().capitalize(), texto))\n",
    "print(texto_formateado)  "
   ]
  },
  {
   "cell_type": "code",
   "execution_count": 99,
   "metadata": {},
   "outputs": [
    {
     "name": "stdout",
     "output_type": "stream",
     "text": [
      "75\n",
      "\n",
      "nombre:Antonio\n",
      "\n",
      "nota:90\n",
      "\n",
      "nombre:Elena\n",
      "\n",
      "nota:90\n",
      "\n",
      "nombre:Pedro\n",
      "\n",
      "nota:50.4\n",
      "\n",
      "nombre:Juan\n",
      "\n",
      "nota:45.6\n",
      "\n",
      "nombre:Manolo\n",
      "\n",
      "nota:64.8\n",
      "\n",
      "nombre:Marta\n",
      "\n",
      "nota:78.0\n",
      "\n",
      "nombre:Paula\n",
      "\n",
      "nota:27.6\n",
      "\n",
      "nombre:Raul\n",
      "\n",
      "nota:38.4\n",
      "\n"
     ]
    }
   ],
   "source": [
    "estudiantes = [\n",
    "    {\"nombre\": \"Antonio\", \"nota\": 75},\n",
    "    {\"nombre\": \"Elena\", \"nota\": 75},\n",
    "    {\"nombre\": \"Pedro\", \"nota\": 42},\n",
    "    {\"nombre\": \"Juan\", \"nota\": 38},\n",
    "    {\"nombre\": \"Manolo\", \"nota\": 54},\n",
    "    {\"nombre\": \"Marta\", \"nota\": 65},\n",
    "    {\"nombre\": \"Paula\", \"nota\": 23},\n",
    "    {\"nombre\": \"Raul\", \"nota\": 32}\n",
    "]\n",
    "\n",
    "df_previo = pd.DataFrame(estudiantes)\n",
    "\n",
    "mejor_nota = max(estudiante[\"nota\"] for estudiante in estudiantes)\n",
    "print(mejor_nota)\n",
    "print()\n",
    "\n",
    "ajuste_notas = list(map(lambda estudiante: {\n",
    "    \"nombre\": estudiante[\"nombre\"],\n",
    "    \"nota\": 90 if estudiante[\"nota\"] == mejor_nota else round(90 * (estudiante[\"nota\"] / mejor_nota),2)\n",
    "}, estudiantes))\n",
    "\n",
    "## 75 (maxima nota) * x = 90  --> x = 90/75\n",
    "\n",
    "\n",
    "for dicts in ajuste_notas:\n",
    "    for clave, valor in dicts.items():\n",
    "        print(f\"{clave}:{valor}\")\n",
    "        print()\n",
    "    \n",
    "df = pd.DataFrame(ajuste_notas)\n"
   ]
  },
  {
   "cell_type": "code",
   "execution_count": 100,
   "metadata": {},
   "outputs": [
    {
     "data": {
      "text/html": [
       "<div>\n",
       "<style scoped>\n",
       "    .dataframe tbody tr th:only-of-type {\n",
       "        vertical-align: middle;\n",
       "    }\n",
       "\n",
       "    .dataframe tbody tr th {\n",
       "        vertical-align: top;\n",
       "    }\n",
       "\n",
       "    .dataframe thead th {\n",
       "        text-align: right;\n",
       "    }\n",
       "</style>\n",
       "<table border=\"1\" class=\"dataframe\">\n",
       "  <thead>\n",
       "    <tr style=\"text-align: right;\">\n",
       "      <th></th>\n",
       "      <th>nombre</th>\n",
       "      <th>nota</th>\n",
       "    </tr>\n",
       "  </thead>\n",
       "  <tbody>\n",
       "    <tr>\n",
       "      <th>0</th>\n",
       "      <td>Antonio</td>\n",
       "      <td>75</td>\n",
       "    </tr>\n",
       "    <tr>\n",
       "      <th>1</th>\n",
       "      <td>Elena</td>\n",
       "      <td>75</td>\n",
       "    </tr>\n",
       "    <tr>\n",
       "      <th>2</th>\n",
       "      <td>Pedro</td>\n",
       "      <td>42</td>\n",
       "    </tr>\n",
       "    <tr>\n",
       "      <th>3</th>\n",
       "      <td>Juan</td>\n",
       "      <td>38</td>\n",
       "    </tr>\n",
       "    <tr>\n",
       "      <th>4</th>\n",
       "      <td>Manolo</td>\n",
       "      <td>54</td>\n",
       "    </tr>\n",
       "    <tr>\n",
       "      <th>5</th>\n",
       "      <td>Marta</td>\n",
       "      <td>65</td>\n",
       "    </tr>\n",
       "    <tr>\n",
       "      <th>6</th>\n",
       "      <td>Paula</td>\n",
       "      <td>23</td>\n",
       "    </tr>\n",
       "    <tr>\n",
       "      <th>7</th>\n",
       "      <td>Raul</td>\n",
       "      <td>32</td>\n",
       "    </tr>\n",
       "  </tbody>\n",
       "</table>\n",
       "</div>"
      ],
      "text/plain": [
       "    nombre  nota\n",
       "0  Antonio    75\n",
       "1    Elena    75\n",
       "2    Pedro    42\n",
       "3     Juan    38\n",
       "4   Manolo    54\n",
       "5    Marta    65\n",
       "6    Paula    23\n",
       "7     Raul    32"
      ]
     },
     "execution_count": 100,
     "metadata": {},
     "output_type": "execute_result"
    }
   ],
   "source": [
    "df_previo"
   ]
  },
  {
   "cell_type": "code",
   "execution_count": 101,
   "metadata": {},
   "outputs": [
    {
     "data": {
      "text/html": [
       "<div>\n",
       "<style scoped>\n",
       "    .dataframe tbody tr th:only-of-type {\n",
       "        vertical-align: middle;\n",
       "    }\n",
       "\n",
       "    .dataframe tbody tr th {\n",
       "        vertical-align: top;\n",
       "    }\n",
       "\n",
       "    .dataframe thead th {\n",
       "        text-align: right;\n",
       "    }\n",
       "</style>\n",
       "<table border=\"1\" class=\"dataframe\">\n",
       "  <thead>\n",
       "    <tr style=\"text-align: right;\">\n",
       "      <th></th>\n",
       "      <th>nombre</th>\n",
       "      <th>nota</th>\n",
       "    </tr>\n",
       "  </thead>\n",
       "  <tbody>\n",
       "    <tr>\n",
       "      <th>0</th>\n",
       "      <td>Antonio</td>\n",
       "      <td>90.0</td>\n",
       "    </tr>\n",
       "    <tr>\n",
       "      <th>1</th>\n",
       "      <td>Elena</td>\n",
       "      <td>90.0</td>\n",
       "    </tr>\n",
       "    <tr>\n",
       "      <th>2</th>\n",
       "      <td>Pedro</td>\n",
       "      <td>50.4</td>\n",
       "    </tr>\n",
       "    <tr>\n",
       "      <th>3</th>\n",
       "      <td>Juan</td>\n",
       "      <td>45.6</td>\n",
       "    </tr>\n",
       "    <tr>\n",
       "      <th>4</th>\n",
       "      <td>Manolo</td>\n",
       "      <td>64.8</td>\n",
       "    </tr>\n",
       "    <tr>\n",
       "      <th>5</th>\n",
       "      <td>Marta</td>\n",
       "      <td>78.0</td>\n",
       "    </tr>\n",
       "    <tr>\n",
       "      <th>6</th>\n",
       "      <td>Paula</td>\n",
       "      <td>27.6</td>\n",
       "    </tr>\n",
       "    <tr>\n",
       "      <th>7</th>\n",
       "      <td>Raul</td>\n",
       "      <td>38.4</td>\n",
       "    </tr>\n",
       "  </tbody>\n",
       "</table>\n",
       "</div>"
      ],
      "text/plain": [
       "    nombre  nota\n",
       "0  Antonio  90.0\n",
       "1    Elena  90.0\n",
       "2    Pedro  50.4\n",
       "3     Juan  45.6\n",
       "4   Manolo  64.8\n",
       "5    Marta  78.0\n",
       "6    Paula  27.6\n",
       "7     Raul  38.4"
      ]
     },
     "execution_count": 101,
     "metadata": {},
     "output_type": "execute_result"
    }
   ],
   "source": [
    "df"
   ]
  },
  {
   "cell_type": "markdown",
   "metadata": {},
   "source": [
    "## Reduce\n",
    "\n",
    "Aplica una función acumulativa a los elementos de una colección y devuelve un único valor.\n",
    "\n",
    "reduce(función, iterable[, inicial])\n",
    "\n",
    "`función`: Una función que toma dos argumentos y devuelve un único valor.\n",
    "\n",
    "`iterable`: El iterable a reducir.\n",
    "\n",
    "`inicial` (opcional): El valor inicial del acumulador."
   ]
  },
  {
   "cell_type": "code",
   "execution_count": 102,
   "metadata": {},
   "outputs": [],
   "source": [
    "from functools import reduce"
   ]
  },
  {
   "cell_type": "code",
   "execution_count": 103,
   "metadata": {},
   "outputs": [
    {
     "name": "stdout",
     "output_type": "stream",
     "text": [
      "24\n"
     ]
    }
   ],
   "source": [
    "numeros = [1, 2, 3, 4]\n",
    "producto = reduce(lambda x, y: x * y, numeros)\n",
    "print(producto) "
   ]
  },
  {
   "cell_type": "code",
   "execution_count": 104,
   "metadata": {},
   "outputs": [
    {
     "name": "stdout",
     "output_type": "stream",
     "text": [
      "15\n"
     ]
    }
   ],
   "source": [
    "numeros = [1, 2, 3, 4, 5]\n",
    "producto = reduce(lambda x, y: x + y, numeros)\n",
    "print(producto)"
   ]
  },
  {
   "cell_type": "code",
   "execution_count": 105,
   "metadata": {},
   "outputs": [
    {
     "name": "stdout",
     "output_type": "stream",
     "text": [
      "50\n"
     ]
    }
   ],
   "source": [
    "numeros = [10, 13, 50, 22, 41]\n",
    "maximo = reduce(lambda x, y: x if x > y else y, numeros)\n",
    "print(maximo)  "
   ]
  },
  {
   "cell_type": "code",
   "execution_count": 106,
   "metadata": {},
   "outputs": [
    {
     "name": "stdout",
     "output_type": "stream",
     "text": [
      "10\n"
     ]
    }
   ],
   "source": [
    "numeros = [10, 13, 50, 22, 41]\n",
    "minimo = reduce(lambda x, y: x if x < y else y, numeros)\n",
    "print(minimo) "
   ]
  },
  {
   "cell_type": "code",
   "execution_count": 107,
   "metadata": {},
   "outputs": [
    {
     "name": "stdout",
     "output_type": "stream",
     "text": [
      "27\n"
     ]
    }
   ],
   "source": [
    "numeros = [2, 3, 1, 2, 3]\n",
    "suma_cuadrados = reduce(lambda x, y: x + y**2, numeros, 0)\n",
    "print(suma_cuadrados) "
   ]
  },
  {
   "cell_type": "code",
   "execution_count": 108,
   "metadata": {},
   "outputs": [
    {
     "name": "stdout",
     "output_type": "stream",
     "text": [
      "2.5\n"
     ]
    }
   ],
   "source": [
    "numeros = [3, 3, 1, 2, 3,3]\n",
    "suma = reduce(lambda x, y: x + y, numeros)\n",
    "media = suma / len(numeros)\n",
    "print(media) "
   ]
  },
  {
   "cell_type": "code",
   "execution_count": 109,
   "metadata": {},
   "outputs": [
    {
     "name": "stdout",
     "output_type": "stream",
     "text": [
      "12\n"
     ]
    }
   ],
   "source": [
    "carrito = [\n",
    "    {\"producto\": \"pan\", \"precio\": 1, \"cantidad\": 1},\n",
    "    {\"producto\": \"pizza\", \"precio\": 4, \"cantidad\": 2},\n",
    "    {\"producto\": \"agua\", \"precio\": 1, \"cantidad\": 3}\n",
    "]\n",
    "total = reduce(lambda x, prod: x + prod[\"precio\"] * prod[\"cantidad\"], carrito, 0)\n",
    "print(total)  "
   ]
  },
  {
   "cell_type": "markdown",
   "metadata": {},
   "source": [
    "## Filter\n",
    "\n",
    "Permite filtrar elementos de un iterable utilizando una función que devuelve True o False. Solo se devuelven aquellos elementos que la función ha marcado como True.\n",
    "\n",
    "filter(función, iterable)"
   ]
  },
  {
   "cell_type": "code",
   "execution_count": 110,
   "metadata": {},
   "outputs": [
    {
     "name": "stdout",
     "output_type": "stream",
     "text": [
      "[2, 4, 6]\n"
     ]
    }
   ],
   "source": [
    "numeros = [1, 2, 3, 4, 5, 6]\n",
    "pares = list(filter(lambda x: x % 2 == 0, numeros))\n",
    "print(pares) "
   ]
  },
  {
   "cell_type": "code",
   "execution_count": 111,
   "metadata": {},
   "outputs": [
    {
     "name": "stdout",
     "output_type": "stream",
     "text": [
      "[2, 4, 6]\n"
     ]
    }
   ],
   "source": [
    "numeros = [1, 2, 3, 4, 5, 6]\n",
    "compresion = [x for x in numeros if x % 2 == 0]\n",
    "print(compresion) "
   ]
  },
  {
   "cell_type": "code",
   "execution_count": 112,
   "metadata": {},
   "outputs": [
    {
     "name": "stdout",
     "output_type": "stream",
     "text": [
      "[50, 80, 200]\n"
     ]
    }
   ],
   "source": [
    "numeros = [10, -40, 50, 80, 200]\n",
    "mayores_de_40 = list(filter(lambda x: x > 40, numeros))\n",
    "print(mayores_de_40)  \n"
   ]
  },
  {
   "cell_type": "code",
   "execution_count": 113,
   "metadata": {},
   "outputs": [
    {
     "name": "stdout",
     "output_type": "stream",
     "text": [
      "[50, 80, 200]\n"
     ]
    }
   ],
   "source": [
    "numeros = [10, -40, 50, 80, 200]\n",
    "compresion = [x for x in numeros if x > 40]\n",
    "print(compresion) "
   ]
  },
  {
   "cell_type": "code",
   "execution_count": 114,
   "metadata": {},
   "outputs": [
    {
     "name": "stdout",
     "output_type": "stream",
     "text": [
      "[{'nombre': 'Antonio', 'nota': 75}, {'nombre': 'Elena', 'nota': 75}, {'nombre': 'Manolo', 'nota': 54}, {'nombre': 'Marta', 'nota': 65}]\n"
     ]
    },
    {
     "data": {
      "text/html": [
       "<div>\n",
       "<style scoped>\n",
       "    .dataframe tbody tr th:only-of-type {\n",
       "        vertical-align: middle;\n",
       "    }\n",
       "\n",
       "    .dataframe tbody tr th {\n",
       "        vertical-align: top;\n",
       "    }\n",
       "\n",
       "    .dataframe thead th {\n",
       "        text-align: right;\n",
       "    }\n",
       "</style>\n",
       "<table border=\"1\" class=\"dataframe\">\n",
       "  <thead>\n",
       "    <tr style=\"text-align: right;\">\n",
       "      <th></th>\n",
       "      <th>nombre</th>\n",
       "      <th>nota</th>\n",
       "    </tr>\n",
       "  </thead>\n",
       "  <tbody>\n",
       "    <tr>\n",
       "      <th>0</th>\n",
       "      <td>Antonio</td>\n",
       "      <td>75</td>\n",
       "    </tr>\n",
       "    <tr>\n",
       "      <th>1</th>\n",
       "      <td>Elena</td>\n",
       "      <td>75</td>\n",
       "    </tr>\n",
       "    <tr>\n",
       "      <th>2</th>\n",
       "      <td>Manolo</td>\n",
       "      <td>54</td>\n",
       "    </tr>\n",
       "    <tr>\n",
       "      <th>3</th>\n",
       "      <td>Marta</td>\n",
       "      <td>65</td>\n",
       "    </tr>\n",
       "  </tbody>\n",
       "</table>\n",
       "</div>"
      ],
      "text/plain": [
       "    nombre  nota\n",
       "0  Antonio    75\n",
       "1    Elena    75\n",
       "2   Manolo    54\n",
       "3    Marta    65"
      ]
     },
     "execution_count": 114,
     "metadata": {},
     "output_type": "execute_result"
    }
   ],
   "source": [
    "estudiantes = [\n",
    "    {\"nombre\": \"Antonio\", \"nota\": 75},\n",
    "    {\"nombre\": \"Elena\", \"nota\": 75},\n",
    "    {\"nombre\": \"Pedro\", \"nota\": 42},\n",
    "    {\"nombre\": \"Juan\", \"nota\": 38},\n",
    "    {\"nombre\": \"Manolo\", \"nota\": 54},\n",
    "    {\"nombre\": \"Marta\", \"nota\": 65},\n",
    "    {\"nombre\": \"Paula\", \"nota\": 23},\n",
    "    {\"nombre\": \"Raul\", \"nota\": 32}\n",
    "]\n",
    "\n",
    "aprobados = list(filter(lambda estudiante: estudiante[\"nota\"] >= 50, estudiantes))\n",
    "print(aprobados)\n",
    "df = pd.DataFrame(aprobados)\n",
    "df"
   ]
  },
  {
   "cell_type": "code",
   "execution_count": 115,
   "metadata": {},
   "outputs": [
    {
     "data": {
      "text/html": [
       "<div>\n",
       "<style scoped>\n",
       "    .dataframe tbody tr th:only-of-type {\n",
       "        vertical-align: middle;\n",
       "    }\n",
       "\n",
       "    .dataframe tbody tr th {\n",
       "        vertical-align: top;\n",
       "    }\n",
       "\n",
       "    .dataframe thead th {\n",
       "        text-align: right;\n",
       "    }\n",
       "</style>\n",
       "<table border=\"1\" class=\"dataframe\">\n",
       "  <thead>\n",
       "    <tr style=\"text-align: right;\">\n",
       "      <th></th>\n",
       "      <th>nombre</th>\n",
       "      <th>nota</th>\n",
       "    </tr>\n",
       "  </thead>\n",
       "  <tbody>\n",
       "    <tr>\n",
       "      <th>0</th>\n",
       "      <td>Antonio</td>\n",
       "      <td>75</td>\n",
       "    </tr>\n",
       "    <tr>\n",
       "      <th>1</th>\n",
       "      <td>Elena</td>\n",
       "      <td>75</td>\n",
       "    </tr>\n",
       "    <tr>\n",
       "      <th>2</th>\n",
       "      <td>Manolo</td>\n",
       "      <td>54</td>\n",
       "    </tr>\n",
       "    <tr>\n",
       "      <th>3</th>\n",
       "      <td>Marta</td>\n",
       "      <td>65</td>\n",
       "    </tr>\n",
       "  </tbody>\n",
       "</table>\n",
       "</div>"
      ],
      "text/plain": [
       "    nombre  nota\n",
       "0  Antonio    75\n",
       "1    Elena    75\n",
       "2   Manolo    54\n",
       "3    Marta    65"
      ]
     },
     "execution_count": 115,
     "metadata": {},
     "output_type": "execute_result"
    }
   ],
   "source": [
    "compresion = [estudiante for estudiante in estudiantes if estudiante[\"nota\"] >= 50]\n",
    "df = pd.DataFrame(compresion)\n",
    "df"
   ]
  },
  {
   "cell_type": "code",
   "execution_count": 116,
   "metadata": {},
   "outputs": [
    {
     "name": "stdout",
     "output_type": "stream",
     "text": [
      "['rojo', 'amarillo', 'negro']\n"
     ]
    }
   ],
   "source": [
    "colores = [\"rojo\", \"verde\", \"amarillo\", \"purpura\", \"negro\"]\n",
    "contienen_o = list(filter(lambda color: 'o' in color, colores))\n",
    "print(contienen_o) "
   ]
  },
  {
   "cell_type": "code",
   "execution_count": 117,
   "metadata": {},
   "outputs": [
    {
     "name": "stdout",
     "output_type": "stream",
     "text": [
      "[{'nombre': 'P-11384', 'precio': 100000, 'habitaciones': 3, 'disponible': True}]\n"
     ]
    }
   ],
   "source": [
    "pisos = [\n",
    "    {\"nombre\": \"P-11384\", \"precio\": 100000, \"habitaciones\": 3, \"disponible\": True},\n",
    "    {\"nombre\": \"P-11522\", \"precio\": 120000,\"habitaciones\": 4, \"disponible\": True},\n",
    "    {\"nombre\": \"P-11976\", \"precio\": 80000,\"habitaciones\": 2, \"disponible\": True}\n",
    "]\n",
    "pisos_filtrados = list(filter(lambda piso: piso[\"disponible\"] and piso[\"precio\"] < 105000 and piso['habitaciones'] >= 3,  pisos))\n",
    "print(pisos_filtrados) \n"
   ]
  },
  {
   "cell_type": "markdown",
   "metadata": {},
   "source": [
    "##  Combinación map, reduce y filter"
   ]
  },
  {
   "cell_type": "code",
   "execution_count": 118,
   "metadata": {},
   "outputs": [
    {
     "name": "stdout",
     "output_type": "stream",
     "text": [
      "Los numeros pares filtrados son: [2, 4, 6, 8, 10], sus cuadrados son: [4, 16, 36, 64, 100] y la suma de los cuadrados es: 220.\n"
     ]
    }
   ],
   "source": [
    "\n",
    "numeros = [1, 2, 3, 4, 5, 6, 7, 8, 9, 10]\n",
    "\n",
    "pares = list(filter(lambda x: x % 2 == 0, numeros))\n",
    "cuadrados = list(map(lambda x: x**2, pares))\n",
    "suma_cuadrados = reduce(lambda x, y: x + y, cuadrados)\n",
    "\n",
    "print(f'Los numeros pares filtrados son: {pares}, sus cuadrados son: {cuadrados} y la suma de los cuadrados es: {suma_cuadrados}.')"
   ]
  },
  {
   "cell_type": "code",
   "execution_count": 119,
   "metadata": {},
   "outputs": [
    {
     "name": "stdout",
     "output_type": "stream",
     "text": [
      "[{'nombre': 'Antonio', 'nota': 100}, {'nombre': 'Elena', 'nota': 85}, {'nombre': 'Manolo', 'nota': 64}, {'nombre': 'Marta', 'nota': 75}]\n"
     ]
    }
   ],
   "source": [
    "estudiantes = [\n",
    "    {\"nombre\": \"Antonio\", \"nota\": 92},\n",
    "    {\"nombre\": \"Elena\", \"nota\": 75},\n",
    "    {\"nombre\": \"Pedro\", \"nota\": 42},\n",
    "    {\"nombre\": \"Juan\", \"nota\": 38},\n",
    "    {\"nombre\": \"Manolo\", \"nota\": 54},\n",
    "    {\"nombre\": \"Marta\", \"nota\": 65},\n",
    "    {\"nombre\": \"Paula\", \"nota\": 23},\n",
    "    {\"nombre\": \"Raul\", \"nota\": 32}\n",
    "]\n",
    "\n",
    "aprobados = list(filter(lambda estudiante: estudiante[\"nota\"] >= 50, estudiantes))\n",
    "\n",
    "mejora_notas_aprobados = list(map(lambda estudiante: {\n",
    "    \"nombre\": estudiante[\"nombre\"],\n",
    "    \"nota\": estudiante[\"nota\"] + 10 if  estudiante[\"nota\"] <= 90 else 100\n",
    "}, aprobados))\n",
    "\n",
    "print(mejora_notas_aprobados)"
   ]
  },
  {
   "cell_type": "code",
   "execution_count": 120,
   "metadata": {},
   "outputs": [
    {
     "name": "stdout",
     "output_type": "stream",
     "text": [
      "Cuadrados: [1, 4, 9] y producto de los cuadrados: 36\n"
     ]
    }
   ],
   "source": [
    "numeros = [1, 2, 3]\n",
    "cuadrados = list(map(lambda x: x**2, numeros))\n",
    "producto_cuadrados = reduce(lambda x, y: x * y, cuadrados)\n",
    "print(f\"Cuadrados: {cuadrados} y producto de los cuadrados: {producto_cuadrados}\")"
   ]
  },
  {
   "cell_type": "code",
   "execution_count": 121,
   "metadata": {},
   "outputs": [
    {
     "name": "stdout",
     "output_type": "stream",
     "text": [
      "Números pares: [2, 4, 6] y suma de los números pares: 12\n"
     ]
    }
   ],
   "source": [
    "numeros = [1, 2, 3, 4, 5, 6]\n",
    "\n",
    "pares = list(filter(lambda x: x % 2 == 0, numeros))\n",
    "suma_pares = reduce(lambda x, y: x + y, pares)\n",
    "\n",
    "print(f\"Números pares: {pares} y suma de los números pares: {suma_pares}\")"
   ]
  },
  {
   "cell_type": "markdown",
   "metadata": {},
   "source": [
    "## Funciones Lambda Anidadas:\n",
    "\n",
    "Definir una función dentro de otra función"
   ]
  },
  {
   "cell_type": "code",
   "execution_count": 122,
   "metadata": {},
   "outputs": [
    {
     "name": "stdout",
     "output_type": "stream",
     "text": [
      "(1 + 3) * 4 = 16\n",
      "(2 + 4) * 5 = 30\n",
      "(2 + 5) * 0 = 0\n"
     ]
    }
   ],
   "source": [
    "sumar_y_multiplicar = lambda x: lambda y: lambda z: (x + y) * z\n",
    "\n",
    "resultado = sumar_y_multiplicar(1)(3)(4)\n",
    "print(f\"(1 + 3) * 4 = {resultado}\")\n",
    "resultado = sumar_y_multiplicar(2)(4)(5)\n",
    "print(f\"(2 + 4) * 5 = {resultado}\")\n",
    "resultado = sumar_y_multiplicar(2)(5)(0)\n",
    "print(f\"(2 + 5) * 0 = {resultado}\")"
   ]
  },
  {
   "cell_type": "code",
   "execution_count": 123,
   "metadata": {},
   "outputs": [
    {
     "name": "stdout",
     "output_type": "stream",
     "text": [
      "Buenas tardes\n"
     ]
    }
   ],
   "source": [
    "formatear_texto = lambda inicio: lambda texto: f\"{inicio.strip().capitalize()} {texto.strip().lower()}\"\n",
    "resultado = formatear_texto(\"  bUENas\"  )(\"   Tardes   \")\n",
    "print(resultado)"
   ]
  },
  {
   "cell_type": "markdown",
   "metadata": {},
   "source": [
    "## Sorted\n",
    "\n",
    "Permite la ordenación de iterables\n"
   ]
  },
  {
   "cell_type": "code",
   "execution_count": 124,
   "metadata": {},
   "outputs": [
    {
     "name": "stdout",
     "output_type": "stream",
     "text": [
      "[{'nombre': 'Juan', 'edad': 24}, {'nombre': 'Ana', 'edad': 29}, {'nombre': 'Luis', 'edad': 35}]\n"
     ]
    }
   ],
   "source": [
    "personas = [\n",
    "    {\"nombre\": \"Ana\", \"edad\": 29},\n",
    "    {\"nombre\": \"Luis\", \"edad\": 35},\n",
    "    {\"nombre\": \"Juan\", \"edad\": 24}\n",
    "]\n",
    "personas_ordenadas = sorted(personas, key=lambda persona: persona[\"edad\"])\n",
    "print(personas_ordenadas)"
   ]
  },
  {
   "cell_type": "code",
   "execution_count": 125,
   "metadata": {},
   "outputs": [
    {
     "name": "stdout",
     "output_type": "stream",
     "text": [
      "[{'nombre': 'Luis', 'edad': 35}, {'nombre': 'Ana', 'edad': 29}, {'nombre': 'Juan', 'edad': 24}]\n"
     ]
    }
   ],
   "source": [
    "personas = [\n",
    "    {\"nombre\": \"Ana\", \"edad\": 29},\n",
    "    {\"nombre\": \"Luis\", \"edad\": 35},\n",
    "    {\"nombre\": \"Juan\", \"edad\": 24}\n",
    "]\n",
    "personas_ordenadas = sorted(personas, key=lambda persona: persona[\"edad\"], reverse=True)\n",
    "print(personas_ordenadas)"
   ]
  },
  {
   "cell_type": "code",
   "execution_count": 126,
   "metadata": {},
   "outputs": [
    {
     "name": "stdout",
     "output_type": "stream",
     "text": [
      "[{'nombre': 'Ana', 'edad': 29}, {'nombre': 'Juan', 'edad': 24}, {'nombre': 'Luis', 'edad': 35}]\n"
     ]
    }
   ],
   "source": [
    "personas = [\n",
    "    {\"nombre\": \"Ana\", \"edad\": 29},\n",
    "    {\"nombre\": \"Luis\", \"edad\": 35},\n",
    "    {\"nombre\": \"Juan\", \"edad\": 24}\n",
    "]\n",
    "personas_ordenadas = sorted(personas, key=lambda persona: persona[\"nombre\"])\n",
    "print(personas_ordenadas)"
   ]
  }
 ],
 "metadata": {
  "kernelspec": {
   "display_name": "envi",
   "language": "python",
   "name": "python3"
  },
  "language_info": {
   "codemirror_mode": {
    "name": "ipython",
    "version": 3
   },
   "file_extension": ".py",
   "mimetype": "text/x-python",
   "name": "python",
   "nbconvert_exporter": "python",
   "pygments_lexer": "ipython3",
   "version": "3.12.3"
  }
 },
 "nbformat": 4,
 "nbformat_minor": 2
}
