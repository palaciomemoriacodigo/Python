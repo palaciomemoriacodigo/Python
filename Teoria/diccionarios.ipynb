{
 "cells": [
  {
   "cell_type": "markdown",
   "metadata": {},
   "source": [
    "# Diccionarios\n",
    "\n",
    "Los diccionarios (matrices asociativas) son colecciones que relacionan una clave y un valor."
   ]
  },
  {
   "cell_type": "code",
   "execution_count": 49,
   "metadata": {},
   "outputs": [
    {
     "name": "stdout",
     "output_type": "stream",
     "text": [
      "{}\n"
     ]
    }
   ],
   "source": [
    "podekex_inicio =  {}\n",
    "print(podekex_inicio)"
   ]
  },
  {
   "cell_type": "code",
   "execution_count": 50,
   "metadata": {},
   "outputs": [
    {
     "data": {
      "text/plain": [
       "{'nombre': 'snowball', 'edad': 4, 'raza': 'Border Collie'}"
      ]
     },
     "execution_count": 50,
     "metadata": {},
     "output_type": "execute_result"
    }
   ],
   "source": [
    "diccionario_perro = {\"nombre\": 'snowball', 'edad':4, 'raza':'Border Collie'}\n",
    "diccionario_perro"
   ]
  },
  {
   "cell_type": "markdown",
   "metadata": {},
   "source": [
    "## Diccionario anidado"
   ]
  },
  {
   "cell_type": "code",
   "execution_count": 51,
   "metadata": {},
   "outputs": [],
   "source": [
    "pokedex = {\n",
    "    1: {\n",
    "        \"nombre\": \"Bulbasaur\",\n",
    "        \"tipo\": [\"Planta\", \"Veneno\"],\n",
    "        \"habilidades\": [\"Espesura\", \"Clorofila\"]\n",
    "    },\n",
    "    4: {\n",
    "        \"nombre\": \"Charmander\",\n",
    "        \"tipo\": [\"Fuego\"],\n",
    "        \"habilidades\": [\"Mar Llamas\", \"Poder Solar\"]\n",
    "    },\n",
    "    7: {\n",
    "        \"nombre\": \"Squirtle\",\n",
    "        \"tipo\": [\"Agua\"],\n",
    "        \"habilidades\": [\"Torrente\", \"Cura Lluvia\"]\n",
    "    },\n",
    "    25: {\n",
    "        \"nombre\": \"Pikachu\",\n",
    "        \"tipo\": [\"Eléctrico\"],\n",
    "        \"habilidades\": [\"Elec. Estática\", \"Pararrayos\"]\n",
    "    }\n",
    "}"
   ]
  },
  {
   "cell_type": "code",
   "execution_count": 52,
   "metadata": {},
   "outputs": [
    {
     "data": {
      "text/plain": [
       "{1: {'nombre': 'Bulbasaur',\n",
       "  'tipo': ['Planta', 'Veneno'],\n",
       "  'habilidades': ['Espesura', 'Clorofila']},\n",
       " 4: {'nombre': 'Charmander',\n",
       "  'tipo': ['Fuego'],\n",
       "  'habilidades': ['Mar Llamas', 'Poder Solar']},\n",
       " 7: {'nombre': 'Squirtle',\n",
       "  'tipo': ['Agua'],\n",
       "  'habilidades': ['Torrente', 'Cura Lluvia']},\n",
       " 25: {'nombre': 'Pikachu',\n",
       "  'tipo': ['Eléctrico'],\n",
       "  'habilidades': ['Elec. Estática', 'Pararrayos']}}"
      ]
     },
     "execution_count": 52,
     "metadata": {},
     "output_type": "execute_result"
    }
   ],
   "source": [
    "pokedex"
   ]
  },
  {
   "cell_type": "markdown",
   "metadata": {},
   "source": [
    "## Diccionarios a partir de otras colecciones"
   ]
  },
  {
   "cell_type": "code",
   "execution_count": 53,
   "metadata": {},
   "outputs": [
    {
     "data": {
      "text/plain": [
       "{'nombre': 'Bulbasaur',\n",
       " 'tipo': ['Planta', 'Veneno'],\n",
       " 'habilidades': ['Espesura', 'Clorofila']}"
      ]
     },
     "execution_count": 53,
     "metadata": {},
     "output_type": "execute_result"
    }
   ],
   "source": [
    "diccionario = dict(nombre=\"Bulbasaur\", tipo=['Planta', 'Veneno'], habilidades=['Espesura', 'Clorofila'])\n",
    "diccionario"
   ]
  },
  {
   "cell_type": "code",
   "execution_count": 54,
   "metadata": {},
   "outputs": [
    {
     "data": {
      "text/plain": [
       "{1: 'Bulbasaur', 4: 'Charmander', 7: 'Squirtle'}"
      ]
     },
     "execution_count": 54,
     "metadata": {},
     "output_type": "execute_result"
    }
   ],
   "source": [
    "lista_tuplas = [(1, \"Bulbasaur\"), (4, \"Charmander\"), (7, \"Squirtle\")]\n",
    "diccionario = dict(lista_tuplas)\n",
    "diccionario"
   ]
  },
  {
   "cell_type": "markdown",
   "metadata": {},
   "source": [
    "## Acceder a elementos"
   ]
  },
  {
   "cell_type": "code",
   "execution_count": 55,
   "metadata": {},
   "outputs": [
    {
     "data": {
      "text/plain": [
       "{'nombre': 'snowball', 'edad': 4, 'raza': 'Border Collie'}"
      ]
     },
     "execution_count": 55,
     "metadata": {},
     "output_type": "execute_result"
    }
   ],
   "source": [
    "diccionario_perro"
   ]
  },
  {
   "cell_type": "code",
   "execution_count": 56,
   "metadata": {},
   "outputs": [
    {
     "data": {
      "text/plain": [
       "'snowball'"
      ]
     },
     "execution_count": 56,
     "metadata": {},
     "output_type": "execute_result"
    }
   ],
   "source": [
    "diccionario_perro['nombre']"
   ]
  },
  {
   "cell_type": "code",
   "execution_count": 57,
   "metadata": {},
   "outputs": [
    {
     "data": {
      "text/plain": [
       "{1: {'nombre': 'Bulbasaur',\n",
       "  'tipo': ['Planta', 'Veneno'],\n",
       "  'habilidades': ['Espesura', 'Clorofila']},\n",
       " 4: {'nombre': 'Charmander',\n",
       "  'tipo': ['Fuego'],\n",
       "  'habilidades': ['Mar Llamas', 'Poder Solar']},\n",
       " 7: {'nombre': 'Squirtle',\n",
       "  'tipo': ['Agua'],\n",
       "  'habilidades': ['Torrente', 'Cura Lluvia']},\n",
       " 25: {'nombre': 'Pikachu',\n",
       "  'tipo': ['Eléctrico'],\n",
       "  'habilidades': ['Elec. Estática', 'Pararrayos']}}"
      ]
     },
     "execution_count": 57,
     "metadata": {},
     "output_type": "execute_result"
    }
   ],
   "source": [
    "pokedex"
   ]
  },
  {
   "cell_type": "code",
   "execution_count": 58,
   "metadata": {},
   "outputs": [
    {
     "data": {
      "text/plain": [
       "'Pikachu'"
      ]
     },
     "execution_count": 58,
     "metadata": {},
     "output_type": "execute_result"
    }
   ],
   "source": [
    "nombre = pokedex[25][\"nombre\"]\n",
    "nombre"
   ]
  },
  {
   "cell_type": "code",
   "execution_count": 59,
   "metadata": {},
   "outputs": [
    {
     "data": {
      "text/plain": [
       "{'nombre': 'snowball', 'edad': 4, 'raza': 'Border Collie'}"
      ]
     },
     "execution_count": 59,
     "metadata": {},
     "output_type": "execute_result"
    }
   ],
   "source": [
    "diccionario_perro"
   ]
  },
  {
   "cell_type": "code",
   "execution_count": 60,
   "metadata": {},
   "outputs": [],
   "source": [
    "detalles = {'ciudad':'Murcia', 'color':'negro'}\n",
    "diccionario_perro.update(detalles)"
   ]
  },
  {
   "cell_type": "code",
   "execution_count": 61,
   "metadata": {},
   "outputs": [
    {
     "data": {
      "text/plain": [
       "{'nombre': 'snowball',\n",
       " 'edad': 4,\n",
       " 'raza': 'Border Collie',\n",
       " 'ciudad': 'Murcia',\n",
       " 'color': 'negro'}"
      ]
     },
     "execution_count": 61,
     "metadata": {},
     "output_type": "execute_result"
    }
   ],
   "source": [
    "diccionario_perro"
   ]
  },
  {
   "cell_type": "markdown",
   "metadata": {},
   "source": [
    "## Modificar elementos"
   ]
  },
  {
   "cell_type": "code",
   "execution_count": 62,
   "metadata": {},
   "outputs": [
    {
     "data": {
      "text/plain": [
       "{'nombre': 'snowball',\n",
       " 'edad': 5,\n",
       " 'raza': 'Border Collie',\n",
       " 'ciudad': 'Murcia',\n",
       " 'color': 'negro'}"
      ]
     },
     "execution_count": 62,
     "metadata": {},
     "output_type": "execute_result"
    }
   ],
   "source": [
    "diccionario_perro['edad'] = 5\n",
    "diccionario_perro"
   ]
  },
  {
   "cell_type": "code",
   "execution_count": 63,
   "metadata": {},
   "outputs": [],
   "source": [
    "pokedex[1][\"nombre\"] = \"Vulvasur\""
   ]
  },
  {
   "cell_type": "code",
   "execution_count": 64,
   "metadata": {},
   "outputs": [
    {
     "data": {
      "text/plain": [
       "{1: {'nombre': 'Vulvasur',\n",
       "  'tipo': ['Planta', 'Veneno'],\n",
       "  'habilidades': ['Espesura', 'Clorofila']},\n",
       " 4: {'nombre': 'Charmander',\n",
       "  'tipo': ['Fuego'],\n",
       "  'habilidades': ['Mar Llamas', 'Poder Solar']},\n",
       " 7: {'nombre': 'Squirtle',\n",
       "  'tipo': ['Agua'],\n",
       "  'habilidades': ['Torrente', 'Cura Lluvia']},\n",
       " 25: {'nombre': 'Pikachu',\n",
       "  'tipo': ['Eléctrico'],\n",
       "  'habilidades': ['Elec. Estática', 'Pararrayos']}}"
      ]
     },
     "execution_count": 64,
     "metadata": {},
     "output_type": "execute_result"
    }
   ],
   "source": [
    "pokedex"
   ]
  },
  {
   "cell_type": "code",
   "execution_count": 65,
   "metadata": {},
   "outputs": [],
   "source": [
    "pokedex[1][\"nombre\"] = \"Bulbasaur\""
   ]
  },
  {
   "cell_type": "markdown",
   "metadata": {},
   "source": [
    "## Eliminar elementos"
   ]
  },
  {
   "cell_type": "code",
   "execution_count": 66,
   "metadata": {},
   "outputs": [
    {
     "data": {
      "text/plain": [
       "{'nombre': 'snowball',\n",
       " 'edad': 5,\n",
       " 'raza': 'Border Collie',\n",
       " 'ciudad': 'Murcia',\n",
       " 'color': 'negro'}"
      ]
     },
     "execution_count": 66,
     "metadata": {},
     "output_type": "execute_result"
    }
   ],
   "source": [
    "diccionario_perro"
   ]
  },
  {
   "cell_type": "code",
   "execution_count": 67,
   "metadata": {},
   "outputs": [
    {
     "data": {
      "text/plain": [
       "{'edad': 5, 'raza': 'Border Collie', 'ciudad': 'Murcia', 'color': 'negro'}"
      ]
     },
     "execution_count": 67,
     "metadata": {},
     "output_type": "execute_result"
    }
   ],
   "source": [
    "del diccionario_perro['nombre']\n",
    "diccionario_perro"
   ]
  },
  {
   "cell_type": "code",
   "execution_count": 68,
   "metadata": {},
   "outputs": [],
   "source": [
    "del pokedex[1][\"nombre\"]"
   ]
  },
  {
   "cell_type": "code",
   "execution_count": 69,
   "metadata": {},
   "outputs": [
    {
     "data": {
      "text/plain": [
       "{1: {'tipo': ['Planta', 'Veneno'], 'habilidades': ['Espesura', 'Clorofila']},\n",
       " 4: {'nombre': 'Charmander',\n",
       "  'tipo': ['Fuego'],\n",
       "  'habilidades': ['Mar Llamas', 'Poder Solar']},\n",
       " 7: {'nombre': 'Squirtle',\n",
       "  'tipo': ['Agua'],\n",
       "  'habilidades': ['Torrente', 'Cura Lluvia']},\n",
       " 25: {'nombre': 'Pikachu',\n",
       "  'tipo': ['Eléctrico'],\n",
       "  'habilidades': ['Elec. Estática', 'Pararrayos']}}"
      ]
     },
     "execution_count": 69,
     "metadata": {},
     "output_type": "execute_result"
    }
   ],
   "source": [
    "pokedex"
   ]
  },
  {
   "cell_type": "code",
   "execution_count": 70,
   "metadata": {},
   "outputs": [
    {
     "data": {
      "text/plain": [
       "{'edad': 5, 'raza': 'Border Collie', 'ciudad': 'Murcia', 'color': 'negro'}"
      ]
     },
     "execution_count": 70,
     "metadata": {},
     "output_type": "execute_result"
    }
   ],
   "source": [
    "diccionario_perro"
   ]
  },
  {
   "cell_type": "code",
   "execution_count": 71,
   "metadata": {},
   "outputs": [
    {
     "data": {
      "text/plain": [
       "{'edad': 5, 'ciudad': 'Murcia', 'color': 'negro'}"
      ]
     },
     "execution_count": 71,
     "metadata": {},
     "output_type": "execute_result"
    }
   ],
   "source": [
    "diccionario_perro.pop('raza')\n",
    "diccionario_perro"
   ]
  },
  {
   "cell_type": "code",
   "execution_count": 72,
   "metadata": {},
   "outputs": [
    {
     "name": "stdout",
     "output_type": "stream",
     "text": [
      "['Planta', 'Veneno']\n"
     ]
    }
   ],
   "source": [
    "ciudad = pokedex[1].pop(\"tipo\")\n",
    "print(ciudad)  "
   ]
  },
  {
   "cell_type": "code",
   "execution_count": 73,
   "metadata": {},
   "outputs": [
    {
     "data": {
      "text/plain": [
       "{1: {'habilidades': ['Espesura', 'Clorofila']},\n",
       " 4: {'nombre': 'Charmander',\n",
       "  'tipo': ['Fuego'],\n",
       "  'habilidades': ['Mar Llamas', 'Poder Solar']},\n",
       " 7: {'nombre': 'Squirtle',\n",
       "  'tipo': ['Agua'],\n",
       "  'habilidades': ['Torrente', 'Cura Lluvia']},\n",
       " 25: {'nombre': 'Pikachu',\n",
       "  'tipo': ['Eléctrico'],\n",
       "  'habilidades': ['Elec. Estática', 'Pararrayos']}}"
      ]
     },
     "execution_count": 73,
     "metadata": {},
     "output_type": "execute_result"
    }
   ],
   "source": [
    "pokedex"
   ]
  },
  {
   "cell_type": "markdown",
   "metadata": {},
   "source": [
    "## Acceder a claves/valores/items"
   ]
  },
  {
   "cell_type": "code",
   "execution_count": 74,
   "metadata": {},
   "outputs": [],
   "source": [
    "diccionario_perro = {\"nombre\": 'snowball', 'edad':4, 'raza':'Border Collie'}"
   ]
  },
  {
   "cell_type": "code",
   "execution_count": 75,
   "metadata": {},
   "outputs": [],
   "source": [
    "pokedex = {\n",
    "    1: {\n",
    "        \"nombre\": \"Bulbasaur\",\n",
    "        \"tipo\": [\"Planta\", \"Veneno\"],\n",
    "        \"habilidades\": [\"Espesura\", \"Clorofila\"]\n",
    "    },\n",
    "    4: {\n",
    "        \"nombre\": \"Charmander\",\n",
    "        \"tipo\": [\"Fuego\"],\n",
    "        \"habilidades\": [\"Mar Llamas\", \"Poder Solar\"]\n",
    "    },\n",
    "    7: {\n",
    "        \"nombre\": \"Squirtle\",\n",
    "        \"tipo\": [\"Agua\"],\n",
    "        \"habilidades\": [\"Torrente\", \"Cura Lluvia\"]\n",
    "    },\n",
    "    25: {\n",
    "        \"nombre\": \"Pikachu\",\n",
    "        \"tipo\": [\"Eléctrico\"],\n",
    "        \"habilidades\": [\"Elec. Estática\", \"Pararrayos\"]\n",
    "    }\n",
    "}"
   ]
  },
  {
   "cell_type": "code",
   "execution_count": 76,
   "metadata": {},
   "outputs": [
    {
     "data": {
      "text/plain": [
       "'snowball'"
      ]
     },
     "execution_count": 76,
     "metadata": {},
     "output_type": "execute_result"
    }
   ],
   "source": [
    "diccionario_perro.get('nombre','No se encuentra resultado asociado')"
   ]
  },
  {
   "cell_type": "code",
   "execution_count": 77,
   "metadata": {},
   "outputs": [
    {
     "name": "stdout",
     "output_type": "stream",
     "text": [
      "dict_keys(['nombre', 'edad', 'raza'])\n",
      "dict_values(['snowball', 4, 'Border Collie'])\n",
      "dict_items([('nombre', 'snowball'), ('edad', 4), ('raza', 'Border Collie')])\n"
     ]
    }
   ],
   "source": [
    "claves = diccionario_perro.keys()\n",
    "print(claves)\n",
    "valores = diccionario_perro.values()\n",
    "print(valores)\n",
    "items = diccionario_perro.items()\n",
    "print(items)"
   ]
  },
  {
   "cell_type": "code",
   "execution_count": 78,
   "metadata": {},
   "outputs": [
    {
     "name": "stdout",
     "output_type": "stream",
     "text": [
      "dict_keys([1, 4, 7, 25])\n",
      "dict_values([{'nombre': 'Bulbasaur', 'tipo': ['Planta', 'Veneno'], 'habilidades': ['Espesura', 'Clorofila']}, {'nombre': 'Charmander', 'tipo': ['Fuego'], 'habilidades': ['Mar Llamas', 'Poder Solar']}, {'nombre': 'Squirtle', 'tipo': ['Agua'], 'habilidades': ['Torrente', 'Cura Lluvia']}, {'nombre': 'Pikachu', 'tipo': ['Eléctrico'], 'habilidades': ['Elec. Estática', 'Pararrayos']}])\n",
      "dict_items([(1, {'nombre': 'Bulbasaur', 'tipo': ['Planta', 'Veneno'], 'habilidades': ['Espesura', 'Clorofila']}), (4, {'nombre': 'Charmander', 'tipo': ['Fuego'], 'habilidades': ['Mar Llamas', 'Poder Solar']}), (7, {'nombre': 'Squirtle', 'tipo': ['Agua'], 'habilidades': ['Torrente', 'Cura Lluvia']}), (25, {'nombre': 'Pikachu', 'tipo': ['Eléctrico'], 'habilidades': ['Elec. Estática', 'Pararrayos']})])\n"
     ]
    }
   ],
   "source": [
    "claves = pokedex.keys()\n",
    "print(claves)\n",
    "valores = pokedex.values()\n",
    "print(valores)\n",
    "items = pokedex.items()\n",
    "print(items)"
   ]
  },
  {
   "cell_type": "markdown",
   "metadata": {},
   "source": [
    "## Condicionales"
   ]
  },
  {
   "cell_type": "code",
   "execution_count": 79,
   "metadata": {},
   "outputs": [
    {
     "name": "stdout",
     "output_type": "stream",
     "text": [
      "Está en la Pokédex.\n"
     ]
    }
   ],
   "source": [
    "if 4 in pokedex:\n",
    "    print(\"Está en la Pokédex.\")\n",
    "else:\n",
    "    print(\"No está en la Pokédex.\")"
   ]
  },
  {
   "cell_type": "markdown",
   "metadata": {},
   "source": [
    "## Bucles (Básicos) "
   ]
  },
  {
   "cell_type": "code",
   "execution_count": 80,
   "metadata": {},
   "outputs": [
    {
     "name": "stdout",
     "output_type": "stream",
     "text": [
      "nombre: snowball\n",
      "edad: 4\n",
      "raza: Border Collie\n"
     ]
    }
   ],
   "source": [
    "for clave, valor in diccionario_perro.items():\n",
    "    print(f\"{clave}: {valor}\")"
   ]
  },
  {
   "cell_type": "code",
   "execution_count": 81,
   "metadata": {},
   "outputs": [
    {
     "name": "stdout",
     "output_type": "stream",
     "text": [
      "1: {'nombre': 'Bulbasaur', 'tipo': ['Planta', 'Veneno'], 'habilidades': ['Espesura', 'Clorofila']}\n",
      "4: {'nombre': 'Charmander', 'tipo': ['Fuego'], 'habilidades': ['Mar Llamas', 'Poder Solar']}\n",
      "7: {'nombre': 'Squirtle', 'tipo': ['Agua'], 'habilidades': ['Torrente', 'Cura Lluvia']}\n",
      "25: {'nombre': 'Pikachu', 'tipo': ['Eléctrico'], 'habilidades': ['Elec. Estática', 'Pararrayos']}\n"
     ]
    }
   ],
   "source": [
    "for clave, valor in pokedex.items():\n",
    "    print(f\"{clave}: {valor}\")"
   ]
  },
  {
   "cell_type": "code",
   "execution_count": 82,
   "metadata": {},
   "outputs": [
    {
     "name": "stdout",
     "output_type": "stream",
     "text": [
      "nombre\n",
      "edad\n",
      "raza\n"
     ]
    }
   ],
   "source": [
    "for clave in diccionario_perro.keys():\n",
    "    print(clave)"
   ]
  },
  {
   "cell_type": "code",
   "execution_count": 83,
   "metadata": {},
   "outputs": [
    {
     "name": "stdout",
     "output_type": "stream",
     "text": [
      "1\n",
      "4\n",
      "7\n",
      "25\n"
     ]
    }
   ],
   "source": [
    "for clave in pokedex.keys():\n",
    "    print(clave)"
   ]
  },
  {
   "cell_type": "code",
   "execution_count": 84,
   "metadata": {},
   "outputs": [
    {
     "name": "stdout",
     "output_type": "stream",
     "text": [
      "snowball\n",
      "4\n",
      "Border Collie\n"
     ]
    }
   ],
   "source": [
    "for valor in diccionario_perro.values():\n",
    "    print(valor)"
   ]
  },
  {
   "cell_type": "code",
   "execution_count": 85,
   "metadata": {},
   "outputs": [
    {
     "name": "stdout",
     "output_type": "stream",
     "text": [
      "{'nombre': 'Bulbasaur', 'tipo': ['Planta', 'Veneno'], 'habilidades': ['Espesura', 'Clorofila']}\n",
      "{'nombre': 'Charmander', 'tipo': ['Fuego'], 'habilidades': ['Mar Llamas', 'Poder Solar']}\n",
      "{'nombre': 'Squirtle', 'tipo': ['Agua'], 'habilidades': ['Torrente', 'Cura Lluvia']}\n",
      "{'nombre': 'Pikachu', 'tipo': ['Eléctrico'], 'habilidades': ['Elec. Estática', 'Pararrayos']}\n"
     ]
    }
   ],
   "source": [
    "for valor in pokedex.values():\n",
    "    print(valor)"
   ]
  },
  {
   "cell_type": "code",
   "execution_count": 86,
   "metadata": {},
   "outputs": [
    {
     "data": {
      "text/plain": [
       "{1: {'nombre': 'Bulbasaur',\n",
       "  'tipo': ['Planta', 'Veneno'],\n",
       "  'habilidades': ['Espesura', 'Clorofila']},\n",
       " 4: {'nombre': 'Charmander',\n",
       "  'tipo': ['Fuego'],\n",
       "  'habilidades': ['Mar Llamas', 'Poder Solar']},\n",
       " 7: {'nombre': 'Squirtle',\n",
       "  'tipo': ['Agua'],\n",
       "  'habilidades': ['Torrente', 'Cura Lluvia']},\n",
       " 25: {'nombre': 'Pikachu',\n",
       "  'tipo': ['Eléctrico'],\n",
       "  'habilidades': ['Elec. Estática', 'Pararrayos']}}"
      ]
     },
     "execution_count": 86,
     "metadata": {},
     "output_type": "execute_result"
    }
   ],
   "source": [
    "pokedex"
   ]
  },
  {
   "cell_type": "code",
   "execution_count": 87,
   "metadata": {},
   "outputs": [
    {
     "name": "stdout",
     "output_type": "stream",
     "text": [
      "Bulbasaur\n"
     ]
    }
   ],
   "source": [
    "for clave, valor in pokedex.items():\n",
    "    if \"Veneno\" in valor[\"tipo\"]:\n",
    "        print(f\"{valor['nombre']}\")"
   ]
  }
 ],
 "metadata": {
  "kernelspec": {
   "display_name": "envi",
   "language": "python",
   "name": "python3"
  },
  "language_info": {
   "codemirror_mode": {
    "name": "ipython",
    "version": 3
   },
   "file_extension": ".py",
   "mimetype": "text/x-python",
   "name": "python",
   "nbconvert_exporter": "python",
   "pygments_lexer": "ipython3",
   "version": "3.12.3"
  }
 },
 "nbformat": 4,
 "nbformat_minor": 2
}
