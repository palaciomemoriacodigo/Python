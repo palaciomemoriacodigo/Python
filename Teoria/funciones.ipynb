{
 "cells": [
  {
   "cell_type": "markdown",
   "metadata": {},
   "source": [
    "# Funciones\n",
    "\n",
    "Una función es un bloque de código reutilizable que realiza una tarea específica. Nos permiten reutilizar código, aportando modularidad y ser más organizados."
   ]
  },
  {
   "cell_type": "code",
   "execution_count": 291,
   "metadata": {},
   "outputs": [],
   "source": [
    "def comer():\n",
    "    print('Estas comiendo')"
   ]
  },
  {
   "cell_type": "code",
   "execution_count": 292,
   "metadata": {},
   "outputs": [
    {
     "name": "stdout",
     "output_type": "stream",
     "text": [
      "Estas comiendo\n"
     ]
    }
   ],
   "source": [
    "comer()"
   ]
  },
  {
   "cell_type": "markdown",
   "metadata": {},
   "source": [
    "# Argumentos\n",
    "\n",
    "permiten a las funciones recibir datos de entrada."
   ]
  },
  {
   "cell_type": "code",
   "execution_count": 293,
   "metadata": {},
   "outputs": [],
   "source": [
    "def comer(nombre,comida):\n",
    "    print(f'{nombre} esta comiendo: {comida}')"
   ]
  },
  {
   "cell_type": "code",
   "execution_count": 294,
   "metadata": {},
   "outputs": [
    {
     "name": "stdout",
     "output_type": "stream",
     "text": [
      "Alberto esta comiendo: ramen\n"
     ]
    }
   ],
   "source": [
    "comer('Alberto','ramen')"
   ]
  },
  {
   "cell_type": "code",
   "execution_count": 295,
   "metadata": {},
   "outputs": [
    {
     "name": "stdout",
     "output_type": "stream",
     "text": [
      "Pedro esta comiendo: arroz\n"
     ]
    }
   ],
   "source": [
    "comer('Pedro','arroz')"
   ]
  },
  {
   "cell_type": "markdown",
   "metadata": {},
   "source": [
    "# Return\n",
    "\n",
    "Permite devolver valores, siendo estos valores el resultado de la función."
   ]
  },
  {
   "cell_type": "code",
   "execution_count": 296,
   "metadata": {},
   "outputs": [],
   "source": [
    "def restar_dos_num(num1, num2):\n",
    "    print(f'{num1 - num2}')"
   ]
  },
  {
   "cell_type": "code",
   "execution_count": 297,
   "metadata": {},
   "outputs": [
    {
     "name": "stdout",
     "output_type": "stream",
     "text": [
      "2\n"
     ]
    }
   ],
   "source": [
    "restar_dos_num(4,2)"
   ]
  },
  {
   "cell_type": "code",
   "execution_count": 298,
   "metadata": {},
   "outputs": [],
   "source": [
    "# restar_dos_num(4,2) - restar_dos_num(2,1) "
   ]
  },
  {
   "cell_type": "code",
   "execution_count": 299,
   "metadata": {},
   "outputs": [],
   "source": [
    "def restar_dos_num(num1, num2):\n",
    "    return num1 - num2"
   ]
  },
  {
   "cell_type": "code",
   "execution_count": 300,
   "metadata": {},
   "outputs": [
    {
     "data": {
      "text/plain": [
       "2"
      ]
     },
     "execution_count": 300,
     "metadata": {},
     "output_type": "execute_result"
    }
   ],
   "source": [
    "restar_dos_num(4,2)"
   ]
  },
  {
   "cell_type": "code",
   "execution_count": 301,
   "metadata": {},
   "outputs": [
    {
     "data": {
      "text/plain": [
       "1"
      ]
     },
     "execution_count": 301,
     "metadata": {},
     "output_type": "execute_result"
    }
   ],
   "source": [
    "restar_dos_num(4,2) - restar_dos_num(2,1) "
   ]
  },
  {
   "cell_type": "code",
   "execution_count": 302,
   "metadata": {},
   "outputs": [],
   "source": [
    "lista_restas = []\n",
    "def restar_dos_num(num1, num2):\n",
    "    resultado = num1 - num2\n",
    "    lista_restas.append(resultado)\n",
    "    return resultado"
   ]
  },
  {
   "cell_type": "code",
   "execution_count": 303,
   "metadata": {},
   "outputs": [
    {
     "data": {
      "text/plain": [
       "3"
      ]
     },
     "execution_count": 303,
     "metadata": {},
     "output_type": "execute_result"
    }
   ],
   "source": [
    "restar_dos_num(6, 3)\n",
    "# lista_restas"
   ]
  },
  {
   "cell_type": "code",
   "execution_count": 304,
   "metadata": {},
   "outputs": [
    {
     "data": {
      "text/plain": [
       "[3]"
      ]
     },
     "execution_count": 304,
     "metadata": {},
     "output_type": "execute_result"
    }
   ],
   "source": [
    "lista_restas"
   ]
  },
  {
   "cell_type": "markdown",
   "metadata": {},
   "source": [
    "#  Funciones con Argumentos Predeterminados\n",
    "\n",
    "Permiten a las funciones tener valores por defecto.\n",
    "\n",
    "Los argumentos con valores predeterminados deben ir después de los argumentos que no tienen valores predeterminados"
   ]
  },
  {
   "cell_type": "code",
   "execution_count": 305,
   "metadata": {},
   "outputs": [],
   "source": [
    "# def comer(nombre = \"Un máquina\",comida):\n",
    "#     print(f'{nombre} está comiendo: {comida}')"
   ]
  },
  {
   "cell_type": "code",
   "execution_count": 306,
   "metadata": {},
   "outputs": [],
   "source": [
    "def comer(comida, nombre = \"Un máquina\"):\n",
    "    print(f'{nombre} está comiendo: {comida}')"
   ]
  },
  {
   "cell_type": "code",
   "execution_count": 307,
   "metadata": {},
   "outputs": [
    {
     "name": "stdout",
     "output_type": "stream",
     "text": [
      "Un máquina está comiendo: ramen\n"
     ]
    }
   ],
   "source": [
    "comer('ramen')"
   ]
  },
  {
   "cell_type": "code",
   "execution_count": 308,
   "metadata": {},
   "outputs": [
    {
     "name": "stdout",
     "output_type": "stream",
     "text": [
      "Alberto está comiendo: ramen\n"
     ]
    }
   ],
   "source": [
    "comer('ramen','Alberto')"
   ]
  },
  {
   "cell_type": "code",
   "execution_count": 309,
   "metadata": {},
   "outputs": [
    {
     "name": "stdout",
     "output_type": "stream",
     "text": [
      "Pedro está comiendo: arroz\n"
     ]
    }
   ],
   "source": [
    "comer('arroz',nombre='Pedro')"
   ]
  },
  {
   "cell_type": "markdown",
   "metadata": {},
   "source": [
    "# Diferentes tipos de argumentos\n",
    "\n",
    "`argumentos posicionales`: Debes proporcionarlos en el mismo orden en que están definidos en la función (si no los añades falla la función)\n",
    "\n",
    "`argumentos por defecto`: Argumentos por defecto permiten definir valores predeterminados para los parámetros. Si no se proporciona un valor para un argumento por defecto cuando se llama a la función, se usará el valor predeterminado.\n",
    "\n",
    "`*args` (arbitrarios): Los argumentos arbitrarios permiten pasar un número variable de argumentos posicionales a una función. Estos argumentos se recopilan en una tupla.\n",
    "\n",
    "`**kwargs` (palabras clave): Los argumentos por palabras clave permiten pasar un número variable de argumentos nombrados a una función. Estos argumentos se recopilan en un diccionario."
   ]
  },
  {
   "cell_type": "code",
   "execution_count": 310,
   "metadata": {},
   "outputs": [],
   "source": [
    "def sumar(*numeros):\n",
    "    total = sum(numeros)\n",
    "    print(f\"Total: {total}\")"
   ]
  },
  {
   "cell_type": "code",
   "execution_count": 311,
   "metadata": {},
   "outputs": [
    {
     "name": "stdout",
     "output_type": "stream",
     "text": [
      "Total: 48\n"
     ]
    }
   ],
   "source": [
    "sumar(2,3,5,8,30)"
   ]
  },
  {
   "cell_type": "code",
   "execution_count": 312,
   "metadata": {},
   "outputs": [],
   "source": [
    "def sumar(*numeros):\n",
    "    total = sum(numeros)\n",
    "    return total"
   ]
  },
  {
   "cell_type": "code",
   "execution_count": 313,
   "metadata": {},
   "outputs": [
    {
     "data": {
      "text/plain": [
       "18"
      ]
     },
     "execution_count": 313,
     "metadata": {},
     "output_type": "execute_result"
    }
   ],
   "source": [
    "sumar(2,3,5,8)"
   ]
  },
  {
   "cell_type": "code",
   "execution_count": 314,
   "metadata": {},
   "outputs": [
    {
     "data": {
      "text/plain": [
       "8"
      ]
     },
     "execution_count": 314,
     "metadata": {},
     "output_type": "execute_result"
    }
   ],
   "source": [
    "sumar(2,3,5,8) - sumar(2,3,5)"
   ]
  },
  {
   "cell_type": "code",
   "execution_count": 315,
   "metadata": {},
   "outputs": [],
   "source": [
    "def comanda(cliente):\n",
    "    print(f\"Pedido para {cliente}:\")  "
   ]
  },
  {
   "cell_type": "code",
   "execution_count": 316,
   "metadata": {},
   "outputs": [
    {
     "name": "stdout",
     "output_type": "stream",
     "text": [
      "Pedido para Juan:\n"
     ]
    }
   ],
   "source": [
    "comanda('Juan')"
   ]
  },
  {
   "cell_type": "code",
   "execution_count": 317,
   "metadata": {},
   "outputs": [],
   "source": [
    "def comanda(cliente, bebida=\"agua\"):\n",
    "    print(f\"Pedido para {cliente}:\")\n",
    "    print(f\"Bebida: {bebida}\")"
   ]
  },
  {
   "cell_type": "code",
   "execution_count": 318,
   "metadata": {},
   "outputs": [
    {
     "name": "stdout",
     "output_type": "stream",
     "text": [
      "Pedido para Juan:\n",
      "Bebida: agua\n"
     ]
    }
   ],
   "source": [
    "comanda('Juan')"
   ]
  },
  {
   "cell_type": "code",
   "execution_count": 319,
   "metadata": {},
   "outputs": [
    {
     "name": "stdout",
     "output_type": "stream",
     "text": [
      "Pedido para Juan:\n",
      "Bebida: cerveza\n"
     ]
    }
   ],
   "source": [
    "comanda('Juan', 'cerveza')"
   ]
  },
  {
   "cell_type": "code",
   "execution_count": 320,
   "metadata": {},
   "outputs": [],
   "source": [
    "def comanda(cliente, *platos, bebida=\"agua\"):\n",
    "    print(f\"Pedido para {cliente}:\")\n",
    "    print(f\"Bebida: {bebida}\")\n",
    "    \n",
    "    if platos:\n",
    "        print(\"Platillos:\")\n",
    "        for platillo in platos:\n",
    "            print(f\" - {platillo}\")\n",
    "    else:\n",
    "        print(\"No se han ordenado platos.\")\n"
   ]
  },
  {
   "cell_type": "code",
   "execution_count": 321,
   "metadata": {},
   "outputs": [
    {
     "name": "stdout",
     "output_type": "stream",
     "text": [
      "Pedido para Juan:\n",
      "Bebida: agua\n",
      "No se han ordenado platos.\n"
     ]
    }
   ],
   "source": [
    "comanda('Juan')"
   ]
  },
  {
   "cell_type": "code",
   "execution_count": 322,
   "metadata": {},
   "outputs": [
    {
     "name": "stdout",
     "output_type": "stream",
     "text": [
      "Pedido para Juan:\n",
      "Bebida: agua\n",
      "Platillos:\n",
      " - calamares\n",
      " - empanadillas\n"
     ]
    }
   ],
   "source": [
    "comanda('Juan','calamares','empanadillas')"
   ]
  },
  {
   "cell_type": "code",
   "execution_count": 323,
   "metadata": {},
   "outputs": [
    {
     "name": "stdout",
     "output_type": "stream",
     "text": [
      "Pedido para Juan:\n",
      "Bebida: cerveza\n",
      "Platillos:\n",
      " - calamares\n",
      " - empanadillas\n"
     ]
    }
   ],
   "source": [
    "comanda('Juan','calamares','empanadillas', bebida = 'cerveza')"
   ]
  },
  {
   "cell_type": "code",
   "execution_count": 324,
   "metadata": {},
   "outputs": [],
   "source": [
    "def comanda(cliente, *platillos, bebida=\"agua\", **anexo):\n",
    "    print(f\"Pedido para {cliente}:\")\n",
    "    print(f\"Bebida: {bebida}\")\n",
    "    \n",
    "    if platillos:\n",
    "        print(\"Platillos:\")\n",
    "        for platillo in platillos:\n",
    "            print(f\" - {platillo}\")\n",
    "    else:\n",
    "        print(\"No se han ordenado platillos.\")\n",
    "    \n",
    "    if anexo:\n",
    "        print(\"Instrucciones adicionales:\")\n",
    "        for clave, valor in anexo.items():\n",
    "            print(f\"  {clave}: {valor}\")\n"
   ]
  },
  {
   "cell_type": "code",
   "execution_count": 325,
   "metadata": {},
   "outputs": [
    {
     "name": "stdout",
     "output_type": "stream",
     "text": [
      "Pedido para Juan:\n",
      "Bebida: agua\n",
      "No se han ordenado platillos.\n"
     ]
    }
   ],
   "source": [
    "comanda('Juan')"
   ]
  },
  {
   "cell_type": "code",
   "execution_count": 326,
   "metadata": {},
   "outputs": [
    {
     "name": "stdout",
     "output_type": "stream",
     "text": [
      "Pedido para Juan:\n",
      "Bebida: cerveza\n",
      "No se han ordenado platillos.\n"
     ]
    }
   ],
   "source": [
    "comanda('Juan', bebida='cerveza')"
   ]
  },
  {
   "cell_type": "code",
   "execution_count": 327,
   "metadata": {},
   "outputs": [
    {
     "name": "stdout",
     "output_type": "stream",
     "text": [
      "Pedido para Juan:\n",
      "Bebida: cerveza\n",
      "Platillos:\n",
      " - Calamares\n",
      " - empanadillas\n"
     ]
    }
   ],
   "source": [
    "comanda('Juan','Calamares','empanadillas',bebida='cerveza')"
   ]
  },
  {
   "cell_type": "code",
   "execution_count": 328,
   "metadata": {},
   "outputs": [
    {
     "name": "stdout",
     "output_type": "stream",
     "text": [
      "Pedido para Juan:\n",
      "Bebida: agua\n",
      "Platillos:\n",
      " - Calamares\n",
      " - empanadillas\n",
      "Instrucciones adicionales:\n",
      "  intolerante_lactosa: True\n",
      "  pan: True\n"
     ]
    }
   ],
   "source": [
    "comanda('Juan', 'Calamares', 'empanadillas',intolerante_lactosa=True, pan=True)"
   ]
  },
  {
   "cell_type": "code",
   "execution_count": 329,
   "metadata": {},
   "outputs": [
    {
     "name": "stdout",
     "output_type": "stream",
     "text": [
      "Pedido para Juan:\n",
      "Bebida: cerveza\n",
      "Platillos:\n",
      " - Calamares\n",
      " - empanadillas\n",
      "Instrucciones adicionales:\n",
      "  intolerante_lactosa: True\n",
      "  pan: True\n"
     ]
    }
   ],
   "source": [
    "comanda('Juan', 'Calamares', 'empanadillas',intolerante_lactosa=True, pan=True, bebida='cerveza')"
   ]
  },
  {
   "cell_type": "markdown",
   "metadata": {},
   "source": [
    "# Funciones anidadas\n",
    "\n",
    "Las funciones anidadas son funciones definidas dentro de otras funciones, y el ámbito de variables define dónde estas pueden ser accedidas\n",
    "\n",
    "Tipos de Alcance:\n",
    "\n",
    "`Local`: Dentro de una función. Las variables definidas dentro de una función solo pueden ser accedidas dentro de esa función. (Ej: Variables declaradas dentro de una función.)\n",
    "\n",
    "`Global`: Fuera de todas las funciones. Pueden ser accedidas desde cualquier parte del código. (Ej: Variables declaradas en el nivel superior del script.)\n",
    "\n",
    "`No local`: Dentro de funciones anidadas aquellas que no son locales ni globales (se utiliza nonlocal para modificar). Útil para mantener el estado de una variable entre múltiples llamadas a la función anidada."
   ]
  },
  {
   "cell_type": "code",
   "execution_count": 330,
   "metadata": {},
   "outputs": [
    {
     "name": "stdout",
     "output_type": "stream",
     "text": [
      "Variable Local\n"
     ]
    }
   ],
   "source": [
    "def funcion_externa():\n",
    "    def funcion_interna():\n",
    "        x = \"Variable Local\"\n",
    "        print(x)\n",
    "    \n",
    "    funcion_interna()\n",
    "    #print(x)  \n",
    "    \n",
    "funcion_externa()"
   ]
  },
  {
   "cell_type": "code",
   "execution_count": 331,
   "metadata": {},
   "outputs": [
    {
     "name": "stdout",
     "output_type": "stream",
     "text": [
      "Modificada por funcion_interna\n",
      "Modificada por funcion_interna\n",
      "Modificada por funcion_interna\n"
     ]
    }
   ],
   "source": [
    "y = \"Variable Global\"\n",
    "\n",
    "def funcion_externa():\n",
    "    def funcion_interna():\n",
    "        global y\n",
    "        y = \"Modificada por funcion_interna\"\n",
    "        print(y)\n",
    "    \n",
    "    funcion_interna()\n",
    "    print(y)  \n",
    "\n",
    "funcion_externa()\n",
    "print(y)"
   ]
  },
  {
   "cell_type": "code",
   "execution_count": 332,
   "metadata": {},
   "outputs": [
    {
     "name": "stdout",
     "output_type": "stream",
     "text": [
      "Contador dentro de funcion_interna: 1\n",
      "Contador dentro de funcion_externa: 1\n"
     ]
    }
   ],
   "source": [
    "def funcion_externa():\n",
    "    contador = 0\n",
    "    \n",
    "    def funcion_interna():\n",
    "        nonlocal contador\n",
    "        contador += 1\n",
    "        print(f\"Contador dentro de funcion_interna: {contador}\")\n",
    "    \n",
    "    funcion_interna()\n",
    "    print(f\"Contador dentro de funcion_externa: {contador}\")\n",
    "\n",
    "funcion_externa()"
   ]
  },
  {
   "cell_type": "markdown",
   "metadata": {},
   "source": [
    "# Funciones como Argumentos\n",
    "\n",
    " Permite que una función tome una función como entrada, siendo útil para escribir código más modular y reutilizable."
   ]
  },
  {
   "cell_type": "code",
   "execution_count": 333,
   "metadata": {},
   "outputs": [
    {
     "name": "stdout",
     "output_type": "stream",
     "text": [
      "8\n",
      "2\n",
      "15\n",
      "\n",
      "8\n",
      "2\n",
      "15\n"
     ]
    }
   ],
   "source": [
    "def aplicar_operacion(a, b, operacion):\n",
    "    return operacion(a, b)\n",
    "\n",
    "def sumar(x, y):\n",
    "    return x + y\n",
    "\n",
    "def restar(x, y):\n",
    "    return x - y\n",
    "\n",
    "def multiplicar(x, y):\n",
    "    return x * y\n",
    "\n",
    "print(sumar(5,3))\n",
    "print(restar(5,3))\n",
    "print(multiplicar(5,3))\n",
    "\n",
    "print()\n",
    "\n",
    "print(aplicar_operacion(5, 3, sumar))        \n",
    "print(aplicar_operacion(5, 3, restar))       \n",
    "print(aplicar_operacion(5, 3, multiplicar))  \n"
   ]
  },
  {
   "cell_type": "code",
   "execution_count": 334,
   "metadata": {},
   "outputs": [
    {
     "name": "stdout",
     "output_type": "stream",
     "text": [
      "[-6, -900, 14]\n",
      "[1, -9, 3, -5, 5, 7, 11]\n",
      "[1, 3, 5, 7, 11, 14]\n",
      "[-9, -5, -6, -900]\n",
      "\n"
     ]
    }
   ],
   "source": [
    "def filtrar(lista, condicion):\n",
    "    return [elemento for elemento in lista if condicion(elemento)]\n",
    "\n",
    "def es_par(num):\n",
    "    return num % 2 == 0\n",
    "\n",
    "def es_impar(num):\n",
    "    return num % 2 == 1\n",
    "\n",
    "def es_positivo(num):\n",
    "    return num > 0\n",
    "def es_negativo(num):\n",
    "    return num < 0\n",
    "\n",
    "\n",
    "numeros = [1, -9, 3, -5, 5, -6, 7, 11,-900, 14]\n",
    "\n",
    "print(filtrar(numeros, es_par))     \n",
    "print(filtrar(numeros, es_impar))    \n",
    "print(filtrar(numeros, es_positivo))\n",
    "print(filtrar(numeros, es_negativo))\n",
    "\n",
    "print()\n"
   ]
  },
  {
   "cell_type": "code",
   "execution_count": 335,
   "metadata": {},
   "outputs": [
    {
     "name": "stdout",
     "output_type": "stream",
     "text": [
      "[-6, -900, 14]\n",
      "[1, -9, 3, -5, 5, 7, 11]\n",
      "[1, 3, 5, 7, 11, 14]\n",
      "[-9, -5, -6, -900]\n",
      "\n"
     ]
    }
   ],
   "source": [
    "def filtrar(lista, condicion):\n",
    "    resultado = []\n",
    "    for elemento in lista:\n",
    "        if condicion(elemento):\n",
    "            resultado.append(elemento)\n",
    "    return resultado\n",
    "def es_par(num):\n",
    "    return num % 2 == 0\n",
    "\n",
    "def es_impar(num):\n",
    "    return num % 2 == 1\n",
    "\n",
    "def es_positivo(num):\n",
    "    return num > 0\n",
    "def es_negativo(num):\n",
    "    return num < 0\n",
    "\n",
    "\n",
    "numeros = [1, -9, 3, -5, 5, -6, 7, 11,-900, 14]\n",
    "\n",
    "print(filtrar(numeros, es_par))     \n",
    "print(filtrar(numeros, es_impar))    \n",
    "print(filtrar(numeros, es_positivo))\n",
    "print(filtrar(numeros, es_negativo))\n",
    "\n",
    "print()"
   ]
  },
  {
   "cell_type": "code",
   "execution_count": 336,
   "metadata": {},
   "outputs": [
    {
     "name": "stdout",
     "output_type": "stream",
     "text": [
      "[-6, -900, 14]\n",
      "[1, -9, 3, -5, 5, 7, 11]\n",
      "[1, 3, 5, 7, 11, 14]\n",
      "[-9, -5, -6, -900]\n"
     ]
    }
   ],
   "source": [
    "def filtrar_par(lista):\n",
    "    return [elemento for elemento in lista if elemento % 2 == 0]\n",
    "\n",
    "def filtrar_impar(lista):\n",
    "    return [elemento for elemento in lista if elemento % 2 == 1]\n",
    "\n",
    "def filtrar_positivo(lista):\n",
    "    return [elemento for elemento in lista if elemento > 0]\n",
    "\n",
    "def filtrar_negativo(lista):\n",
    "    return [elemento for elemento in lista if elemento < 0]\n",
    "\n",
    "\n",
    "numeros = [1, -9, 3, -5, 5, -6, 7, 11,-900, 14]\n",
    "\n",
    "\n",
    "print(filtrar_par(numeros))      \n",
    "print(filtrar_impar(numeros))    \n",
    "print(filtrar_positivo(numeros)) \n",
    "print(filtrar_negativo(numeros)) "
   ]
  },
  {
   "cell_type": "markdown",
   "metadata": {},
   "source": [
    "# Manejo de Errores en Funciones\n",
    "\n",
    "El manejo de posible errores es importante para evitar que el programa se detenga antes de realizar toda la ejecución.\n",
    "\n",
    "`try`: contiene el código que podría generar una excepción.\n",
    "\n",
    "`except`: maneja una excepción específica.\n",
    "\n",
    "`else`:  se ejecuta si el bloque try no genera ninguna excepción (al mismo nivel)\n",
    "\n",
    "`finally`: se ejecuta siempre, independientemente de si se lanzó o no una excepción."
   ]
  },
  {
   "cell_type": "code",
   "execution_count": 337,
   "metadata": {},
   "outputs": [],
   "source": [
    "# print(4/0)"
   ]
  },
  {
   "cell_type": "code",
   "execution_count": 338,
   "metadata": {},
   "outputs": [
    {
     "name": "stdout",
     "output_type": "stream",
     "text": [
      "Operación de división completada\n",
      "11.5\n"
     ]
    }
   ],
   "source": [
    "def dividir(a, b):\n",
    "    try:\n",
    "        resultado = a / b\n",
    "    except ZeroDivisionError:\n",
    "        return \"No se puede dividir por cero\"\n",
    "    else:\n",
    "        return resultado\n",
    "    finally:\n",
    "        print(\"Operación de división completada\")\n",
    "\n",
    "print(dividir(23, 2)) \n",
    "# print(dividir(23, 0)) "
   ]
  },
  {
   "cell_type": "code",
   "execution_count": 339,
   "metadata": {},
   "outputs": [
    {
     "name": "stdout",
     "output_type": "stream",
     "text": [
      "Operación de división completada\n",
      "No se puede dividir por cero\n"
     ]
    }
   ],
   "source": [
    "def dividir(a, b):\n",
    "    try:\n",
    "        resultado = a / b\n",
    "        return resultado\n",
    "    except ZeroDivisionError:\n",
    "        return \"No se puede dividir por cero\"\n",
    "    finally:\n",
    "        print(\"Operación de división completada\")\n",
    "\n",
    "# print(dividir(23, 2)) \n",
    "print(dividir(23, 0)) "
   ]
  },
  {
   "cell_type": "code",
   "execution_count": 340,
   "metadata": {},
   "outputs": [
    {
     "data": {
      "text/plain": [
       "56"
      ]
     },
     "execution_count": 340,
     "metadata": {},
     "output_type": "execute_result"
    }
   ],
   "source": [
    "int('56')"
   ]
  },
  {
   "cell_type": "code",
   "execution_count": 341,
   "metadata": {},
   "outputs": [],
   "source": [
    "# int('a')"
   ]
  },
  {
   "cell_type": "code",
   "execution_count": 342,
   "metadata": {},
   "outputs": [
    {
     "name": "stdout",
     "output_type": "stream",
     "text": [
      "42\n",
      "Error: Entrada no válida. Por favor, introduce un número entero.\n"
     ]
    }
   ],
   "source": [
    "def convertir_a_entero(cadena):\n",
    "    try:\n",
    "        return int(cadena)\n",
    "    except ValueError:\n",
    "        return \"Error: Entrada no válida. Por favor, introduce un número entero.\"\n",
    "\n",
    "# Pruebas de la función\n",
    "print(convertir_a_entero(\"42\"))  \n",
    "print(convertir_a_entero(\"cuarenta\"))  \n"
   ]
  },
  {
   "cell_type": "code",
   "execution_count": 343,
   "metadata": {},
   "outputs": [],
   "source": [
    "# 0 + 'tres'"
   ]
  },
  {
   "cell_type": "code",
   "execution_count": 344,
   "metadata": {},
   "outputs": [
    {
     "name": "stdout",
     "output_type": "stream",
     "text": [
      "10\n",
      "Error: La lista contiene elementos que no se pueden sumar.\n"
     ]
    }
   ],
   "source": [
    "def sumar_elementos(lista):\n",
    "    contador = 0\n",
    "    for elemento in lista:\n",
    "        try:\n",
    "            contador += elemento\n",
    "        except TypeError:\n",
    "            return \"Error: La lista contiene elementos que no se pueden sumar.\"\n",
    "    return contador\n",
    "\n",
    "\n",
    "print(sumar_elementos([1, 2, 3, 4])) \n",
    "print(sumar_elementos([1, 2, 'tres', 4]))"
   ]
  },
  {
   "cell_type": "markdown",
   "metadata": {},
   "source": [
    "# Documentación de funciones\n",
    "\n",
    "docstring: explica qué realiza la función, que argumentos toma y que parámetros devuelve."
   ]
  },
  {
   "cell_type": "code",
   "execution_count": 345,
   "metadata": {},
   "outputs": [],
   "source": [
    "def restar_dos_num(a,b):\n",
    "    \"\"\"\n",
    "    Resta 2 números:\n",
    "    \n",
    "\n",
    "    Args:\n",
    "        a (int,float): El primer número\n",
    "        b (int,float): El segundo número\n",
    "\n",
    "    Returns:\n",
    "        int, float: La resta de los dos números\n",
    "    \"\"\"\n",
    "    return a - b"
   ]
  },
  {
   "cell_type": "code",
   "execution_count": 346,
   "metadata": {},
   "outputs": [],
   "source": [
    "def sumar_dos_num(a, b):\n",
    "    \"\"\"\n",
    "    Suma dos números.\n",
    "\n",
    "    Args:\n",
    "    a (int, float): El primer número.\n",
    "    b (int, float): El segundo número.\n",
    "\n",
    "    Returns:\n",
    "    int, float: La suma de los dos números.\n",
    "    \"\"\"\n",
    "    return a + b"
   ]
  },
  {
   "cell_type": "code",
   "execution_count": 347,
   "metadata": {},
   "outputs": [
    {
     "name": "stdout",
     "output_type": "stream",
     "text": [
      "Help on function sumar_dos_num in module __main__:\n",
      "\n",
      "sumar_dos_num(a, b)\n",
      "    Suma dos números.\n",
      "\n",
      "    Args:\n",
      "    a (int, float): El primer número.\n",
      "    b (int, float): El segundo número.\n",
      "\n",
      "    Returns:\n",
      "    int, float: La suma de los dos números.\n",
      "\n"
     ]
    }
   ],
   "source": [
    "help(sumar_dos_num)"
   ]
  }
 ],
 "metadata": {
  "kernelspec": {
   "display_name": "envi",
   "language": "python",
   "name": "python3"
  },
  "language_info": {
   "codemirror_mode": {
    "name": "ipython",
    "version": 3
   },
   "file_extension": ".py",
   "mimetype": "text/x-python",
   "name": "python",
   "nbconvert_exporter": "python",
   "pygments_lexer": "ipython3",
   "version": "3.12.3"
  }
 },
 "nbformat": 4,
 "nbformat_minor": 2
}
